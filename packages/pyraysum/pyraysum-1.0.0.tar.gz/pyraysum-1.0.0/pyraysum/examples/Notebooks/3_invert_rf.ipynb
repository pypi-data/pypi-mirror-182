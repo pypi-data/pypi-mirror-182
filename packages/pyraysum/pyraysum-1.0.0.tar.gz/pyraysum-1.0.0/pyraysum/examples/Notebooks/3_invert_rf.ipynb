{
 "cells": [
  {
   "cell_type": "markdown",
   "id": "3225e170",
   "metadata": {},
   "source": [
    "# Example 3: Invert a Receiver Function\n",
    "In this example we are going to load receiver functions that have been created from seismograms recorded at station  Hyderabad, India, from 3 earthquakes that occurred in the Philippines. The source station configuration is identical to the one in example 1. We are going to use `pyraysum` to generate receiver function, as in example 2. This example explores the provisions of `pyraysum` for time optimized execution. We are going to directly invoke the Fortran routine `run_bare()` from the `fraysum` module with `python` convenience functions from the `prs` module. The inversion will be carried out by the `dual_annealing()` function from `scipy.optimize`. The filtering and spectral division that is required to create receiver functions from the synthetic seismograms is carried out using `numpy` array methods. finally, we will plot the results with `matplotlib`."
   ]
  },
  {
   "cell_type": "code",
   "execution_count": 1,
   "id": "f3ba557c",
   "metadata": {},
   "outputs": [],
   "source": [
    "from pyraysum import prs, frs\n",
    "from fraysum import run_bare\n",
    "import numpy as np\n",
    "import scipy.optimize as spo\n",
    "import matplotlib.pyplot as mp"
   ]
  },
  {
   "cell_type": "markdown",
   "id": "669c57d1",
   "metadata": {},
   "source": [
    "## Definition of the Forward Computation\n",
    "We predict waveforms inside a function `predictRF()` that accepts `Model`, `Geometry`, and `RC` objects, which completely define the synthetic seismograms to be computed. Only the `fthickn` and `fvs` attributes of the `Model` will be varied when trying different parameter combinations. The post-processing is determined by the bandpass filter corner frequencies `freqs` and the boolean time window mask `ist` (\"is time\"). Post processing is performed on the `numpy.ndarray` variable `rfarray`. Two post-processing functions are provided. `filtered_rf_array` divides the SV- and SH-spectra by the P-spectra (i.e., computes a receiver function) and filters the data, whereas `filtered_array` returns the filtered SV and SH data."
   ]
  },
  {
   "cell_type": "code",
   "execution_count": 2,
   "id": "f2336808",
   "metadata": {},
   "outputs": [],
   "source": [
    "def predictRF(model, geometry, rc, freqs, rfarray, ist, rf=True):\n",
    "\n",
    "    # Compute synthetic seismograms\n",
    "    traces = run_bare(\n",
    "        model.fthickn,\n",
    "        model.frho,\n",
    "        model.fvp,\n",
    "        model.fvs,\n",
    "        model.fflag,\n",
    "        model.fani,\n",
    "        model.ftrend,\n",
    "        model.fplunge,\n",
    "        model.fstrike,\n",
    "        model.fdip,\n",
    "        model.nlay,\n",
    "        *geometry.parameters,\n",
    "        *rc.parameters\n",
    "    )\n",
    "    \n",
    "    if rf:\n",
    "        # Perfrom spectral division and filtering\n",
    "        frs.filtered_rf_array(\n",
    "            traces, rfarray, geometry.ntr, rc.npts, rc.dt, freqs[0], freqs[1]\n",
    "        )\n",
    "    else:\n",
    "        # Perfrom filtering only\n",
    "        frs.filtered_array(\n",
    "            traces, rfarray, geometry.ntr, rc.npts, rc.dt, freqs[0], freqs[1]\n",
    "        )\n",
    "\n",
    "    # Window traces and flatten array\n",
    "    # This creates alternating radial and transverse RFs for all traces:\n",
    "    # R[0] - T[0] - R[1] - T[1] ...\n",
    "    prediction = rfarray[:, :, ist].reshape(-1)\n",
    "\n",
    "    return prediction"
   ]
  },
  {
   "cell_type": "markdown",
   "id": "579a21f7",
   "metadata": {},
   "source": [
    "## Definition of the Misfit Function\n",
    "Here, we define the misfit function that `dual_annealing` will minimize. The misfit function requires a model vector `theta` as first argument. We define the first element of the model vector to be the crustal thickness and the second one the P-to-S-wave velocity ratio. $V_P/V_S$ gets projected to the S-wave velocity assuming a constant P-wave velocity. After that, we define the misfit `cost` between the predicted and observed receiver functions (`pred` and `obs`, respectively) as 1. minus the cross correlation coefficient. A status message is printed so the user can follow the inversion process. "
   ]
  },
  {
   "cell_type": "code",
   "execution_count": 3,
   "id": "cccecd88",
   "metadata": {},
   "outputs": [],
   "source": [
    "def misfit(theta, model, geometry, rc, freqs, rfarray, ist, obs):\n",
    "\n",
    "    # Set parameters to model object\n",
    "    model.fthickn[0] = theta[0]\n",
    "    model.fvs[0] = model.fvp[0] / theta[1]\n",
    "\n",
    "    # predict receiver functions\n",
    "    pred = predictRF(model, geometry, rc, freqs, rfarray, ist)\n",
    "\n",
    "    # Calculate cross correlation cost function\n",
    "    cost = 1.0 - np.corrcoef(obs, pred)[0][1]\n",
    "\n",
    "    msg = \"h ={: 5.0f}, vpvs ={: 5.3f}, cc ={: 5.3f}\".format(\n",
    "        theta[0], theta[1], 1. - cost\n",
    "    )\n",
    "    \n",
    "    print(msg)\n",
    "\n",
    "    return cost"
   ]
  },
  {
   "cell_type": "markdown",
   "id": "5aad1d60",
   "metadata": {},
   "source": [
    "## Plotting Function for Data vs. Model Prediction\n",
    "This plot function allows us to compare the observed and predicted data vectors:"
   ]
  },
  {
   "cell_type": "code",
   "execution_count": 4,
   "id": "8d1728cc",
   "metadata": {},
   "outputs": [],
   "source": [
    "def plot(obs, pred):\n",
    "    fig, ax = mp.subplots(nrows=1, ncols=1)\n",
    "    fig.suptitle(\"Observed and modeled data vector\")\n",
    "    \n",
    "    imid = len(obs)//2\n",
    "    cc = np.corrcoef(obs, pred)[0][1]\n",
    "    title = \"cc = {:.3f}\".format(cc)\n",
    "    \n",
    "    ax.plot(obs, color=\"dimgray\", linewidth=2, label=\"observed\")\n",
    "    ax.plot(pred, color=\"crimson\", linewidth=1, label=\"modeled\")\n",
    "    ax.text(imid, min(pred), 'Radial ', ha='right')\n",
    "    ax.text(imid, min(pred), ' Transverse', ha='left')\n",
    "    ax.axvline(imid, ls=':')\n",
    "    ax.legend(title=title)\n",
    "    ax.spines[[\"top\", \"left\", \"right\"]].set_visible(False)\n",
    "    ax.set_yticks([])\n",
    "    ax.set_xlabel(\"Sample\")"
   ]
  },
  {
   "cell_type": "markdown",
   "id": "1d1cc6cf",
   "metadata": {},
   "source": [
    "## Inversion Workflow\n",
    "### Recording Geometry\n",
    "Now it is time to run the workflow. We define the back-azimuth and slowness of seismic rays arriving at Hyderabad from the Philippines. The time window should span the interval between 0 and 25 seconds after the arrival of the direct P-wave. Data should be bandpassed filtered between periods of 20 and 2 seconds."
   ]
  },
  {
   "cell_type": "code",
   "execution_count": 5,
   "id": "4fde56d7",
   "metadata": {},
   "outputs": [],
   "source": [
    "if __name__ == \"__main__\":\n",
    "    baz = 90\n",
    "    slow = 0.06\n",
    "\n",
    "    twind = (0, 25)  # seconds time window\n",
    "    freqs = (1 / 20, 1 / 2)  # Hz bandpass filter"
   ]
  },
  {
   "cell_type": "markdown",
   "id": "956884d7",
   "metadata": {},
   "source": [
    "### Loading a Receiver Function\n",
    "We load the radial and transverse receiver functions from file. The receiver function has been created from 3 high-quality earthquake recordings from the Philippines. Note that `rfr` and `rft` here need to be structured such that the arrival of the direct P-wave is located in the middle of the array. In other words, the acausal part (earlier than direct P) must be as long as the causal part (later than direct P). In this way, the definition of the time window mask `ist` is such that it can be reused for post-processing of the synthetic receiver functions. The windowed receiver function are concatenated to yield the data vector."
   ]
  },
  {
   "cell_type": "code",
   "execution_count": 6,
   "id": "3614ca08",
   "metadata": {},
   "outputs": [],
   "source": [
    "    # Load saved stream\n",
    "    time, rfr, rft = np.loadtxt(\"../data/rf_hyb.dat\", unpack=True)\n",
    "    ist = (time > twind[0]) & (time < twind[1])\n",
    "\n",
    "    observed = np.concatenate((rfr[ist], rft[ist]))"
   ]
  },
  {
   "cell_type": "markdown",
   "id": "b24c1add",
   "metadata": {},
   "source": [
    "### Setup of Starting Model and Run Control Parameters\n",
    "We set up the starting subsurface velocity model using Saul et al. (2000), as well as the recording geometry."
   ]
  },
  {
   "cell_type": "code",
   "execution_count": 7,
   "id": "f6147f97",
   "metadata": {},
   "outputs": [],
   "source": [
    "    thickn = [30000, 0]\n",
    "    rho = [2800, 3600]\n",
    "    vp = [6400, 8100]\n",
    "    vs = [3600, 4600]\n",
    "\n",
    "    model = prs.Model(thickn, rho, vp, vs)\n",
    "    geometry = prs.Geometry(baz, slow)    "
   ]
  },
  {
   "cell_type": "markdown",
   "id": "46dc8a73",
   "metadata": {},
   "source": [
    "We choose the RC parameters so that they match the processing of the receiver functions. In the present case, the receiver functions are rotated to the P-SV-SH ray coordinate system (`rot=2`), and the sampling interval (`dt`) and number of samples (`npts`) are set to match the input. The `align=1` option (together with `shift=None`, which is the default) ensures that the direct P wave is located at the first sample. `mults=3` is required to pre-set the list of phases to be computed. This is the recommended option for all time-sensitive applications, as `mults=2` computes many multiples, many of which might not be used at all."
   ]
  },
  {
   "cell_type": "code",
   "execution_count": 8,
   "id": "ace4abd1",
   "metadata": {},
   "outputs": [],
   "source": [
    "    rc = prs.Control(\n",
    "        verbose=False,\n",
    "        rot=2,\n",
    "        dt=time[1] - time[0],\n",
    "        npts=len(rfr),\n",
    "        align=1,\n",
    "        mults=3,        \n",
    "    )"
   ]
  },
  {
   "cell_type": "markdown",
   "id": "fdb64ef3",
   "metadata": {},
   "source": [
    "### Definition of a Custom Phaselist\n",
    "The phaselist is defined as a list of phase descriptors, which can be read from a previous forward calculation (e.g. example 1). Each ray segment is described by a number-letter pair, where the number is the layer index and the letter the phase descriptor, where uppercase indicates upgoing rays and lowercase downgoing rays. See the `rc.set_phaselist` documentation for details.\n",
    "\n",
    "This phaselist restricts the phases to be computed to:\n",
    "\n",
    "0. direct P (*P*)\n",
    "1. P-to-S converted (*PS*)\n",
    "2. P reflected at the surface to downgoing S, reflected at Moho to S (*PpP*)\n",
    "3. P reflected at the surface to downgoing P, reflected at Moho to S (*PpS*)\n",
    "4. P reflected at the surface to downgoing S, reflected at Moho to P (*PsP*)\n",
    "\n",
    "You can try the effect of incorporating *PsS* by adding `\"1P0P0s0S\"` to the phaselist. The `equivalent=True` keyword implicitly adds such *equivalent* phases.\n",
    "\n",
    "> Note: *PpS* and *PsP* phases arrive at the same time, but only phases that end in *S* are directly visible on the receiver function. Phases ending in *P* end up on the *P* polarized trace of the synthetic seismogram, where they become part of the denominator of spectral division when computing the receiver function.)"
   ]
  },
  {
   "cell_type": "code",
   "execution_count": 9,
   "id": "6d39928b",
   "metadata": {},
   "outputs": [],
   "source": [
    "    rc.set_phaselist([\"1P0P\", \"1P0S\", \"1P0P0p0P\", \"1P0P0p0S\", \"1P0P0s0P\"], equivalent=True)"
   ]
  },
  {
   "cell_type": "markdown",
   "id": "a7cc10c7",
   "metadata": {},
   "source": [
    "### Faster Array-Based Postprocessing\n",
    "Swift post processing of the synthetic receiver function is done on the `rfarray` using numpy array methods, which is initialized here. It has shape `(geometry.ntr, 2, rc.npts)`."
   ]
  },
  {
   "cell_type": "code",
   "execution_count": 10,
   "id": "24a2e083",
   "metadata": {},
   "outputs": [],
   "source": [
    "    rfarray = frs.make_array(geometry, rc)"
   ]
  },
  {
   "cell_type": "markdown",
   "id": "01704c51",
   "metadata": {},
   "source": [
    "## A First Look at the Observed and Predicted Data Vectors\n",
    "Let's see how well the starting model predicts the data. See what changes if you set `rf=False`, in which case no spectral division is performed and the model prediction is the synthetic seismogram. This expedites the computation, but is less exact."
   ]
  },
  {
   "cell_type": "code",
   "execution_count": 11,
   "id": "ff5ea1c1",
   "metadata": {
    "scrolled": false
   },
   "outputs": [
    {
     "data": {
      "image/png": "[encoded data removed]",
      "text/plain": [
       "<Figure size 432x288 with 1 Axes>"
      ]
     },
     "metadata": {
      "needs_background": "light"
     },
     "output_type": "display_data"
    }
   ],
   "source": [
    "    predicted = predictRF(model, geometry, rc, freqs, rfarray, ist, rf=True)\n",
    "    plot(observed, predicted)"
   ]
  },
  {
   "cell_type": "markdown",
   "id": "86a460b9",
   "metadata": {},
   "source": [
    "The first half of the data vector is the radial component and the second half is the transverse component of the receiver function. In this example, without dip or anisotropy, energy only gets converted to the radial, not the transverse component. The first positive wiggle is *PS*, the second one *PpS*. Note the slight mis-alignment between observation (gray) and prediction (red). The smaller wiggles that arrive later result from the deconvolution of *PpP*."
   ]
  },
  {
   "cell_type": "markdown",
   "id": "ae70d4ba",
   "metadata": {},
   "source": [
    "## Inverse Modeling with Scipy's Optimize Module\n",
    "We now define the search bounds for dual annealing. This definition prescribes that the first element of the model vector is the *thickness of layer 0* and is searched in an interval of $\\pm$5000 m, and its second element is the *$V_P/V_S$ ratio of layer 0*, searched in an interval of $\\pm$0.1."
   ]
  },
  {
   "cell_type": "code",
   "execution_count": 12,
   "id": "009cccae",
   "metadata": {},
   "outputs": [],
   "source": [
    "    bounds = [\n",
    "        (model[0, \"thickn\"] - 5000, model[0, \"thickn\"] + 5000),\n",
    "        (model[0, \"vpvs\"] - 0.1, model[0, \"vpvs\"] + 0.1),\n",
    "    ]"
   ]
  },
  {
   "cell_type": "markdown",
   "id": "403a560a",
   "metadata": {},
   "source": [
    "Now we are ready to perform the inversion using `scipy`'s [dual annealing](https://docs.scipy.org/doc/scipy/reference/generated/scipy.optimize.dual_annealing.html) function. It seeks a minimum in the `misfit` function defined above. The call is in principle interchangeable with other [global search methods from the optimization module](https://docs.scipy.org/doc/scipy/reference/optimize.html#global-optimization)."
   ]
  },
  {
   "cell_type": "code",
   "execution_count": 13,
   "id": "c004cdf5",
   "metadata": {},
   "outputs": [
    {
     "name": "stdout",
     "output_type": "stream",
     "text": [
      "h = 28745, vpvs = 1.868, cc = 0.408\n",
      "h = 27107, vpvs = 1.690, cc =-0.028\n",
      "h = 32605, vpvs = 1.826, cc = 0.542\n",
      "h = 31991, vpvs = 1.826, cc = 0.645\n",
      "h = 31991, vpvs = 1.805, cc = 0.697\n",
      "h = 31991, vpvs = 1.805, cc = 0.697\n",
      "h = 31991, vpvs = 1.805, cc = 0.697\n",
      "h = 31991, vpvs = 1.805, cc = 0.697\n",
      "h = 27506, vpvs = 1.877, cc =-0.611\n",
      "h = 29815, vpvs = 1.865, cc = 0.622\n",
      "h = 30922, vpvs = 1.865, cc = 0.673\n",
      "h = 30922, vpvs = 1.818, cc = 0.695\n",
      "h = 28651, vpvs = 1.841, cc = 0.307\n",
      "h = 33587, vpvs = 1.873, cc = 0.110\n",
      "h = 31375, vpvs = 1.873, cc = 0.598\n",
      "h = 31375, vpvs = 1.877, cc = 0.598\n",
      "h = 25540, vpvs = 1.762, cc =-0.109\n",
      "h = 27033, vpvs = 1.678, cc =-0.002\n",
      "h = 34752, vpvs = 1.678, cc = 0.528\n",
      "h = 34752, vpvs = 1.699, cc = 0.482\n",
      "h = 28105, vpvs = 1.706, cc = 0.023\n",
      "h = 27870, vpvs = 1.750, cc =-0.346\n",
      "h = 34876, vpvs = 1.750, cc = 0.351\n",
      "h = 34876, vpvs = 1.809, cc = 0.144\n",
      "h = 33399, vpvs = 1.817, cc = 0.400\n",
      "h = 32429, vpvs = 1.826, cc = 0.563\n",
      "h = 33830, vpvs = 1.826, cc = 0.246\n",
      "h = 33830, vpvs = 1.720, cc = 0.603\n",
      "h = 25188, vpvs = 1.778, cc =-0.134\n",
      "h = 29661, vpvs = 1.691, cc = 0.034\n",
      "h = 33416, vpvs = 1.691, cc = 0.654\n",
      "h = 33416, vpvs = 1.744, cc = 0.611\n",
      "h = 33839, vpvs = 1.825, cc = 0.246\n",
      "h = 33327, vpvs = 1.694, cc = 0.660\n",
      "h = 25421, vpvs = 1.694, cc = 0.024\n",
      "h = 25421, vpvs = 1.874, cc =-0.542\n",
      "h = 31451, vpvs = 1.679, cc = 0.352\n",
      "h = 31523, vpvs = 1.763, cc = 0.682\n",
      "h = 34688, vpvs = 1.763, cc = 0.339\n",
      "h = 34688, vpvs = 1.685, cc = 0.528\n",
      "h = 32610, vpvs = 1.855, cc = 0.406\n",
      "h = 33846, vpvs = 1.751, cc = 0.520\n",
      "h = 34880, vpvs = 1.751, cc = 0.351\n",
      "h = 34880, vpvs = 1.738, cc = 0.377\n",
      "h = 29890, vpvs = 1.861, cc = 0.627\n",
      "h = 29687, vpvs = 1.760, cc = 0.282\n",
      "h = 26578, vpvs = 1.760, cc =-0.208\n",
      "h = 26578, vpvs = 1.730, cc =-0.102\n",
      "h = 28745, vpvs = 1.707, cc = 0.007\n",
      "h = 31883, vpvs = 1.754, cc = 0.699\n",
      "h = 25874, vpvs = 1.754, cc =-0.137\n",
      "h = 25874, vpvs = 1.772, cc =-0.167\n",
      "h = 31883, vpvs = 1.754, cc = 0.699\n",
      "h = 31883, vpvs = 1.754, cc = 0.699\n",
      "h = 31883, vpvs = 1.754, cc = 0.699\n",
      "h = 30617, vpvs = 1.829, cc = 0.683\n",
      "h = 34402, vpvs = 1.849, cc = 0.072\n",
      "h = 31076, vpvs = 1.849, cc = 0.686\n",
      "h = 31076, vpvs = 1.765, cc = 0.612\n",
      "h = 25822, vpvs = 1.847, cc =-0.442\n",
      "h = 34603, vpvs = 1.721, cc = 0.466\n",
      "h = 29529, vpvs = 1.721, cc = 0.102\n",
      "h = 34603, vpvs = 1.740, cc = 0.421\n",
      "h = 26306, vpvs = 1.680, cc = 0.011\n",
      "h = 27198, vpvs = 1.705, cc =-0.090\n",
      "h = 30551, vpvs = 1.705, cc = 0.250\n",
      "h = 30551, vpvs = 1.829, cc = 0.669\n",
      "h = 31185, vpvs = 1.686, cc = 0.301\n",
      "h = 27166, vpvs = 1.848, cc =-0.560\n",
      "h = 29608, vpvs = 1.848, cc = 0.540\n",
      "h = 29608, vpvs = 1.766, cc = 0.279\n",
      "h = 34714, vpvs = 1.746, cc = 0.394\n",
      "h = 27866, vpvs = 1.763, cc =-0.385\n",
      "h = 27651, vpvs = 1.763, cc =-0.344\n",
      "h = 27651, vpvs = 1.743, cc =-0.259\n",
      "h = 31781, vpvs = 1.873, cc = 0.530\n",
      "h = 28840, vpvs = 1.683, cc =-0.021\n",
      "h = 32547, vpvs = 1.683, cc = 0.591\n",
      "h = 32547, vpvs = 1.786, cc = 0.659\n",
      "h = 30755, vpvs = 1.809, cc = 0.670\n",
      "h = 29781, vpvs = 1.726, cc = 0.157\n",
      "h = 25482, vpvs = 1.726, cc =-0.030\n",
      "h = 25482, vpvs = 1.694, cc = 0.048\n",
      "h = 34650, vpvs = 1.697, cc = 0.518\n",
      "h = 28644, vpvs = 1.747, cc = 0.066\n",
      "h = 34869, vpvs = 1.747, cc = 0.351\n",
      "h = 34869, vpvs = 1.868, cc =-0.030\n"
     ]
    }
   ],
   "source": [
    "    result = spo.dual_annealing(\n",
    "        misfit,\n",
    "        bounds,\n",
    "        args=(model, geometry, rc, freqs, rfarray, ist, observed),\n",
    "        maxiter=20,\n",
    "        seed=42,\n",
    "    )\n",
    "    "
   ]
  },
  {
   "cell_type": "markdown",
   "id": "63f4813e",
   "metadata": {},
   "source": [
    "## Results\n",
    "Let's have a look at the result"
   ]
  },
  {
   "cell_type": "code",
   "execution_count": 14,
   "id": "299bc2bb",
   "metadata": {
    "scrolled": true
   },
   "outputs": [
    {
     "name": "stdout",
     "output_type": "stream",
     "text": [
      "     fun: 0.3012503891104201\n",
      " message: ['Maximum number of iteration reached']\n",
      "    nfev: 87\n",
      "    nhev: 0\n",
      "     nit: 20\n",
      "    njev: 2\n",
      "  status: 0\n",
      " success: True\n",
      "       x: array([3.18828982e+04, 1.75376118e+00])\n"
     ]
    }
   ],
   "source": [
    "    print(result)"
   ]
  },
  {
   "cell_type": "markdown",
   "id": "65d3622e",
   "metadata": {},
   "source": [
    "And assign it to the model"
   ]
  },
  {
   "cell_type": "code",
   "execution_count": 15,
   "id": "b10e946a",
   "metadata": {},
   "outputs": [
    {
     "name": "stdout",
     "output_type": "stream",
     "text": [
      "Result found with dual annealing\n",
      "#  thickn     rho      vp      vs  flag aniso   trend plunge strike   dip\n",
      "  31882.9  2800.0  6400.0  3649.3    1    0.0     0.0    0.0    0.0   0.0\n",
      "      0.0  3600.0  8100.0  4600.0    1    0.0     0.0    0.0    0.0   0.0\n"
     ]
    }
   ],
   "source": [
    "    model[0, \"thickn\"] = result.x[0]\n",
    "    model[0, \"vpvs\"] = result.x[1]\n",
    "\n",
    "    msg = \"Result found with dual annealing\"\n",
    "    print(msg)\n",
    "    print(model)"
   ]
  },
  {
   "cell_type": "markdown",
   "id": "af7349f4",
   "metadata": {},
   "source": [
    "The optimal crustal thickness is closer to 32 km, as suggested by Saul et al. (2000), and the $V_P/V_S$ ratio closer to 1.8. Note, however, that we only looked at one receiver function from one direction. We also did not make any attempt to estimate uncertainties on the solution.\n",
    "\n",
    "Finally, we can look at how well the optimized model predicts the data."
   ]
  },
  {
   "cell_type": "code",
   "execution_count": 16,
   "id": "bf498658",
   "metadata": {},
   "outputs": [
    {
     "data": {
      "image/png": "[encoded data removed]",
      "text/plain": [
       "<Figure size 432x288 with 1 Axes>"
      ]
     },
     "metadata": {
      "needs_background": "light"
     },
     "output_type": "display_data"
    }
   ],
   "source": [
    "    predicted = predictRF(model, geometry, rc, freqs, rfarray, ist)\n",
    "    plot(observed, predicted)"
   ]
  },
  {
   "cell_type": "markdown",
   "id": "df42e37a",
   "metadata": {},
   "source": [
    "## Conclusion\n",
    "In this example we looked into some basic functions that can be helpful when using *PyRaysum* in parameter estimation problems. We defined a function `predictRF` to predict a receiver function from a given input model, as well as a `misfit` function whose scalar output should be minimized through inverse modeling. We then plugged these functions into *SciPy*'s `optimize` toolbox to estimate the thickness and *S*-wave velocity of the cratonic crust in Hyderabad, India."
   ]
  },
  {
   "cell_type": "markdown",
   "id": "4fcbe1fc",
   "metadata": {},
   "source": [
    "## References\n",
    "\n",
    "* Saul, J., Kumar, M. R., & Sarkar, D. (2000). Lithospheric and upper mantle structure of the Indian Shield, from teleseismic receiver functions. Geophysical Research Letters, 27(16), 2357-2360. https://doi.org/10.1029/1999GL011128"
   ]
  }
 ],
 "metadata": {
  "kernelspec": {
   "display_name": "Python 3 (ipykernel)",
   "language": "python",
   "name": "python3"
  },
  "language_info": {
   "codemirror_mode": {
    "name": "ipython",
    "version": 3
   },
   "file_extension": ".py",
   "mimetype": "text/x-python",
   "name": "python",
   "nbconvert_exporter": "python",
   "pygments_lexer": "ipython3",
   "version": "3.9.12"
  }
 },
 "nbformat": 4,
 "nbformat_minor": 5
}
