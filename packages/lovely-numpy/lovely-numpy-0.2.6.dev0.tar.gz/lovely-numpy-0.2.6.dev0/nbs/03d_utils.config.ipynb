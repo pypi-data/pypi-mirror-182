{
 "cells": [
  {
   "cell_type": "markdown",
   "metadata": {},
   "source": [
    "## 🤔 Config"
   ]
  },
  {
   "cell_type": "code",
   "execution_count": null,
   "metadata": {},
   "outputs": [],
   "source": [
    "#|default_exp utils.config"
   ]
  },
  {
   "cell_type": "code",
   "execution_count": null,
   "metadata": {},
   "outputs": [],
   "source": [
    "# |hide\n",
    "from nbdev.showdoc import *"
   ]
  },
  {
   "cell_type": "code",
   "execution_count": null,
   "metadata": {},
   "outputs": [],
   "source": [
    "# |hide\n",
    "# |export\n",
    "from copy import copy\n",
    "from types import SimpleNamespace\n",
    "from typing import Callable, Union, Optional, TypeVar\n",
    "from contextlib import contextmanager\n",
    "\n",
    "import numpy as np"
   ]
  },
  {
   "cell_type": "code",
   "execution_count": null,
   "metadata": {},
   "outputs": [],
   "source": [
    "# |exporti\n",
    "\n",
    "class Config(SimpleNamespace):\n",
    "    \"Config\"\n",
    "    def __init__(self,\n",
    "            precision     = 3,    # Digits after `.`\n",
    "            threshold_max = 3,    # .abs() larger than 1e3 -> Sci mode\n",
    "            threshold_min = -4,   # .abs() smaller that 1e-4 -> Sci mode\n",
    "            sci_mode      = None, # Sci mode (2.3e4). None=auto\n",
    "            indent        = 2,    # Indent for .deeper()\n",
    "            color         = True, # ANSI colors in text\n",
    "            repr          = None, # Use func e.g. `lovely` for `repr(np.ndarray)`\n",
    "            str           = None, # Use func e.g. `lovely` for `str(np.ndarray)`\n",
    "            plt_seed      = 42    # Sampling seed for `plot`. None=random.  \n",
    "    ):\n",
    "        super().__init__(**{k:v for k,v in locals().items() if k not in [\"self\", \"__class__\"]})\n",
    "\n",
    "_defaults = Config()\n",
    "\n",
    "_config = copy(_defaults)"
   ]
  },
  {
   "attachments": {},
   "cell_type": "markdown",
   "metadata": {},
   "source": [
    "### Defaults:"
   ]
  },
  {
   "cell_type": "code",
   "execution_count": null,
   "metadata": {},
   "outputs": [
    {
     "data": {
      "text/markdown": [
       "|    | **Type** | **Default** | **Details** |\n",
       "| -- | -------- | ----------- | ----------- |\n",
       "| precision | int | 3 | Digits after `.` |\n",
       "| threshold_max | int | 3 | .abs() larger than 1e3 -> Sci mode |\n",
       "| threshold_min | int | -4 | .abs() smaller that 1e-4 -> Sci mode |\n",
       "| sci_mode | NoneType | None | Sci mode (2.3e4). None=auto |\n",
       "| indent | int | 2 | Indent for .deeper() |\n",
       "| color | bool | True | ANSI colors in text |\n",
       "| repr | NoneType | None | Use func e.g. `lovely` for `repr(np.ndarray)` |\n",
       "| str | NoneType | None | Use func e.g. `lovely` for `str(np.ndarray)` |\n",
       "| plt_seed | int | 42 | Sampling seed for `plot`. None=random. |"
      ],
      "text/plain": [
       "<nbdev.showdoc.DocmentTbl>"
      ]
     },
     "execution_count": null,
     "metadata": {},
     "output_type": "execute_result"
    }
   ],
   "source": [
    "# |echo: false\n",
    "DocmentTbl(Config)"
   ]
  },
  {
   "cell_type": "code",
   "execution_count": null,
   "metadata": {},
   "outputs": [],
   "source": [
    "# |exporti\n",
    "\n",
    "# Allows passing None as an argument to reset the \n",
    "class _Default():\n",
    "    def __repr__(self):\n",
    "        return \"Ignore\"\n",
    "D = _Default()\n",
    "Default = TypeVar(\"Default\")"
   ]
  },
  {
   "cell_type": "code",
   "execution_count": null,
   "metadata": {},
   "outputs": [],
   "source": [
    "# |export\n",
    "def set_config( precision       :Optional[Union[Default,int]]     =D,\n",
    "                threshold_min   :Optional[Union[Default,int]]     =D,\n",
    "                threshold_max   :Optional[Union[Default,int]]     =D,\n",
    "                sci_mode        :Optional[Union[Default,bool]]    =D,\n",
    "                indent          :Optional[Union[Default,bool]]    =D,\n",
    "                color           :Optional[Union[Default,bool]]    =D,\n",
    "                repr            :Optional[Union[Default,Callable]]=D,\n",
    "                str             :Optional[Union[Default,Callable]]=D,\n",
    "                plt_seed        :Optional[Union[Default,int]]     =D,\n",
    "                ) -> None:\n",
    "\n",
    "    \"Set config variables\"\n",
    "    args = locals().copy()\n",
    "    for k,v in args.items():\n",
    "        if v != D:\n",
    "            \n",
    "            # set_config(repr=func)             -> Set both `repr` and `str`.\n",
    "            # set_config(repr=func, str=None)   -> Set `repr`, unset `str``\n",
    "            # set_config(str=func)              -> Set `str`` only, don't tuch `repr``\n",
    "            # set_config(repr=None)             -> Unset `repr`and `str``\n",
    "            # set_config(str=None)              -> Unset `str` only\n",
    "\n",
    "            if k == \"repr\":\n",
    "                np.set_string_function(v, True)\n",
    "                if args[\"str\"] == D:\n",
    "                    np.set_string_function(v, False)\n",
    "            if k == \"str\":\n",
    "                np.set_string_function(v, False)\n",
    "\n",
    "            if v is None:\n",
    "                setattr(_config, k, getattr(_defaults, k))\n",
    "            else:\n",
    "                setattr(_config, k, v)"
   ]
  },
  {
   "cell_type": "code",
   "execution_count": null,
   "metadata": {},
   "outputs": [],
   "source": [
    "# |export\n",
    "def get_config():\n",
    "    \"Get a copy of config variables\"\n",
    "    return copy(_config)"
   ]
  },
  {
   "cell_type": "code",
   "execution_count": null,
   "metadata": {},
   "outputs": [],
   "source": [
    "# |export\n",
    "@contextmanager\n",
    "def config( precision       :Optional[Union[Default,int]]     =D,\n",
    "            threshold_min   :Optional[Union[Default,int]]     =D,\n",
    "            threshold_max   :Optional[Union[Default,int]]     =D,\n",
    "            sci_mode        :Optional[Union[Default,bool]]    =D,\n",
    "            indent          :Optional[Union[Default,bool]]    =D,\n",
    "            color           :Optional[Union[Default,bool]]    =D,\n",
    "            repr            :Optional[Union[Default,Callable]]=D,\n",
    "            str             :Optional[Union[Default,Callable]]=D,\n",
    "            plt_seed        :Optional[Union[Default,int]]     =D,\n",
    "            ):\n",
    "    \"Context manager for temporarily setting config options\"\n",
    "    new_opts = { k:v for k, v in locals().items() if v != D}\n",
    "    old_opts = copy(get_config().__dict__)\n",
    "\n",
    "\n",
    "    try:\n",
    "        set_config(**new_opts)\n",
    "        yield\n",
    "    finally:\n",
    "        set_config(**old_opts)"
   ]
  },
  {
   "cell_type": "markdown",
   "metadata": {},
   "source": [
    "## Examples"
   ]
  },
  {
   "cell_type": "code",
   "execution_count": null,
   "metadata": {},
   "outputs": [],
   "source": [
    "# |hide\n",
    "\n",
    "# In the next cell I'm importing the functios from the exported .py as part of the examples code\n",
    "# This overrides the functions defined above!\n",
    "# Make sure the code is in sync\n",
    "\n",
    "import nbdev; nbdev.nbdev_export()"
   ]
  },
  {
   "cell_type": "code",
   "execution_count": null,
   "metadata": {},
   "outputs": [],
   "source": [
    "from lovely_numpy import Lo, lovely, set_config, get_config, config"
   ]
  },
  {
   "cell_type": "markdown",
   "metadata": {},
   "source": [
    "### Precision"
   ]
  },
  {
   "cell_type": "code",
   "execution_count": null,
   "metadata": {},
   "outputs": [
    {
     "data": {
      "text/plain": [
       "array[3] x∈[1.00000, 3.00000] μ=2.00000 σ=0.81650 [1.00000, 2.00000, 3.00000]"
      ]
     },
     "execution_count": null,
     "metadata": {},
     "output_type": "execute_result"
    }
   ],
   "source": [
    "set_config(precision=5)\n",
    "Lo(np.array([1., 2, 3]))"
   ]
  },
  {
   "cell_type": "markdown",
   "metadata": {},
   "source": [
    "### Scientific mode"
   ]
  },
  {
   "cell_type": "code",
   "execution_count": null,
   "metadata": {},
   "outputs": [
    {
     "data": {
      "text/plain": [
       "array[3] x∈[1.00000e+00, 3.00000e+00] μ=2.00000e+00 σ=8.16497e-01 [1.00000e+00, 2.00000e+00, 3.00000e+00]"
      ]
     },
     "execution_count": null,
     "metadata": {},
     "output_type": "execute_result"
    }
   ],
   "source": [
    "set_config(sci_mode=True) # Force always on\n",
    "Lo(np.array([1., 2, 3]))"
   ]
  },
  {
   "cell_type": "markdown",
   "metadata": {},
   "source": [
    "### Color on/off"
   ]
  },
  {
   "cell_type": "code",
   "execution_count": null,
   "metadata": {},
   "outputs": [
    {
     "data": {
      "text/plain": [
       "array NaN! nan"
      ]
     },
     "execution_count": null,
     "metadata": {},
     "output_type": "execute_result"
    }
   ],
   "source": [
    "set_config(color=False) # Force always off\n",
    "Lo(np.array(np.nan))"
   ]
  },
  {
   "cell_type": "markdown",
   "metadata": {},
   "source": [
    "### Repr and str"
   ]
  },
  {
   "cell_type": "code",
   "execution_count": null,
   "metadata": {},
   "outputs": [
    {
     "data": {
      "text/plain": [
       "array[2] i64 μ=1.50000e+00 σ=5.00000e-01 [1, 2]"
      ]
     },
     "execution_count": null,
     "metadata": {},
     "output_type": "execute_result"
    }
   ],
   "source": [
    "set_config(repr=lovely)\n",
    "np.array([1,2])"
   ]
  },
  {
   "cell_type": "markdown",
   "metadata": {},
   "source": [
    ":::{.callout-note}\n",
    "I expect that most people would want `repr` and `str` to do the same thing in this context.\\\n",
    "Setting `repr` also sets `str`. Pass `str=None` to only set `repr`\n",
    ":::\n",
    "\n",
    "```py\n",
    "set_config(repr=func)             # Set both `repr` and `str`.\n",
    "set_config(repr=func, str=None)   # Set `repr`, unset `str`\n",
    "set_config(str=func)              # Set `str` only, don't touch `repr`\n",
    "set_config(repr=None)             # Unset `repr`and `str`\n",
    "set_config(str=None)              # Unset `str` only\n",
    "```"
   ]
  },
  {
   "cell_type": "markdown",
   "metadata": {},
   "source": [
    "### Reser to defaults"
   ]
  },
  {
   "cell_type": "code",
   "execution_count": null,
   "metadata": {},
   "outputs": [],
   "source": [
    "set_config(precision=None, sci_mode=None, color=None, repr=None)"
   ]
  },
  {
   "cell_type": "code",
   "execution_count": null,
   "metadata": {},
   "outputs": [
    {
     "data": {
      "text/plain": [
       "array[3] μ=1.500 σ=0.500 \u001b[31mNaN!\u001b[0m [1.000, 2.000, nan]"
      ]
     },
     "execution_count": null,
     "metadata": {},
     "output_type": "execute_result"
    }
   ],
   "source": [
    "Lo(np.array([1., 2, np.nan]))"
   ]
  },
  {
   "cell_type": "code",
   "execution_count": null,
   "metadata": {},
   "outputs": [
    {
     "data": {
      "text/plain": [
       "array([1, 2])"
      ]
     },
     "execution_count": null,
     "metadata": {},
     "output_type": "execute_result"
    }
   ],
   "source": [
    "np.array([1,2])"
   ]
  },
  {
   "cell_type": "markdown",
   "metadata": {},
   "source": [
    "### Context manager"
   ]
  },
  {
   "cell_type": "code",
   "execution_count": null,
   "metadata": {},
   "outputs": [
    {
     "name": "stdout",
     "output_type": "stream",
     "text": [
      "array[3] x∈[1.000e+00, 3.000e+00] μ=2.000e+00 σ=8.165e-01 [1.000e+00, 2.000e+00, 3.000e+00]\n"
     ]
    }
   ],
   "source": [
    "with config(sci_mode=True):    \n",
    "    print(Lo(np.array([1., 2, 3])))"
   ]
  },
  {
   "cell_type": "code",
   "execution_count": null,
   "metadata": {},
   "outputs": [
    {
     "data": {
      "text/plain": [
       "array[3] x∈[1.000, 3.000] μ=2.000 σ=0.816 [1.000, 2.000, 3.000]"
      ]
     },
     "execution_count": null,
     "metadata": {},
     "output_type": "execute_result"
    }
   ],
   "source": [
    "Lo(np.array([1., 2, 3]))"
   ]
  },
  {
   "cell_type": "code",
   "execution_count": null,
   "metadata": {},
   "outputs": [],
   "source": [
    "# |hide\n",
    "import nbdev; nbdev.nbdev_export()"
   ]
  }
 ],
 "metadata": {
  "kernelspec": {
   "display_name": "Python 3",
   "language": "python",
   "name": "python3"
  }
 },
 "nbformat": 4,
 "nbformat_minor": 2
}
