{
 "cells": [
  {
   "cell_type": "code",
   "execution_count": 1,
   "metadata": {},
   "outputs": [],
   "source": [
    "import itertools\n",
    "\n",
    "import numpy as np\n",
    "\n",
    "import ambulance_game as abg"
   ]
  },
  {
   "cell_type": "markdown",
   "metadata": {},
   "source": [
    "## Closed form waiting time formula"
   ]
  },
  {
   "cell_type": "code",
   "execution_count": 2,
   "metadata": {},
   "outputs": [],
   "source": [
    "lambda_1 = 1\n",
    "lambda_2 = 1\n",
    "mu = 3\n",
    "num_of_servers = 1\n",
    "threshold = 2\n",
    "system_capacity = 3\n",
    "buffer_capacity = 3"
   ]
  },
  {
   "cell_type": "code",
   "execution_count": 3,
   "metadata": {},
   "outputs": [],
   "source": [
    "all_states = abg.markov.build_states(\n",
    "    threshold=threshold,\n",
    "    system_capacity=system_capacity,\n",
    "    buffer_capacity=buffer_capacity,\n",
    ")\n",
    "transition_matrix = abg.markov.get_transition_matrix(\n",
    "    lambda_2=lambda_2,\n",
    "    lambda_1=lambda_1,\n",
    "    mu=mu,\n",
    "    num_of_servers=num_of_servers,\n",
    "    threshold=threshold,\n",
    "    system_capacity=system_capacity,\n",
    "    buffer_capacity=buffer_capacity,\n",
    ")\n",
    "steady_state_vector = abg.markov.get_steady_state_algebraically(\n",
    "    Q=transition_matrix, algebraic_function=np.linalg.solve\n",
    ")\n",
    "pi = abg.markov.get_markov_state_probabilities(\n",
    "    pi=steady_state_vector, all_states=all_states, output=np.ndarray\n",
    ")"
   ]
  },
  {
   "cell_type": "code",
   "execution_count": 4,
   "metadata": {},
   "outputs": [
    {
     "data": {
      "text/plain": [
       "0.3000989958987412"
      ]
     },
     "execution_count": 4,
     "metadata": {},
     "output_type": "execute_result"
    }
   ],
   "source": [
    "abg.markov.mean_waiting_time_formula_using_closed_form_approach(\n",
    "    all_states=all_states,\n",
    "    pi=pi,\n",
    "    class_type=0,\n",
    "    mu=mu,\n",
    "    num_of_servers=num_of_servers,\n",
    "    threshold=threshold,\n",
    "    system_capacity=system_capacity,\n",
    "    buffer_capacity=buffer_capacity,\n",
    ")"
   ]
  },
  {
   "cell_type": "markdown",
   "metadata": {},
   "source": [
    "## Direct waiting time formula"
   ]
  },
  {
   "cell_type": "code",
   "execution_count": 5,
   "metadata": {},
   "outputs": [],
   "source": [
    "def get_coefficients_row_of_array_for_state(\n",
    "    state, \n",
    "    class_type,\n",
    "    mu,\n",
    "    num_of_servers,\n",
    "    threshold,\n",
    "    system_capacity,\n",
    "    buffer_capacity\n",
    "):\n",
    "    lhs_coefficient_row = np.zeros([buffer_capacity + 1, system_capacity + 1])\n",
    "    lhs_coefficient_row[state[0], state[1]] = -1\n",
    "    for (u, v) in itertools.product(range(1, buffer_capacity + 1), range(threshold)):\n",
    "        lhs_coefficient_row[u, v] = np.NaN\n",
    "\n",
    "    rhs_value = 0\n",
    "    if abg.markov.is_waiting_state(state, num_of_servers):\n",
    "        if state[0] >= 1 and state[1] == threshold:\n",
    "            next_state = (state[0] - 1, state[1])\n",
    "        else:\n",
    "            next_state = (state[0], state[1] - 1)\n",
    "        \n",
    "        lhs_coefficient_row[next_state[0], next_state[1]] = 1\n",
    "        rhs_value = -abg.markov.expected_time_in_markov_state_ignoring_arrivals(\n",
    "            state=state,\n",
    "            class_type=class_type,\n",
    "            mu=mu,\n",
    "            num_of_servers=num_of_servers,\n",
    "            threshold=threshold,\n",
    "        )\n",
    "\n",
    "    vectorised_array = np.hstack(\n",
    "        (\n",
    "            lhs_coefficient_row[0, :threshold], \n",
    "            lhs_coefficient_row[:, threshold:].flatten(\"F\")\n",
    "        )\n",
    "    )\n",
    "    return vectorised_array, rhs_value"
   ]
  },
  {
   "cell_type": "code",
   "execution_count": 6,
   "metadata": {},
   "outputs": [],
   "source": [
    "def get_waiting_time_linear_system(\n",
    "    class_type, mu, num_of_servers, threshold, system_capacity, buffer_capacity\n",
    "):\n",
    "    all_coefficients_array = np.array([])\n",
    "    all_states = abg.markov.build_states(\n",
    "        threshold=threshold,\n",
    "        system_capacity=system_capacity,\n",
    "        buffer_capacity=buffer_capacity,\n",
    "    )\n",
    "    for state in all_states:\n",
    "        lhs_vector, rhs_value = get_coefficients_row_of_array_for_state(\n",
    "            state=state, \n",
    "            class_type=class_type,\n",
    "            mu=mu,\n",
    "            num_of_servers=num_of_servers,\n",
    "            threshold=threshold,\n",
    "            system_capacity=system_capacity,\n",
    "            buffer_capacity=buffer_capacity\n",
    "        )\n",
    "        if len(all_coefficients_array) == 0:\n",
    "            all_coefficients_array = [lhs_vector]\n",
    "            constant_column = [rhs_value]\n",
    "        else:\n",
    "            all_coefficients_array = np.vstack(\n",
    "                [all_coefficients_array, lhs_vector]\n",
    "            )\n",
    "            constant_column.append(rhs_value)\n",
    "    return all_coefficients_array, constant_column"
   ]
  },
  {
   "cell_type": "code",
   "execution_count": 7,
   "metadata": {},
   "outputs": [],
   "source": [
    "def convert_solution_to_correct_array_format(\n",
    "    array, all_states, system_capacity, buffer_capacity\n",
    "):\n",
    "    array_with_correct_shape = np.zeros([buffer_capacity + 1, system_capacity + 1])\n",
    "    for index, (u, v) in enumerate(all_states):\n",
    "        array_with_correct_shape[u, v] = array[index]\n",
    "    return array_with_correct_shape"
   ]
  },
  {
   "cell_type": "code",
   "execution_count": 8,
   "metadata": {},
   "outputs": [],
   "source": [
    "def get_waiting_times_of_all_states_using_direct_approach(\n",
    "    class_type, all_states, mu, num_of_servers, threshold, system_capacity, buffer_capacity\n",
    "):\n",
    "    M, b = get_waiting_time_linear_system(\n",
    "        class_type, mu, num_of_servers, threshold, system_capacity, buffer_capacity\n",
    "    )\n",
    "    state_waiting_times = np.linalg.solve(M, b)\n",
    "    state_waiting_times = convert_solution_to_correct_array_format(\n",
    "        state_waiting_times, all_states, system_capacity, buffer_capacity\n",
    "    )\n",
    "    return state_waiting_times"
   ]
  },
  {
   "cell_type": "code",
   "execution_count": 9,
   "metadata": {},
   "outputs": [],
   "source": [
    "def mean_waiting_time_formula_using_direct_approach(\n",
    "    all_states,\n",
    "    pi,\n",
    "    class_type,\n",
    "    mu,\n",
    "    num_of_servers,\n",
    "    threshold,\n",
    "    system_capacity,\n",
    "    buffer_capacity,\n",
    "    **kwargs\n",
    "):\n",
    "    M, b = get_waiting_time_linear_system(\n",
    "        class_type=class_type,\n",
    "        mu=mu,\n",
    "        num_of_servers=num_of_servers,\n",
    "        threshold=threshold,\n",
    "        system_capacity=system_capacity,\n",
    "        buffer_capacity=buffer_capacity,\n",
    "    )\n",
    "    sol = np.linalg.solve(M, b)\n",
    "    waiting_times = convert_solution_to_correct_array_format(\n",
    "       sol, all_states, system_capacity, buffer_capacity\n",
    "    )\n",
    "\n",
    "    mean_waiting_time, prob_accept_class_2_ind = 0, 0\n",
    "    for index, (u, v) in enumerate(all_states):\n",
    "        if abg.markov.is_accepting_state(\n",
    "            state=(u, v),\n",
    "            class_type=class_type,\n",
    "            threshold=threshold,\n",
    "            system_capacity=system_capacity,\n",
    "            buffer_capacity=buffer_capacity,\n",
    "        ):\n",
    "            arriving_state = (u, v + 1)\n",
    "            if class_type == 1 and v >= threshold:\n",
    "                arriving_state = (u + 1, v)\n",
    "            mean_waiting_time += waiting_times[arriving_state] * pi[u, v]\n",
    "            prob_accept_class_2_ind += pi[u, v]\n",
    "        \n",
    "    return mean_waiting_time / prob_accept_class_2_ind    "
   ]
  },
  {
   "cell_type": "code",
   "execution_count": 10,
   "metadata": {},
   "outputs": [
    {
     "data": {
      "text/plain": [
       "0.20552268244575936"
      ]
     },
     "execution_count": 10,
     "metadata": {},
     "output_type": "execute_result"
    }
   ],
   "source": [
    "lambda_1 = 1\n",
    "lambda_2 = 1\n",
    "mu = 3\n",
    "num_of_servers = 1\n",
    "threshold = 2\n",
    "system_capacity = 3\n",
    "buffer_capacity = 3\n",
    "\n",
    "all_states = abg.markov.build_states(\n",
    "    threshold=threshold,\n",
    "    system_capacity=system_capacity,\n",
    "    buffer_capacity=buffer_capacity,\n",
    ")\n",
    "transition_matrix = abg.markov.get_transition_matrix(\n",
    "    lambda_2=lambda_2,\n",
    "    lambda_1=lambda_1,\n",
    "    mu=mu,\n",
    "    num_of_servers=num_of_servers,\n",
    "    threshold=threshold,\n",
    "    system_capacity=system_capacity,\n",
    "    buffer_capacity=buffer_capacity,\n",
    ")\n",
    "steady_state_vector = abg.markov.get_steady_state_algebraically(\n",
    "    Q=transition_matrix, algebraic_function=np.linalg.solve\n",
    ")\n",
    "pi = abg.markov.get_markov_state_probabilities(\n",
    "    pi=steady_state_vector, all_states=all_states, output=np.ndarray\n",
    ")\n",
    "abg.markov.mean_waiting_time_formula_using_closed_form_approach(\n",
    "    all_states=all_states,\n",
    "    pi=pi,\n",
    "    class_type=1,\n",
    "    mu=mu,\n",
    "    num_of_servers=num_of_servers,\n",
    "    threshold=threshold,\n",
    "    system_capacity=system_capacity,\n",
    "    buffer_capacity=buffer_capacity,\n",
    ")"
   ]
  },
  {
   "cell_type": "code",
   "execution_count": 11,
   "metadata": {},
   "outputs": [
    {
     "data": {
      "text/plain": [
       "0.20552268244575936"
      ]
     },
     "execution_count": 11,
     "metadata": {},
     "output_type": "execute_result"
    }
   ],
   "source": [
    "mean_waiting_time_formula_using_direct_approach(\n",
    "    all_states=all_states,\n",
    "    pi=pi,\n",
    "    class_type=1,\n",
    "    mu=mu,\n",
    "    num_of_servers=num_of_servers,\n",
    "    threshold=threshold,\n",
    "    system_capacity=system_capacity,\n",
    "    buffer_capacity=buffer_capacity,\n",
    ")"
   ]
  },
  {
   "cell_type": "code",
   "execution_count": null,
   "metadata": {},
   "outputs": [],
   "source": []
  },
  {
   "cell_type": "code",
   "execution_count": 13,
   "metadata": {},
   "outputs": [],
   "source": [
    "for parameter_1 in np.linspace(0.2, 0.2, 1):\n",
    "    for parameter_2 in np.linspace(0.2, 0.2, 1):\n",
    "        for parameter_3 in np.linspace(0.2, 30, 10):\n",
    "            for parameter_4 in np.linspace(1, 10, 10, dtype=int):\n",
    "                res_1 = abg.markov.get_mean_waiting_time_using_markov_state_probabilities(\n",
    "                    lambda_2=parameter_1,\n",
    "                    lambda_1=parameter_2,\n",
    "                    mu=parameter_3,\n",
    "                    num_of_servers=parameter_4,\n",
    "                    threshold=threshold,\n",
    "                    system_capacity=20,\n",
    "                    buffer_capacity=15,\n",
    "                    class_type=1,\n",
    "                    waiting_formula=mean_waiting_time_formula_using_direct_approach,\n",
    "                )\n",
    "\n",
    "                res_2 = abg.markov.get_mean_waiting_time_using_markov_state_probabilities(\n",
    "                    lambda_2=parameter_1,\n",
    "                    lambda_1=parameter_2,\n",
    "                    mu=parameter_3,\n",
    "                    num_of_servers=parameter_4,\n",
    "                    threshold=threshold,\n",
    "                    system_capacity=20,\n",
    "                    buffer_capacity=15,\n",
    "                    class_type=1,\n",
    "                )\n",
    "                assert np.isclose(res_1, res_2)"
   ]
  },
  {
   "cell_type": "code",
   "execution_count": null,
   "metadata": {},
   "outputs": [],
   "source": []
  },
  {
   "cell_type": "code",
   "execution_count": 18,
   "metadata": {},
   "outputs": [
    {
     "data": {
      "text/plain": [
       "[0.20000000175, 0.32352941297577853]"
      ]
     },
     "execution_count": 18,
     "metadata": {},
     "output_type": "execute_result"
    }
   ],
   "source": [
    "all_states = [\n",
    "    (0, 0),\n",
    "    (0, 1),\n",
    "    (0, 2),\n",
    "    (0, 3),\n",
    "    (1, 3),\n",
    "    (2, 3),\n",
    "    (3, 3),\n",
    "]\n",
    "pi = np.array(\n",
    "    [\n",
    "        [0.11428571, 0.22857143, 0.22857143, 0.22857143],\n",
    "        [np.nan, np.nan, np.nan, 0.11428571],\n",
    "        [np.nan, np.nan, np.nan, 0.05714286],\n",
    "        [np.nan, np.nan, np.nan, 0.02857143],\n",
    "    ]\n",
    ")\n",
    "\n",
    "mean_times = [\n",
    "    mean_waiting_time_formula_using_direct_approach(\n",
    "        all_states=all_states,\n",
    "        pi=pi,\n",
    "        class_type=class_type,\n",
    "        lambda_1=1,\n",
    "        lambda_2=1,\n",
    "        mu=1,\n",
    "        num_of_servers=2,\n",
    "        threshold=3,\n",
    "        system_capacity=3,\n",
    "        buffer_capacity=3,\n",
    "    )\n",
    "    for class_type in range(2)\n",
    "]\n",
    "mean_times"
   ]
  },
  {
   "cell_type": "code",
   "execution_count": null,
   "metadata": {},
   "outputs": [],
   "source": []
  },
  {
   "cell_type": "markdown",
   "metadata": {},
   "source": [
    "## Playground"
   ]
  },
  {
   "cell_type": "code",
   "execution_count": 52,
   "metadata": {},
   "outputs": [],
   "source": [
    "def is_waiting_state(state, num_of_servers):\n",
    "    return state[1] > num_of_servers"
   ]
  },
  {
   "cell_type": "code",
   "execution_count": 53,
   "metadata": {},
   "outputs": [],
   "source": [
    "def expected_time_in_markov_state_ignoring_arrivals(\n",
    "    state,\n",
    "    class_type,\n",
    "    mu,\n",
    "    num_of_servers,\n",
    "    threshold,\n",
    "):\n",
    "    if state[0] > 0 and (state[1] == threshold or class_type == 1):\n",
    "        return 0\n",
    "    return 1 / (min(state[1], num_of_servers) * mu)"
   ]
  },
  {
   "cell_type": "code",
   "execution_count": 54,
   "metadata": {},
   "outputs": [],
   "source": [
    "def get_coefficients_row_of_array_for_state(\n",
    "    state, \n",
    "    class_type,\n",
    "    mu,\n",
    "    num_of_servers,\n",
    "    threshold,\n",
    "    system_capacity,\n",
    "    buffer_capacity\n",
    "):\n",
    "    lhs_coefficient_row = np.zeros([buffer_capacity + 1, system_capacity + 1])\n",
    "    lhs_coefficient_row[state[0], state[1]] = -1\n",
    "    for (u, v) in itertools.product(range(1, buffer_capacity + 1), range(threshold)):\n",
    "        lhs_coefficient_row[u, v] = np.NaN\n",
    "\n",
    "    rhs_value = 0\n",
    "    if is_waiting_state(state, num_of_servers):\n",
    "        if state[0] >= 1 and state[1] == threshold:\n",
    "            next_state = (state[0] - 1, state[1])\n",
    "        else:\n",
    "            next_state = (state[0], state[1] - 1)\n",
    "\n",
    "        \n",
    "        lhs_coefficient_row[next_state[0], next_state[1]] = 1\n",
    "\n",
    "        rhs_value = -expected_time_in_markov_state_ignoring_arrivals(\n",
    "            state=state,\n",
    "            class_type=class_type,\n",
    "            mu=mu,\n",
    "            num_of_servers=num_of_servers,\n",
    "            threshold=threshold,\n",
    "        )\n",
    "\n",
    "    vectorised_array = np.hstack(\n",
    "        (\n",
    "            lhs_coefficient_row[0, :threshold], \n",
    "            lhs_coefficient_row[:, threshold:].flatten(\"F\")\n",
    "        )\n",
    "    )\n",
    "    return vectorised_array, rhs_value"
   ]
  },
  {
   "cell_type": "code",
   "execution_count": 55,
   "metadata": {},
   "outputs": [
    {
     "name": "stdout",
     "output_type": "stream",
     "text": [
      "(0, 0) (array([-1.,  0.,  0.,  0.,  0.,  0.,  0.,  0.,  0.,  0.]), 0)\n",
      "(0, 1) (array([ 0., -1.,  0.,  0.,  0.,  0.,  0.,  0.,  0.,  0.]), 0)\n",
      "(0, 2) (array([ 0.,  1., -1.,  0.,  0.,  0.,  0.,  0.,  0.,  0.]), -0.3333333333333333)\n",
      "(1, 2) (array([ 0.,  0.,  1., -1.,  0.,  0.,  0.,  0.,  0.,  0.]), 0)\n",
      "(2, 2) (array([ 0.,  0.,  0.,  1., -1.,  0.,  0.,  0.,  0.,  0.]), 0)\n",
      "(3, 2) (array([ 0.,  0.,  0.,  0.,  1., -1.,  0.,  0.,  0.,  0.]), 0)\n",
      "(0, 3) (array([ 0.,  0.,  1.,  0.,  0.,  0., -1.,  0.,  0.,  0.]), -0.3333333333333333)\n",
      "(1, 3) (array([ 0.,  0.,  0.,  1.,  0.,  0.,  0., -1.,  0.,  0.]), -0.3333333333333333)\n",
      "(2, 3) (array([ 0.,  0.,  0.,  0.,  1.,  0.,  0.,  0., -1.,  0.]), -0.3333333333333333)\n",
      "(3, 3) (array([ 0.,  0.,  0.,  0.,  0.,  1.,  0.,  0.,  0., -1.]), -0.3333333333333333)\n"
     ]
    }
   ],
   "source": [
    "for state in all_states:\n",
    "    print(state, get_coefficients_row_of_array_for_state(\n",
    "        state=state,\n",
    "        class_type=0,\n",
    "        mu=mu,\n",
    "        num_of_servers=num_of_servers,\n",
    "        threshold=threshold,\n",
    "        system_capacity=system_capacity,\n",
    "        buffer_capacity=buffer_capacity,\n",
    "    ))"
   ]
  },
  {
   "cell_type": "code",
   "execution_count": 60,
   "metadata": {},
   "outputs": [],
   "source": [
    "def get_waiting_time_linear_system(\n",
    "    class_type, mu, num_of_servers, threshold, system_capacity, buffer_capacity\n",
    "):\n",
    "    all_coefficients_array = np.array([])\n",
    "    all_states = abg.markov.build_states(\n",
    "        threshold=threshold,\n",
    "        system_capacity=system_capacity,\n",
    "        buffer_capacity=buffer_capacity,\n",
    "    )\n",
    "    for state in all_states:\n",
    "        lhs_vector, rhs_value = get_coefficients_row_of_array_for_state(\n",
    "            state=state, \n",
    "            class_type=class_type,\n",
    "            mu=mu,\n",
    "            num_of_servers=num_of_servers,\n",
    "            threshold=threshold,\n",
    "            system_capacity=system_capacity,\n",
    "            buffer_capacity=buffer_capacity\n",
    "        )\n",
    "        if len(all_coefficients_array) == 0:\n",
    "            all_coefficients_array = [lhs_vector]\n",
    "            constant_column = [rhs_value]\n",
    "        else:\n",
    "            all_coefficients_array = np.vstack(\n",
    "                [all_coefficients_array, lhs_vector]\n",
    "            )\n",
    "            constant_column.append(rhs_value)\n",
    "    return all_coefficients_array, constant_column"
   ]
  },
  {
   "cell_type": "code",
   "execution_count": 61,
   "metadata": {},
   "outputs": [
    {
     "data": {
      "text/plain": [
       "array([[-1.,  0.,  0.,  0.,  0.,  0.,  0.,  0.,  0.,  0.],\n",
       "       [ 0., -1.,  0.,  0.,  0.,  0.,  0.,  0.,  0.,  0.],\n",
       "       [ 0.,  1., -1.,  0.,  0.,  0.,  0.,  0.,  0.,  0.],\n",
       "       [ 0.,  0.,  1., -1.,  0.,  0.,  0.,  0.,  0.,  0.],\n",
       "       [ 0.,  0.,  0.,  1., -1.,  0.,  0.,  0.,  0.,  0.],\n",
       "       [ 0.,  0.,  0.,  0.,  1., -1.,  0.,  0.,  0.,  0.],\n",
       "       [ 0.,  0.,  1.,  0.,  0.,  0., -1.,  0.,  0.,  0.],\n",
       "       [ 0.,  0.,  0.,  1.,  0.,  0.,  0., -1.,  0.,  0.],\n",
       "       [ 0.,  0.,  0.,  0.,  1.,  0.,  0.,  0., -1.,  0.],\n",
       "       [ 0.,  0.,  0.,  0.,  0.,  1.,  0.,  0.,  0., -1.]])"
      ]
     },
     "execution_count": 61,
     "metadata": {},
     "output_type": "execute_result"
    }
   ],
   "source": [
    "M, b = get_waiting_time_linear_system(\n",
    "    class_type=1,\n",
    "    mu=mu,\n",
    "    num_of_servers=num_of_servers,\n",
    "    threshold=threshold,\n",
    "    system_capacity=system_capacity,\n",
    "    buffer_capacity=buffer_capacity,\n",
    ")\n",
    "M"
   ]
  },
  {
   "cell_type": "code",
   "execution_count": 62,
   "metadata": {},
   "outputs": [
    {
     "data": {
      "text/plain": [
       "array([-0.        , -0.        ,  0.33333333,  0.33333333,  0.33333333,\n",
       "        0.33333333,  0.66666667,  0.33333333,  0.33333333,  0.33333333])"
      ]
     },
     "execution_count": 62,
     "metadata": {},
     "output_type": "execute_result"
    }
   ],
   "source": [
    "sol = np.linalg.solve(M, b)\n",
    "sol"
   ]
  },
  {
   "cell_type": "code",
   "execution_count": 63,
   "metadata": {},
   "outputs": [],
   "source": [
    "def convert_solution_to_correct_array_format(\n",
    "    array, all_states, system_capacity, buffer_capacity\n",
    "):\n",
    "    array_with_correct_shape = np.zeros([buffer_capacity + 1, system_capacity + 1])\n",
    "    for index, (u, v) in enumerate(all_states):\n",
    "        array_with_correct_shape[u, v] = sol[index]\n",
    "    return array_with_correct_shape"
   ]
  },
  {
   "cell_type": "code",
   "execution_count": 64,
   "metadata": {},
   "outputs": [],
   "source": [
    "waiting_times = convert_solution_to_correct_array_format(\n",
    "    sol, all_states, system_capacity, buffer_capacity\n",
    ")"
   ]
  },
  {
   "cell_type": "code",
   "execution_count": 65,
   "metadata": {},
   "outputs": [
    {
     "data": {
      "text/plain": [
       "0.20552268244575936"
      ]
     },
     "execution_count": 65,
     "metadata": {},
     "output_type": "execute_result"
    }
   ],
   "source": [
    "mean_blocking_time, prob_accept_class_2_ind = 0, 0\n",
    "for index, (u, v) in enumerate(all_states):\n",
    "    if abg.markov.is_accepting_state(\n",
    "        state=(u, v),\n",
    "        class_type=1,\n",
    "        threshold=threshold,\n",
    "        system_capacity=system_capacity,\n",
    "        buffer_capacity=buffer_capacity,\n",
    "    ):\n",
    "        arriving_state = (u + 1, v) if v >= threshold else (u, v + 1)\n",
    "        mean_blocking_time += waiting_times[arriving_state] * pi[u, v]\n",
    "        prob_accept_class_2_ind += pi[u, v]\n",
    "    \n",
    "mean_blocking_time / prob_accept_class_2_ind"
   ]
  },
  {
   "cell_type": "code",
   "execution_count": 19,
   "metadata": {},
   "outputs": [
    {
     "data": {
      "text/plain": [
       "0.20552268244575936"
      ]
     },
     "execution_count": 19,
     "metadata": {},
     "output_type": "execute_result"
    }
   ],
   "source": [
    "abg.markov.mean_waiting_time_formula_using_closed_form_approach(\n",
    "    all_states=all_states,\n",
    "    pi=pi,\n",
    "    class_type=1,\n",
    "    mu=mu,\n",
    "    num_of_servers=num_of_servers,\n",
    "    threshold=threshold,\n",
    "    system_capacity=system_capacity,\n",
    "    buffer_capacity=buffer_capacity,\n",
    ")"
   ]
  },
  {
   "cell_type": "code",
   "execution_count": null,
   "metadata": {},
   "outputs": [],
   "source": []
  }
 ],
 "metadata": {
  "kernelspec": {
   "display_name": "Python 3.8.12 ('AmbulanceGame')",
   "language": "python",
   "name": "python3"
  },
  "language_info": {
   "codemirror_mode": {
    "name": "ipython",
    "version": 3
   },
   "file_extension": ".py",
   "mimetype": "text/x-python",
   "name": "python",
   "nbconvert_exporter": "python",
   "pygments_lexer": "ipython3",
   "version": "3.8.12"
  },
  "orig_nbformat": 4,
  "vscode": {
   "interpreter": {
    "hash": "1adbad69f80dcce19114d6adc47e51e1e49901953804ab4006ee3b03934f2a03"
   }
  }
 },
 "nbformat": 4,
 "nbformat_minor": 2
}
