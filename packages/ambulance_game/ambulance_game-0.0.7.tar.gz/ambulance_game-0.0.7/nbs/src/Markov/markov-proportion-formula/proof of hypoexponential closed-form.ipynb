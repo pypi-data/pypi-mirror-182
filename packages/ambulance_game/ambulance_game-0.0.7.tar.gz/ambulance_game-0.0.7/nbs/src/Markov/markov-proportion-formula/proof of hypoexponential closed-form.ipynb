{
 "metadata": {
  "language_info": {
   "codemirror_mode": {
    "name": "ipython",
    "version": 3
   },
   "file_extension": ".py",
   "mimetype": "text/x-python",
   "name": "python",
   "nbconvert_exporter": "python",
   "pygments_lexer": "ipython3",
   "version": "3.8.1-final"
  },
  "orig_nbformat": 2,
  "kernelspec": {
   "name": "python3",
   "display_name": "Python 3",
   "language": "python"
  }
 },
 "nbformat": 4,
 "nbformat_minor": 2,
 "cells": [
  {
   "cell_type": "code",
   "execution_count": 1,
   "metadata": {},
   "outputs": [],
   "source": [
    "import math\n",
    "import numpy as np\n",
    "import sympy as sym"
   ]
  },
  {
   "source": [
    "$$\n",
    "    \\Psi_{k,l}(t) = - \\frac{\\partial^{l - 1}}{\\partial t ^{l - 1}} \\left( \\prod_{j = 0, j \\neq k}^a (\\lambda_j + t)^{-r_j} \\right) \n",
    "    =\n",
    "    \\begin{cases} \n",
    "        \\frac{(-1)^{l} (l-1)!}{t^l (t + \\lambda_2)^l} \n",
    "        \\times \\sum_{j=1}^{l} {l \\choose j} t^{l - j} \\lambda_2 ^ {j - 1}, & k=1 \\\\\n",
    "        - \\frac{1}{t (t + \\lambda_1)^{r_1}}, & k=2\n",
    "    \\end{cases}\n",
    "$$\n"
   ],
   "cell_type": "markdown",
   "metadata": {}
  },
  {
   "cell_type": "code",
   "execution_count": 2,
   "metadata": {},
   "outputs": [],
   "source": [
    "def general_psi_function(arg, k, l, exp_rates, freq, a):\n",
    "    t = sym.symbols(\"t\")\n",
    "    product = np.math.prod([(exp_rates[j] + t) ** (- freq[j]) for j in range(a + 1) if j != k])  \n",
    "    psi_val = - sym.diff(product, t, l - 1)  \n",
    "    psi_val =  psi_val.subs({t: arg})   \n",
    "    return psi_val\n",
    "\n",
    "\n",
    "def specific_psi_function(arg, k, l, exp_rates, freq, a):\n",
    "    psi_val = 0\n",
    "    if k == 1:\n",
    "        for term in range(1, l + 1):\n",
    "            psi_val += math.comb(l, term) * arg ** (l - term) * exp_rates[2] ** (term - 1)\n",
    "        psi_val *= (-1) ** l * math.factorial(l - 1) / (arg ** l * (arg + exp_rates[2]) ** l)\n",
    "    if k == 2:\n",
    "        psi_val = -1 / (arg * (arg + exp_rates[1]) ** freq[1])\n",
    "    return psi_val"
   ]
  },
  {
   "cell_type": "code",
   "execution_count": 3,
   "metadata": {},
   "outputs": [],
   "source": [
    "lambda_1 = sym.Symbol(\"lambda_1\")\n",
    "lambda_2 = sym.Symbol(\"lambda_2\")\n",
    "r_2 = sym.Symbol(\"r_2\")\n",
    "t = sym.Symbol(\"t\")\n",
    "\n",
    "exp_rates = [sym.S(0), lambda_1, lambda_2]\n",
    "freq = [1, r_2, 1]\n",
    "a = len(exp_rates) - 1"
   ]
  },
  {
   "cell_type": "code",
   "execution_count": 4,
   "metadata": {},
   "outputs": [
    {
     "output_type": "execute_result",
     "data": {
      "text/plain": [
       "-8*(lambda_2**4 + 45*lambda_2**3 + 810*lambda_2**2 + 7290*lambda_2 + 32805)/(19683*(lambda_2 + 9)**5)"
      ],
      "text/latex": "$\\displaystyle - \\frac{8 \\left(\\lambda_{2}^{4} + 45 \\lambda_{2}^{3} + 810 \\lambda_{2}^{2} + 7290 \\lambda_{2} + 32805\\right)}{19683 \\left(\\lambda_{2} + 9\\right)^{5}}$"
     },
     "metadata": {},
     "execution_count": 4
    }
   ],
   "source": [
    "sym.factor(general_psi_function(arg=9, k=1, l=5, exp_rates=exp_rates, freq=freq, a=a))"
   ]
  },
  {
   "cell_type": "code",
   "execution_count": 5,
   "metadata": {},
   "outputs": [
    {
     "output_type": "execute_result",
     "data": {
      "text/plain": [
       "-8*(lambda_2**4 + 45*lambda_2**3 + 810*lambda_2**2 + 7290*lambda_2 + 32805)/(19683*(lambda_2 + 9)**5)"
      ],
      "text/latex": "$\\displaystyle - \\frac{8 \\left(\\lambda_{2}^{4} + 45 \\lambda_{2}^{3} + 810 \\lambda_{2}^{2} + 7290 \\lambda_{2} + 32805\\right)}{19683 \\left(\\lambda_{2} + 9\\right)^{5}}$"
     },
     "metadata": {},
     "execution_count": 5
    }
   ],
   "source": [
    "sym.factor(specific_psi_function(arg=9, k=1, l=5, exp_rates=exp_rates, freq=freq, a=a))"
   ]
  },
  {
   "cell_type": "code",
   "execution_count": null,
   "metadata": {},
   "outputs": [],
   "source": []
  },
  {
   "source": [
    "# $\\Large{\\textbf{Need to show that}}$:\n",
    "$$\n",
    "    \\Psi_{k,l}(t) = - \\frac{\\partial^{l - 1}}{\\partial t ^{l - 1}} \\left( \\prod_{j = 0, j \\neq k}^a (\\lambda_j + t)^{-r_j} \\right) \n",
    "    =\n",
    "    \\begin{cases} \n",
    "        \\frac{(-1)^{l} (l-1)!}{t^l (t + \\lambda_2)^l} \n",
    "        \\times \\sum_{j=1}^{l} {l \\choose j} t^{l - j} \\lambda_2 ^ {j - 1}, & k=1 \\\\\n",
    "        - \\frac{1}{t (t + \\lambda_1)^{r_1}}, & k=2\n",
    "    \\end{cases}\n",
    "$$\n",
    "\n"
   ],
   "cell_type": "markdown",
   "metadata": {}
  },
  {
   "source": [
    "$$\n",
    "\\vec{\\lambda} = (0, \\lambda_1, \\lambda_2) \\\\\n",
    "\\vec{r} = (1, r_1, 1)\n",
    "$$"
   ],
   "cell_type": "markdown",
   "metadata": {}
  },
  {
   "source": [
    "Given our specific problem, we know that $k = 1,2$ and:\n",
    "\\begin{align}\n",
    "    & k = 1 \\quad \\Rightarrow \\quad l \\in [1, n] \\\\\n",
    "    & k = 2 \\quad \\Rightarrow \\quad l = 1\n",
    "\\end{align}\n",
    "\n",
    "Therefore by applying this to $\\Psi_{k,l}(t)$ we can get the values of $\\Psi(t)$ for $k=1$ and $k=2$:"
   ],
   "cell_type": "markdown",
   "metadata": {}
  },
  {
   "source": [
    "# $\\Large{\\textbf{Proof for } k = 2}$:"
   ],
   "cell_type": "markdown",
   "metadata": {}
  },
  {
   "source": [
    " \\begin{align}\n",
    "    k=2, l=1 \\qquad \\Rightarrow \\Psi_{2,1}(t) &= - \\frac{\\partial^0}{\\partial t ^ 0} \\left( \\prod_{j = 0, j \\neq k}^2 (\\lambda_j + t)^{-r_j} \\right) \\\\\n",
    "    & = - (\\lambda_0 + t)^{-r_0} (\\lambda_1 + t)^{-r_1} \\\\\n",
    "    & = - \\frac{1}{t(t + \\lambda_1)^{r_1}} \\\\\n",
    "    & \\hspace{4cm} \\square\n",
    "\\end{align} \n"
   ],
   "cell_type": "markdown",
   "metadata": {}
  },
  {
   "source": [
    "# $\\Large{\\textbf{Proof for } k = 1}$:\n",
    "\n",
    "$$\n",
    "    - \\frac{\\partial^{l - 1}}{\\partial t ^{l - 1}} \\left( \\prod_{j = 0, j \\neq k}^a (\\lambda_j + t)^{-r_j} \\right) \n",
    "    = \\frac{(-1)^{l} (l-1)!}{t^l (t + \\lambda_2)^l} \\times \\sum_{j=1}^{l} {l \\choose j} t^{l - j} \\lambda_2 ^ {j - 1}\n",
    "$$"
   ],
   "cell_type": "markdown",
   "metadata": {}
  },
  {
   "source": [
    "\n",
    "\\begin{align}\n",
    "    LHS &= - \\frac{\\partial^{l-1}}{\\partial t ^ {l-1}} \\left( \\prod_{j = 0, j \\neq k}^2 (\\lambda_j + t)^{-r_j} \\right) \\\\\n",
    "    & = - \\frac{\\partial^{l-1}}{\\partial t ^ {l-1}} \\left( (\\lambda_0 + t)^{-r_0} (\\lambda_2 + t)^{-r_2} \\right) \\\\\n",
    "    & = - \\frac{\\partial^{l-1}}{\\partial t ^ {l-1}} \\left( \\frac{1}{t (t + \\lambda_2)} \\right) \\\\\n",
    "    \\\\\n",
    "    \\\\\n",
    "    RHS &=  \\frac{(-1)^{l} (l-1)!}{t^l (t + \\lambda_2)^l} \\times \\sum_{j=1}^{l} {l \\choose j} t^{l - j} \\lambda_2 ^ {j - 1} \\\\\n",
    "    & =  \\frac{(-1)^{l} (l-1)!}{t^l \\lambda_2 (t + \\lambda_2)^l} \\times \\sum_{j=1}^{l} {l \\choose j} \\lambda_2^j t^{l - j} \\\\\n",
    "    & =  \\frac{(-1)^{l} (l-1)!}{t^l \\lambda_2 (t + \\lambda_2)^l} \\times \\left( \\left[ \\sum_{j=0}^{l} {l \\choose j} \\lambda_2^j t^{l - j}  \\right] -t^l \\right) \\\\\n",
    "    * & =  \\frac{(-1)^{l} (l-1)!}{t^l \\lambda_2 (t + \\lambda_2)^l} \\times \\left((t + \\lambda_2)^l -t^l \\right) \\\\\n",
    "    & = \\frac{(-1)^{l} (l-1)!}{\\lambda_2} \\left[\\frac{1}{t^l} - \\frac{1}{(t + \\lambda_2)^l}\\right] \\\\\n",
    "\\end{align}\n"
   ],
   "cell_type": "markdown",
   "metadata": {}
  },
  {
   "source": [
    "### *Binomial Theorem:\n",
    "\n",
    "$$\n",
    "    (x + y)^n = \\sum_{j=0}^n {n \\choose j} x^{n-j} y^j\n",
    "$$"
   ],
   "cell_type": "markdown",
   "metadata": {}
  },
  {
   "source": [
    "## Need to show that: \n",
    "$$\n",
    "-\\frac{\\partial^{l-1}}{\\partial t ^ {l-1}} \\left( \\frac{1}{t (t + \\lambda_2)} \\right) =\n",
    "\\frac{(-1)^{l} (l-1)!}{\\lambda_2} \\left[\\frac{1}{t^l} - \\frac{1}{(t + \\lambda_2)^l}\\right] \\\\\n",
    "$$"
   ],
   "cell_type": "markdown",
   "metadata": {}
  },
  {
   "source": [
    "## Proof by induction:\n",
    "\n",
    "- Base Case: $l=1$:\n",
    "    $$\n",
    "        LHS = -\\frac{\\partial^{1-1}}{\\partial t ^ {1-1}} \\left( \\frac{1}{t (t + \\lambda_2)} \\right) = - \\frac{1}{t (t + \\lambda_2)} \\\\\n",
    "        RHS = \\frac{(-1)^{1} (1-1)!}{\\lambda_2} \\left[\\frac{1}{t^1} - \\frac{1}{(t + \\lambda_2)^1}\\right] =\n",
    "        - \\frac{1}{\\lambda_2} \\left[\\frac{t + \\lambda_2 - t}{t (t + \\lambda_2)}\\right] = - \\frac{\\lambda_2}{\\lambda_2 t (t + \\lambda_2)} = - \\frac{1}{t (t + \\lambda_2)}\n",
    "    $$\n",
    "\n",
    "\n",
    "- Assume true for $l=x$:\n",
    "    $$\n",
    "        -\\frac{\\partial^{x-1}}{\\partial t ^ {x-1}} \\left( \\frac{1}{t (t + \\lambda_2)} \\right) =\n",
    "        \\frac{(-1)^{x} (x-1)!}{\\lambda_2} \\left[\\frac{1}{t^x} - \\frac{1}{(t + \\lambda_2)^x}\\right] \\\\\n",
    "    $$\n",
    "\n",
    "\n",
    "- Prove true for $l=x+1$:\n",
    "\n",
    "    (Show that: $ -\\frac{\\partial^{x}}{\\partial t^{x}} \\left( \\frac{1}{t (t + \\lambda_2)} \\right) = \\frac{(-1)^{x+1} (x)!}{\\lambda_2} \\left( \\frac{1}{t^{x+1}} - \\frac{1}{(t + \\lambda_2)^{x+1}}\\right)$)\n",
    "\n",
    "    \\begin{align}\n",
    "        LHS &= -\\frac{\\partial^{x}}{\\partial t^{x}} \\left( \\frac{1}{t (t + \\lambda_2)} \\right) \\\\\n",
    "        &= \\frac{\\partial}{\\partial t} \\left[ -\\frac{\\partial^{x-1}}{\\partial t^{x-1}} \\left( \\frac{1}{t (t + \\lambda_2)} \\right) \\right] \\\\\n",
    "        &= \\frac{\\partial}{\\partial t} \\left[ \\frac{(-1)^{x} (x-1)!}{\\lambda_2} \\left( \\frac{1}{t^x} - \\frac{1}{(t + \\lambda_2)^x}\\right) \\right] \\\\\n",
    "        &= \\frac{(-1)^{x} (x-1)!}{\\lambda_2} \\frac{\\partial}{\\partial t} \\left( \\frac{1}{t^x} - \\frac{1}{(t + \\lambda_2)^x}\\right) \\\\\n",
    "        &= \\frac{(-1)^{x} (x-1)!}{\\lambda_2} \\left( \\frac{-x}{t^{x+1}} - \\frac{-x}{(t + \\lambda_2)^{x+1}}\\right) \\\\\n",
    "        &= \\frac{(-1)^{x} (x-1)!}{\\lambda_2} (-x) \\left( \\frac{1}{t^{x+1}} - \\frac{1}{(t + \\lambda_2)^{x+1}}\\right) \\\\    \n",
    "        &= \\frac{(-1)^{x+1} (x)!}{\\lambda_2} \\left( \\frac{1}{t^{x+1}} - \\frac{1}{(t + \\lambda_2)^{x+1}}\\right) \\\\    \n",
    "        &= RHS \\\\\n",
    "        & \\hspace{8cm}  \\square\n",
    "    \\end{align}"
   ],
   "cell_type": "markdown",
   "metadata": {}
  },
  {
   "cell_type": "code",
   "execution_count": null,
   "metadata": {},
   "outputs": [],
   "source": []
  },
  {
   "cell_type": "code",
   "execution_count": null,
   "metadata": {},
   "outputs": [],
   "source": []
  },
  {
   "source": [
    "- # Proof $k=1$ case by induction:\n",
    "    $$ \n",
    "    - \\frac{\\partial^{l-1}}{\\partial t ^ {l-1}} \\left( \\frac{1}{t (t + \\lambda_2)} \\right) = \\frac{(-1)^{l} (l-1)!}{t^l (t + \\lambda_2)^l} \n",
    "        \\times \\sum_{j=1}^{l} {l \\choose j} t^{l - j} \\lambda_2 ^ {j - 1}\n",
    "    $$ \n",
    "\n",
    "    - Base Case: $l = 1$ \n",
    "        $$\n",
    "            LHS = - \\frac{\\partial^{1-1}}{\\partial t ^ {1-1}} \\left( \\frac{1}{t (t + \\lambda_2)} \\right) = \\frac{-1}{t(t + \\lambda_2)} \\\\\n",
    "            RHS = \\frac{(-1)^1 (1-1)!}{t(t+\\lambda_2)} \\times {1 \\choose 1} t^0 \\lambda_2^0 = \\frac{-1}{t(t + \\lambda_2)}\n",
    "        $$\n",
    "    - Assume true for $l = x$:\n",
    "        $$\n",
    "            - \\frac{\\partial^{x-1}}{\\partial t ^ {x-1}} \\left( \\frac{1}{t (t + \\lambda_2)} \\right) = \\frac{(-1)^{x} (x-1)!}{t^x (t + \\lambda_2)^x} \\times \\sum_{j=1}^{x} {x \\choose j} t^{x - j} \\lambda_2 ^ {j - 1}\n",
    "        $$\n",
    "    - Prove true for $l = x + 1$:\n",
    "        $$\n",
    "            - \\frac{\\partial^{x}}{\\partial t ^ {x}} \\left( \\frac{1}{t (t + \\lambda_2)} \\right) = \\frac{\\partial}{\\partial t} \\left[ \\frac{\\partial^{x-1}}{\\partial t ^ {x-1}} \\left( \\frac{1}{t (t + \\lambda_2)} \\right) \\right]\n",
    "            = \\frac{(-1)^{x+1} x!}{t^{x+1} (t + \\lambda_2)^{x+1}} \\times \\sum_{j=1}^{x+1} \\, {{x + 1} \\choose j} \\, t^{x+1-j} \\, \\lambda_2^{j-1}\n",
    "        $$"
   ],
   "cell_type": "markdown",
   "metadata": {}
  },
  {
   "source": [
    "- $l = x+1$:\n",
    "$$\n",
    "    - \\frac{\\partial^{x}}{\\partial t ^ {x}} \\left( \\frac{1}{t (t + \\lambda_2)} \\right) = \\frac{\\partial}{\\partial t} \\left[ \\frac{\\partial^{x-1}}{\\partial t ^ {x-1}} \\left( \\frac{1}{t (t + \\lambda_2)} \\right) \\right] \\\\ \n",
    "    = \\frac{\\partial}{\\partial t} \\left[ \\frac{(-1)^{x} (x-1)!}{t^x (t + \\lambda_2)^x} \\times \\sum_{j=1}^{x} {x \\choose j} t^{x - j} \\lambda_2 ^ {j - 1} \\right] \\\\\n",
    "    = \\frac{\\partial}{\\partial t} \\left[ u \\times v \\right] \\\\\n",
    "    = \\frac{\\partial u}{\\partial t} v + u \\frac{\\partial v}{\\partial t}\n",
    "$$"
   ],
   "cell_type": "markdown",
   "metadata": {}
  },
  {
   "source": [
    "## Derivative of u\n",
    "\n",
    "\\begin{align}\n",
    "    \\frac{\\partial u}{\\partial t} &= \\frac{\\partial}{\\partial t} \\left[ \\frac{(-1)^{x} (x-1)!}{t^x (t + \\lambda_2)^x} \\right] \\\\\n",
    "    &= (-1)^x (x-1)! (-x) t^{-x-1} (t + \\lambda_2)^{-x} + (-1)^x (x-1)! t^{-x} (-x) (t + \\lambda_2)^{-x+1} \\\\\n",
    "    &= (-1)^{x+1} x! \\frac{2t + \\lambda_2}{t^{x+1} (t + \\lambda_2)^{x+1}}\n",
    "\\end{align}\n"
   ],
   "cell_type": "markdown",
   "metadata": {}
  },
  {
   "source": [
    "## Derivative of v\n",
    "\n",
    "\\begin{align}\n",
    "    \\frac{\\partial v}{\\partial t} &= \\frac{\\partial}{\\partial t} \\left[ \\sum_{j=1}^{x} \\, {x \\choose j} \\, t^{x - j} \\, \\lambda_2 ^ {j - 1} \\right] \\\\\n",
    "    &= \\frac{\\partial}{\\partial t} \\left[ \\sum_{j=1}^{x} \\, \\frac{x!}{(x-j)! j!} \\, t^{x - j} \\, \\lambda_2 ^ {j - 1} \\right] \\\\\n",
    "    &= \\sum_{j=1}^{x} \\, \\frac{x! (x - j)}{(x-j)! \\, j!} \\, t^{x - j - 1} \\, \\lambda_2 ^ {j - 1} \\\\\n",
    "\\end{align}"
   ],
   "cell_type": "markdown",
   "metadata": {}
  },
  {
   "source": [
    "## Proof (cont'd)\n",
    "\n",
    "\\begin{align}\n",
    "    =& \\frac{\\partial u}{\\partial t} v + u \\frac{\\partial v}{\\partial t} \\\\\n",
    "    =& \\frac{(-1)^{x+1} x!}{t^{x+1} (t + \\lambda_2)^{x+1}} (2t + \\lambda_2) \\sum_{j=1}^{x} \\frac{x!}{(x-j)! j!} t^{x-j} \\lambda_2^{j - 1} \\\\ \n",
    "    & \\qquad \\qquad + \\frac{(-1)^{x} (x-1)!}{t^x(t + \\lambda_2)^{x}} \\sum_{j=1}^x \\frac{x!}{(x-j)! j!} t^{x-j-1} \\lambda_2^{j-1} \\\\\n",
    "    =& \\frac{(-1)^{x+1} \\, x!}{t^{x+1} (t + \\lambda_2)^{x+1}} \\left[ (2t+\\lambda_2) \\, \\sum_{j=1}^x \\, \\frac{x!}{(x-j)! \\, j!} \\, t^{x-j} \\, \\lambda_2^{j-1}\n",
    "    - \\frac{t(t+\\lambda_2)}{x} \\, \\sum_{j=1}^{x} \\, \\frac{x!(x-j)}{(x-j)! j!} \\, t^{x-j-1} \\, \\lambda_2^{j-1}    \\right]\n",
    "\\end{align}"
   ],
   "cell_type": "markdown",
   "metadata": {}
  },
  {
   "source": [
    "#### ONLY LEFT TO SHOW THAT\n",
    "\n",
    "$$\n",
    "(2t+\\lambda_2) \\, \\sum_{j=1}^x \\, \\frac{x!}{(x-j)! \\, j!} \\, t^{x-j} \\, \\lambda_2^{j-1} - \\frac{t(t+\\lambda_2)}{x} \\, \\sum_{j=1}^{x} \\, \\frac{x!(x-j)}{(x-j)! j!} \\, t^{x-j-1} \\, \\lambda_2^{j-1} = \\sum_{j=1}^{x+1} \\, {{x + 1} \\choose j} \\, t^{x+1-j} \\, \\lambda_2^{j-1}\n",
    "$$"
   ],
   "cell_type": "markdown",
   "metadata": {}
  },
  {
   "cell_type": "code",
   "execution_count": 11,
   "metadata": {},
   "outputs": [],
   "source": [
    "def LHS_demo(x, t, lambda_2):\n",
    "    sum_1 = sum((math.factorial(x) * t ** (x - j) * lambda_2 ** (j - 1)) / (math.factorial(x - j) * math.factorial(j)) for j in range(1, x+1))\n",
    "\n",
    "    sum_2 = sum((math.factorial(x) * (x - j) * t ** (x - j - 1) * lambda_2 ** (j - 1)) / (math.factorial(x - j) * math.factorial(j)) for j in range(1, x+1))\n",
    "\n",
    "    sum_1 *= (2 * t + lambda_2)\n",
    "    sum_2 *= (-t * (t + lambda_2)) / x\n",
    "\n",
    "    return sum_1 + sum_2\n",
    "\n",
    "def RHS_demo(x, t, lambda_2):\n",
    "    sum_1 = sum((math.factorial(x + 1) * t ** (x + 1 - j) * lambda_2 ** (j - 1)) / (math.factorial(x + 1 - j) * math.factorial(j)) for j in range(1, x+2))\n",
    "    return sum_1"
   ]
  },
  {
   "cell_type": "code",
   "execution_count": 12,
   "metadata": {},
   "outputs": [
    {
     "output_type": "execute_result",
     "data": {
      "text/plain": [
       "lambda_2**10 + 11*lambda_2**9*t + 55*lambda_2**8*t**2 + 165*lambda_2**7*t**3 + 330*lambda_2**6*t**4 + 462*lambda_2**5*t**5 + 462*lambda_2**4*t**6 + 330*lambda_2**3*t**7 + 165*lambda_2**2*t**8 + 55*lambda_2*t**9 + 11*t**10"
      ],
      "text/latex": "$\\displaystyle \\lambda_{2}^{10} + 11 \\lambda_{2}^{9} t + 55 \\lambda_{2}^{8} t^{2} + 165 \\lambda_{2}^{7} t^{3} + 330 \\lambda_{2}^{6} t^{4} + 462 \\lambda_{2}^{5} t^{5} + 462 \\lambda_{2}^{4} t^{6} + 330 \\lambda_{2}^{3} t^{7} + 165 \\lambda_{2}^{2} t^{8} + 55 \\lambda_{2} t^{9} + 11 t^{10}$"
     },
     "metadata": {},
     "execution_count": 12
    }
   ],
   "source": [
    "sym.expand(LHS_demo(x=10, t=t, lambda_2=lambda_2))"
   ]
  },
  {
   "cell_type": "code",
   "execution_count": 13,
   "metadata": {},
   "outputs": [
    {
     "output_type": "execute_result",
     "data": {
      "text/plain": [
       "lambda_2**10 + 11*lambda_2**9*t + 55*lambda_2**8*t**2 + 165*lambda_2**7*t**3 + 330*lambda_2**6*t**4 + 462*lambda_2**5*t**5 + 462*lambda_2**4*t**6 + 330*lambda_2**3*t**7 + 165*lambda_2**2*t**8 + 55*lambda_2*t**9 + 11*t**10"
      ],
      "text/latex": "$\\displaystyle \\lambda_{2}^{10} + 11 \\lambda_{2}^{9} t + 55 \\lambda_{2}^{8} t^{2} + 165 \\lambda_{2}^{7} t^{3} + 330 \\lambda_{2}^{6} t^{4} + 462 \\lambda_{2}^{5} t^{5} + 462 \\lambda_{2}^{4} t^{6} + 330 \\lambda_{2}^{3} t^{7} + 165 \\lambda_{2}^{2} t^{8} + 55 \\lambda_{2} t^{9} + 11 t^{10}$"
     },
     "metadata": {},
     "execution_count": 13
    }
   ],
   "source": [
    "sym.expand(RHS_demo(x=10, t=t, lambda_2=lambda_2))"
   ]
  },
  {
   "cell_type": "code",
   "execution_count": 15,
   "metadata": {},
   "outputs": [
    {
     "output_type": "stream",
     "name": "stdout",
     "text": [
      "True 1\n",
      "True 2\n",
      "True 3\n",
      "True 4\n",
      "True 5\n",
      "True 6\n",
      "True 7\n",
      "True 8\n",
      "True 9\n",
      "True 10\n",
      "True 11\n",
      "True 12\n",
      "True 13\n",
      "True 14\n",
      "True 15\n",
      "True 16\n",
      "True 17\n",
      "True 18\n",
      "True 19\n",
      "True 20\n",
      "True 21\n",
      "True 22\n",
      "True 23\n",
      "True 24\n",
      "True 25\n",
      "True 26\n",
      "True 27\n",
      "True 28\n",
      "True 29\n",
      "True 30\n",
      "True 31\n",
      "True 32\n",
      "True 33\n",
      "True 34\n",
      "True 35\n",
      "True 36\n",
      "True 37\n",
      "True 38\n",
      "True 39\n",
      "True 40\n",
      "True 41\n",
      "True 42\n",
      "True 43\n",
      "True 44\n",
      "True 45\n",
      "True 46\n",
      "True 47\n",
      "True 48\n",
      "True 49\n"
     ]
    }
   ],
   "source": [
    "for x in range(1,50):\n",
    "    are_equal = sym.expand(LHS_demo(x=x, t=t, lambda_2=lambda_2)) == sym.expand(RHS_demo(x=x, t=t, lambda_2=lambda_2))\n",
    "    print(are_equal, x)"
   ]
  },
  {
   "cell_type": "code",
   "execution_count": null,
   "metadata": {},
   "outputs": [],
   "source": []
  },
  {
   "cell_type": "code",
   "execution_count": null,
   "metadata": {},
   "outputs": [],
   "source": []
  },
  {
   "source": [
    "## Attempt 1:\n",
    "\n",
    "$$\n",
    "    \\sum_{j=1}^{x} \\frac{x!}{(x-j)! j!} t^{x-j} \\lambda_2^{j-1} = \\left[ \\sum_{j=1}^{x+1} \\frac{x! j}{(x-j+1)! j!} t^{x-j+1} \\lambda_2^{j-2} \\right] - \\frac{t^x}{\\lambda_2}\n",
    "$$"
   ],
   "cell_type": "markdown",
   "metadata": {}
  },
  {
   "cell_type": "code",
   "execution_count": 16,
   "metadata": {},
   "outputs": [],
   "source": [
    "def RHS_new_demo(x, t, lambda_2):\n",
    "    sum_1 = sum((math.factorial(x + 1) * t ** (x + 1 - j) * lambda_2 ** (j - 1)) / (math.factorial(x + 1 - j) * math.factorial(j)) for j in range(1, x+2))\n",
    "    return sum_1"
   ]
  },
  {
   "cell_type": "code",
   "execution_count": 17,
   "metadata": {},
   "outputs": [],
   "source": [
    "def LHS_new_demo(x, t, lambda_2):\n",
    "    sum_1 = sum((math.factorial(x) * t ** (x - j) * lambda_2 ** (j - 1)) / (math.factorial(x - j) * math.factorial(j)) for j in range(1, x+1))\n",
    "    return sum_1\n",
    "\n",
    "\n",
    "def RHS_new_demo(x, t, lambda_2):\n",
    "    sum_1 = 0\n",
    "    for j in range(1, x + 2):\n",
    "        to_add = j*(math.factorial(x) * t ** (x + 1 - j) * lambda_2 ** (j - 2)) / (math.factorial(x + 1 - j) * math.factorial(j))\n",
    "        sum_1 += to_add\n",
    "    sum_1 -= t ** x / lambda_2 \n",
    "    return sum_1"
   ]
  },
  {
   "cell_type": "code",
   "execution_count": 18,
   "metadata": {},
   "outputs": [
    {
     "output_type": "execute_result",
     "data": {
      "text/plain": [
       "lambda_2**4 + 5*lambda_2**3*t + 10*lambda_2**2*t**2 + 10*lambda_2*t**3 + 5*t**4"
      ],
      "text/latex": "$\\displaystyle \\lambda_{2}^{4} + 5 \\lambda_{2}^{3} t + 10 \\lambda_{2}^{2} t^{2} + 10 \\lambda_{2} t^{3} + 5 t^{4}$"
     },
     "metadata": {},
     "execution_count": 18
    }
   ],
   "source": [
    "sym.simplify(LHS_new_demo(5, t, lambda_2))"
   ]
  },
  {
   "cell_type": "code",
   "execution_count": 19,
   "metadata": {},
   "outputs": [
    {
     "output_type": "execute_result",
     "data": {
      "text/plain": [
       "lambda_2**4 + 5*lambda_2**3*t + 10*lambda_2**2*t**2 + 10*lambda_2*t**3 + 5*t**4"
      ],
      "text/latex": "$\\displaystyle \\lambda_{2}^{4} + 5 \\lambda_{2}^{3} t + 10 \\lambda_{2}^{2} t^{2} + 10 \\lambda_{2} t^{3} + 5 t^{4}$"
     },
     "metadata": {},
     "execution_count": 19
    }
   ],
   "source": [
    "sym.expand(RHS_new_demo(5, t, lambda_2))"
   ]
  },
  {
   "cell_type": "code",
   "execution_count": null,
   "metadata": {},
   "outputs": [],
   "source": []
  },
  {
   "cell_type": "code",
   "execution_count": null,
   "metadata": {},
   "outputs": [],
   "source": []
  },
  {
   "source": [
    "## Attempt 2:\n",
    "\n",
    "$$\n",
    "\n",
    "\n",
    "$$"
   ],
   "cell_type": "markdown",
   "metadata": {}
  },
  {
   "cell_type": "code",
   "execution_count": 20,
   "metadata": {},
   "outputs": [],
   "source": [
    "def LHS_demo_3(x, t, lambda_2):\n",
    "    sum_1 = sum((math.factorial(x + 1) * t ** (x + 1 - j) * lambda_2 ** (j - 1)) / (math.factorial(x + 1 - j) * math.factorial(j)) for j in range(1, x+2))\n",
    "    return sum_1\n",
    "\n",
    "\n",
    "def RHS_demo_3(x, t, lambda_2):\n",
    "    sum_1 = 0\n",
    "    for j in range(1, x + 1):\n",
    "        to_add = (math.factorial(x) * t ** (x - j) * lambda_2 ** (j - 1) * (2 * t + lambda_2)) / (math.factorial(x - j) * math.factorial(j))\n",
    "        to_add -= (math.factorial(x) * (x - j) * t ** (x - j - 1) * lambda_2 ** (j - 1) * (t ** 2 + t * lambda_2) / x) / (math.factorial(x - j) * math.factorial(j))\n",
    "        sum_1 += to_add\n",
    "    return sum_1\n",
    "\n",
    "\n",
    "def RHS_demo_4(x, t, lambda_2):\n",
    "    sum_1 = sum((math.factorial(x - 1) * t ** (x - j) * lambda_2 ** (j - 1)) * (x * t + j * t + lambda_2 * j) / (math.factorial(x - j) * math.factorial(j)) for j in range(1, x+1))\n",
    "    return sum_1"
   ]
  },
  {
   "cell_type": "code",
   "execution_count": 21,
   "metadata": {},
   "outputs": [
    {
     "output_type": "execute_result",
     "data": {
      "text/plain": [
       "lambda_2**7 + 8*lambda_2**6*t + 28*lambda_2**5*t**2 + 56*lambda_2**4*t**3 + 70*lambda_2**3*t**4 + 56*lambda_2**2*t**5 + 28*lambda_2*t**6 + 8*t**7"
      ],
      "text/latex": "$\\displaystyle \\lambda_{2}^{7} + 8 \\lambda_{2}^{6} t + 28 \\lambda_{2}^{5} t^{2} + 56 \\lambda_{2}^{4} t^{3} + 70 \\lambda_{2}^{3} t^{4} + 56 \\lambda_{2}^{2} t^{5} + 28 \\lambda_{2} t^{6} + 8 t^{7}$"
     },
     "metadata": {},
     "execution_count": 21
    }
   ],
   "source": [
    "sym.simplify(LHS_demo_3(7, t, lambda_2))"
   ]
  },
  {
   "cell_type": "code",
   "execution_count": 22,
   "metadata": {},
   "outputs": [
    {
     "output_type": "execute_result",
     "data": {
      "text/plain": [
       "lambda_2**7 + 8*lambda_2**6*t + 28*lambda_2**5*t**2 + 56*lambda_2**4*t**3 + 70*lambda_2**3*t**4 + 56*lambda_2**2*t**5 + 28*lambda_2*t**6 + 8*t**7"
      ],
      "text/latex": "$\\displaystyle \\lambda_{2}^{7} + 8 \\lambda_{2}^{6} t + 28 \\lambda_{2}^{5} t^{2} + 56 \\lambda_{2}^{4} t^{3} + 70 \\lambda_{2}^{3} t^{4} + 56 \\lambda_{2}^{2} t^{5} + 28 \\lambda_{2} t^{6} + 8 t^{7}$"
     },
     "metadata": {},
     "execution_count": 22
    }
   ],
   "source": [
    "sym.simplify(RHS_demo_4(7, t, lambda_2))"
   ]
  },
  {
   "cell_type": "code",
   "execution_count": null,
   "metadata": {},
   "outputs": [],
   "source": []
  },
  {
   "cell_type": "code",
   "execution_count": null,
   "metadata": {},
   "outputs": [],
   "source": []
  },
  {
   "source": [
    "## Attempt 3:\n",
    "\n",
    "$$\n",
    "    - \\frac{t^{x+1}}{\\lambda_2} + \\sum_{j=1}^{x+1} \\, \\frac{x!}{(x-j+1)! j!} \\, t^{x+1-j} \\, \\lambda_2^{j-1} \\left( \\frac{xjt + tj^2 -tj +\\lambda_2 j^2 - \\lambda_2 j}{x \\lambda_2} \\right)= \\sum_{j=1}^{x+1} \\, {{x + 1} \\choose j} \\, t^{x+1-j} \\, \\lambda_2^{j-1}\n",
    "$$"
   ],
   "cell_type": "markdown",
   "metadata": {}
  },
  {
   "cell_type": "code",
   "execution_count": 54,
   "metadata": {},
   "outputs": [],
   "source": [
    "def LHS_demo_5(x, t, lambda_2):\n",
    "    sum_1 = sum((math.factorial(x + 1) * t ** (x + 1 - j) * lambda_2 ** (j - 1)) / (math.factorial(x + 1 - j) * math.factorial(j)) for j in range(1, x+2))\n",
    "    return sum_1\n",
    "\n",
    "def RHS_demo_5(x, t, lambda_2):\n",
    "    sum_1 = sum((math.factorial(x) * t ** (x + 1 - j) * lambda_2 ** (j - 1) * (x*j*t + t*j**2 - t*j + lambda_2 * j**2 - lambda_2 * j)) / (x * lambda_2 * math.factorial(x + 1 - j) * math.factorial(j)) for j in range(2, x+2))\n",
    "    return sum_1 #- t ** (x+1) / lambda_2\n",
    "\n",
    "\n",
    "# def RHS_demo_5(x, t, lambda_2):\n",
    "#     sum_1 = sum((math.factorial(x) * t ** (x + 1 - j) * lambda_2 ** (j - 1)) / (math.factorial(x - j) * math.factorial(j)) for j in range(1, x+1))\n",
    "#     sum_2 = sum((math.factorial(x) * j * t ** (x + 1 - j) * lambda_2 ** (j - 1)) / (math.factorial(x - j) * math.factorial(j)) for j in range(1, x+1))\n",
    "#     return sum_1 + sum_2 * (t + lambda_2) / (t * x)"
   ]
  },
  {
   "cell_type": "code",
   "execution_count": 55,
   "metadata": {},
   "outputs": [
    {
     "output_type": "execute_result",
     "data": {
      "text/plain": [
       "lambda_2**7 + 8*lambda_2**6*t + 28*lambda_2**5*t**2 + 56*lambda_2**4*t**3 + 70*lambda_2**3*t**4 + 56*lambda_2**2*t**5 + 28*lambda_2*t**6 + 8*t**7"
      ],
      "text/latex": "$\\displaystyle \\lambda_{2}^{7} + 8 \\lambda_{2}^{6} t + 28 \\lambda_{2}^{5} t^{2} + 56 \\lambda_{2}^{4} t^{3} + 70 \\lambda_{2}^{3} t^{4} + 56 \\lambda_{2}^{2} t^{5} + 28 \\lambda_{2} t^{6} + 8 t^{7}$"
     },
     "metadata": {},
     "execution_count": 55
    }
   ],
   "source": [
    "sym.expand(LHS_demo_5(7, t, lambda_2))"
   ]
  },
  {
   "cell_type": "code",
   "execution_count": 56,
   "metadata": {},
   "outputs": [
    {
     "output_type": "execute_result",
     "data": {
      "text/plain": [
       "lambda_2**7 + 8*lambda_2**6*t + 28*lambda_2**5*t**2 + 56*lambda_2**4*t**3 + 70*lambda_2**3*t**4 + 56*lambda_2**2*t**5 + 28*lambda_2*t**6 + 8*t**7"
      ],
      "text/latex": "$\\displaystyle \\lambda_{2}^{7} + 8 \\lambda_{2}^{6} t + 28 \\lambda_{2}^{5} t^{2} + 56 \\lambda_{2}^{4} t^{3} + 70 \\lambda_{2}^{3} t^{4} + 56 \\lambda_{2}^{2} t^{5} + 28 \\lambda_{2} t^{6} + 8 t^{7}$"
     },
     "metadata": {},
     "execution_count": 56
    }
   ],
   "source": [
    "sym.expand(RHS_demo_5(7, t, lambda_2))"
   ]
  },
  {
   "cell_type": "code",
   "execution_count": null,
   "metadata": {},
   "outputs": [],
   "source": []
  },
  {
   "cell_type": "code",
   "execution_count": null,
   "metadata": {},
   "outputs": [],
   "source": []
  },
  {
   "cell_type": "code",
   "execution_count": null,
   "metadata": {},
   "outputs": [],
   "source": []
  },
  {
   "source": [
    "## Attempt 4\n",
    "\n",
    "$$\n",
    "\n",
    "\\frac{xjt + tj^2 - tj + \\lambda_2 j^2 - \\lambda_2 j}{x \\lambda_2 (x + 1)} - \\frac{(x-j+1)! j!}{(x+1)!} \\frac{t^j}{\\lambda_2^j} = 1\n",
    "\n",
    "$$"
   ],
   "cell_type": "markdown",
   "metadata": {}
  },
  {
   "cell_type": "code",
   "execution_count": 251,
   "metadata": {},
   "outputs": [],
   "source": [
    "from sympy.printing.latex import LatexPrinter, print_latex"
   ]
  },
  {
   "cell_type": "code",
   "execution_count": 13,
   "metadata": {},
   "outputs": [],
   "source": [
    "def LHS_demo_5(x, t, lambda_2):\n",
    "    sum_1 = 0\n",
    "    for j in range(1, x+2):\n",
    "        term = (math.factorial(x + 1) * t ** (x + 1 - j) * lambda_2 ** (j - 1)) / (math.factorial(x + 1 - j) * math.factorial(j))\n",
    "        print(term)\n",
    "        sum_1 += term\n",
    "    return sum_1\n",
    "\n",
    "\n",
    "def RHS_demo_5(x, t, lambda_2):\n",
    "    sum_1 = 0\n",
    "    for j in range(1, x+2):\n",
    "        extra_term = (x*j*t + t*j**2 - t*j + lambda_2 * j**2 - lambda_2 * j) / (x * lambda_2) \n",
    "        extra_term -= (math.factorial(x - j + 1) * math.factorial(j) * t ** (x + 1)) / (math.factorial(x+1) * t ** (x + 1 - j) * lambda_2 ** j)\n",
    "        extra_term /= (x + 1)\n",
    "        term = (math.factorial(x + 1) * t ** (x + 1 - j) * lambda_2 ** (j - 1) * extra_term) / (math.factorial(x + 1 - j) * math.factorial(j))\n",
    "        print(term)\n",
    "        sum_1 += term\n",
    "    return sum_1"
   ]
  },
  {
   "cell_type": "code",
   "execution_count": 14,
   "metadata": {},
   "outputs": [
    {
     "output_type": "stream",
     "name": "stdout",
     "text": [
      "8*t**7\n28*lambda_2*t**6\n56*lambda_2**2*t**5\n70*lambda_2**3*t**4\n56*lambda_2**4*t**3\n28*lambda_2**5*t**2\n8*lambda_2**6*t\nlambda_2**7\n"
     ]
    },
    {
     "output_type": "execute_result",
     "data": {
      "text/plain": [
       "lambda_2**7 + 8*lambda_2**6*t + 28*lambda_2**5*t**2 + 56*lambda_2**4*t**3 + 70*lambda_2**3*t**4 + 56*lambda_2**2*t**5 + 28*lambda_2*t**6 + 8*t**7"
      ],
      "text/latex": "$\\displaystyle \\lambda_{2}^{7} + 8 \\lambda_{2}^{6} t + 28 \\lambda_{2}^{5} t^{2} + 56 \\lambda_{2}^{4} t^{3} + 70 \\lambda_{2}^{3} t^{4} + 56 \\lambda_{2}^{2} t^{5} + 28 \\lambda_{2} t^{6} + 8 t^{7}$"
     },
     "metadata": {},
     "execution_count": 14
    }
   ],
   "source": [
    "sym.expand(LHS_demo_5(7, t, lambda_2))"
   ]
  },
  {
   "cell_type": "code",
   "execution_count": 15,
   "metadata": {},
   "outputs": [
    {
     "output_type": "stream",
     "name": "stdout",
     "text": [
      "7*t**8/(8*lambda_2)\n28*lambda_2*t**6*((2*lambda_2 + 16*t)/(56*lambda_2) - t**2/(224*lambda_2**2))\n56*lambda_2**2*t**5*((6*lambda_2 + 27*t)/(56*lambda_2) - t**3/(448*lambda_2**3))\n70*lambda_2**3*t**4*((12*lambda_2 + 40*t)/(56*lambda_2) - t**4/(560*lambda_2**4))\n56*lambda_2**4*t**3*((20*lambda_2 + 55*t)/(56*lambda_2) - t**5/(448*lambda_2**5))\n28*lambda_2**5*t**2*((30*lambda_2 + 72*t)/(56*lambda_2) - t**6/(224*lambda_2**6))\n8*lambda_2**6*t*((42*lambda_2 + 91*t)/(56*lambda_2) - t**7/(64*lambda_2**7))\nlambda_2**7*((56*lambda_2 + 112*t)/(56*lambda_2) - t**8/(8*lambda_2**8))\n"
     ]
    },
    {
     "output_type": "execute_result",
     "data": {
      "text/plain": [
       "lambda_2**7 + 8*lambda_2**6*t + 28*lambda_2**5*t**2 + 56*lambda_2**4*t**3 + 70*lambda_2**3*t**4 + 56*lambda_2**2*t**5 + 28*lambda_2*t**6 + 8*t**7"
      ],
      "text/latex": "$\\displaystyle \\lambda_{2}^{7} + 8 \\lambda_{2}^{6} t + 28 \\lambda_{2}^{5} t^{2} + 56 \\lambda_{2}^{4} t^{3} + 70 \\lambda_{2}^{3} t^{4} + 56 \\lambda_{2}^{2} t^{5} + 28 \\lambda_{2} t^{6} + 8 t^{7}$"
     },
     "metadata": {},
     "execution_count": 15
    }
   ],
   "source": [
    "sym.expand(RHS_demo_5(7, t, lambda_2))"
   ]
  },
  {
   "cell_type": "code",
   "execution_count": null,
   "metadata": {},
   "outputs": [],
   "source": []
  },
  {
   "cell_type": "code",
   "execution_count": null,
   "metadata": {},
   "outputs": [],
   "source": []
  },
  {
   "cell_type": "code",
   "execution_count": null,
   "metadata": {},
   "outputs": [],
   "source": []
  },
  {
   "source": [
    "# Going back:"
   ],
   "cell_type": "markdown",
   "metadata": {}
  },
  {
   "source": [
    "## Assuming true for $l=x$ prove true for $l=x+1$\n",
    "\\begin{align}\n",
    "    & - \\frac{\\partial^{x}}{\\partial t ^ {x}} \\left( \\frac{1}{t (t + \\lambda_2)} \\right) \\\\\n",
    "    & = \\frac{\\partial}{\\partial t} \\left[ \\frac{\\partial^{x-1}}{\\partial t ^ {x-1}} \\left( \\frac{1}{t (t + \\lambda_2)} \\right) \\right] \\\\ \n",
    "    & = \\frac{\\partial}{\\partial t} \\left[ \\frac{(-1)^{x} (x-1)!}{t^x (t + \\lambda_2)^x} \\times \\sum_{j=1}^{x} {x \\choose j} t^{x - j} \\lambda_2 ^ {j - 1} \\right] \\\\\n",
    "    & = \\frac{\\partial}{\\partial t} \\left[ \\sum_{j=1}^{x} \\frac{(-1)^{x} (x-1)!}{t^x (t + \\lambda_2)^x} \\times {x \\choose j} t^{x - j} \\lambda_2 ^ {j - 1} \\right] \\\\\n",
    "    & =  \\sum_{j=1}^{x} \\left[ \\frac{\\partial}{\\partial t} \\frac{(-1)^{x} (x-1)!}{(t + \\lambda_2)^x} \\times {x \\choose j} t^{- j} \\lambda_2 ^ {j - 1} \\right] \\\\\n",
    "    & =  \\sum_{j=1}^{x} \\left[ (-1)^{x} (x-1)! {x \\choose j} \\lambda_2 ^ {j - 1} \\frac{\\partial}{\\partial t} \\left( \\frac{t^{- j}}{(t + \\lambda_2)^x} \\right) \\right] \\\\\n",
    "    & = \\sum_{j=1}^{x} \\left[ (-1)^{x} (x-1)! {x \\choose j} \\lambda_2 ^ {j - 1} \\left( \\frac{(-1)(jt + j \\lambda_2 + xt)}{t^{j+1}(t + \\lambda_2)^{x+1}} \\right) \\right] \\\\\n",
    "    & = \\frac{(-1)^{x+1} (x-1)!}{(t + \\lambda_2)^{x+1}} \\sum_{j=1}^{x} \\left[ {x \\choose j} \\lambda_2 ^ {j - 1} t^{-j-1} (jt + j \\lambda_2 + xt) \\right] \\\\\n",
    "\\end{align}"
   ],
   "cell_type": "markdown",
   "metadata": {}
  },
  {
   "cell_type": "code",
   "execution_count": 98,
   "metadata": {},
   "outputs": [],
   "source": [
    "def LHS_demo(x, t, lambda_2):\n",
    "    sum_1 = sum((math.factorial(x) * j * t ** (- j - 1) * lambda_2 ** (j - 1)) / (math.factorial(x - j) * math.factorial(j)) for j in range(1, x+1))\n",
    "    sum_2 = sum((math.factorial(x) * t ** (- j) * lambda_2 ** (j - 1)) / (math.factorial(x - j) * math.factorial(j)) for j in range(1, x+1))\n",
    "\n",
    "    sum_1 *= (-1) ** (x+1) * math.factorial(x - 1) / (t + lambda_2) ** x\n",
    "    sum_2 *= (-1) ** (x+1) * math.factorial(x) / (t + lambda_2) ** (x + 1)\n",
    "\n",
    "    return sum_1 + sum_2\n",
    "\n",
    "\n",
    "\n",
    "def LHS_demo(x, t, lambda_2):\n",
    "    sum_1 = 0\n",
    "    for j in range(1, x+2):\n",
    "        term = math.factorial(x) * t ** (- j) * lambda_2 ** (j - 2) * ((j - 1) * (t + lambda_2) + x*t) / (math.factorial(x + 1 - j) * math.factorial(j - 1))\n",
    "        # if j > 1:\n",
    "        print(term)\n",
    "        sum_1 += term\n",
    "    sum_1 -= x / lambda_2\n",
    "    sum_1 *= (-1) ** (x+1) * math.factorial(x - 1) / (t + lambda_2) ** (x + 1)\n",
    "\n",
    "    return sum_1\n",
    "    \n",
    "\n",
    "\n",
    "def RHS_demo(x, t, lambda_2):\n",
    "    sum_1 = 0\n",
    "    for j in range(1, x+2):\n",
    "        term = (math.factorial(x + 1) * t ** (x + 1 - j) * lambda_2 ** (j - 1)) / (math.factorial(x + 1 - j) * math.factorial(j))\n",
    "        print(term)\n",
    "        sum_1 += term\n",
    "    sum_1 *= ((-1)**(x+1) * math.factorial(x)) / (t ** (x+1) * (t + lambda_2) ** (x + 1))\n",
    "    return sum_1"
   ]
  },
  {
   "cell_type": "code",
   "execution_count": 99,
   "metadata": {},
   "outputs": [
    {
     "output_type": "stream",
     "name": "stdout",
     "text": [
      "3*t**2\n3*lambda_2*t\nlambda_2**2\n"
     ]
    },
    {
     "output_type": "execute_result",
     "data": {
      "text/plain": [
       "-2*(lambda_2**2 + 3*lambda_2*t + 3*t**2)/(t**3*(lambda_2 + t)**3)"
      ],
      "text/latex": "$\\displaystyle - \\frac{2 \\left(\\lambda_{2}^{2} + 3 \\lambda_{2} t + 3 t^{2}\\right)}{t^{3} \\left(\\lambda_{2} + t\\right)^{3}}$"
     },
     "metadata": {},
     "execution_count": 99
    }
   ],
   "source": [
    "sym.factor(RHS_demo(2, t, lambda_2))"
   ]
  },
  {
   "cell_type": "code",
   "execution_count": 100,
   "metadata": {},
   "outputs": [
    {
     "output_type": "stream",
     "name": "stdout",
     "text": [
      "2/lambda_2\n2*(lambda_2 + 3*t)/t**2\nlambda_2*(2*lambda_2 + 4*t)/t**3\n"
     ]
    },
    {
     "output_type": "execute_result",
     "data": {
      "text/plain": [
       "-2*(lambda_2**2 + 3*lambda_2*t + 3*t**2)/(t**3*(lambda_2 + t)**3)"
      ],
      "text/latex": "$\\displaystyle - \\frac{2 \\left(\\lambda_{2}^{2} + 3 \\lambda_{2} t + 3 t^{2}\\right)}{t^{3} \\left(\\lambda_{2} + t\\right)^{3}}$"
     },
     "metadata": {},
     "execution_count": 100
    }
   ],
   "source": [
    "sym.factor(LHS_demo(2, t, lambda_2))"
   ]
  },
  {
   "cell_type": "code",
   "execution_count": null,
   "metadata": {},
   "outputs": [],
   "source": []
  },
  {
   "cell_type": "code",
   "execution_count": null,
   "metadata": {},
   "outputs": [],
   "source": []
  },
  {
   "cell_type": "code",
   "execution_count": null,
   "metadata": {},
   "outputs": [],
   "source": []
  },
  {
   "cell_type": "code",
   "execution_count": null,
   "metadata": {},
   "outputs": [],
   "source": []
  },
  {
   "cell_type": "code",
   "execution_count": null,
   "metadata": {},
   "outputs": [],
   "source": []
  },
  {
   "source": [
    "$$\n",
    "    \\frac{(-1)^{x+1} (x-1)!}{(t + \\lambda_2)^{x+1}} \\sum_{j=1}^{x} \\left[ {x \\choose j} \\lambda_2 ^ {j - 1} t^{-j-1} (jt + j \\lambda_2 + xt) \\right] = \\frac{(-1)^{x+1} x!}{(t + \\lambda_2)^{x+1}} \\times \\sum_{j=1}^{x+1} \\, {{x + 1} \\choose j} \\, t^{-j} \\, \\lambda_2^{j-1} \\\\\n",
    "    \\frac{(-1)^{x+1} x!}{(t + \\lambda_2)^{x+1}} \\times \\sum_{j=1}^{x+1} \\, {{x + 1} \\choose j} \\, t^{-j} \\, \\lambda_2^{j-1} - \\frac{(-1)^{x+1} (x-1)!}{(t + \\lambda_2)^{x+1}} \\sum_{j=1}^{x} \\left[ {x \\choose j} t^{-j-1} \\lambda_2 ^ {j - 1} (jt + j \\lambda_2 + xt) \\right] = 0 \\\\\n",
    "\n",
    "\\vdots \\\\\n",
    "\\vdots \\\\\n",
    "\n",
    "\\sum_{j=1}^{x} \\left[ \\frac{(x-1)! \\, t^{-j} \\, \\lambda_2^{j-1} \\, (j-1)}{(x+1-j)! \\, (j-1)!} - \\frac{(x-1)! \\, t^{-j-1} \\lambda_2^j}{(x-j)! (j-1)!} \\right] + \\frac{\\lambda_2^x}{t^{x+1}} = 0 \\\\\n",
    "\n",
    "\\vdots \\\\\n",
    "\\vdots \\\\\n",
    "\n",
    "(t + \\lambda_2) \\sum_{j=2}^{x} j \\, \\frac{(x-1)! \\, t^{-j-1} \\, \\lambda_2^{j-1}}{(x+1-j)! \\, (j-1)!} - (t + \\lambda_2 + \\lambda_2 x) \\sum_{j=2}^{x} \\, \\frac{(x-1)! \\, t^{-j-1} \\, \\lambda_2^{j-1}}{(x+1-j)! \\, (j-1)!} = \\frac{\\lambda_2}{t^2} - \\frac{\\lambda_2^x}{t^{x+1}}\n",
    "$$"
   ],
   "cell_type": "markdown",
   "metadata": {}
  },
  {
   "cell_type": "code",
   "execution_count": 4,
   "metadata": {},
   "outputs": [],
   "source": [
    "def LHS_demo(x, t, lambda_2):\n",
    "    sum_1 = 0\n",
    "    for j in range(1, x+2):\n",
    "        term = (math.factorial(x + 1) * t ** (- j) * lambda_2 ** (j - 1)) / (math.factorial(x + 1 - j) * math.factorial(j))\n",
    "        sum_1 += term\n",
    "    sum_1 *= ((-1)**(x+1) * math.factorial(x)) / ((t + lambda_2) ** (x + 1))\n",
    "    return sum_1\n",
    "\n",
    "\n",
    "def RHS_demo(x, t, lambda_2):\n",
    "    sum_1 = 0\n",
    "    for j in range(1, x+1):\n",
    "        term = (math.factorial(x) * t ** (- j - 1) * lambda_2 ** (j - 1) * (j*t + j*lambda_2 + x*t)) / (math.factorial(x - j) * math.factorial(j))\n",
    "        sum_1 += term\n",
    "    sum_1 *= ((-1)**(x+1) * math.factorial(x - 1)) / ((t + lambda_2) ** (x + 1))\n",
    "    return sum_1"
   ]
  },
  {
   "cell_type": "code",
   "execution_count": 5,
   "metadata": {},
   "outputs": [],
   "source": [
    "def diff_demo_2(x, t, lambda_2):\n",
    "    summ = 0\n",
    "    for j in range(2, x+1):\n",
    "        summ += (math.factorial(x - 1) * t ** (-j) * lambda_2 ** (j - 1)) / (math.factorial(x + 1 - j) * math.factorial(j - 2))\n",
    "        summ -= math.factorial(x-1) * (t ** (- j - 1) * lambda_2 ** j) / (math.factorial(x-j) * math.factorial(j - 1))\n",
    "\n",
    "    summ -= lambda_2 / (t ** 2)\n",
    "    summ += lambda_2 ** x / (t ** (x + 1))\n",
    "\n",
    "    return summ\n",
    "\n",
    "\n",
    "def diff_demo(x, t, lambda_2):\n",
    "    return LHS_demo(x, t, lambda_2) - RHS_demo(x, t, lambda_2)\n",
    "\n",
    "\n",
    "def diff_demo(x, t, lambda_2):\n",
    "    summ = 0\n",
    "    for j in range(1, x+1):\n",
    "        term = math.factorial(x - 1) * t ** (-j - 1) * lambda_2 ** (j - 1)\n",
    "\n",
    "        # term *= (x*(x+1)*t - (x+1-j)*(j*(t+lambda_2) + t*x))\n",
    "        term *= (j*t*(j-1) - j*lambda_2*(x+1-j))\n",
    "\n",
    "        term /= (math.factorial(x + 1 - j) * math.factorial(j))\n",
    "        summ += term\n",
    "\n",
    "    summ += lambda_2 ** x / (t ** (x + 1)) \n",
    "    return summ\n",
    "\n",
    "\n",
    "\n",
    "def diff_demo(x, t, lambda_2):\n",
    "    summ = 0\n",
    "    for j in range(1, x+1):\n",
    "        term_1 = math.factorial(x - 1) * t ** (-j) * lambda_2 ** (j - 1)\n",
    "        term_1 *= (j-1)\n",
    "        term_1 /= (math.factorial(x + 1 - j) * math.factorial(j - 1))\n",
    "\n",
    "\n",
    "        term_2 = math.factorial(x - 1) * t ** (-j - 1) * lambda_2 ** j\n",
    "        term_2 *= 1\n",
    "        term_2 /= (math.factorial(x - j) * math.factorial(j - 1))\n",
    "\n",
    "\n",
    "        summ += term_1 - term_2\n",
    "\n",
    "    summ += lambda_2 ** x / (t ** (x + 1)) \n",
    "    return summ"
   ]
  },
  {
   "cell_type": "code",
   "execution_count": 7,
   "metadata": {},
   "outputs": [
    {
     "output_type": "execute_result",
     "data": {
      "text/plain": [
       "0"
      ],
      "text/latex": "$\\displaystyle 0$"
     },
     "metadata": {},
     "execution_count": 7
    }
   ],
   "source": [
    "sym.expand(diff_demo(x=5, t=t, lambda_2=lambda_2))"
   ]
  },
  {
   "cell_type": "code",
   "execution_count": 122,
   "metadata": {},
   "outputs": [
    {
     "output_type": "execute_result",
     "data": {
      "text/plain": [
       "0"
      ],
      "text/latex": "$\\displaystyle 0$"
     },
     "metadata": {},
     "execution_count": 122
    }
   ],
   "source": [
    "sym.expand(diff_demo_2(x=10, t=t, lambda_2=lambda_2))"
   ]
  },
  {
   "cell_type": "code",
   "execution_count": null,
   "metadata": {},
   "outputs": [],
   "source": []
  },
  {
   "cell_type": "code",
   "execution_count": null,
   "metadata": {},
   "outputs": [],
   "source": []
  },
  {
   "source": [
    "## Attempt Using Taylor Series"
   ],
   "cell_type": "markdown",
   "metadata": {}
  },
  {
   "source": [
    "\n",
    "$$\n",
    "    \\frac{-1}{t (t + \\lambda_2)} = \\sum_{n=l-1}^{\\infty} \\left[ \\frac{-1}{t_0 (t_0 + \\lambda_2)} \\right]^{(n)} \\frac{(t - t_0)^n}{n!}\n",
    "$$\n",
    "\n",
    "$$\n",
    "\\begin{align}\n",
    "    \\Psi_{1,l}(t) & = \\frac{\\partial^{l-1}}{\\partial t ^ {l-1}} \\left( \\frac{-1}{t (t + \\lambda_2)} \\right) \\\\\n",
    "    & = \\frac{\\partial^{l-1}}{\\partial t ^ {l-1}} \\left( \\sum_{n=0}^{\\infty} \\left[ \\frac{-1}{t_0 (t_0 + \\lambda_2)} \\right]^{(n)} \\frac{(t - t_0)^n}{n!} \\right) \\\\\n",
    "    & = \\frac{\\partial^{l-1}}{\\partial t ^ {l-1}} \\left( \\sum_{n=l-1}^{\\infty} \\left[ \\frac{-1}{t_0 (t_0 + \\lambda_2)} \\right]^{(n)} \\frac{(t - t_0)^n}{n!} \\right) \\\\    \n",
    "\\end{align}\n",
    "$$\n"
   ],
   "cell_type": "markdown",
   "metadata": {}
  },
  {
   "cell_type": "code",
   "execution_count": null,
   "metadata": {},
   "outputs": [],
   "source": []
  },
  {
   "cell_type": "code",
   "execution_count": null,
   "metadata": {},
   "outputs": [],
   "source": []
  },
  {
   "cell_type": "code",
   "execution_count": null,
   "metadata": {},
   "outputs": [],
   "source": []
  },
  {
   "cell_type": "code",
   "execution_count": 63,
   "metadata": {},
   "outputs": [],
   "source": [
    "lambda_1 = sym.Symbol(\"lambda_1\")\n",
    "lambda_2 = sym.Symbol(\"lambda_2\")\n",
    "r_2 = sym.Symbol(\"r_2\")\n",
    "t = sym.Symbol(\"t\")\n",
    "\n",
    "exp_rates = [sym.S(0), lambda_1, lambda_2]\n",
    "freq = [1, r_2, 1]\n",
    "a = len(exp_rates) - 1"
   ]
  },
  {
   "cell_type": "code",
   "execution_count": 60,
   "metadata": {},
   "outputs": [],
   "source": [
    "t = 3\n",
    "lambda_2 = 5"
   ]
  },
  {
   "source": [
    "# To prove:\n",
    "$$\n",
    "    - \\frac{\\partial^{l-1}}{\\partial t ^ {l-1}} \\left( \\frac{1}{t (t + \\lambda_2)} \\right) = \\frac{(-1)^{l} (l-1)!}{(t + \\lambda_2)^{l}} \\times \\sum_{j=1}^{l} \\, {l \\choose j} \\, t^{-j} \\, \\lambda_2^{j-1}\n",
    "$$"
   ],
   "cell_type": "markdown",
   "metadata": {}
  },
  {
   "source": [
    "# Attempt by computing the $n^{th}$ derivative"
   ],
   "cell_type": "markdown",
   "metadata": {}
  },
  {
   "source": [
    "### Leibniz formula for $n^{th}$ derivative:\n",
    "$$\n",
    "    (u(x)v(x))^{(n)} = \\sum_{i=1}^{n} {n \\choose i} u^{i} v^{n-i}\n",
    "$$"
   ],
   "cell_type": "markdown",
   "metadata": {}
  },
  {
   "cell_type": "code",
   "execution_count": 151,
   "metadata": {},
   "outputs": [],
   "source": [
    "def RHS_demo(arg, k, l, exp_rates, freq, a):\n",
    "    psi_val = 0\n",
    "    for term in range(1, l + 1):\n",
    "        psi_val += math.comb(l, term) * arg ** (- term) * exp_rates[2] ** (term - 1)\n",
    "    psi_val *= (-1) ** l * math.factorial(l - 1) / ((arg + exp_rates[2]) ** l)\n",
    "    return psi_val\n",
    "\n",
    "def LHS_demo(arg, k, l, exp_rates, freq, a):\n",
    "    psi_val = 0\n",
    "    for term in range(1, l + 1):\n",
    "        psi_val += (arg + exp_rates[2]) ** (term - 1) / (arg ** (term))\n",
    "    psi_val *= (-1) ** l * math.factorial(l - 1) / ((arg + exp_rates[2]) ** l)\n",
    "    return psi_val\n",
    "\n",
    "\n",
    "# def LHS_demo(arg, k, l, exp_rates, freq, a):\n",
    "#     psi_val = 0\n",
    "#     for term in range(1, l + 1):\n",
    "#         for r in range(term):\n",
    "#             psi_val += math.comb(term-1, r) * arg ** (-r-1) * exp_rates[2] ** r\n",
    "#     psi_val *= (-1) ** l * math.factorial(l - 1) / ((arg + exp_rates[2]) ** l)\n",
    "#     return psi_val"
   ]
  },
  {
   "cell_type": "code",
   "execution_count": 152,
   "metadata": {},
   "outputs": [
    {
     "output_type": "execute_result",
     "data": {
      "text/plain": [
       "-24*(lambda_2**4 + 5*lambda_2**3*t + 10*lambda_2**2*t**2 + 10*lambda_2*t**3 + 5*t**4)/(t**5*(lambda_2 + t)**5)"
      ],
      "text/latex": "$\\displaystyle - \\frac{24 \\left(\\lambda_{2}^{4} + 5 \\lambda_{2}^{3} t + 10 \\lambda_{2}^{2} t^{2} + 10 \\lambda_{2} t^{3} + 5 t^{4}\\right)}{t^{5} \\left(\\lambda_{2} + t\\right)^{5}}$"
     },
     "metadata": {},
     "execution_count": 152
    }
   ],
   "source": [
    "sym.factor(RHS_demo(arg=t, k=1, l=5, exp_rates=[sym.S(0), lambda_1, lambda_2], freq=[1, r_2, 1], a=2))"
   ]
  },
  {
   "cell_type": "code",
   "execution_count": 153,
   "metadata": {},
   "outputs": [
    {
     "output_type": "execute_result",
     "data": {
      "text/plain": [
       "-24*(lambda_2**4 + 5*lambda_2**3*t + 10*lambda_2**2*t**2 + 10*lambda_2*t**3 + 5*t**4)/(t**5*(lambda_2 + t)**5)"
      ],
      "text/latex": "$\\displaystyle - \\frac{24 \\left(\\lambda_{2}^{4} + 5 \\lambda_{2}^{3} t + 10 \\lambda_{2}^{2} t^{2} + 10 \\lambda_{2} t^{3} + 5 t^{4}\\right)}{t^{5} \\left(\\lambda_{2} + t\\right)^{5}}$"
     },
     "metadata": {},
     "execution_count": 153
    }
   ],
   "source": [
    "sym.factor(LHS_demo(arg=t, k=1, l=5, exp_rates=[sym.S(0), lambda_1, lambda_2], freq=[1, r_2, 1], a=2))"
   ]
  },
  {
   "source": [],
   "cell_type": "code",
   "metadata": {},
   "execution_count": null,
   "outputs": []
  },
  {
   "cell_type": "code",
   "execution_count": null,
   "metadata": {},
   "outputs": [],
   "source": []
  },
  {
   "source": [
    "## More specific"
   ],
   "cell_type": "markdown",
   "metadata": {}
  },
  {
   "cell_type": "code",
   "execution_count": 203,
   "metadata": {},
   "outputs": [],
   "source": [
    "def RHS_demo(t, l, lambda_2):\n",
    "    summ = 0\n",
    "    for i in range(1, l + 1):\n",
    "        summ += math.comb(l, i) * t ** (-i) * lambda_2 ** (i-1)\n",
    "    return summ\n",
    "\n",
    "\n",
    "def LHS_demo(t, l, lambda_2):\n",
    "    summ = 0\n",
    "    for i in range(1, l + 1):\n",
    "        summ += (t + lambda_2) ** (i - 1) / (t ** i)\n",
    "    return summ\n",
    "\n",
    "\n",
    "def LHS_demo(t, l, lambda_2):\n",
    "    return ((t + lambda_2) ** l - t ** l) / (t**l * lambda_2)"
   ]
  },
  {
   "cell_type": "code",
   "execution_count": 204,
   "metadata": {},
   "outputs": [
    {
     "output_type": "execute_result",
     "data": {
      "text/plain": [
       "(lambda_2 + 2*t)*(lambda_2**2 + 2*lambda_2*t + 2*t**2)/t**4"
      ],
      "text/latex": "$\\displaystyle \\frac{\\left(\\lambda_{2} + 2 t\\right) \\left(\\lambda_{2}^{2} + 2 \\lambda_{2} t + 2 t^{2}\\right)}{t^{4}}$"
     },
     "metadata": {},
     "execution_count": 204
    }
   ],
   "source": [
    "sym.factor(RHS_demo(t, 4, lambda_2))"
   ]
  },
  {
   "cell_type": "code",
   "execution_count": 205,
   "metadata": {},
   "outputs": [
    {
     "output_type": "execute_result",
     "data": {
      "text/plain": [
       "(lambda_2 + 2*t)*(lambda_2**2 + 2*lambda_2*t + 2*t**2)/t**4"
      ],
      "text/latex": "$\\displaystyle \\frac{\\left(\\lambda_{2} + 2 t\\right) \\left(\\lambda_{2}^{2} + 2 \\lambda_{2} t + 2 t^{2}\\right)}{t^{4}}$"
     },
     "metadata": {},
     "execution_count": 205
    }
   ],
   "source": [
    "sym.factor(LHS_demo(t, 4, lambda_2))"
   ]
  },
  {
   "cell_type": "code",
   "execution_count": null,
   "metadata": {},
   "outputs": [],
   "source": []
  }
 ]
}