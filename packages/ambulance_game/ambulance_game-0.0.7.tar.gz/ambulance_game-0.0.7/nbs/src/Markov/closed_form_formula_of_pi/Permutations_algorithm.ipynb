{
 "cells": [
  {
   "cell_type": "code",
   "execution_count": 1,
   "metadata": {
    "tags": []
   },
   "outputs": [],
   "source": [
    "import math\n",
    "import numpy as np\n",
    "import functools\n",
    "import sympy as sym"
   ]
  },
  {
   "source": [
    "## Valid permutations example: D=2, L=2, R=2\n",
    "- $\\textbf{[D,L,R,R,D,L]}$\n",
    "- $\\textbf{[L,L,D,R,R,D]}$\n",
    "- $\\textbf{[L,R,D,L,R,D]}$\n",
    "\n",
    "## Rules:\n",
    "- Permutations must not end in R\n",
    "- Permutations must not include an R followed by an L\n",
    "\n",
    "## Invalid permutations examples: D=2, L=2, R=2\n",
    "- $\\textbf{[D,D,L,L,R,R]}$\n",
    "\n",
    "- $\\textbf{[R,L,L,D,R,D]}$"
   ],
   "cell_type": "markdown",
   "metadata": {}
  },
  {
   "source": [
    "## Total number of permutations ($T$):\n",
    "$$T = \\frac{(D+R+L)!}{D! \\times R! \\times L!}$$"
   ],
   "cell_type": "markdown",
   "metadata": {}
  },
  {
   "cell_type": "code",
   "execution_count": 2,
   "metadata": {},
   "outputs": [],
   "source": [
    "def get_all_permutations(D, R, L):\n",
    "    return np.math.factorial(D + R + L) // (np.math.factorial(D) * np.math.factorial(R) * np.math.factorial(L))"
   ]
  },
  {
   "cell_type": "code",
   "execution_count": 78,
   "metadata": {},
   "outputs": [],
   "source": []
  },
  {
   "source": [
    "## Number of permutations that end in R ($E_R$):\n",
    "$$\n",
    "E_R = \n",
    "\\begin{cases}\n",
    "    \\frac{(D+R+L-1)!}{D! \\times (R-1)! \\times L!} & \\text{if } R>0\\\\\n",
    "    0 & \\text{otherwise}\n",
    "\\end{cases}    \n",
    "$$"
   ],
   "cell_type": "markdown",
   "metadata": {}
  },
  {
   "cell_type": "code",
   "execution_count": 3,
   "metadata": {},
   "outputs": [],
   "source": [
    "def get_permutations_ending_in_R(D, R, L):\n",
    "    if R > 0:\n",
    "        return np.math.factorial(D + R + L - 1) // (np.math.factorial(D) * np.math.factorial(R-1) * np.math.factorial(L))\n",
    "    else:\n",
    "        return 0"
   ]
  },
  {
   "source": [
    "### Examples:\n",
    "- $[R,D,L,D,L,|R]$\n",
    "- $[D,L,L,R,D,|R]$\n",
    "- $[D,R,D,L,L,|R]$\n",
    "- $[L,D,R,D,L,|R]$"
   ],
   "cell_type": "markdown",
   "metadata": {}
  },
  {
   "cell_type": "code",
   "execution_count": null,
   "metadata": {},
   "outputs": [],
   "source": []
  },
  {
   "source": [
    "## Number of permutations that end in D and there exist at least one RL ($E_D$):\n",
    "\n",
    "$$\n",
    "E_D = \n",
    "\\begin{cases}\n",
    "    \\sum_{i=1}^{\\min(R,L)} (-1)^{i+1} \\frac{(D+R+L-i-1)!}{(D-1)! \\times (R-i)! \\times (L-i)! \\times (i)!} & \\text{if } \\min(R,L) > 0\\\\\n",
    "    0 & \\text{otherwise}\n",
    "\\end{cases}    \n",
    "$$"
   ],
   "cell_type": "markdown",
   "metadata": {}
  },
  {
   "cell_type": "code",
   "execution_count": 4,
   "metadata": {},
   "outputs": [],
   "source": [
    "def get_permutations_ending_in_D_where_any_RL_exists(D, R, L, method=np.math):\n",
    "    max_RL = min(R,L)\n",
    "    if max_RL > 0:\n",
    "        sign = -1\n",
    "        perms = 0\n",
    "        for num_RL in np.linspace(1, max_RL, max_RL):\n",
    "            sign *= -1\n",
    "            current_perm = method.factorial(R + D + L - num_RL - 1) // (method.factorial(D-1) * method.factorial(R-num_RL) * method.factorial(L-num_RL) * method.factorial(num_RL))\n",
    "            perms += sign * current_perm\n",
    "\n",
    "        return perms\n",
    "    else:\n",
    "        return 0"
   ]
  },
  {
   "source": [
    "### Examples:\n",
    "- $[R,D,L,(RL),|D]$\n",
    "- $[(RL),L,R,D,|D]$\n",
    "- $[D,R,(RL),L,|D]$\n",
    "### Duplicate cases:\n",
    "- $[D,R,L,(RL),|D]$ \n",
    "- $[D,(RL),R,L,|D]$\n",
    "- $[D,(RL),(RL),|D]$"
   ],
   "cell_type": "markdown",
   "metadata": {}
  },
  {
   "cell_type": "code",
   "execution_count": null,
   "metadata": {},
   "outputs": [],
   "source": []
  },
  {
   "source": [
    "## Number of permutations that end in L and there exist at least one RL ($E_L$):\n",
    "\n",
    "$$\n",
    "E_L = \n",
    "\\begin{cases}\n",
    "    \\sum_{i=1}^{\\min(R,L)} (-1)^{i+1} \\frac{(D+R+L-i-1)!}{(D)! \\times (R-i)! \\times (L-i-1)! \\times (i)!} & \\text{if } \\min(R,L-1) > 0\\\\\n",
    "    0 & \\text{otherwise}\n",
    "\\end{cases}    \n",
    "$$"
   ],
   "cell_type": "markdown",
   "metadata": {}
  },
  {
   "cell_type": "code",
   "execution_count": 5,
   "metadata": {},
   "outputs": [],
   "source": [
    "def get_permutations_ending_in_L_where_any_RL_exists(D, R, L):\n",
    "    max_RL = min(R,L-1)\n",
    "    if max_RL > 0:\n",
    "        sign = -1\n",
    "        perms = 0\n",
    "        for num_RL in np.linspace(1, max_RL, max_RL):\n",
    "            sign *= -1\n",
    "            perms += sign * np.math.factorial(R + D + L - num_RL - 1) // (np.math.factorial(D) * np.math.factorial(R-num_RL) * np.math.factorial(L-1-num_RL) * np.math.factorial(num_RL))\n",
    "        return perms\n",
    "    else:\n",
    "        return 0"
   ]
  },
  {
   "source": [
    "### Examples:\n",
    "- $[R,D,D,(RL),|L]$\n",
    "- $[(RL),D,R,D,|L]$\n",
    "- $[D,(RL),D,R,|L]$\n",
    "### Extra cases:\n",
    "- $[D,R,D,L,R,|L]$ \n",
    "- $[D,L,R,D,R,|L]$\n",
    "- $[D,D,L,R,R,|L]$"
   ],
   "cell_type": "markdown",
   "metadata": {}
  },
  {
   "cell_type": "code",
   "execution_count": null,
   "metadata": {},
   "outputs": [],
   "source": []
  },
  {
   "source": [
    "## Number of permutations that end in RL and RL exists only at the end ($E_{RL}$):\n",
    "\n",
    "$$\n",
    "E_{RL} = \n",
    "\\begin{cases}\n",
    "    \\sum_{i=1}^{\\min(R,L)} (-1)^{i+1} \\frac{(D+R+L-i-1)!}{(D)! \\times (R-i)! \\times (L-i)! \\times (i-1)!} & \\text{if } \\min(R,L) > 0\\\\\n",
    "    0 & \\text{otherwise}\n",
    "\\end{cases}    \n",
    "$$"
   ],
   "cell_type": "markdown",
   "metadata": {}
  },
  {
   "cell_type": "code",
   "execution_count": 6,
   "metadata": {},
   "outputs": [],
   "source": [
    "def get_permutations_ending_in_RL_where_RL_exists_only_at_the_end(D, R, L):\n",
    "    max_RL = min(R,L)\n",
    "    if max_RL > 0:\n",
    "        sign = -1\n",
    "        perms = 0\n",
    "        for num_RL in np.linspace(1, max_RL, max_RL):\n",
    "            sign *= -1\n",
    "            perms += sign * np.math.factorial(R + D + L - num_RL - 1) // (np.math.factorial(D) * np.math.factorial(R-num_RL) * np.math.factorial(L-num_RL) * np.math.factorial(num_RL-1))\n",
    "        return perms\n",
    "    else:\n",
    "        return 0"
   ]
  },
  {
   "source": [
    "### Examples:\n",
    "- $[R,D,L,D,|R,L]$\n",
    "- $[D,L,D,R,|R,L]$\n",
    "- $[D,R,D,L,|R,L]$\n",
    "### Cases that should not be considered:\n",
    "- $[D,R,L,D,|R,L] \\rightarrow [D,(RL),D,R,|L]$\n",
    "- $[R,L,D,D,|R,L] \\rightarrow [(RL),D,D,R,|L]$"
   ],
   "cell_type": "markdown",
   "metadata": {}
  },
  {
   "cell_type": "code",
   "execution_count": null,
   "metadata": {},
   "outputs": [],
   "source": []
  },
  {
   "source": [
    "## Number of permutations where there is no R at the end and there is no R followed by an L:\n",
    "\n",
    "$$\n",
    "C = T - E_R - E_D - E_L - E_{RL}\n",
    "$$"
   ],
   "cell_type": "markdown",
   "metadata": {}
  },
  {
   "cell_type": "code",
   "execution_count": 29,
   "metadata": {},
   "outputs": [],
   "source": [
    "def get_coeff(D, R, L):\n",
    "\n",
    "    total = D + R + L\n",
    "    all_permutations = get_all_permutations(D, R, L)\n",
    "    permutations_ending_in_R = get_permutations_ending_in_R(D, R, L)\n",
    "    permutations_ending_in_D_where_any_RL_exists = get_permutations_ending_in_D_where_any_RL_exists(D, R, L)\n",
    "    permutations_ending_in_L_where_any_RL_exists = get_permutations_ending_in_L_where_any_RL_exists(D, R, L)\n",
    "    permutations_ending_in_RL_where_RL_exists_only_at_the_end = get_permutations_ending_in_RL_where_RL_exists_only_at_the_end(D, R, L)\n",
    "\n",
    "    coeff = all_permutations \n",
    "    coeff -= permutations_ending_in_R \n",
    "    coeff -= permutations_ending_in_D_where_any_RL_exists \n",
    "    coeff -= permutations_ending_in_L_where_any_RL_exists\n",
    "    coeff -= permutations_ending_in_RL_where_RL_exists_only_at_the_end\n",
    "\n",
    "    return coeff#, [all_permutations, permutations_ending_in_R, permutations_ending_in_D_where_any_RL_exists, permutations_ending_in_L_where_any_RL_exists, permutations_ending_in_RL_where_RL_exists_only_at_the_end]"
   ]
  },
  {
   "cell_type": "code",
   "execution_count": 30,
   "metadata": {
    "tags": []
   },
   "outputs": [
    {
     "output_type": "execute_result",
     "data": {
      "text/plain": "11"
     },
     "metadata": {},
     "execution_count": 30
    }
   ],
   "source": [
    "get_coeff(10,0,1)"
   ]
  },
  {
   "cell_type": "code",
   "execution_count": null,
   "metadata": {},
   "outputs": [],
   "source": []
  },
  {
   "source": [
    "# All known coefficients"
   ],
   "cell_type": "markdown",
   "metadata": {}
  },
  {
   "cell_type": "code",
   "execution_count": 31,
   "metadata": {},
   "outputs": [],
   "source": [
    "demo = [[1,1,1],\n",
    "        [2,1,1],\n",
    "        [1,2,1],\n",
    "        [1,1,2],\n",
    "        [3,1,1],\n",
    "        [2,2,1],\n",
    "        [2,1,2],\n",
    "        [1,3,1],\n",
    "        [1,2,2],\n",
    "        [1,1,3],\n",
    "        [4,1,1],\n",
    "        [3,2,1],\n",
    "        [3,1,2],\n",
    "        [2,3,1],\n",
    "        [2,2,2],\n",
    "        [2,1,3],\n",
    "        [1,4,1],\n",
    "        [1,3,2],\n",
    "        [1,2,3],\n",
    "        [1,1,4],\n",
    "        [5,1,1],\n",
    "        [4,2,1],\n",
    "        [4,1,2],\n",
    "        [3,3,1],\n",
    "        [3,2,2],\n",
    "        [3,1,3],\n",
    "        [2,4,1],\n",
    "        [2,3,2],\n",
    "        [2,2,3],\n",
    "        [2,1,4],\n",
    "        [1,5,1],\n",
    "        [1,4,2],\n",
    "        [1,3,3],\n",
    "        [1,2,4],\n",
    "        [1,1,5],\n",
    "        [6,1,1],\n",
    "        [5,2,1],\n",
    "        [5,1,2],\n",
    "        [4,3,1],\n",
    "        [4,2,2],\n",
    "        [4,1,3],\n",
    "        [3,4,1],\n",
    "        [3,3,2],\n",
    "        [3,2,3],\n",
    "        [3,1,4],\n",
    "        [2,5,1],\n",
    "        [2,4,2],\n",
    "        [2,3,3],\n",
    "        [2,2,4],\n",
    "        [2,1,5],\n",
    "        [1,6,1],\n",
    "        [1,5,2],\n",
    "        [1,4,3],\n",
    "        [1,3,4],\n",
    "        [1,2,5],\n",
    "        [1,1,6]]"
   ]
  },
  {
   "cell_type": "code",
   "execution_count": 32,
   "metadata": {
    "tags": []
   },
   "outputs": [
    {
     "output_type": "stream",
     "name": "stdout",
     "text": "2\n6\n2\n3\n12\n9\n12\n2\n3\n4\n20\n24\n30\n12\n18\n20\n2\n3\n4\n5\n30\n50\n60\n40\n60\n60\n15\n24\n30\n30\n2\n3\n4\n5\n6\n42\n90\n105\n100\n150\n140\n60\n100\n120\n105\n18\n30\n40\n45\n42\n2\n3\n4\n5\n6\n7\n"
    }
   ],
   "source": [
    "for drl in demo:\n",
    "    print(get_coeff(drl[0], drl[1], drl[2]))"
   ]
  },
  {
   "cell_type": "code",
   "execution_count": null,
   "metadata": {},
   "outputs": [],
   "source": []
  },
  {
   "source": [
    "# Large inputs"
   ],
   "cell_type": "markdown",
   "metadata": {}
  },
  {
   "cell_type": "code",
   "execution_count": 111,
   "metadata": {},
   "outputs": [
    {
     "output_type": "execute_result",
     "data": {
      "text/plain": "(101,\n [18200251445876759514246239592574316938775422524758080705105320,\n  9054851465610328116540417707748416387450458967541333684132000,\n  90548514656103281165404177077484163874504589675413336841319,\n  9054851465610328116540417707748416387450458967541333684121900,\n  10000])"
     },
     "metadata": {},
     "execution_count": 111
    }
   ],
   "source": [
    "get_coeff(1, 100, 100)"
   ]
  },
  {
   "cell_type": "code",
   "execution_count": null,
   "metadata": {},
   "outputs": [],
   "source": []
  },
  {
   "source": [
    "## Check values that the algorithm holds"
   ],
   "cell_type": "markdown",
   "metadata": {}
  },
  {
   "cell_type": "code",
   "execution_count": 119,
   "metadata": {},
   "outputs": [],
   "source": [
    "@functools.lru_cache(maxsize=None)\n",
    "def a(n):\n",
    "    if n >= 2: \n",
    "        return 3*a(n-1) - a(n-2)\n",
    "    else:\n",
    "        return 1"
   ]
  },
  {
   "cell_type": "code",
   "execution_count": 120,
   "metadata": {
    "tags": []
   },
   "outputs": [],
   "source": [
    "# 1, 2, 5, 13, 34, 89, 233, 64\n",
    "\n",
    "def verify_permutation_algorithm(cap):\n",
    "    tot = 0\n",
    "    for p1 in range(1, cap + 1):\n",
    "        for p2 in range(0, (cap - p1 + 1)):\n",
    "            p3 = cap - p1 - p2\n",
    "            tot += get_coeff(p1,p2,p3)[0]\n",
    "            # print(p1, p2, p3, get_coeff(p1,p2,p3))\n",
    "    tot += get_coeff(0,0,1)[0]\n",
    "\n",
    "    return(a(cap + 1) == tot)"
   ]
  },
  {
   "cell_type": "code",
   "execution_count": 135,
   "metadata": {
    "tags": []
   },
   "outputs": [
    {
     "output_type": "stream",
     "name": "stdout",
     "text": "200 True\n"
    }
   ],
   "source": [
    "for i in range(200,201):\n",
    "    print(i, verify_permutation_algorithm(i))"
   ]
  }
 ],
 "metadata": {
  "kernelspec": {
   "display_name": "Python 3",
   "language": "python",
   "name": "python3"
  },
  "language_info": {
   "codemirror_mode": {
    "name": "ipython",
    "version": 3
   },
   "file_extension": ".py",
   "mimetype": "text/x-python",
   "name": "python",
   "nbconvert_exporter": "python",
   "pygments_lexer": "ipython3",
   "version": "3.8.1-final"
  }
 },
 "nbformat": 4,
 "nbformat_minor": 2
}