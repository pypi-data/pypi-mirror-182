{
 "cells": [
  {
   "cell_type": "markdown",
   "metadata": {},
   "source": [
    "## Server behaviours in healthcare"
   ]
  },
  {
   "cell_type": "markdown",
   "metadata": {},
   "source": [
    "![alt text](bin/Server_behaviours_paper_distribution.png \"Servers\")"
   ]
  },
  {
   "cell_type": "markdown",
   "metadata": {},
   "source": [
    "### Data:\n",
    "- $n = 4832$\n",
    "- Data from one shift (8am - 4pm)\n",
    "- Data for urget patients (this category has the most number of attendees)\n",
    "\n",
    "### Service rate \\& workoload:\n",
    "- Low workload levels to moderate - Service times decrease\n",
    "- Moderate to high workload levels - Service times stabilise\n",
    "- Moderate to low workload levels - Service times increase\n",
    "\n",
    "### Two-speed model:\n",
    "\n",
    "- **Number of servers**: C = 1\n",
    "- **Arrival rate**: $λ = 1 / 92$\n",
    "- **Service rate**: $μ_1 = 1/86, \\quad μ_2 = 1/62$\n",
    "- **Two-speed model**: \n",
    "$$\n",
    "μ = μ_1 \\text{ if queue size } < 7 \\\\\n",
    "μ = μ_2 \\text{ if queue size } \\geq 7\n",
    "$$"
   ]
  },
  {
   "cell_type": "code",
   "execution_count": 1,
   "metadata": {},
   "outputs": [],
   "source": [
    "import random\n",
    "\n",
    "import matplotlib.pyplot as plt\n",
    "import numpy as np\n",
    "\n",
    "import ambulance_game as abg"
   ]
  },
  {
   "cell_type": "markdown",
   "metadata": {},
   "source": [
    "## Apply two-speed model logic"
   ]
  },
  {
   "cell_type": "code",
   "execution_count": 2,
   "metadata": {},
   "outputs": [],
   "source": [
    "arrival_rate = 1 / 92\n",
    "service_rate_1 = 1 / 86\n",
    "service_rate_2 = 1 / 62"
   ]
  },
  {
   "cell_type": "code",
   "execution_count": 3,
   "metadata": {},
   "outputs": [],
   "source": [
    "lambda_2 = 0            # No ambulance arrivals\n",
    "\n",
    "lambda_1 = 1 / 92       # Other individuals arrival rate\n",
    "num_of_servers = 1      # Number of servers (doctors)\n",
    "threshold=float('inf')  # No need for threshold since λ_2 = 0 \n",
    "system_capacity = 100   # artificial system capacity\n",
    "buffer_capacity = 100   # artificial buffer capacity\n",
    "\n",
    "target = 2"
   ]
  },
  {
   "cell_type": "code",
   "execution_count": 4,
   "metadata": {},
   "outputs": [],
   "source": [
    "rates = {}\n",
    "for server in range(1, num_of_servers + 1):\n",
    "    rates[server] = {}\n",
    "    for u in range(buffer_capacity + 1):\n",
    "        for v in range(system_capacity + 1):\n",
    "            mu = service_rate_1 if v < 7 else service_rate_2\n",
    "            rates[server][(u, v)] = mu"
   ]
  },
  {
   "cell_type": "markdown",
   "metadata": {},
   "source": [
    "#### Find values for system_capacity (hospital servers + waiting space) and buffer_capacity (parking space)"
   ]
  },
  {
   "cell_type": "code",
   "execution_count": 141,
   "metadata": {},
   "outputs": [
    {
     "name": "stdout",
     "output_type": "stream",
     "text": [
      "Max number of people in the model: 30\n"
     ]
    }
   ],
   "source": [
    "Qs = abg.simulation.simulate_model(\n",
    "    lambda_1=lambda_1, \n",
    "    lambda_2=lambda_2, \n",
    "    mu=rates, \n",
    "    num_of_servers=num_of_servers, \n",
    "    threshold=threshold, \n",
    "    system_capacity=float('inf'), \n",
    "    buffer_capacity=float('inf'),\n",
    "    runtime=100000,\n",
    "    num_of_trials=100,\n",
    "    seed_num=0,\n",
    ")\n",
    "if type(Qs) is not list:\n",
    "    Qs = [Qs]\n",
    "print(\"Max number of people in the model:\", max([max([v for (_, v) in Q.statetracker.state_probabilities().keys()]) for Q in Qs]))"
   ]
  },
  {
   "cell_type": "markdown",
   "metadata": {},
   "source": [
    "## Service rates\n",
    "Set the service rates such that for all states $(u,v)$:\n",
    "$$\n",
    "μ = μ_1 \\text{ if } v < 7 \\\\\n",
    "μ = μ_2 \\text{ if } v \\geq 7\n",
    "$$"
   ]
  },
  {
   "cell_type": "code",
   "execution_count": 5,
   "metadata": {},
   "outputs": [],
   "source": [
    "system_capapcity = 35\n",
    "buffer_capacity = 1\n",
    "\n",
    "rates = {}\n",
    "for server in range(1, num_of_servers + 1):\n",
    "    rates[server] = {}\n",
    "    for u in range(buffer_capacity + 1):\n",
    "        for v in range(system_capacity + 1):\n",
    "            mu = service_rate_1 if v < 7 else service_rate_2\n",
    "            rates[server][(u, v)] = mu"
   ]
  },
  {
   "cell_type": "code",
   "execution_count": 7,
   "metadata": {},
   "outputs": [],
   "source": [
    "Q = abg.simulation.simulate_model(\n",
    "    lambda_1=lambda_1, \n",
    "    lambda_2=lambda_2, \n",
    "    mu=rates, \n",
    "    num_of_servers=num_of_servers, \n",
    "    threshold=threshold, \n",
    "    system_capacity=system_capacity, \n",
    "    buffer_capacity=buffer_capacity,\n",
    "    runtime=100000,\n",
    "    num_of_trials=100,\n",
    "    seed_num=0,\n",
    ")\n",
    "if type(Q) is not list:\n",
    "    Q = [Q]"
   ]
  },
  {
   "cell_type": "code",
   "execution_count": 8,
   "metadata": {},
   "outputs": [
    {
     "data": {
      "text/plain": [
       "307.0772905561477"
      ]
     },
     "execution_count": 8,
     "metadata": {},
     "output_type": "execute_result"
    }
   ],
   "source": [
    "all_sim_recs = [sim.get_all_records() for sim in Q]\n",
    "mean_wait = np.mean([np.mean([r.waiting_time for r in recs if r.arrival_date > 100 and r.node == 2]) for recs in all_sim_recs])\n",
    "mean_wait"
   ]
  },
  {
   "cell_type": "markdown",
   "metadata": {},
   "source": [
    "## Modified model for ambulances\n",
    "\n",
    "- Set a parameter $p$ for ambualnce proportion s.t. $λ_2 = p × Λ, \\quad λ_1 = (1-p) × Λ$\n",
    "- Also divide the general service rate among the number of servers we have"
   ]
  },
  {
   "cell_type": "code",
   "execution_count": 9,
   "metadata": {},
   "outputs": [],
   "source": [
    "ambulance_proportion = 0.6\n",
    "arrival_rate = 1 / 92\n",
    "\n",
    "service_rate_1 = 1 / 86\n",
    "service_rate_2 = 1 / 62"
   ]
  },
  {
   "cell_type": "code",
   "execution_count": 10,
   "metadata": {},
   "outputs": [],
   "source": [
    "num_of_servers = 4\n",
    "arrival_rate = num_of_servers * arrival_rate\n",
    "\n",
    "lambda_2 = ambulance_proportion * arrival_rate\n",
    "lambda_1 = (1 - ambulance_proportion) * arrival_rate\n",
    "\n",
    "threshold = 10\n",
    "system_capapcity = 35\n",
    "buffer_capacity = 20"
   ]
  },
  {
   "cell_type": "code",
   "execution_count": 11,
   "metadata": {},
   "outputs": [],
   "source": [
    "rates = {}\n",
    "for server in range(1, num_of_servers + 1):\n",
    "    rates[server] = {}\n",
    "    for u in range(buffer_capacity + 1):\n",
    "        for v in range(system_capacity + 1):\n",
    "            mu = service_rate_1 if (u + v) < 7 else service_rate_2\n",
    "            rates[server][(u, v)] = mu"
   ]
  },
  {
   "cell_type": "markdown",
   "metadata": {},
   "source": [
    "## Team make-up\n",
    "Team characteristics = (*Experienced*, *Moderate*, *Moderate*, *Intern*)"
   ]
  },
  {
   "cell_type": "code",
   "execution_count": 12,
   "metadata": {},
   "outputs": [],
   "source": [
    "def random_prioirity(srv, ind):\n",
    "    if srv.id_number == 1:  # Assign patient to Experienced if available\n",
    "        return 0\n",
    "    if srv.id_number == 2:  # Assign patient to Intern only if everyone else is unavailable\n",
    "        return 1\n",
    "    return random.random()\n",
    "\n",
    "# Make server 1 slightly faster\n",
    "for u in range(buffer_capacity + 1):\n",
    "    for v in range(system_capapcity + 1):\n",
    "        rates[1][(u, v)] = rates[1][(u, v)] * 1.2\n",
    "\n",
    "# Make server 2 slightly slower\n",
    "for u in range(buffer_capacity + 1):\n",
    "    for v in range(system_capapcity + 1):\n",
    "        rates[2][(u, v)] = rates[2][(u, v)] * 0.8"
   ]
  },
  {
   "cell_type": "markdown",
   "metadata": {},
   "source": [
    "## Run simulation"
   ]
  },
  {
   "cell_type": "code",
   "execution_count": 13,
   "metadata": {},
   "outputs": [],
   "source": [
    "# random.seed(11)\n",
    "runtime=100000\n",
    "Q = abg.simulation.simulate_model(\n",
    "    lambda_1=lambda_1, \n",
    "    lambda_2=lambda_2, \n",
    "    mu=rates, \n",
    "    num_of_servers=num_of_servers, \n",
    "    threshold=threshold, \n",
    "    system_capacity=system_capacity, \n",
    "    buffer_capacity=buffer_capacity,\n",
    "    runtime=runtime,\n",
    "    num_of_trials=1,\n",
    "    seed_num=0,\n",
    "    server_priority_function=random_prioirity,\n",
    ")"
   ]
  },
  {
   "cell_type": "markdown",
   "metadata": {},
   "source": [
    "## Useful outputs"
   ]
  },
  {
   "cell_type": "code",
   "execution_count": 47,
   "metadata": {},
   "outputs": [],
   "source": [
    "# Utilisation\n",
    "all_utilisations = [util / Q.current_time for util in Q.nodes[2].all_servers_busy]\n",
    "\n",
    "# Proportion of individuals served\n",
    "all_individuals = len(Q.nodes[-1].all_individuals)\n",
    "served_proportions = [len(srv.served_inds) / all_individuals for srv in Q.nodes[2].servers]\n",
    "\n",
    "# Mean service times\n",
    "service_times = [np.mean(srv.service_times) for srv in Q.nodes[2].servers]"
   ]
  },
  {
   "cell_type": "code",
   "execution_count": 48,
   "metadata": {},
   "outputs": [
    {
     "name": "stdout",
     "output_type": "stream",
     "text": [
      "Id\t Utilisation\t Prop. Served\t Service time\n",
      "1 \t 87.233 \t 33.089 \t 62.444\n",
      "2 \t 78.441 \t 18.154 \t 102.296\n",
      "3 \t 82.507 \t 24.568 \t 79.555\n",
      "4 \t 83.546 \t 24.284 \t 81.506\n"
     ]
    }
   ],
   "source": [
    "print(\"Id\\t Utilisation\\t Prop. Served\\t Service time\")\n",
    "for index, server in enumerate(Q.nodes[2].servers):\n",
    "    print(server.id_number, \"\\t\", round(100 * all_utilisations[index], 3), \"\\t\", round(100 * served_proportions[index], 3), \"\\t\", round(service_times[index], 3))"
   ]
  },
  {
   "cell_type": "markdown",
   "metadata": {},
   "source": [
    "## Utility function 1\n",
    "\n",
    "$$\n",
    "U_k = e (\\text{\\# served}) + (1-e) (\\text{idle time})\n",
    "$$"
   ]
  },
  {
   "cell_type": "code",
   "execution_count": 34,
   "metadata": {},
   "outputs": [],
   "source": [
    "def utility_function_1(Q, server, rates, e_parameter=0.5):\n",
    "    individuals = len(server.served_inds)\n",
    "    idle_time = Q.current_time - server.busy_time\n",
    "    return e_parameter * individuals + (1 - e_parameter) * idle_time"
   ]
  },
  {
   "cell_type": "code",
   "execution_count": 35,
   "metadata": {},
   "outputs": [
    {
     "name": "stdout",
     "output_type": "stream",
     "text": [
      "\t\t\tIdle time ---------------------------------------------------------------- Served inds\n",
      "\t\t\t e=0\te=0.1\te=0.2\te=0.3\te=0.4\te=0.5\te=0.6\te=0.7\te=0.8\te=0.9\t e=1\n",
      "\t\t\t=======================================================================================\n",
      "Server 1 utilities:\t12767.9\t11631.0\t10494.0\t9357.0\t8220.0\t7083.0\t5946.0\t4809.0\t3672.0\t2535.0\t1398.0 \n",
      "Server 2 utilities:\t21561.6\t19482.2\t17402.7\t15323.3\t13243.8\t11164.3\t9084.9\t7005.4\t4925.9\t2846.5\t767.0 \n",
      "Server 3 utilities:\t17495.3\t15849.5\t14203.8\t12558.1\t10912.4\t9266.6\t7620.9\t5975.2\t4329.5\t2683.7\t1038.0 \n",
      "Server 4 utilities:\t16455.6\t14912.6\t13369.7\t11826.7\t10283.8\t8740.8\t7197.8\t5654.9\t4111.9\t2569.0\t1026.0 \n"
     ]
    }
   ],
   "source": [
    "A = np.zeros((4,11))\n",
    "print(\"\\t\\t\\tIdle time ---------------------------------------------------------------- Served inds\")\n",
    "print(\"\\t\\t\\t e=0\\te=0.1\\te=0.2\\te=0.3\\te=0.4\\te=0.5\\te=0.6\\te=0.7\\te=0.8\\te=0.9\\t e=1\")\n",
    "print(\"\\t\\t\\t=======================================================================================\")\n",
    "for server in Q.nodes[2].servers:\n",
    "    print(f\"Server {server.id_number} utilities:\", end=\"\")\n",
    "    for e_par in np.linspace(0, 1, 11):\n",
    "        print(f\"\\t{round(utility_function_1(Q, server, rates, e_parameter=e_par), 1)}\", end=\"\")\n",
    "        A[server.id_number - 1, int(e_par * 10)] = utility_function_1(Q, server, rates, e_parameter=e_par)\n",
    "    print(\" \")"
   ]
  },
  {
   "cell_type": "code",
   "execution_count": 36,
   "metadata": {},
   "outputs": [
    {
     "data": {
      "text/plain": [
       "<matplotlib.colorbar.Colorbar at 0x2392915f310>"
      ]
     },
     "execution_count": 36,
     "metadata": {},
     "output_type": "execute_result"
    },
    {
     "data": {
      "image/png": "[encoded data removed]",
      "text/plain": [
       "<Figure size 1440x504 with 2 Axes>"
      ]
     },
     "metadata": {
      "needs_background": "light"
     },
     "output_type": "display_data"
    }
   ],
   "source": [
    "plt.figure(figsize=(20, 7))\n",
    "plt.imshow(A, cmap=\"cividis\")\n",
    "plt.title(\"(Idle time)\" + 85 * \" \" + \"Utilities\" + 85 * \" \" + \"(Served Individuals)\")\n",
    "plt.ylabel(\"Server\")\n",
    "plt.xlabel(\"e parameter\")\n",
    "plt.colorbar()"
   ]
  },
  {
   "cell_type": "markdown",
   "metadata": {},
   "source": [
    "## Utility function 2\n",
    "$$\n",
    "    U_k = e \\frac{\\text{\\# served}}{\\text{\\# all individuals}} + (1 - e) \\frac{\\text{current time - busy time}}{\\text{current time}}\n",
    "$$"
   ]
  },
  {
   "cell_type": "code",
   "execution_count": 37,
   "metadata": {},
   "outputs": [],
   "source": [
    "def utility_function_2(Q, server, rates, e_parameter=0.5):\n",
    "    individuals = len(server.served_inds) / len(Q.nodes[-1].all_individuals)\n",
    "    idle_prop = (Q.current_time - server.busy_time) / Q.current_time\n",
    "    return e_parameter * individuals + (1 - e_parameter) * idle_prop"
   ]
  },
  {
   "cell_type": "code",
   "execution_count": 38,
   "metadata": {},
   "outputs": [
    {
     "name": "stdout",
     "output_type": "stream",
     "text": [
      "\t\t\tIdle time ---------------------------------------------------------------- Served inds\n",
      "\t\t\t  e=0\te=0.1\te=0.2\te=0.3\te=0.4\te=0.5\te=0.6\te=0.7\te=0.8\te=0.9\t e=1\n",
      "\t\t\t=======================================================================================\n",
      "Server 1 utilities:\t0.1277\t0.148\t0.1683\t0.1886\t0.209\t0.2293\t0.2496\t0.2699\t0.2902\t0.3106\t0.3309 \n",
      "Server 2 utilities:\t0.2156\t0.2122\t0.2088\t0.2054\t0.202\t0.1986\t0.1952\t0.1918\t0.1883\t0.1849\t0.1815 \n",
      "Server 3 utilities:\t0.1749\t0.182\t0.1891\t0.1962\t0.2032\t0.2103\t0.2174\t0.2245\t0.2315\t0.2386\t0.2457 \n",
      "Server 4 utilities:\t0.1645\t0.1724\t0.1802\t0.188\t0.1959\t0.2037\t0.2115\t0.2193\t0.2272\t0.235\t0.2428 \n"
     ]
    }
   ],
   "source": [
    "B = np.zeros((4,11))\n",
    "print(\"\\t\\t\\tIdle time ---------------------------------------------------------------- Served inds\")\n",
    "print(\"\\t\\t\\t  e=0\\te=0.1\\te=0.2\\te=0.3\\te=0.4\\te=0.5\\te=0.6\\te=0.7\\te=0.8\\te=0.9\\t e=1\")\n",
    "print(\"\\t\\t\\t=======================================================================================\")\n",
    "for server in Q.nodes[2].servers:\n",
    "    print(f\"Server {server.id_number} utilities:\", end=\"\")\n",
    "    for e_par in np.linspace(0, 1, 11):\n",
    "        print(f\"\\t{round(utility_function_2(Q, server, rates, e_parameter=e_par), 4)}\", end=\"\")\n",
    "        B[server.id_number - 1, int(e_par * 10)] = utility_function_2(Q, server, rates, e_parameter=e_par)\n",
    "    print(\" \")"
   ]
  },
  {
   "cell_type": "code",
   "execution_count": 39,
   "metadata": {},
   "outputs": [
    {
     "data": {
      "text/plain": [
       "<matplotlib.colorbar.Colorbar at 0x239298f8cd0>"
      ]
     },
     "execution_count": 39,
     "metadata": {},
     "output_type": "execute_result"
    },
    {
     "data": {
      "image/png": "[encoded data removed]",
      "text/plain": [
       "<Figure size 1440x504 with 2 Axes>"
      ]
     },
     "metadata": {
      "needs_background": "light"
     },
     "output_type": "display_data"
    }
   ],
   "source": [
    "plt.figure(figsize=(20, 7))\n",
    "plt.imshow(B, cmap=\"cividis\")\n",
    "plt.title(\"(Idle time)\" + 85 * \" \" + \"Utilities\" + 85 * \" \" + \"(Served Individuals)\")\n",
    "plt.ylabel(\"Server\")\n",
    "plt.xlabel(\"e parameter\")\n",
    "plt.colorbar()"
   ]
  },
  {
   "cell_type": "markdown",
   "metadata": {},
   "source": [
    "## Utility function 3\n",
    "$$\n",
    "    U_k = e (\\text{mean service time})_k + (1 - e) (\\text{idle time})_k\n",
    "$$"
   ]
  },
  {
   "cell_type": "code",
   "execution_count": 83,
   "metadata": {},
   "outputs": [],
   "source": [
    "def utility_function_3(Q, server, rates, e_parameter=0.5):\n",
    "    server_rates = np.mean(server.service_times)\n",
    "    idle_time = (Q.current_time - server.busy_time) / Q.current_time\n",
    "    return e_parameter * server_rates + (1 - e_parameter) * idle_time"
   ]
  },
  {
   "cell_type": "code",
   "execution_count": 86,
   "metadata": {},
   "outputs": [
    {
     "name": "stdout",
     "output_type": "stream",
     "text": [
      "\t\t\tIdle time ---------------------------------------------------------------- Service time\n",
      "\t\t\t  e=0\te=0.1\te=0.2\te=0.3\te=0.4\te=0.5\te=0.6\te=0.7\te=0.8\te=0.9\t e=1\n",
      "\t\t\t=======================================================================================\n",
      "Server 1 utilities:\t0.1277\t6.3593\t12.591\t18.8227\t25.0543\t31.286\t37.5176\t43.7493\t49.981\t56.2126\t62.4443 \n",
      "Server 2 utilities:\t0.2156\t10.4236\t20.6316\t30.8396\t41.0476\t51.2555\t61.4635\t71.6715\t81.8795\t92.0875\t102.2955 \n",
      "Server 3 utilities:\t0.1749\t8.113\t16.051\t23.9891\t31.9271\t39.8652\t47.8032\t55.7413\t63.6794\t71.6174\t79.5555 \n",
      "Server 4 utilities:\t0.1645\t8.2987\t16.4328\t24.567\t32.7011\t40.8353\t48.9694\t57.1035\t65.2377\t73.3718\t81.506 \n"
     ]
    }
   ],
   "source": [
    "C = np.zeros((4,11))\n",
    "print(\"\\t\\t\\tIdle time ---------------------------------------------------------------- Service time\")\n",
    "print(\"\\t\\t\\t  e=0\\te=0.1\\te=0.2\\te=0.3\\te=0.4\\te=0.5\\te=0.6\\te=0.7\\te=0.8\\te=0.9\\t e=1\")\n",
    "print(\"\\t\\t\\t=======================================================================================\")\n",
    "for server in Q.nodes[2].servers:\n",
    "    print(f\"Server {server.id_number} utilities:\", end=\"\")\n",
    "    for e_par in np.linspace(0, 1, 11):\n",
    "        print(f\"\\t{round(utility_function_3(Q, server, rates, e_parameter=e_par), 4)}\", end=\"\")\n",
    "        C[server.id_number - 1, int(e_par * 10)] = utility_function_3(Q, server, rates, e_parameter=e_par)\n",
    "    print(\" \")"
   ]
  },
  {
   "cell_type": "code",
   "execution_count": 85,
   "metadata": {},
   "outputs": [
    {
     "data": {
      "text/plain": [
       "<matplotlib.colorbar.Colorbar at 0x262ad0240a0>"
      ]
     },
     "execution_count": 85,
     "metadata": {},
     "output_type": "execute_result"
    },
    {
     "data": {
      "image/png": "[encoded data removed]",
      "text/plain": [
       "<Figure size 1440x504 with 2 Axes>"
      ]
     },
     "metadata": {
      "needs_background": "light"
     },
     "output_type": "display_data"
    }
   ],
   "source": [
    "plt.figure(figsize=(20, 7))\n",
    "plt.imshow(C, cmap=\"cividis\")\n",
    "plt.title(\"(Idle time)\" + 90 * \" \" + \"Utilities\" + 90 * \" \" + \"(Service rate)\")\n",
    "plt.ylabel(\"Server\")\n",
    "plt.xlabel(\"e parameter\")\n",
    "plt.colorbar()"
   ]
  },
  {
   "cell_type": "markdown",
   "metadata": {},
   "source": [
    "## Utility function 4\n",
    "$$\n",
    "    U_k = e (\\frac{1}{\\text{mean service time}_k}) + (1 - e) (\\text{idle time})_k\n",
    "$$"
   ]
  },
  {
   "cell_type": "code",
   "execution_count": 94,
   "metadata": {},
   "outputs": [],
   "source": [
    "def utility_function_4(Q, server, rates, e_parameter=0.5):\n",
    "    server_rates = 1 / np.mean(server.service_times)\n",
    "    idle_time = (Q.current_time - server.busy_time) / Q.current_time\n",
    "    return e_parameter * server_rates + (1 - e_parameter) * idle_time"
   ]
  },
  {
   "cell_type": "code",
   "execution_count": 96,
   "metadata": {},
   "outputs": [
    {
     "name": "stdout",
     "output_type": "stream",
     "text": [
      "\t\t\tIdle time ---------------------------------------------------------------- -Service time\n",
      "\t\t\t  e=0\te=0.1\te=0.2\te=0.3\te=0.4\te=0.5\te=0.6\te=0.7\te=0.8\te=0.9\t e=1\n",
      "\t\t\t=======================================================================================\n",
      "Server 1 utilities:\t0.1277\t6.3593\t12.591\t18.8227\t25.0543\t31.286\t37.5176\t43.7493\t49.981\t56.2126\t62.4443 \n",
      "Server 2 utilities:\t0.2156\t10.4236\t20.6316\t30.8396\t41.0476\t51.2555\t61.4635\t71.6715\t81.8795\t92.0875\t102.2955 \n",
      "Server 3 utilities:\t0.1749\t8.113\t16.051\t23.9891\t31.9271\t39.8652\t47.8032\t55.7413\t63.6794\t71.6174\t79.5555 \n",
      "Server 4 utilities:\t0.1645\t8.2987\t16.4328\t24.567\t32.7011\t40.8353\t48.9694\t57.1035\t65.2377\t73.3718\t81.506 \n"
     ]
    }
   ],
   "source": [
    "C = np.zeros((4,11))\n",
    "print(\"\\t\\t\\tIdle time ---------------------------------------------------------------- -Service time\")\n",
    "print(\"\\t\\t\\t  e=0\\te=0.1\\te=0.2\\te=0.3\\te=0.4\\te=0.5\\te=0.6\\te=0.7\\te=0.8\\te=0.9\\t e=1\")\n",
    "print(\"\\t\\t\\t=======================================================================================\")\n",
    "for server in Q.nodes[2].servers:\n",
    "    print(f\"Server {server.id_number} utilities:\", end=\"\")\n",
    "    for e_par in np.linspace(0, 1, 11):\n",
    "        print(f\"\\t{round(utility_function_3(Q, server, rates, e_parameter=e_par), 4)}\", end=\"\")\n",
    "        C[server.id_number - 1, int(e_par * 10)] = utility_function_4(Q, server, rates, e_parameter=e_par)\n",
    "    print(\" \")"
   ]
  },
  {
   "cell_type": "code",
   "execution_count": 97,
   "metadata": {},
   "outputs": [
    {
     "data": {
      "text/plain": [
       "<matplotlib.colorbar.Colorbar at 0x262ae09d070>"
      ]
     },
     "execution_count": 97,
     "metadata": {},
     "output_type": "execute_result"
    },
    {
     "data": {
      "image/png": "[encoded data removed]",
      "text/plain": [
       "<Figure size 1440x504 with 2 Axes>"
      ]
     },
     "metadata": {
      "needs_background": "light"
     },
     "output_type": "display_data"
    }
   ],
   "source": [
    "plt.figure(figsize=(20, 7))\n",
    "plt.imshow(C, cmap=\"cividis\")\n",
    "plt.title(\"(Idle time)\" + 80 * \" \" + \"Utilities\" + 80 * \" \" + \"(Simulated Service rate)\")\n",
    "plt.ylabel(\"Server\")\n",
    "plt.xlabel(\"e parameter\")\n",
    "plt.colorbar()"
   ]
  },
  {
   "cell_type": "code",
   "execution_count": null,
   "metadata": {},
   "outputs": [],
   "source": []
  },
  {
   "cell_type": "code",
   "execution_count": null,
   "metadata": {},
   "outputs": [],
   "source": []
  }
 ],
 "metadata": {
  "interpreter": {
   "hash": "0ead1484a8a50cf6ea1f432ac325d26c8d3a38903826859924e100b74edf52f8"
  },
  "kernelspec": {
   "display_name": "Python 3.8.1 64-bit ('AmbulanceGame': conda)",
   "language": "python",
   "name": "python3"
  },
  "language_info": {
   "codemirror_mode": {
    "name": "ipython",
    "version": 3
   },
   "file_extension": ".py",
   "mimetype": "text/x-python",
   "name": "python",
   "nbconvert_exporter": "python",
   "pygments_lexer": "ipython3",
   "version": "3.8.12"
  },
  "orig_nbformat": 4
 },
 "nbformat": 4,
 "nbformat_minor": 2
}
