{
 "cells": [
  {
   "cell_type": "markdown",
   "metadata": {},
   "source": [
    "# Server's utility function\n",
    "\n",
    "Each hospital has some numbers servers and each server has its own utility function that aims to maximise. This utility function is defined as:\n",
    "\n",
    "$$\n",
    "U_k^H = e (\\text{\\# served}) + (1-e) (\\text{idle time})\n",
    "$$\n",
    "    - idle time = current time - busy time\n",
    "    - e = importance of # served over idle time\n",
    "    - k = server id\n",
    "    - H = hospital\n",
    "\n",
    "To make the two parameters comparable I used their normalised values where:\n",
    "\n",
    "$$\n",
    "    \\# \\text{served} = \\frac{\\text{\\# served}}{\\text{\\# all individuals}}\n",
    "$$\n",
    "$$\n",
    "    \\text{idle time} = \\frac{\\text{current time - busy time}}{\\text{current time}}\n",
    "$$\n",
    "\n",
    "\n",
    "\n",
    "## Other things that can be done:\n",
    "$$\n",
    "U_k^H = e_k (\\text{\\# served}) + (1-e_k) (\\text{idle time})\n",
    "$$\n",
    "\n",
    "$$\n",
    "    \\# \\text{served} = k \\times \\frac{\\text{\\# served}}{\\text{\\# all individuals}}\n",
    "$$\n",
    "\n",
    "- Think about the relative server speed. Work out for each server the relative speed. \n",
    "- Incorporate fatigue (Use total runtime in idle time formula, somehow)\n",
    "- $e$ can be a function of time that can be different for each server.\n",
    "- Some classes of servers that each have diferent e_functions"
   ]
  },
  {
   "cell_type": "code",
   "execution_count": 1,
   "metadata": {},
   "outputs": [],
   "source": [
    "import random\n",
    "\n",
    "import numpy as np\n",
    "import sympy as sym\n",
    "\n",
    "import ambulance_game as abg"
   ]
  },
  {
   "cell_type": "code",
   "execution_count": 2,
   "metadata": {},
   "outputs": [],
   "source": [
    "def display_server_utilities(Q, utility_functions, e_parameter=0.5):\n",
    "    for index, server in enumerate(Q.nodes[2].servers):\n",
    "        print(\n",
    "            f\"Server {server.id_number}: {utility_functions[index](Q, server, e_parameter=e_parameter)}\"\n",
    "        )"
   ]
  },
  {
   "cell_type": "markdown",
   "metadata": {},
   "source": [
    "## Simulation example\n",
    "- Each server has the its own service rate (not state dependent)\n",
    "- Server $i$ has a service rate of: $μ_i = i + 2$"
   ]
  },
  {
   "cell_type": "code",
   "execution_count": 3,
   "metadata": {},
   "outputs": [],
   "source": [
    "rates = {}\n",
    "for server in range(3):\n",
    "    rates[server + 1] = {(u, v): server + 2 for u in range(2) for v in range(4)\n",
    "}"
   ]
  },
  {
   "cell_type": "code",
   "execution_count": 4,
   "metadata": {},
   "outputs": [],
   "source": [
    "def random_server(srv, ind):\n",
    "    return random.random()\n",
    "\n",
    "Q = abg.simulation.simulate_model(\n",
    "    lambda_2=2, \n",
    "    lambda_1=7,\n",
    "    mu=rates, \n",
    "    num_of_servers=3,\n",
    "    threshold=2, \n",
    "    system_capacity=3,\n",
    "    buffer_capacity=1,\n",
    "    runtime=1000,\n",
    "    seed_num=0,\n",
    "    server_priority_function=random_server,\n",
    ")"
   ]
  },
  {
   "cell_type": "markdown",
   "metadata": {},
   "source": [
    "## Utility function 1"
   ]
  },
  {
   "cell_type": "markdown",
   "metadata": {},
   "source": [
    "$$\n",
    "U_k = e (\\text{\\# served}) + (1-e) (\\text{idle time})\n",
    "$$"
   ]
  },
  {
   "cell_type": "code",
   "execution_count": 25,
   "metadata": {},
   "outputs": [],
   "source": [
    "def utility_function_1(Q, server, e_parameter=0.5):\n",
    "    individuals = len(server.served_inds)\n",
    "    idle_time = Q.current_time - server.busy_time\n",
    "    return e_parameter * individuals + (1 - e_parameter) * idle_time"
   ]
  },
  {
   "cell_type": "code",
   "execution_count": 25,
   "metadata": {},
   "outputs": [
    {
     "name": "stdout",
     "output_type": "stream",
     "text": [
      "Server 1: 856.2787811624771\n",
      "Server 2: 1138.6460411803682\n",
      "Server 3: 1420.442564215299\n"
     ]
    }
   ],
   "source": [
    "display_server_utilities(\n",
    "    Q=Q, \n",
    "    e_parameter=0.5, \n",
    "    utility_functions=[utility_function_1 for _ in range(3)]\n",
    ")"
   ]
  },
  {
   "cell_type": "markdown",
   "metadata": {},
   "source": [
    "## Utility function 2"
   ]
  },
  {
   "cell_type": "markdown",
   "metadata": {},
   "source": [
    "$$\n",
    "    U_k = e \\frac{\\text{\\# served}}{\\text{\\# all individuals}} + (1 - e) \\frac{\\text{current time - busy time}}{\\text{current time}}\n",
    "$$"
   ]
  },
  {
   "cell_type": "code",
   "execution_count": 26,
   "metadata": {},
   "outputs": [],
   "source": [
    "def utility_function_2(Q, server, e_parameter=0.5):\n",
    "    individuals = len(server.served_inds) / len(Q.nodes[-1].all_individuals)\n",
    "    idle_time = (Q.current_time - server.busy_time) / Q.current_time\n",
    "    return e_parameter * individuals + (1 - e_parameter) * idle_time"
   ]
  },
  {
   "cell_type": "code",
   "execution_count": 27,
   "metadata": {},
   "outputs": [
    {
     "name": "stdout",
     "output_type": "stream",
     "text": [
      "Server 1: 0.258744837406165\n",
      "Server 2: 0.3361370904013411\n",
      "Server 3: 0.4092319157568416\n"
     ]
    }
   ],
   "source": [
    "display_server_utilities(\n",
    "    Q=Q, \n",
    "    e_parameter=0.5, \n",
    "    utility_functions=[utility_function_2 for _ in range(3)]\n",
    ")"
   ]
  },
  {
   "cell_type": "markdown",
   "metadata": {},
   "source": [
    "## Utility function 3"
   ]
  },
  {
   "cell_type": "markdown",
   "metadata": {},
   "source": [
    "$$\n",
    "    U_k = e (\\bar{\\mu_k}) + (1 - e) (\\text{idle time})\n",
    "$$"
   ]
  },
  {
   "cell_type": "markdown",
   "metadata": {},
   "source": [
    "- Should that be the mean of the service rates??"
   ]
  },
  {
   "cell_type": "code",
   "execution_count": 7,
   "metadata": {},
   "outputs": [],
   "source": [
    "def utility_function_3(Q, server, e_parameter=0.5):\n",
    "    server_rates = np.mean(list(rates[server.id_number].values()))\n",
    "    idle_time = (Q.current_time - server.busy_time) / Q.current_time\n",
    "    return e_parameter * server_rates + (1 - e_parameter) * idle_time"
   ]
  },
  {
   "cell_type": "code",
   "execution_count": 8,
   "metadata": {},
   "outputs": [
    {
     "name": "stdout",
     "output_type": "stream",
     "text": [
      "Server 1: 1.1347757652412165\n",
      "Server 2: 1.6696422450405164\n",
      "Server 3: 2.1994381013238518\n"
     ]
    }
   ],
   "source": [
    "display_server_utilities(\n",
    "    Q=Q, \n",
    "    e_parameter=0.5,\n",
    "    utility_functions=[utility_function_3 for _ in range(3)]\n",
    ")"
   ]
  },
  {
   "cell_type": "markdown",
   "metadata": {},
   "source": [
    "## Utility function 4"
   ]
  },
  {
   "cell_type": "markdown",
   "metadata": {},
   "source": [
    "$$\n",
    "    U_k = e (\\text{busy time}) + (1 - e) (\\text{idle time})\n",
    "$$"
   ]
  },
  {
   "cell_type": "code",
   "execution_count": null,
   "metadata": {},
   "outputs": [],
   "source": []
  },
  {
   "cell_type": "markdown",
   "metadata": {},
   "source": [
    "# Utility function 7\n",
    "\n",
    "$$\n",
    "    U_k = e (\\text{proportion of inds accepted}) + (1 - e) (\\text{proportion of server idle time})\n",
    "$$"
   ]
  },
  {
   "cell_type": "code",
   "execution_count": 84,
   "metadata": {},
   "outputs": [],
   "source": [
    "def utility_function_7(Qs, server_id, e_parameter=0.5):\n",
    "    server_all_simulations = [Q.nodes[2].servers[server_id - 1] for Q in Qs]\n",
    "    all_lost_individuals = [\n",
    "        len(Q.rejection_dict[1][0]) + len(Q.rejection_dict[2][0]) for Q in Qs\n",
    "    ]\n",
    "    all_accepted_individuals = [\n",
    "        len(Q.nodes[-1].all_individuals) for Q in Qs\n",
    "    ]\n",
    "    \n",
    "    mean_proportion_accepted = np.mean(\n",
    "        [\n",
    "            accepted_inds / (accepted_inds + lost_inds)\n",
    "            for accepted_inds, lost_inds in zip(all_accepted_individuals, all_lost_individuals)\n",
    "        ]\n",
    "    )\n",
    "\n",
    "    idle_proportion = np.mean(\n",
    "        [\n",
    "            (Qs[Q_id].current_time - srv.busy_time) / Qs[Q_id].current_time\n",
    "            for Q_id, srv in enumerate(server_all_simulations)\n",
    "        ]\n",
    "    )\n",
    "    return e_parameter * mean_proportion_accepted + (1 - e_parameter) * idle_proportion"
   ]
  },
  {
   "cell_type": "code",
   "execution_count": 85,
   "metadata": {},
   "outputs": [],
   "source": [
    "def random_server(srv, ind):\n",
    "    return random.random()\n",
    "\n",
    "Q = abg.simulation.simulate_model(\n",
    "    lambda_2=0, \n",
    "    lambda_1=7,\n",
    "    mu=4, \n",
    "    num_of_servers=3,\n",
    "    threshold=2, \n",
    "    system_capacity=10,\n",
    "    buffer_capacity=1,\n",
    "    runtime=1000,\n",
    "    seed_num=0,\n",
    "    server_priority_function=random_server,\n",
    ")"
   ]
  },
  {
   "cell_type": "code",
   "execution_count": 87,
   "metadata": {},
   "outputs": [
    {
     "data": {
      "text/plain": [
       "0.7042416248509114"
      ]
     },
     "execution_count": 87,
     "metadata": {},
     "output_type": "execute_result"
    }
   ],
   "source": [
    "utility_function_7(Qs=[Q], server_id=1, e_parameter=0.5)"
   ]
  },
  {
   "cell_type": "code",
   "execution_count": null,
   "metadata": {},
   "outputs": [],
   "source": []
  },
  {
   "cell_type": "code",
   "execution_count": null,
   "metadata": {},
   "outputs": [],
   "source": []
  },
  {
   "cell_type": "code",
   "execution_count": 68,
   "metadata": {},
   "outputs": [
    {
     "data": {
      "text/plain": [
       "17"
      ]
     },
     "execution_count": 68,
     "metadata": {},
     "output_type": "execute_result"
    }
   ],
   "source": [
    "len(Q.rejection_dict[1][0]) + len(Q.rejection_dict[2][0])"
   ]
  },
  {
   "cell_type": "code",
   "execution_count": 69,
   "metadata": {},
   "outputs": [
    {
     "data": {
      "text/plain": [
       "0.9975814482856736"
      ]
     },
     "execution_count": 69,
     "metadata": {},
     "output_type": "execute_result"
    }
   ],
   "source": [
    "lost_inds = len(Q.rejection_dict[1][0]) + len(Q.rejection_dict[2][0])\n",
    "len(Q.get_all_individuals()) / (lost_inds + len(Q.get_all_individuals()))"
   ]
  },
  {
   "cell_type": "code",
   "execution_count": null,
   "metadata": {},
   "outputs": [],
   "source": []
  },
  {
   "cell_type": "code",
   "execution_count": null,
   "metadata": {},
   "outputs": [],
   "source": []
  }
 ],
 "metadata": {
  "interpreter": {
   "hash": "0ead1484a8a50cf6ea1f432ac325d26c8d3a38903826859924e100b74edf52f8"
  },
  "kernelspec": {
   "display_name": "Python 3.8.1 64-bit ('AmbulanceGame': conda)",
   "language": "python",
   "name": "python3"
  },
  "language_info": {
   "codemirror_mode": {
    "name": "ipython",
    "version": 3
   },
   "file_extension": ".py",
   "mimetype": "text/x-python",
   "name": "python",
   "nbconvert_exporter": "python",
   "pygments_lexer": "ipython3",
   "version": "3.8.12"
  },
  "orig_nbformat": 4
 },
 "nbformat": 4,
 "nbformat_minor": 2
}
