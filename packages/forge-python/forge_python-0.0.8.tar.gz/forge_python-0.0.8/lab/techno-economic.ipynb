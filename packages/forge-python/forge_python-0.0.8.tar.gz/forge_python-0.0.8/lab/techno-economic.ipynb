{
 "cells": [
  {
   "cell_type": "code",
   "execution_count": 2,
   "id": "b434c6c4",
   "metadata": {},
   "outputs": [
    {
     "name": "stdout",
     "output_type": "stream",
     "text": [
      "Collecting forge-python==0.0.7\n",
      "  Downloading forge_python-0.0.7-py3-none-any.whl (9.6 kB)\n",
      "Requirement already satisfied: numpy>=1.20.1 in /Library/Frameworks/Python.framework/Versions/3.11/lib/python3.11/site-packages (from forge-python==0.0.7) (1.23.5)\n",
      "Requirement already satisfied: pandas>=1.2.3 in /Library/Frameworks/Python.framework/Versions/3.11/lib/python3.11/site-packages (from forge-python==0.0.7) (1.5.2)\n",
      "Requirement already satisfied: requests>=2.25.1 in /Library/Frameworks/Python.framework/Versions/3.11/lib/python3.11/site-packages (from forge-python==0.0.7) (2.28.1)\n",
      "Requirement already satisfied: rich>=9.11.0 in /Library/Frameworks/Python.framework/Versions/3.11/lib/python3.11/site-packages (from forge-python==0.0.7) (12.6.0)\n",
      "Requirement already satisfied: python-dateutil>=2.8.1 in /Library/Frameworks/Python.framework/Versions/3.11/lib/python3.11/site-packages (from pandas>=1.2.3->forge-python==0.0.7) (2.8.2)\n",
      "Requirement already satisfied: pytz>=2020.1 in /Library/Frameworks/Python.framework/Versions/3.11/lib/python3.11/site-packages (from pandas>=1.2.3->forge-python==0.0.7) (2022.6)\n",
      "Requirement already satisfied: charset-normalizer<3,>=2 in /Library/Frameworks/Python.framework/Versions/3.11/lib/python3.11/site-packages (from requests>=2.25.1->forge-python==0.0.7) (2.1.1)\n",
      "Requirement already satisfied: idna<4,>=2.5 in /Library/Frameworks/Python.framework/Versions/3.11/lib/python3.11/site-packages (from requests>=2.25.1->forge-python==0.0.7) (3.4)\n",
      "Requirement already satisfied: urllib3<1.27,>=1.21.1 in /Library/Frameworks/Python.framework/Versions/3.11/lib/python3.11/site-packages (from requests>=2.25.1->forge-python==0.0.7) (1.26.13)\n",
      "Requirement already satisfied: certifi>=2017.4.17 in /Library/Frameworks/Python.framework/Versions/3.11/lib/python3.11/site-packages (from requests>=2.25.1->forge-python==0.0.7) (2022.9.24)\n",
      "Requirement already satisfied: commonmark<0.10.0,>=0.9.0 in /Library/Frameworks/Python.framework/Versions/3.11/lib/python3.11/site-packages (from rich>=9.11.0->forge-python==0.0.7) (0.9.1)\n",
      "Requirement already satisfied: pygments<3.0.0,>=2.6.0 in /Library/Frameworks/Python.framework/Versions/3.11/lib/python3.11/site-packages (from rich>=9.11.0->forge-python==0.0.7) (2.13.0)\n",
      "Requirement already satisfied: six>=1.5 in /Library/Frameworks/Python.framework/Versions/3.11/lib/python3.11/site-packages (from python-dateutil>=2.8.1->pandas>=1.2.3->forge-python==0.0.7) (1.16.0)\n",
      "Installing collected packages: forge-python\n",
      "  Attempting uninstall: forge-python\n",
      "    Found existing installation: forge-python 0.0.6\n",
      "    Uninstalling forge-python-0.0.6:\n",
      "      Successfully uninstalled forge-python-0.0.6\n",
      "Successfully installed forge-python-0.0.7\n",
      "Note: you may need to restart the kernel to use updated packages.\n"
     ]
    }
   ],
   "source": [
    "pip install forge-python==0.0.7"
   ]
  },
  {
   "cell_type": "code",
   "execution_count": 3,
   "id": "28437431",
   "metadata": {},
   "outputs": [
    {
     "ename": "ModuleNotFoundError",
     "evalue": "No module named 'forge_python'",
     "output_type": "error",
     "traceback": [
      "\u001b[0;31m---------------------------------------------------------------------------\u001b[0m",
      "\u001b[0;31mModuleNotFoundError\u001b[0m                       Traceback (most recent call last)",
      "Cell \u001b[0;32mIn[3], line 1\u001b[0m\n\u001b[0;32m----> 1\u001b[0m \u001b[39mfrom\u001b[39;00m \u001b[39mforge_python\u001b[39;00m \u001b[39mimport\u001b[39;00m forge\n\u001b[1;32m      2\u001b[0m sensor \u001b[39m=\u001b[39m forge\u001b[39m.\u001b[39msensor()\n\u001b[1;32m      3\u001b[0m sensor\u001b[39m.\u001b[39mauthenticate(\u001b[39m\"\u001b[39m\u001b[39md1805592-64d8-4b70-8420-65276da5e37c\u001b[39m\u001b[39m\"\u001b[39m)\n",
      "\u001b[0;31mModuleNotFoundError\u001b[0m: No module named 'forge_python'"
     ]
    }
   ],
   "source": [
    "from forge_python import forge\n",
    "sensor = forge.sensor()\n",
    "sensor.authenticate(\"d1805592-64d8-4b70-8420-65276da5e37c\")\n",
    "sensor.send({'temperature': 95.5})\n"
   ]
  }
 ],
 "metadata": {
  "kernelspec": {
   "display_name": "Python 3.11.0 64-bit",
   "language": "python",
   "name": "python3"
  },
  "language_info": {
   "codemirror_mode": {
    "name": "ipython",
    "version": 3
   },
   "file_extension": ".py",
   "mimetype": "text/x-python",
   "name": "python",
   "nbconvert_exporter": "python",
   "pygments_lexer": "ipython3",
   "version": "3.11.0"
  },
  "vscode": {
   "interpreter": {
    "hash": "aee8b7b246df8f9039afb4144a1f6fd8d2ca17a180786b69acc140d282b71a49"
   }
  }
 },
 "nbformat": 4,
 "nbformat_minor": 5
}
