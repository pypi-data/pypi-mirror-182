{
 "cells": [
  {
   "cell_type": "code",
   "execution_count": 6,
   "id": "b434c6c4",
   "metadata": {},
   "outputs": [
    {
     "name": "stdout",
     "output_type": "stream",
     "text": [
      "Collecting forge-python==0.0.11\n",
      "  Downloading forge_python-0.0.11-py3-none-any.whl (10 kB)\n",
      "Requirement already satisfied: numpy>=1.20.1 in /Library/Frameworks/Python.framework/Versions/3.11/lib/python3.11/site-packages (from forge-python==0.0.11) (1.23.5)\n",
      "Requirement already satisfied: pandas>=1.2.3 in /Library/Frameworks/Python.framework/Versions/3.11/lib/python3.11/site-packages (from forge-python==0.0.11) (1.5.2)\n",
      "Requirement already satisfied: requests>=2.25.1 in /Library/Frameworks/Python.framework/Versions/3.11/lib/python3.11/site-packages (from forge-python==0.0.11) (2.28.1)\n",
      "Requirement already satisfied: rich>=9.11.0 in /Library/Frameworks/Python.framework/Versions/3.11/lib/python3.11/site-packages (from forge-python==0.0.11) (12.6.0)\n",
      "Requirement already satisfied: python-dateutil>=2.8.1 in /Library/Frameworks/Python.framework/Versions/3.11/lib/python3.11/site-packages (from pandas>=1.2.3->forge-python==0.0.11) (2.8.2)\n",
      "Requirement already satisfied: pytz>=2020.1 in /Library/Frameworks/Python.framework/Versions/3.11/lib/python3.11/site-packages (from pandas>=1.2.3->forge-python==0.0.11) (2022.6)\n",
      "Requirement already satisfied: charset-normalizer<3,>=2 in /Library/Frameworks/Python.framework/Versions/3.11/lib/python3.11/site-packages (from requests>=2.25.1->forge-python==0.0.11) (2.1.1)\n",
      "Requirement already satisfied: idna<4,>=2.5 in /Library/Frameworks/Python.framework/Versions/3.11/lib/python3.11/site-packages (from requests>=2.25.1->forge-python==0.0.11) (3.4)\n",
      "Requirement already satisfied: urllib3<1.27,>=1.21.1 in /Library/Frameworks/Python.framework/Versions/3.11/lib/python3.11/site-packages (from requests>=2.25.1->forge-python==0.0.11) (1.26.13)\n",
      "Requirement already satisfied: certifi>=2017.4.17 in /Library/Frameworks/Python.framework/Versions/3.11/lib/python3.11/site-packages (from requests>=2.25.1->forge-python==0.0.11) (2022.9.24)\n",
      "Requirement already satisfied: commonmark<0.10.0,>=0.9.0 in /Library/Frameworks/Python.framework/Versions/3.11/lib/python3.11/site-packages (from rich>=9.11.0->forge-python==0.0.11) (0.9.1)\n",
      "Requirement already satisfied: pygments<3.0.0,>=2.6.0 in /Library/Frameworks/Python.framework/Versions/3.11/lib/python3.11/site-packages (from rich>=9.11.0->forge-python==0.0.11) (2.13.0)\n",
      "Requirement already satisfied: six>=1.5 in /Library/Frameworks/Python.framework/Versions/3.11/lib/python3.11/site-packages (from python-dateutil>=2.8.1->pandas>=1.2.3->forge-python==0.0.11) (1.16.0)\n",
      "Installing collected packages: forge-python\n",
      "  Attempting uninstall: forge-python\n",
      "    Found existing installation: forge-python 0.0.9\n",
      "    Uninstalling forge-python-0.0.9:\n",
      "      Successfully uninstalled forge-python-0.0.9\n",
      "Successfully installed forge-python-0.0.11\n",
      "Note: you may need to restart the kernel to use updated packages.\n"
     ]
    }
   ],
   "source": [
    "pip install forge-python==0.0.11\n"
   ]
  },
  {
   "cell_type": "code",
   "execution_count": 9,
   "id": "28437431",
   "metadata": {},
   "outputs": [
    {
     "data": {
      "text/html": [
       "<pre style=\"white-space:pre;overflow-x:auto;line-height:normal;font-family:Menlo,'DejaVu Sans Mono',consolas,'Courier New',monospace\"><span style=\"color: #008080; text-decoration-color: #008080; font-weight: bold\">[</span><span style=\"color: #008080; text-decoration-color: #008080\">sensor</span><span style=\"color: #008080; text-decoration-color: #008080; font-weight: bold\">]</span><span style=\"color: #008080; text-decoration-color: #008080\"> </span><span style=\"color: #c0c0c0; text-decoration-color: #c0c0c0\">sent </span><span style=\"color: #000080; text-decoration-color: #000080\">temperature </span><span style=\"color: #c0c0c0; text-decoration-color: #c0c0c0\">value of </span><span style=\"color: #ffd700; text-decoration-color: #ffd700; font-weight: bold\">95.5</span><span style=\"color: #ffd700; text-decoration-color: #ffd700\">°F </span><span style=\"color: #c0c0c0; text-decoration-color: #c0c0c0\">to server</span>\n",
       "</pre>\n"
      ],
      "text/plain": [
       "\u001b[1;36m[\u001b[0m\u001b[36msensor\u001b[0m\u001b[1;36m]\u001b[0m\u001b[36m \u001b[0m\u001b[37msent \u001b[0m\u001b[34mtemperature \u001b[0m\u001b[37mvalue of \u001b[0m\u001b[1;38;5;220m95.5\u001b[0m\u001b[38;5;220m°F \u001b[0m\u001b[37mto server\u001b[0m\n"
      ]
     },
     "metadata": {},
     "output_type": "display_data"
    },
    {
     "ename": "TypeError",
     "evalue": "flowsheet.load_metrics() takes 0 positional arguments but 1 was given",
     "output_type": "error",
     "traceback": [
      "\u001b[0;31m---------------------------------------------------------------------------\u001b[0m",
      "\u001b[0;31mTypeError\u001b[0m                                 Traceback (most recent call last)",
      "Cell \u001b[0;32mIn[9], line 8\u001b[0m\n\u001b[1;32m      4\u001b[0m sensor\u001b[39m.\u001b[39msend({\u001b[39m'\u001b[39m\u001b[39mtemperature\u001b[39m\u001b[39m'\u001b[39m: \u001b[39m95.5\u001b[39m})\n\u001b[1;32m      6\u001b[0m flowsheet2 \u001b[39m=\u001b[39m forge\u001b[39m.\u001b[39mflowsheet(\u001b[39m'\u001b[39m\u001b[39m'\u001b[39m)\n\u001b[0;32m----> 8\u001b[0m flowsheet2\u001b[39m.\u001b[39;49mload_metrics()\n",
      "\u001b[0;31mTypeError\u001b[0m: flowsheet.load_metrics() takes 0 positional arguments but 1 was given"
     ]
    }
   ],
   "source": [
    "from forge_python import forge\n",
    "sensor = forge.sensor()\n",
    "sensor.authenticate(\"d1805592-64d8-4b70-8420-65276da5e37c\")\n",
    "sensor.send({'temperature': 95.5})\n",
    "\n",
    "flowsheet2 = forge.flowsheet('')\n",
    "\n",
    "flowsheet2.load_metrics()\n"
   ]
  }
 ],
 "metadata": {
  "kernelspec": {
   "display_name": "Python 3.11.0 64-bit",
   "language": "python",
   "name": "python3"
  },
  "language_info": {
   "codemirror_mode": {
    "name": "ipython",
    "version": 3
   },
   "file_extension": ".py",
   "mimetype": "text/x-python",
   "name": "python",
   "nbconvert_exporter": "python",
   "pygments_lexer": "ipython3",
   "version": "3.11.0"
  },
  "vscode": {
   "interpreter": {
    "hash": "aee8b7b246df8f9039afb4144a1f6fd8d2ca17a180786b69acc140d282b71a49"
   }
  }
 },
 "nbformat": 4,
 "nbformat_minor": 5
}
