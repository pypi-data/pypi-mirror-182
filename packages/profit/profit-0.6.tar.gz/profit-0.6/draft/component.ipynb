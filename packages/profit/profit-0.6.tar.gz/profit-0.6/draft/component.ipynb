{
 "cells": [
  {
   "cell_type": "code",
   "execution_count": null,
   "id": "f1b1d5d1",
   "metadata": {},
   "outputs": [],
   "source": [
    "from abc import ABC, abstractmethod\n",
    "import logging"
   ]
  },
  {
   "cell_type": "markdown",
   "id": "2987a2b2",
   "metadata": {},
   "source": [
    "# Specification\n",
    "A simpler setup of a component system using *class inheritance* and *abstract base classes (ABC)*. Using the *Runner* as example for a component.\n",
    "\n",
    "### Requirements\n",
    "* better overview by fusing config, defaults and implementation\n",
    "* harmonize API and config usage → same options\n",
    "* replacing `register` with `__init_subclass__`\n",
    "\n",
    "### Design\n",
    "* configs are handled using a special constructor: `from_config`\n",
    "* possible arguments and default values are set in `__init__` and `from config`\n",
    "* config options are stored directly in the component"
   ]
  },
  {
   "cell_type": "code",
   "execution_count": null,
   "id": "88ea3158",
   "metadata": {},
   "outputs": [],
   "source": [
    "class Component(ABC):\n",
    "    _components = {}\n",
    "    component = \"Component\"\n",
    "\n",
    "    @abstractmethod\n",
    "    def __init__(self):\n",
    "        pass\n",
    "\n",
    "    def __init_subclass__(cls, /, label=None):\n",
    "        \"\"\"This method is called when a class is subclassed.\n",
    "\n",
    "        Register a new (sub-)component\"\"\"\n",
    "        if label is None:\n",
    "            label = cls.__name__\n",
    "\n",
    "        # register itself with parent\n",
    "        cls.register(label)(cls)\n",
    "\n",
    "        if cls.component == \"Component\":\n",
    "            # set up new registry for subcomponents\n",
    "            cls._components = {}\n",
    "            cls.component = label\n",
    "\n",
    "    @classmethod\n",
    "    def register(cls, label):\n",
    "        \"\"\"Decorator to register new subcomponents.\n",
    "\n",
    "        This will allow access to the subcomponent via ``Component[label]``.\n",
    "        Internally the subcomponents are stored in ``_components``.\n",
    "        Warning: this is totally unrelated to ABC.register\n",
    "        \"\"\"\n",
    "\n",
    "        def decorator(subcls):\n",
    "            if label in cls._components:\n",
    "                logging.warning(\n",
    "                    f\"replacing {cls._components[label]} with {cls} for label '{label}' ({cls.component}).\"\n",
    "                )\n",
    "            cls._components[label] = subcls\n",
    "            return subcls\n",
    "\n",
    "        return decorator\n",
    "\n",
    "    def __class_getitem__(cls, label):\n",
    "        \"\"\"Returns the subcomponent.\"\"\"\n",
    "        if item is None:\n",
    "            return cls\n",
    "        return cls._components[label]\n",
    "\n",
    "    @classmethod\n",
    "    @property\n",
    "    def label(cls):\n",
    "        \"\"\"Returns the string label of a subcomponent.\"\"\"\n",
    "        for label, item in cls._components.items():  # _components is inherited\n",
    "            if item == cls:\n",
    "                return label\n",
    "        raise NotImplementedError(f\"Class {cls} is not registered.\")\n",
    "\n",
    "    @classmethod\n",
    "    @property\n",
    "    def labels(cls):\n",
    "        \"\"\"Returns the labels of all available subcomponents.\"\"\"\n",
    "        return cls._components.keys()"
   ]
  },
  {
   "cell_type": "code",
   "execution_count": null,
   "id": "f76ab3d8",
   "metadata": {},
   "outputs": [],
   "source": [
    "class Example(Component):\n",
    "    pass\n",
    "\n",
    "\n",
    "class SubExample(Example, label=\"sub\"):\n",
    "    def __init__(self, foo, bar):\n",
    "        self.foo = foo\n",
    "        self.bar = bar\n",
    "\n",
    "    def __repr__(self):\n",
    "        return f\"Example: {self.foo} {self.bar}\"\n",
    "\n",
    "    @classmethod\n",
    "    def from_config(cls, foo=\"foo\", bar=\"bar\"):\n",
    "        return cls(foo=foo, bar=bar.upper())"
   ]
  },
  {
   "cell_type": "code",
   "execution_count": null,
   "id": "8b22e845",
   "metadata": {},
   "outputs": [],
   "source": [
    "print(Component.component, Component.labels)\n",
    "print(SubExample.component, SubExample.labels)\n",
    "\n",
    "SubExample.from_config()"
   ]
  },
  {
   "cell_type": "code",
   "execution_count": null,
   "id": "5d0e9893",
   "metadata": {},
   "outputs": [],
   "source": [
    "print(Component.component, Component.labels)\n",
    "print(Runner.component, Runner.labels)\n",
    "print(MPRunner.component, MPRunner.labels)"
   ]
  },
  {
   "cell_type": "code",
   "execution_count": null,
   "id": "fdbc973f",
   "metadata": {},
   "outputs": [],
   "source": []
  }
 ],
 "metadata": {
  "kernelspec": {
   "display_name": "Python 3 (ipykernel)",
   "language": "python",
   "name": "python3"
  },
  "language_info": {
   "codemirror_mode": {
    "name": "ipython",
    "version": 3
   },
   "file_extension": ".py",
   "mimetype": "text/x-python",
   "name": "python",
   "nbconvert_exporter": "python",
   "pygments_lexer": "ipython3",
   "version": "3.10.4"
  }
 },
 "nbformat": 4,
 "nbformat_minor": 5
}
