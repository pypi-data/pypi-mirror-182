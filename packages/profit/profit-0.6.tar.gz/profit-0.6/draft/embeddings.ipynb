{
 "cells": [
  {
   "cell_type": "code",
   "execution_count": null,
   "metadata": {},
   "outputs": [],
   "source": [
    "import numpy as np\n",
    "import plotly.express as px\n",
    "import plotly.graph_objects as go\n",
    "import pandas as pd\n",
    "import tensorflow as tf\n",
    "from tensorflow import keras\n",
    "from sklearn import model_selection\n",
    "from profit.util import quasirand"
   ]
  },
  {
   "cell_type": "markdown",
   "metadata": {},
   "source": [
    "## Defining function for testing\n",
    "\n",
    "We define a simple function that depends on $x_1, x_2, x_3$ via a nested linear dependency on two hidden parameters $t_1 = x_1 + x_2$ and $t_2 = x_1 - x_3$."
   ]
  },
  {
   "cell_type": "code",
   "execution_count": null,
   "metadata": {},
   "outputs": [],
   "source": [
    "def f(x):\n",
    "  return np.cos(x[0] + x[1])*np.sin(x[0] - x[2])\n",
    "\n",
    "# Plot f, see https://plotly.com/python/3d-volume-plots/\n",
    "X, Y, Z = np.mgrid[0:1:20j, 0:1:20j, 0:1:20j]\n",
    "x = np.vstack((X.flatten(), Y.flatten(), Z.flatten()))\n",
    "\n",
    "values = f(x)\n",
    "\n",
    "fig = go.Figure(data=go.Volume(\n",
    "    x=X.flatten(),\n",
    "    y=Y.flatten(),\n",
    "    z=Z.flatten(),\n",
    "    value=values.flatten(),\n",
    "    isomin=-1.0,\n",
    "    isomax=1.0,\n",
    "    opacity=0.3, # needs to be small to see through all surfaces\n",
    "    surface_count=17, # needs to be a large number for good volume rendering\n",
    "    ))\n",
    "fig.add_scatter3d(x=[0, 1], y=[0, 1], z=[1, 1])\n",
    "fig.add_scatter3d(x=[0, 1], y=[0, 0], z=[1, 0])\n",
    "\n",
    "fig.show()"
   ]
  },
  {
   "cell_type": "markdown",
   "metadata": {},
   "source": [
    "## Training and test data\n",
    "\n",
    "Here we use scikit-learn to split training and test data. The positions in parameter space are chosen as a Halton sequence. TensorFlow is used with a unified dataset of input and output."
   ]
  },
  {
   "cell_type": "code",
   "execution_count": null,
   "metadata": {},
   "outputs": [],
   "source": [
    "Ndim = 3\n",
    "indata = quasirand(500, Ndim)\n",
    "outdata = f(indata.T).reshape(-1,1)\n",
    "\n",
    "train, test = model_selection.train_test_split(np.hstack((indata, outdata)))\n",
    "dataset = tf.data.Dataset.from_tensor_slices((train[:,:Ndim], train[:,Ndim]))\n",
    "\n",
    "fig = px.scatter_3d(x=indata[:,0], y=indata[:,1], z=indata[:,2])\n",
    "fig.update_traces(marker={'size': 2})"
   ]
  },
  {
   "cell_type": "markdown",
   "metadata": {},
   "source": [
    "## Building and training the network\n",
    "\n",
    "Now we initialize a network, where the *first* layer after the input has its activation function set to `None`, meaning a linear transformation. The weights of this transformation will directly yield the linear projection down to the lower dimensional subspace of hidden parameters."
   ]
  },
  {
   "cell_type": "code",
   "execution_count": null,
   "metadata": {
    "tags": []
   },
   "outputs": [],
   "source": [
    "model = keras.Sequential()\n",
    "model.add(keras.layers.Input(shape=[Ndim,]))\n",
    "model.add(keras.layers.Dense(2, None))\n",
    "model.add(keras.layers.Dense(32, 'tanh'))\n",
    "model.add(keras.layers.Dense(32, 'tanh'))\n",
    "model.add(keras.layers.Dense(1, None))\n",
    "model.compile(optimizer=tf.optimizers.Adam(), loss='mse')"
   ]
  },
  {
   "cell_type": "code",
   "execution_count": null,
   "metadata": {
    "tags": []
   },
   "outputs": [],
   "source": [
    "history = model.fit(dataset.batch(1), epochs = 128)"
   ]
  },
  {
   "cell_type": "markdown",
   "metadata": {},
   "source": [
    "## Predictions\n",
    "\n",
    "Now we are going to compare the network output with the original output. Ideally, if network output and original output are identical, we should see a diagonal line."
   ]
  },
  {
   "cell_type": "code",
   "execution_count": null,
   "metadata": {},
   "outputs": [],
   "source": [
    "output_eval_train = model.predict(train[:,:Ndim])\n",
    "output_eval_test = model.predict(test[:,:Ndim])\n",
    "\n",
    "fig = px.scatter(x=train[:,Ndim], y=output_eval_train[:,0], labels={'x': 'training output', 'y': 'network output'})\n",
    "fig.show()\n",
    "px.scatter(x=test[:,Ndim], y=output_eval_test[:,0], labels={'x': 'test output', 'y': 'network output'})\n"
   ]
  },
  {
   "cell_type": "markdown",
   "metadata": {},
   "source": [
    "## Identification of linear embedding\n",
    "\n",
    "The linear embedding is identified from the weights of the first (linear) layer. This output is ambiguous and will yield arbitrary two vectors spanning the relevant subspace. To check whether these vectors lie in the correct plane, we compute the determinant of the matrix formed by the two reference vectors spanning the plane, and each of the identified vectors."
   ]
  },
  {
   "cell_type": "code",
   "execution_count": null,
   "metadata": {},
   "outputs": [],
   "source": [
    "model.layers[0].weights"
   ]
  },
  {
   "cell_type": "code",
   "execution_count": null,
   "metadata": {
    "tags": []
   },
   "outputs": [],
   "source": [
    "v1 = model.layers[0].weights[0].numpy()[:,0]\n",
    "v2 = model.layers[0].weights[0].numpy()[:,1]\n",
    "vref1 = np.array([1.0, 1.0, 0.0])\n",
    "vref2 = np.array([1.0, 0.0, -1.0])\n",
    "\n",
    "M1 = np.vstack((v1, vref1, vref2))\n",
    "M2 = np.vstack((v2, vref1, vref2))\n",
    "\n",
    "print(np.linalg.det(M1))\n",
    "print(np.linalg.det(M2))"
   ]
  },
  {
   "cell_type": "code",
   "execution_count": null,
   "metadata": {},
   "outputs": [],
   "source": [
    "fig = go.Figure()\n",
    "fig.add_scatter3d(x=[0, vref1[0]], y=[0, vref1[1]], z=[0, vref1[2]], name='vref1')\n",
    "fig.add_scatter3d(x=[0, vref2[0]], y=[0, vref2[1]], z=[0, vref2[2]], name='vref2')\n",
    "fig.add_scatter3d(x=[0, v1[0]], y=[0, v1[1]], z=[0, v1[2]], name='v1')\n",
    "fig.add_scatter3d(x=[0, v2[0]], y=[0, v2[1]], z=[0, v2[2]], name='v2')"
   ]
  },
  {
   "cell_type": "code",
   "execution_count": null,
   "metadata": {},
   "outputs": [],
   "source": [
    "extractor = keras.Model(inputs=model.inputs,\n",
    "                        outputs=[model.layers[0].output, model.layers[-1].output])\n",
    "features = extractor(indata)"
   ]
  },
  {
   "cell_type": "code",
   "execution_count": null,
   "metadata": {},
   "outputs": [],
   "source": [
    "fig = go.Figure()\n",
    "fig.add_scatter3d(x=features[0][:,0], y=features[0][:,1], z=features[1][:,0], mode='markers', marker={'size':2})\n",
    "fig.update_layout(scene = {\n",
    "    'xaxis': {'title': 't1'},\n",
    "    'yaxis': {'title': 't2'},\n",
    "    'zaxis': {'title': 'g(t1, t2)'},\n",
    "})"
   ]
  },
  {
   "cell_type": "code",
   "execution_count": null,
   "metadata": {},
   "outputs": [],
   "source": []
  }
 ],
 "metadata": {
  "kernelspec": {
   "display_name": "Python 3",
   "language": "python",
   "name": "python3"
  },
  "language_info": {
   "codemirror_mode": {
    "name": "ipython",
    "version": 3
   },
   "file_extension": ".py",
   "mimetype": "text/x-python",
   "name": "python",
   "nbconvert_exporter": "python",
   "pygments_lexer": "ipython3",
   "version": "3.8.3"
  }
 },
 "nbformat": 4,
 "nbformat_minor": 2
}
