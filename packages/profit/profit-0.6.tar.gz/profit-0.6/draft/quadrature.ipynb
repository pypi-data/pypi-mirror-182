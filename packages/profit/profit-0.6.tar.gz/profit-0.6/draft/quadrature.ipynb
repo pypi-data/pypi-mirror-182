{
 "cells": [
  {
   "cell_type": "code",
   "execution_count": null,
   "metadata": {},
   "outputs": [],
   "source": [
    "import chaospy as cp\n",
    "import numpy as np\n",
    "import matplotlib.pyplot as plt"
   ]
  },
  {
   "cell_type": "code",
   "execution_count": null,
   "metadata": {},
   "outputs": [],
   "source": [
    "def f(x, s):\n",
    "    return np.abs(x - 0.3)**s\n",
    "\n",
    "def fint(s):\n",
    "    return (7**s*10**(-1-s)*(7+7**(-s)*13**(1+s)))/(1+s)\n",
    "\n",
    "dist = cp.Uniform(-1, 1)\n",
    "s = 3\n",
    "fint_exact = fint(s)\n",
    "\n",
    "ns = range(1, 1001)\n",
    "fint_num = dict()\n",
    "fint_num['Gauss-Legendre'] = np.empty(len(ns))\n",
    "fint_num['MC'] = np.empty(len(ns))\n",
    "fint_num['Halton'] = np.empty(len(ns))\n",
    "\n",
    "for n in ns:\n",
    "    # Gauss-Legendre\n",
    "    if(n<51):\n",
    "        X, W = cp.generate_quadrature(n-1, dist, rule='gaussian')\n",
    "        fint_num['Gauss-Legendre'][n-1] = 2*np.sum(W*f(X, s))\n",
    "    else:\n",
    "        fint_num['Gauss-Legendre'][n-1] = fint_exact\n",
    "\n",
    "    # MC\n",
    "    X = dist.sample(n)\n",
    "    W = 1./len(X)\n",
    "    fint_num['MC'][n-1] = 2*np.sum(W*f(X, s))\n",
    "\n",
    "    # Sobol\n",
    "    X = dist.sample(n, rule='H')\n",
    "    W = 1./len(X)\n",
    "    fint_num['Halton'][n-1] = 2*np.sum(W*f(X, s))\n",
    "    \n",
    "plt.figure()\n",
    "plt.loglog(ns, np.abs(fint_num['Gauss-Legendre'] - fint_exact))\n",
    "plt.loglog(ns, np.abs(fint_num['MC'] - fint_exact), '.')\n",
    "plt.loglog(ns, np.abs(fint_num['Halton'] - fint_exact), 'x')\n",
    "plt.loglog([ns[0], ns[-1]], [1e-2, 1e-2])\n",
    "plt.ylim([1e-4,2])\n",
    "plt.legend(fint_num.keys())"
   ]
  },
  {
   "cell_type": "code",
   "execution_count": null,
   "metadata": {},
   "outputs": [],
   "source": [
    "def rosenbrock(x, y, a, b):\n",
    "    return (a - x)**2 + b * (y - x**2)**2\n",
    "def f(u, v):\n",
    "    return rosenbrock(u-1, v, a=1, b=3)\n",
    "\n",
    "u = np.linspace(0, 1, 100)\n",
    "v = np.linspace(0, 1, 100)\n",
    "U, V = np.meshgrid(u, v)\n",
    "\n",
    "F = f(U, V)\n",
    "\n",
    "plt.figure()\n",
    "plt.contour(U, V, F, 20)\n",
    "plt.colorbar()\n",
    "plt.xlabel(r'$u$')\n",
    "plt.ylabel(r'$v$')\n",
    "plt.title(r'contours of $f(0.25; u, v)$')"
   ]
  },
  {
   "cell_type": "code",
   "execution_count": null,
   "metadata": {},
   "outputs": [],
   "source": [
    "dist = cp.J(cp.Uniform(0, 1), cp.Uniform(0, 1))\n",
    "fint_exact = 44.0/15.0\n",
    "\n",
    "ns = range(1, 31)\n",
    "fint_num = dict()\n",
    "fint_num['Gauss-Legendre'] = np.empty(len(ns))\n",
    "fint_num['MC'] = np.empty(len(ns))\n",
    "fint_num['Halton'] = np.empty(len(ns))\n",
    "\n",
    "for n in ns:\n",
    "    # Gauss-Legendre\n",
    "    X, W = cp.generate_quadrature(n-1, dist, rule='gaussian')\n",
    "    fint_num['Gauss-Legendre'][n-1] = np.sum(W*f(X[0,:], X[1,:]))\n",
    "\n",
    "    # MC\n",
    "    X = dist.sample(n**2)\n",
    "    W = 1./n**2\n",
    "    fint_num['MC'][n-1] = np.sum(W*f(X[0,:], X[1,:]))\n",
    "\n",
    "    # Sobol\n",
    "    X = dist.sample(n**2, rule='H')\n",
    "    W = 1./n**2\n",
    "    fint_num['Halton'][n-1] = np.sum(W*f(X[0,:], X[1,:]))\n",
    "    \n",
    "plt.figure()\n",
    "plt.loglog(np.array(ns)**2, np.abs(fint_num['Gauss-Legendre'] - fint_exact))\n",
    "plt.loglog(np.array(ns)**2, np.abs(fint_num['MC'] - fint_exact), '.')\n",
    "plt.loglog(np.array(ns)**2, np.abs(fint_num['Halton'] - fint_exact), 'x')\n",
    "plt.loglog([ns[0]**2, ns[-1]**2], [1e-2, 1e-2])\n",
    "plt.ylim([1e-4,2])\n",
    "plt.legend(fint_num.keys())"
   ]
  },
  {
   "cell_type": "code",
   "execution_count": null,
   "metadata": {},
   "outputs": [],
   "source": [
    "X = dist.sample(n**2, rule='H')\n",
    "plt.figure()\n",
    "plt.plot(X[0,:], X[1,:], '.')\n",
    "X, W = cp.generate_quadrature(n-1, dist, rule='gaussian')\n",
    "plt.plot(X[0,:], X[1,:], '.')"
   ]
  },
  {
   "cell_type": "code",
   "execution_count": null,
   "metadata": {},
   "outputs": [],
   "source": []
  }
 ],
 "metadata": {
  "kernelspec": {
   "display_name": "Python 3",
   "language": "python",
   "name": "python3"
  },
  "language_info": {
   "codemirror_mode": {
    "name": "ipython",
    "version": 3
   },
   "file_extension": ".py",
   "mimetype": "text/x-python",
   "name": "python",
   "nbconvert_exporter": "python",
   "pygments_lexer": "ipython3",
   "version": "3.7.5rc1"
  }
 },
 "nbformat": 4,
 "nbformat_minor": 2
}
