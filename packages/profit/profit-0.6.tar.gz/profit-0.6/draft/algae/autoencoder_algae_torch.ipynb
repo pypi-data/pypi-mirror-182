{
 "cells": [
  {
   "cell_type": "code",
   "execution_count": null,
   "metadata": {},
   "outputs": [],
   "source": [
    "import torch  # see https://pytorch.org/tutorials/beginner/examples_nn/two_layer_net_nn.html\n",
    "import numpy as np\n",
    "import plotly.express as px\n",
    "import plotly.graph_objects as go\n",
    "import pandas as pd\n",
    "import sklearn as skl\n",
    "from sklearn import model_selection"
   ]
  },
  {
   "cell_type": "code",
   "execution_count": null,
   "metadata": {},
   "outputs": [],
   "source": [
    "nskip = 1000  # Use only every 1000th data point\n",
    "skip = np.arange(1e6)\n",
    "skip = np.delete(skip, np.arange(0, 1e6, nskip))\n",
    "\n",
    "data = pd.read_table(\n",
    "    '/home/calbert/Dropbox/ipp/paper_algae/mc_out.dat',\n",
    "    sep='\\s+', skiprows=skip)\n",
    "names = {\n",
    "    'mu_0': 'k_alg_growth_max',\n",
    "    'f_si': 'frac_si_alg_1',\n",
    "    'lambda_S': 'k_att_shade',\n",
    "    'K_light': 'k_light_sm',\n",
    "    'sigma_0': 'k_alg_loss',\n",
    "    'a': 'coeff_d_loss_2'\n",
    "}\n",
    "indata = data[['k_alg_loss', 'frac_si_alg_1']].values\n",
    "indata = (indata - np.min(indata,0))/np.max(indata - np.min(indata,0), 0)\n",
    "train, test = model_selection.train_test_split(indata)"
   ]
  },
  {
   "cell_type": "code",
   "execution_count": null,
   "metadata": {},
   "outputs": [],
   "source": [
    "model = torch.nn.Sequential(\n",
    "    torch.nn.Linear(2, 8), torch.nn.Tanh(),\n",
    "    #torch.nn.Linear(8, 8), torch.nn.Tanh(),\n",
    "    torch.nn.Linear(8, 1), torch.nn.Tanh(),\n",
    "    torch.nn.Linear(1, 8), torch.nn.Tanh(),\n",
    "    #torch.nn.Linear(8, 8), torch.nn.Tanh(),\n",
    "    torch.nn.Linear(8, 2)\n",
    ")\n",
    "loss_fn = torch.nn.MSELoss(reduction='sum')"
   ]
  },
  {
   "cell_type": "code",
   "execution_count": null,
   "metadata": {},
   "outputs": [],
   "source": [
    "train_torch = torch.from_numpy(train).to(torch.float32)\n",
    "optimizer = torch.optim.Adam(model.parameters())"
   ]
  },
  {
   "cell_type": "code",
   "execution_count": null,
   "metadata": {
    "tags": []
   },
   "outputs": [],
   "source": [
    "for t in range(10000):\n",
    "    def closure():\n",
    "        optimizer.zero_grad()\n",
    "        output = model(train_torch)\n",
    "        loss = loss_fn(output, train_torch)\n",
    "        if t % 1000 == 99:\n",
    "            print(t, loss.item())\n",
    "        loss.backward()\n",
    "        return loss\n",
    "\n",
    "    optimizer.step(closure)"
   ]
  },
  {
   "cell_type": "code",
   "execution_count": null,
   "metadata": {},
   "outputs": [],
   "source": [
    "with torch.no_grad():\n",
    "    output_eval_train = model(train_torch)\n",
    "    fig = px.scatter(x=train[:,0], y=train[:,1], labels={'x': 'sigma_0', 'y': 'f_si'}, title='Training data')\n",
    "    fig.add_scatter(x=output_eval_train[:,0], y=output_eval_train[:,1], mode='markers', name='autoencoder')\n",
    "    fig.show()\n"
   ]
  },
  {
   "cell_type": "code",
   "execution_count": null,
   "metadata": {},
   "outputs": [],
   "source": []
  }
 ],
 "metadata": {
  "kernelspec": {
   "display_name": "Python 3.8.5 64-bit",
   "metadata": {
    "interpreter": {
     "hash": "767d51c1340bd893661ea55ea3124f6de3c7a262a8b4abca0554b478b1e2ff90"
    }
   },
   "name": "Python 3.8.5 64-bit"
  },
  "language_info": {
   "codemirror_mode": {
    "name": "ipython",
    "version": 3
   },
   "file_extension": ".py",
   "mimetype": "text/x-python",
   "name": "python",
   "nbconvert_exporter": "python",
   "pygments_lexer": "ipython3",
   "version": "3.8.5-final"
  }
 },
 "nbformat": 4,
 "nbformat_minor": 2
}
