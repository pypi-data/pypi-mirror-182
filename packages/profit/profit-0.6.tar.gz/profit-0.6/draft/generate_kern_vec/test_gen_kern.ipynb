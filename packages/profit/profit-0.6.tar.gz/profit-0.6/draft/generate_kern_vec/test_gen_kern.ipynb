{
 "metadata": {
  "language_info": {
   "codemirror_mode": {
    "name": "ipython",
    "version": 3
   },
   "file_extension": ".py",
   "mimetype": "text/x-python",
   "name": "python",
   "nbconvert_exporter": "python",
   "pygments_lexer": "ipython3",
   "version": "3.8.6-final"
  },
  "orig_nbformat": 2,
  "kernelspec": {
   "name": "python3",
   "display_name": "Python 3"
  }
 },
 "nbformat": 4,
 "nbformat_minor": 2,
 "cells": [
  {
   "cell_type": "code",
   "execution_count": 1,
   "metadata": {},
   "outputs": [],
   "source": [
    "from sympy import *"
   ]
  },
  {
   "source": [
    "We consider kernels of the form\n",
    "\n",
    "$$k(\\nu(\\boldsymbol{x},\\boldsymbol{l}))=k\\circ\\nu(\\boldsymbol{x},\\boldsymbol{l}).$$"
   ],
   "cell_type": "markdown",
   "metadata": {}
  },
  {
   "cell_type": "code",
   "execution_count": 2,
   "metadata": {},
   "outputs": [],
   "source": [
    "x, th, l = symbols(r'x, \\theta, l')\n",
    "nu = Function(r'\\nu', real=True)(x, th)\n",
    "dnudx = Function(r'\\nu_x')(x, th)\n",
    "dnudth = Function(r'\\nu_\\theta')(x, th)\n",
    "d2nudx2 = Function(r'\\nu_{xx}')(x, th)\n",
    "d2nudth2 = Function(r'\\nu_{\\theta\\theta}')(x, th)\n",
    "d2nudxdth = Function(r'\\nu_{x\\theta}')(x, th)\n",
    "dkdr = Function(r'k_r')(nu)\n",
    "d2kdr2 = Function(r'k_{rr}')(nu)\n",
    "k = Function(r'k', real=True)(nu)"
   ]
  },
  {
   "source": [
    "Derivatives of $k$ w.r.t. $x$ and $l$ are"
   ],
   "cell_type": "markdown",
   "metadata": {}
  },
  {
   "cell_type": "code",
   "execution_count": 14,
   "metadata": {},
   "outputs": [
    {
     "output_type": "execute_result",
     "data": {
      "text/plain": [
       "(Derivative(\\nu(x, \\theta), x)**2*Derivative(k(\\nu(x, \\theta)), (\\nu(x, \\theta), 3)) + Derivative(\\nu(x, \\theta), (x, 2))*Derivative(k(\\nu(x, \\theta)), (\\nu(x, \\theta), 2)))*Derivative(\\nu(x, \\theta), \\theta) + 2*Derivative(\\nu(x, \\theta), x)*Derivative(k(\\nu(x, \\theta)), (\\nu(x, \\theta), 2))*Derivative(\\nu(x, \\theta), \\theta, x) + Derivative(k(\\nu(x, \\theta)), \\nu(x, \\theta))*Derivative(\\nu(x, \\theta), \\theta, (x, 2))"
      ],
      "text/latex": "$\\displaystyle \\left(\\left(\\frac{\\partial}{\\partial x} \\nu{\\left(x,\\theta \\right)}\\right)^{2} \\frac{\\partial^{3}}{\\partial \\nu{\\left(x,\\theta \\right)}^{3}} k{\\left(\\nu{\\left(x,\\theta \\right)} \\right)} + \\frac{\\partial^{2}}{\\partial x^{2}} \\nu{\\left(x,\\theta \\right)} \\frac{\\partial^{2}}{\\partial \\nu{\\left(x,\\theta \\right)}^{2}} k{\\left(\\nu{\\left(x,\\theta \\right)} \\right)}\\right) \\frac{\\partial}{\\partial \\theta} \\nu{\\left(x,\\theta \\right)} + 2 \\frac{\\partial}{\\partial x} \\nu{\\left(x,\\theta \\right)} \\frac{\\partial^{2}}{\\partial \\nu{\\left(x,\\theta \\right)}^{2}} k{\\left(\\nu{\\left(x,\\theta \\right)} \\right)} \\frac{\\partial^{2}}{\\partial x\\partial \\theta} \\nu{\\left(x,\\theta \\right)} + \\frac{\\partial}{\\partial \\nu{\\left(x,\\theta \\right)}} k{\\left(\\nu{\\left(x,\\theta \\right)} \\right)} \\frac{\\partial^{3}}{\\partial x^{2}\\partial \\theta} \\nu{\\left(x,\\theta \\right)}$"
     },
     "metadata": {},
     "execution_count": 14
    }
   ],
   "source": [
    "def subs_explicit(f):\n",
    "    return ( \n",
    "        f.subs(diff(nu, x), dnudx).subs(diff(nu, th), dnudth).subs(diff(k, nu), dkdr)\n",
    "        .subs(diff(dnudx, x), d2nudx2).subs(diff(dnudx, th), d2nudxdth).subs(diff(dkdr, nu), d2kdr2)\n",
    "    )\n",
    "\n",
    "subs_explicit(diff(k, x))\n",
    "diff(k, x, x, th).simplify()"
   ]
  },
  {
   "cell_type": "code",
   "execution_count": 5,
   "metadata": {},
   "outputs": [
    {
     "output_type": "execute_result",
     "data": {
      "text/plain": [
       "0.25*x**4"
      ],
      "text/latex": "$\\displaystyle 0.25 x^{4}$"
     },
     "metadata": {},
     "execution_count": 5
    }
   ],
   "source": [
    "d2kdth2_ov_k_sqexp = (diff(k, th, th)/k).subs(k, exp(-0.5*nu)).simplify().cancel(); d2kdth2_ov_k_sqexp\n",
    "d2kdth2_ov_k_sqexp_l2 = d2kdth2_ov_k_sqexp.subs(nu, th*x**2).simplify(); d2kdth2_ov_k_sqexp_l2"
   ]
  },
  {
   "cell_type": "code",
   "execution_count": 6,
   "metadata": {},
   "outputs": [
    {
     "output_type": "execute_result",
     "data": {
      "text/plain": [
       "Derivative(\\nu(x, \\theta), x)**2/4 - Derivative(\\nu(x, \\theta), (x, 2))/2"
      ],
      "text/latex": "$\\displaystyle \\frac{\\left(\\frac{\\partial}{\\partial x} \\nu{\\left(x,\\theta \\right)}\\right)^{2}}{4} - \\frac{\\frac{\\partial^{2}}{\\partial x^{2}} \\nu{\\left(x,\\theta \\right)}}{2}$"
     },
     "metadata": {},
     "execution_count": 6
    }
   ],
   "source": [
    "d2kdx2_ov_k_sqexp = ((diff(k, x, x)/k).subs(k, exp(-nu/2))).simplify().cancel(); d2kdx2_ov_k_sqexp"
   ]
  },
  {
   "cell_type": "code",
   "execution_count": 7,
   "metadata": {},
   "outputs": [
    {
     "output_type": "execute_result",
     "data": {
      "text/plain": [
       "4.0*\\theta**2*x**2 + 2.0*\\theta"
      ],
      "text/latex": "$\\displaystyle 4.0 \\theta^{2} x^{2} + 2.0 \\theta$"
     },
     "metadata": {},
     "execution_count": 7
    }
   ],
   "source": [
    "d2kdx2_ov_k_sqexp_l2 = d2kdx2_ov_k_sqexp.subs(nu, -2.0*th*x**2).simplify(); d2kdx2_ov_k_sqexp_l2"
   ]
  },
  {
   "cell_type": "code",
   "execution_count": 8,
   "metadata": {},
   "outputs": [
    {
     "output_type": "execute_result",
     "data": {
      "text/plain": [
       "\\theta**2*(-sin(\\theta*x)**4 + 3*sin(\\theta*x)**2 - 1)"
      ],
      "text/latex": "$\\displaystyle \\theta^{2} \\left(- \\sin^{4}{\\left(\\theta x \\right)} + 3 \\sin^{2}{\\left(\\theta x \\right)} - 1\\right)$"
     },
     "metadata": {},
     "execution_count": 8
    }
   ],
   "source": [
    "d2kdx2_ov_k_sqexp_l2sin = d2kdx2_ov_k_sqexp.subs(nu, sin(x*th)**2).simplify().trigsimp(); d2kdx2_ov_k_sqexp_l2sin"
   ]
  },
  {
   "cell_type": "code",
   "execution_count": 9,
   "metadata": {},
   "outputs": [
    {
     "output_type": "execute_result",
     "data": {
      "text/plain": [
       "-0.125*Derivative(\\nu(x, \\theta), \\theta)*Derivative(\\nu(x, \\theta), x)**2 + 0.25*Derivative(\\nu(x, \\theta), \\theta)*Derivative(\\nu(x, \\theta), (x, 2)) + 0.5*Derivative(\\nu(x, \\theta), x)*Derivative(\\nu(x, \\theta), \\theta, x) - 0.5*Derivative(\\nu(x, \\theta), \\theta, (x, 2))"
      ],
      "text/latex": "$\\displaystyle - 0.125 \\frac{\\partial}{\\partial \\theta} \\nu{\\left(x,\\theta \\right)} \\left(\\frac{\\partial}{\\partial x} \\nu{\\left(x,\\theta \\right)}\\right)^{2} + 0.25 \\frac{\\partial}{\\partial \\theta} \\nu{\\left(x,\\theta \\right)} \\frac{\\partial^{2}}{\\partial x^{2}} \\nu{\\left(x,\\theta \\right)} + 0.5 \\frac{\\partial}{\\partial x} \\nu{\\left(x,\\theta \\right)} \\frac{\\partial^{2}}{\\partial x\\partial \\theta} \\nu{\\left(x,\\theta \\right)} - 0.5 \\frac{\\partial^{3}}{\\partial x^{2}\\partial \\theta} \\nu{\\left(x,\\theta \\right)}$"
     },
     "metadata": {},
     "execution_count": 9
    }
   ],
   "source": [
    "d3kdx2dth_ov_k_sqexp = ((diff(k, x, x, th)/k).subs(k, exp(-0.5*nu))).simplify().cancel(); d3kdx2dth_ov_k_sqexp"
   ]
  },
  {
   "cell_type": "code",
   "execution_count": 10,
   "metadata": {},
   "outputs": [
    {
     "output_type": "execute_result",
     "data": {
      "text/plain": [
       "-0.5*\\theta**2*x**4 + 2.5*\\theta*x**2 - 1.0"
      ],
      "text/latex": "$\\displaystyle - 0.5 \\theta^{2} x^{4} + 2.5 \\theta x^{2} - 1.0$"
     },
     "metadata": {},
     "execution_count": 10
    }
   ],
   "source": [
    "d3kdx2dth_ov_k_sqexp_l2 = d3kdx2dth_ov_k_sqexp.subs(nu, th*x**2).simplify(); d3kdx2dth_ov_k_sqexp_l2"
   ]
  },
  {
   "cell_type": "code",
   "execution_count": 11,
   "metadata": {},
   "outputs": [
    {
     "output_type": "error",
     "ename": "NameError",
     "evalue": "name 'd3kd2xdth' is not defined",
     "traceback": [
      "\u001b[0;31m---------------------------------------------------------------------------\u001b[0m",
      "\u001b[0;31mNameError\u001b[0m                                 Traceback (most recent call last)",
      "\u001b[0;32m<ipython-input-11-1ce1d1fe1e33>\u001b[0m in \u001b[0;36m<module>\u001b[0;34m\u001b[0m\n\u001b[0;32m----> 1\u001b[0;31m \u001b[0md3kdx2dth_ov_k_sqexp_l2sin\u001b[0m \u001b[0;34m=\u001b[0m \u001b[0md3kd2xdth\u001b[0m\u001b[0;34m.\u001b[0m\u001b[0msubs\u001b[0m\u001b[0;34m(\u001b[0m\u001b[0mnu\u001b[0m\u001b[0;34m,\u001b[0m \u001b[0msin\u001b[0m\u001b[0;34m(\u001b[0m\u001b[0mx\u001b[0m\u001b[0;34m)\u001b[0m\u001b[0;34m**\u001b[0m\u001b[0;36m2\u001b[0m\u001b[0;34m*\u001b[0m\u001b[0mth\u001b[0m\u001b[0;34m)\u001b[0m\u001b[0;34m.\u001b[0m\u001b[0msimplify\u001b[0m\u001b[0;34m(\u001b[0m\u001b[0;34m)\u001b[0m\u001b[0;34m.\u001b[0m\u001b[0mtrigsimp\u001b[0m\u001b[0;34m(\u001b[0m\u001b[0;34m)\u001b[0m\u001b[0;34m.\u001b[0m\u001b[0mcancel\u001b[0m\u001b[0;34m(\u001b[0m\u001b[0;34m)\u001b[0m\u001b[0;34m;\u001b[0m \u001b[0md3kdx2dth_ov_k_sqexp_l2sin\u001b[0m\u001b[0;34m\u001b[0m\u001b[0;34m\u001b[0m\u001b[0m\n\u001b[0m",
      "\u001b[0;31mNameError\u001b[0m: name 'd3kd2xdth' is not defined"
     ]
    }
   ],
   "source": [
    "d3kdx2dth_ov_k_sqexp_l2sin = d3kd2xdth.subs(nu, sin(x)**2*th).simplify().trigsimp().cancel(); d3kdx2dth_ov_k_sqexp_l2sin"
   ]
  },
  {
   "cell_type": "code",
   "execution_count": null,
   "metadata": {},
   "outputs": [],
   "source": [
    "fcode(dkdth_ov_k_sqexp_l2).replace('\\\\theta', 'th(kd)').replace('x', 'x(kd, :)')"
   ]
  },
  {
   "cell_type": "code",
   "execution_count": null,
   "metadata": {},
   "outputs": [],
   "source": [
    "template = \"\"\"\n",
    "subroutine nu_{name}\n",
    "    \n",
    "end subroutine\n",
    "\n",
    "\"\"\"\n",
    "\n",
    "kern_sqexp = template.format(name, 'sqexp', expr, 'exp(-sum(')subs(k, exp(-nu)).subs(nu, (x*th)**2))"
   ]
  },
  {
   "cell_type": "code",
   "execution_count": null,
   "metadata": {},
   "outputs": [],
   "source": []
  }
 ]
}