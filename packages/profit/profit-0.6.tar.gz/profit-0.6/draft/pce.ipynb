{
 "cells": [
  {
   "cell_type": "markdown",
   "metadata": {
    "slideshow": {
     "slide_type": "slide"
    }
   },
   "source": [
    "# Used Python libraries\n",
    "\n",
    "* Numpy for numerics\n",
    "* Matplotlib for plotting\n",
    "* Scipy for regression\n",
    "* ChaosPy for Polynomial Chaos"
   ]
  },
  {
   "cell_type": "code",
   "execution_count": null,
   "metadata": {
    "hide_input": false,
    "slideshow": {
     "slide_type": "notes"
    }
   },
   "outputs": [],
   "source": [
    "import numpy as np\n",
    "from numpy import sqrt, sin, cos, tan, sinh, cosh, tanh, exp, pi\n",
    "import matplotlib.pyplot as plt\n",
    "import scipy as sp\n",
    "import chaospy as cp"
   ]
  },
  {
   "cell_type": "markdown",
   "metadata": {
    "hide_input": true,
    "slideshow": {
     "slide_type": "slide"
    }
   },
   "source": [
    "# 1. Take experimental plasma profiles\n",
    "For testing, we invent an artificial temperature profile $T(r)$ over radial variable $r$."
   ]
  },
  {
   "cell_type": "code",
   "execution_count": null,
   "metadata": {
    "hide_input": true,
    "slideshow": {
     "slide_type": "fragment"
    }
   },
   "outputs": [],
   "source": [
    "def tprof(r, u, v):\n",
    "    w = 5.0 # fixed parameter for the pedestal width\n",
    "    # tanh shape, second term such that dT/dr=0 at r=0\n",
    "    Tnorm = tanh(w * (v - r)) + r * w / cosh(w * v)**2 \n",
    "    # values at r=0, r=1 for normalization\n",
    "    Tnorm0 = tanh(w * v) \n",
    "    Tnorm1 = tanh(w * (v - 1)) + w / cosh(w * v)**2\n",
    "    # return normalized result scaled with u = T(r=0)\n",
    "    return u/(Tnorm0 - Tnorm1)*(Tnorm - Tnorm1)\n",
    "\n",
    "r = np.linspace(0.0, 1.0, 100)\n",
    "\n",
    "u0 = 5\n",
    "v0 = 0.6\n",
    "\n",
    "rexp = np.linspace(0.0, 1.0, 30)\n",
    "\n",
    "Texp0 = tprof(rexp, 5, 0.6)\n",
    "dTexp = 1.5 - rexp\n",
    "Texp = np.random.normal(Texp0, dTexp)\n",
    "\n",
    "plt.figure(dpi=120, figsize=(9,2.66))\n",
    "\n",
    "plt.subplot(1,2,1)\n",
    "plt.plot(r, tprof(r, u0, v0))\n",
    "plt.xlabel(r'$r$')\n",
    "plt.ylabel(r'$T(r)$')\n",
    "plt.title(\"How you imagine your profile to be like\")\n",
    "\n",
    "plt.subplot(1,2,2)\n",
    "plt.errorbar(rexp, Texp, yerr=dTexp, fmt='o')\n",
    "plt.xlabel(r'$r$')\n",
    "plt.ylabel(r'$T(r)$')\n",
    "plt.title(\"What your actual profile data looks like\")\n",
    "\n",
    "plt.show()"
   ]
  },
  {
   "cell_type": "markdown",
   "metadata": {
    "slideshow": {
     "slide_type": "fragment"
    }
   },
   "source": [
    "We would like to **propagate uncertainties** to **modeling results**."
   ]
  },
  {
   "cell_type": "markdown",
   "metadata": {
    "hide_input": true,
    "slideshow": {
     "slide_type": "slide"
    }
   },
   "source": [
    "\n",
    "# 2. Choose parametrization for profile\n",
    "Here we use two free parameters\n",
    "* $u = T(0)$ is the on-axis temperature\n",
    "* $v$ parameterizes the pedestal radial position\n",
    "```python\n",
    "def tprof(r, u, v):\n",
    "    w = 5.0 # fixed parameter for pedestal width\n",
    "    Tnorm = tanh(w*(v - r)) + r*w/cosh(w*v)**2 # tanh-like\n",
    "    Tnorm0 = tanh(w*v) # Tnorm at r=0\n",
    "    Tnorm1 = tanh(w*(v - 1)) + w/cosh(w*v)**2 # Tnorm at r=1\n",
    "    return u/(Tnorm0 - Tnorm1)*(Tnorm - Tnorm1) # scale with u\n",
    "```\n",
    "* Outboard temperature $T(1)$ must vanish\n",
    "* Radial derivatives dT/dr must vanish on axis at $r=0$ (depends on choice of $r$)"
   ]
  },
  {
   "cell_type": "markdown",
   "metadata": {
    "slideshow": {
     "slide_type": "slide"
    }
   },
   "source": [
    "# 3. Fit profile parameters\n",
    "* Least-squares regression assumes (multivariate) Normal distribution for parameters $\\rightarrow$ Gaussian probability density. Use this one for simplicity.\n",
    "* Alternative: Bayesian regression to estimate actual distribution\n",
    "* If too many and/or correlated parameters, reduce by PCA\n",
    "* If non-Gaussian and correlated, use Rosenblatt transform"
   ]
  },
  {
   "cell_type": "code",
   "execution_count": null,
   "metadata": {
    "hide_input": true,
    "slideshow": {
     "slide_type": "fragment"
    }
   },
   "outputs": [],
   "source": [
    "fit = sp.optimize.curve_fit(tprof, rexp, Texp, p0=[6, 0.5], sigma=dTexp)\n",
    "\n",
    "u0 = fit[0][0]\n",
    "du = sqrt(fit[1][0,0])\n",
    "v0 = fit[0][1]\n",
    "dv = sqrt(fit[1][1,1])\n",
    "\n",
    "plt.figure(dpi=120, figsize=(4,2.66))\n",
    "plt.errorbar(rexp, Texp, yerr=dTexp, fmt='o')\n",
    "for uk in [u0 - du, u0, u0 + du]:\n",
    "    for vk in [v0 - dv, v0, v0 + dv]:\n",
    "        plt.plot(r, tprof(r, uk, vk))\n",
    "plt.xlabel(r'$r$')\n",
    "plt.ylabel(r'$T(r)$')\n",
    "\n",
    "plt.title(r'$u = {:.2f} \\pm {:.2f}, v = {:.2f} \\pm {:.2f}$'.format(u0, du, v0, dv))\n",
    "plt.show()"
   ]
  },
  {
   "cell_type": "markdown",
   "metadata": {
    "slideshow": {
     "slide_type": "slide"
    }
   },
   "source": [
    "# 4. Run our model\n",
    "Assume we have a model $f(r, T(r))$ that, for a given profile, yields a certain result,\n",
    "\n",
    "$$ f(r, T(r; u,v)) \\equiv f(r; u,v).$$"
   ]
  },
  {
   "cell_type": "code",
   "execution_count": null,
   "metadata": {
    "slideshow": {
     "slide_type": "fragment"
    }
   },
   "outputs": [],
   "source": [
    "# define some model for testing via the rosenbrock function\n",
    "# to introduce some non-trivial behavior in the u,v space.\n",
    "def rosenbrock(x, y, a, b):\n",
    "    return (a - x)**2 + b * (y - x**2)**2\n",
    "def f(r, u, v):\n",
    "    return rosenbrock((r - 0.5) + u - 5, 1 + 3 * (v - 0.6), a=1, b=3)\n",
    "\n",
    "plt.figure(dpi=120, figsize=(9,2.66))\n",
    "\n",
    "plt.subplot(1,2,1)\n",
    "plt.plot(r, tprof(r, u0, v0), 'k')\n",
    "plt.xlabel(r'$r$')\n",
    "plt.ylabel(r'$T(r)$')\n",
    "plt.title(\"Input profile from before\")\n",
    "\n",
    "plt.subplot(1,2,2)\n",
    "plt.plot(r, f(r, u0, v0), 'k')\n",
    "plt.xlabel(r'$r$')\n",
    "plt.ylabel(r'$f(r; u0, v0)$')\n",
    "plt.title(\"Output profile at expectation values $u_0,v_0$\")\n",
    "\n",
    "plt.show()"
   ]
  },
  {
   "cell_type": "markdown",
   "metadata": {
    "slideshow": {
     "slide_type": "fragment"
    }
   },
   "source": [
    "Usually, model is run at fitted $u_0,v_0$ and conclusions based on it are published."
   ]
  },
  {
   "cell_type": "markdown",
   "metadata": {
    "slideshow": {
     "slide_type": "slide"
    }
   },
   "source": [
    "# 5. Account for input uncertainty\n",
    "High experimental uncertainties can lead us to doubt the reliability of our result. First try: Add error bars by running the model at standard deviation distance,\n",
    "$$ f(r; u_0 + \\Delta u, v_0), f(r; u_0 - \\Delta u, v_0), f(r; u_0, v_0 - \\Delta v), f(r; u_0, v_0 + \\Delta v) $$"
   ]
  },
  {
   "cell_type": "code",
   "execution_count": null,
   "metadata": {
    "slideshow": {
     "slide_type": "fragment"
    }
   },
   "outputs": [],
   "source": [
    "plt.figure(dpi=120, figsize=(9, 2.66))\n",
    "\n",
    "plt.subplot(1,2,1)\n",
    "plt.plot(r, f(r, u0, v0), 'k')\n",
    "plt.plot(r, f(r, u0 - du, v0), 'k-.')\n",
    "plt.plot(r, f(r, u0 + du, v0), 'k:')\n",
    "plt.xlabel(r'$r$')\n",
    "plt.ylabel(r'$f(r; u, v)$')\n",
    "plt.title(\"Error bands due to u\")\n",
    "\n",
    "plt.subplot(1,2,2)\n",
    "plt.plot(r, f(r, u0, v0), 'k')\n",
    "plt.plot(r, f(r, u0 , v0 + dv), 'k-.')\n",
    "plt.plot(r, f(r, u0 , v0 - dv), 'k:')\n",
    "plt.xlabel(r'$r$')\n",
    "plt.ylabel(r'$f(r; u, v)$')\n",
    "plt.title(\"Error bands due to v\")\n",
    "\n",
    "plt.show()\n"
   ]
  },
  {
   "cell_type": "markdown",
   "metadata": {
    "slideshow": {
     "slide_type": "fragment"
    }
   },
   "source": [
    "There is quite some **uncertainty**, looks reasonable in $v$, but **not at all** in $u$."
   ]
  },
  {
   "cell_type": "markdown",
   "metadata": {
    "slideshow": {
     "slide_type": "slide"
    }
   },
   "source": [
    "Let's try again, but this time with 5 times smaller uncertainties in $u,v$."
   ]
  },
  {
   "cell_type": "code",
   "execution_count": null,
   "metadata": {
    "slideshow": {
     "slide_type": "fragment"
    }
   },
   "outputs": [],
   "source": [
    "plt.figure(dpi=120, figsize=(9, 2.66))\n",
    "\n",
    "plt.subplot(1,2,1)\n",
    "plt.plot(r, f(r, u0, v0), 'k')\n",
    "plt.plot(r, f(r, u0 - .2*du, v0), 'k-.')\n",
    "plt.plot(r, f(r, u0 + .2*du, v0), 'k:')\n",
    "plt.xlabel(r'$r$')\n",
    "plt.ylabel(r'$f(r; u, v)$')\n",
    "plt.title(\"Error bands due to u\")\n",
    "\n",
    "plt.subplot(1,2,2)\n",
    "plt.plot(r, f(r, u0, v0), 'k')\n",
    "plt.plot(r, f(r, u0 , v0 + .2*dv), 'k-.')\n",
    "plt.plot(r, f(r, u0 , v0 - .2*dv), 'k:')\n",
    "plt.xlabel(r'$r$')\n",
    "plt.ylabel(r'$f(r; u, v)$')\n",
    "plt.title(\"Error bands due to v\")\n",
    "\n",
    "plt.show()\n"
   ]
  },
  {
   "cell_type": "markdown",
   "metadata": {
    "slideshow": {
     "slide_type": "fragment"
    }
   },
   "source": [
    "Reducing input error to $2\\%$ we see that error band due to $u$ **switches sign** at $r \\approx 0.25$. It **fails** at $10\\%$ input error because we have left the **linear range**. To investigate, look at **actual** dependency of $f$ on parameters $u,v$."
   ]
  },
  {
   "cell_type": "markdown",
   "metadata": {
    "slideshow": {
     "slide_type": "slide"
    }
   },
   "source": [
    "# What has gone wrong?\n",
    "Of course I've maliciously designed $f$ such that it depends on $u,v$ in a **non-linear** way."
   ]
  },
  {
   "cell_type": "code",
   "execution_count": null,
   "metadata": {
    "slideshow": {
     "slide_type": "fragment"
    }
   },
   "outputs": [],
   "source": [
    "u = np.linspace(u0 - 3 * du, u0 + 3 * du, 100)\n",
    "v = np.linspace(v0 - 3 * dv, v0 + 3 * dv, 100)\n",
    "U, V = np.meshgrid(u, v)\n",
    "\n",
    "F = f(0.25, U, V)\n",
    "fu = f(0.25, u, v0)\n",
    "fv = f(0.25, u0, v)\n",
    "\n",
    "plt.figure(dpi=120, figsize=(9, 2.66))\n",
    "\n",
    "plt.subplot(1,3,1)\n",
    "plt.contour(U, V, F, 20)\n",
    "plt.plot(u0, v0, 'ko')\n",
    "ph = np.linspace(0, 2 * pi, 100)\n",
    "rho = np.ones(np.size(ph))\n",
    "plt.plot(u0 + du * rho * cos(ph), v0 + dv * rho * sin(ph), 'k--')\n",
    "plt.xlabel(r'$u$')\n",
    "plt.ylabel(r'$v$')\n",
    "plt.title(r'contours of $f(0.25; u, v)$')\n",
    "\n",
    "plt.subplot(1,3,2)\n",
    "plt.plot(u, fu)\n",
    "plt.plot((u0, u0), (np.min(fu), np.max(fu)), 'k')\n",
    "plt.plot((u0 - du, u0 - du), (np.min(fu), np.max(fu)), 'k-.')\n",
    "plt.plot((u0 + du, u0 + du), (np.min(fu), np.max(fu)), 'k:')\n",
    "plt.xlabel(r'$u$')\n",
    "plt.title(r'$f(0.25; u, v_0)$')\n",
    "\n",
    "plt.subplot(1,3,3)\n",
    "plt.plot(v, fv)\n",
    "plt.plot((v0, v0), (np.min(fv), np.max(fv)), 'k')\n",
    "plt.plot((v0 - dv, v0 - dv), (np.min(fv), np.max(fv)), 'k-.')\n",
    "plt.plot((v0 + dv, v0 + dv), (np.min(fv), np.max(fv)), 'k:')\n",
    "plt.xlabel(r'$v$')\n",
    "plt.title(r'$F(0.25; u_0, v)$')\n",
    "\n",
    "plt.show()"
   ]
  },
  {
   "cell_type": "markdown",
   "metadata": {
    "slideshow": {
     "slide_type": "fragment"
    }
   },
   "source": [
    " Here we hit a **local maximum** that explains switch in sign of error bands. There is no reason why it can't be **even worse** in practice.\n",
    "Still $f$ depends on $u,v$ in a nice **continuous** way $\\rightarrow$ can **expand** in **polynomials**."
   ]
  },
  {
   "cell_type": "markdown",
   "metadata": {
    "slideshow": {
     "slide_type": "slide"
    }
   },
   "source": [
    "# Expansion in polynomials"
   ]
  },
  {
   "cell_type": "code",
   "execution_count": null,
   "metadata": {
    "slideshow": {
     "slide_type": "fragment"
    }
   },
   "outputs": [],
   "source": [
    "distribution = cp.J(\n",
    "    cp.Normal(u0, du),\n",
    "    cp.Normal(v0, dv)\n",
    ")\n",
    "\n",
    "plt.figure(dpi=120, figsize=(10,2.66))\n",
    "for order in [1,2,3,4]:\n",
    "    expansion = cp.orth_ttr(order, distribution)\n",
    "    nodes, weights = cp.generate_quadrature(order, distribution, rule='G')\n",
    "    sol = [f(r, node[0], node[1]) for node in nodes.T]\n",
    "    approx = cp.fit_quadrature(expansion, nodes, weights, sol)\n",
    "    plt.subplot(1,4,order)\n",
    "    plt.plot(u, f(.25, u, v0))\n",
    "    plt.plot(u, approx[25](u, v0), '--')\n",
    "    plt.plot(nodes[0, :], approx[24](nodes[0, :], v0), 'o')\n",
    "    plt.plot((u0, u0), (np.min(fu), np.max(fu)), 'k')\n",
    "    plt.plot((u0 - du, u0 - du), (np.min(fu), np.max(fu)), 'k-.')\n",
    "    plt.plot((u0 + du, u0 + du), (np.min(fu), np.max(fu)), 'k:')\n",
    "    plt.xlabel(r'$u$')\n",
    "    if order == 1:\n",
    "        plt.ylabel(r'$f(0.25,u,v_0)$')\n",
    "    plt.title('order: {}'.format(order))\n",
    "    \n",
    "plt.figure(dpi=120, figsize=(10,2.66))\n",
    "for order in [1,2,3,4]:\n",
    "    expansion = cp.orth_ttr(order, distribution)\n",
    "    nodes, weights = cp.generate_quadrature(order, distribution, rule='G')\n",
    "    sol = [f(r, node[0], node[1]) for node in nodes.T]\n",
    "    approx = cp.fit_quadrature(expansion, nodes, weights, sol)\n",
    "    plt.subplot(1,4,order)\n",
    "    plt.contour(U, V, approx[25](U,V), np.linspace(0,10,20))\n",
    "    plt.plot(u0, v0, 'ko')\n",
    "    ph = np.linspace(0, 2 * pi, 100)\n",
    "    rho = np.ones(np.size(ph))\n",
    "    plt.plot(u0 + du * rho * cos(ph), v0 + dv * rho * sin(ph), 'k--')\n",
    "    plt.xlabel(r'$u$')\n",
    "    if order == 1:\n",
    "        plt.ylabel(r'$v$')"
   ]
  },
  {
   "cell_type": "markdown",
   "metadata": {
    "slideshow": {
     "slide_type": "slide"
    }
   },
   "source": [
    "# Polynomial Chaos Expansion\n",
    "\n",
    "How do (moments of) distribution in parameters $(u,v)$ propagate to $f(r; u,v)$ ?\n",
    "\n",
    "Polynomial chaos expansion uses analytical expressions when parameters $(u,v)$ are fed to polynomial approximations to $f$. \n",
    "\n",
    "There exists a variety of different polynomials suited for different distributions of parameters. Generally, **probability density function** $p(x)$ of parameters is equal to **weight function** under which polynomials are orthogonal. e.g. Hermite polynomials\n",
    "\n",
    "$$ \\int_{-\\infty}^{\\infty} H_m(x) H_n(x) e^{-x^2} du \\propto \\delta_{mn} $$\n",
    "\n",
    "to be used with Normal distribution with Gaussian probability density function."
   ]
  },
  {
   "cell_type": "markdown",
   "metadata": {
    "slideshow": {
     "slide_type": "slide"
    }
   },
   "source": [
    "# Polynomial Chaos Expansion"
   ]
  },
  {
   "cell_type": "code",
   "execution_count": null,
   "metadata": {
    "slideshow": {
     "slide_type": "fragment"
    }
   },
   "outputs": [],
   "source": [
    "plt.figure(dpi=120, figsize=(10,2.66))\n",
    "for order in [1,2,3,4]:\n",
    "    expansion = cp.orth_ttr(order, distribution)\n",
    "    nodes, weights = cp.generate_quadrature(order, distribution, rule='G')\n",
    "    print('Order: {}, number of model evaluations: {}'.format(order, nodes.shape[1]))\n",
    "    sol = [f(r, node[0], node[1]) for node in nodes.T]\n",
    "    approx = cp.fit_quadrature(expansion, nodes, weights, sol)\n",
    "    plt.subplot(1,4,order)\n",
    "    F0 = cp.E(approx, distribution)\n",
    "    dF = cp.Std(approx, distribution)\n",
    "\n",
    "    plt.plot(r, f(r, u0, v0), 'k')\n",
    "    plt.plot(r, F0, 'r')\n",
    "    plt.plot(r, F0 + dF, 'r:')\n",
    "    plt.plot(r, F0 - dF, 'r-.')\n",
    "    plt.xlabel(r'$r$')\n",
    "    if order == 1:\n",
    "        plt.ylabel(r'$f(r)$')\n",
    "    plt.title('order: {}'.format(order))"
   ]
  },
  {
   "cell_type": "markdown",
   "metadata": {
    "slideshow": {
     "slide_type": "fragment"
    }
   },
   "source": [
    "1. **Expectation value** of $f$ **different** from run at expectation values of $(u_0,v_0)$.\n",
    "2. Here, expectation value accurate already in **1st order**, error bands at order $\\geq$ 3."
   ]
  },
  {
   "cell_type": "markdown",
   "metadata": {
    "slideshow": {
     "slide_type": "slide"
    }
   },
   "source": [
    "# Polynomial Chaos Expansion"
   ]
  },
  {
   "cell_type": "code",
   "execution_count": null,
   "metadata": {
    "slideshow": {
     "slide_type": "fragment"
    }
   },
   "outputs": [],
   "source": [
    "# %%\n",
    "Fdist = cp.QoI_Dist(approx, distribution)\n",
    "Ftest = np.linspace(0, 8, 100)\n",
    "\n",
    "# %%\n",
    "plt.figure(dpi=120, figsize=(9,2.66))\n",
    "\n",
    "plt.subplot(1,2,1)\n",
    "plt.plot(Ftest, Fdist[25].pdf(Ftest))\n",
    "plt.plot((f(.25,u0,v0), f(.25,u0,v0)), (np.min(Fpdf), np.max(Fpdf)), 'k')\n",
    "plt.plot((F0[25], F0[25]), (np.min(Fpdf), np.max(Fpdf)), 'r')\n",
    "plt.plot((F0[25] + dF[25], F0[25] + dF[25]),\n",
    "         (np.min(Fpdf), np.max(Fpdf)), 'r-.')\n",
    "plt.plot((F0[25] - dF[25], F0[25] - dF[25]),\n",
    "         (np.min(Fpdf), np.max(Fpdf)), 'r:')\n",
    "plt.xlabel('f')\n",
    "plt.ylabel('P(f)')\n",
    "plt.title(r'$r=0.25$')\n",
    "\n",
    "plt.subplot(1,2,2)\n",
    "plt.plot(Ftest, Fdist[50].pdf(Ftest))\n",
    "plt.plot((f(.5,u0,v0), f(.5,u0,v0)), (np.min(Fpdf), np.max(Fpdf)), 'k')\n",
    "plt.plot((F0[50], F0[50]), (np.min(Fpdf), np.max(Fpdf)), 'r')\n",
    "plt.plot((F0[50] + dF[50], F0[50] + dF[50]),\n",
    "         (np.min(Fpdf), np.max(Fpdf)), 'r-.')\n",
    "plt.plot((F0[50] - dF[50], F0[50] - dF[50]),\n",
    "         (np.min(Fpdf), np.max(Fpdf)), 'r:')\n",
    "plt.xlabel('f')\n",
    "plt.title(r'$r=0.5$')\n",
    "\n",
    "plt.show()"
   ]
  },
  {
   "cell_type": "markdown",
   "metadata": {
    "slideshow": {
     "slide_type": "fragment"
    }
   },
   "source": [
    "Blue: Probability density function for model result $f$. Red: Expectation value of $f$ $\\pm$ standard deviation. Black: Model result at expected parameters $(u_0,v_0)$ from fit\n",
    "\n",
    "Nonlinearity of $f$ in fit parameters $u,v$ leads to **non-Gaussian** distribution in $f$ and therefore directly and indirectly to **different best guess** of $f$."
   ]
  },
  {
   "cell_type": "markdown",
   "metadata": {
    "slideshow": {
     "slide_type": "slide"
    }
   },
   "source": [
    "# Conclusion\n",
    "\n",
    "1. We **shouldn't believe** conclusions from modeling results from a run on a **single set** of fitted plasma profiles.\n",
    "2. In our example with 2 free parameters already **4 runs** allow for use of **PCE** for good **expectation values** and **16 runs** for **quantification of uncertainties**.\n",
    "3. Keep number of free parameters **small**, as run count increases **drastically**.\n",
    "\n",
    "# Outlook\n",
    "\n",
    "1. Apply to existing set of codes CLISTE+VMEC+NEO-2 for computation of NTV and impurity transport in ASDEX Upgrade with 3D perturbations.\n",
    "2. Extend to structure-preserving properties of GEMPIC, Hamiltonian codes.\n",
    "3. Cross-disciplinary applications within the Helmholtz RedMod project.\n"
   ]
  }
 ],
 "metadata": {
  "celltoolbar": "Slideshow",
  "hide_input": false,
  "kernelspec": {
   "display_name": "Python 3",
   "language": "python",
   "name": "python3"
  },
  "language_info": {
   "codemirror_mode": {
    "name": "ipython",
    "version": 3
   },
   "file_extension": ".py",
   "mimetype": "text/x-python",
   "name": "python",
   "nbconvert_exporter": "python",
   "pygments_lexer": "ipython3",
   "version": "3.6.3"
  }
 },
 "nbformat": 4,
 "nbformat_minor": 2
}
