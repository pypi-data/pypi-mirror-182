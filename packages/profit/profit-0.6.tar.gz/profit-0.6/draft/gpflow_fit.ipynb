{
 "cells": [
  {
   "cell_type": "code",
   "execution_count": null,
   "metadata": {},
   "outputs": [],
   "source": [
    "## Fitting with GPFlow\n",
    "\n",
    "Here's a simple example of GPflow fitting data."
   ]
  },
  {
   "cell_type": "code",
   "execution_count": null,
   "metadata": {},
   "outputs": [],
   "source": [
    "import numpy as np\n",
    "import matplotlib.pyplot as plt\n",
    "import gpflow\n",
    "from gpflow.utilities import print_summary, set_trainable\n",
    "\n",
    "def f(x):\n",
    "    return np.sin(3*x) + x\n",
    "\n",
    "xtrain = np.linspace(0, 3, 50).reshape([-1, 1])\n",
    "ytrain = f(xtrain) + 0.5*(np.random.randn(len(xtrain)).reshape([-1, 1]) - 0.5)\n",
    "\n",
    "ymean = np.mean(ytrain)\n",
    "shift = gpflow.kernels.Constant()\n",
    "shift.variance.assign(ymean**2)\n",
    "\n",
    "rbf = gpflow.kernels.SquaredExponential()\n",
    "rbf.lengthscales.assign(3.0*(np.max(xtrain) - np.min(xtrain))/len(xtrain))  # Guess not too broad, not too fine\n",
    "rbf.variance.assign(3.0*np.var(ytrain))                                     # Guess from existing data range\n",
    "\n",
    "# Alternative: if you want \"real prior\" data range\n",
    "#rbf.variance.assign(10.0*((ytrain.max() - ytrain.min()))**2)  # Set broad or manually\n",
    "#set_trainable(rbf.variance, False)  # \n",
    "\n",
    "k = rbf + shift\n",
    "m = gpflow.models.GPR(data=(xtrain, ytrain), kernel=k)\n",
    "\n",
    "\n",
    "opt = gpflow.optimizers.Scipy()\n",
    "\n",
    "def objective_closure():\n",
    "    return -m.log_marginal_likelihood()\n",
    "\n",
    "opt_logs = opt.minimize(objective_closure,\n",
    "                        m.trainable_variables,\n",
    "                        options=dict(maxiter=100))\n",
    "\n",
    "print_summary(m)\n",
    "\n",
    "\n",
    "xpl = np.linspace(-5, 10, 100).reshape(100, 1)\n",
    "mean, var = m.predict_y(xpl)\n",
    "\n",
    "plt.figure(figsize=(12, 6))\n",
    "plt.plot(xtrain, ytrain, 'x')\n",
    "plt.plot(xpl, mean, 'C0', lw=2)\n",
    "plt.fill_between(xpl[:, 0],\n",
    "                 mean[:, 0] - 1.96 * np.sqrt(var[:,0]),\n",
    "                 mean[:, 0] + 1.96 * np.sqrt(var[:,0]),\n",
    "                 color='C0', alpha=0.2)"
   ]
  },
  {
   "cell_type": "code",
   "execution_count": null,
   "metadata": {},
   "outputs": [],
   "source": [
    "# The same with proFit\n",
    "import profit\n",
    "\n",
    "fit = profit.fit(xtrain, ytrain)"
   ]
  },
  {
   "cell_type": "code",
   "execution_count": null,
   "metadata": {},
   "outputs": [],
   "source": []
  }
 ],
 "metadata": {
  "kernelspec": {
   "display_name": "Python 3.7.7 64-bit",
   "name": "python37764bitaa037e6b9ce0482a97f7f2f266a78e54"
  },
  "language_info": {
   "codemirror_mode": {
    "name": "ipython",
    "version": 3
   },
   "file_extension": ".py",
   "mimetype": "text/x-python",
   "name": "python",
   "nbconvert_exporter": "python",
   "pygments_lexer": "ipython3",
   "version": "3.7.7-final"
  }
 },
 "nbformat": 4,
 "nbformat_minor": 2
}
