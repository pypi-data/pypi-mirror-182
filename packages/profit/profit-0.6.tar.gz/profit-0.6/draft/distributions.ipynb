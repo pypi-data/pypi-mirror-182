{
 "cells": [
  {
   "cell_type": "code",
   "execution_count": null,
   "metadata": {},
   "outputs": [],
   "source": [
    "import tensorflow_probability as tfp\n",
    "from numpy import *\n",
    "from matplotlib.pyplot import *\n",
    "\n",
    "mea = 3.0\n",
    "vari = 3.0\n",
    "mu = log(mea**2/sqrt(vari+mea**2))\n",
    "sig = sqrt(log(1.0 + vari/mea**2))\n",
    "\n",
    "dist1 = tfp.distributions.LogNormal(mu, sig)\n",
    "x = linspace(0.01, 10, 100)\n",
    "p = dist1.prob(x)\n",
    "#samples = dist1.sample(1000)\n",
    "#p = dist1.prob(linspace(0,10,10))\n",
    "\n",
    "figure()\n",
    "plot(x, p.numpy())"
   ]
  },
  {
   "cell_type": "code",
   "execution_count": null,
   "metadata": {},
   "outputs": [],
   "source": [
    "dist2 = tfp.distributions.InverseGamma(2.0, 2.0)\n",
    "x = linspace(0.01, 10, 100)\n",
    "p = dist2.prob(x)\n",
    "\n",
    "figure()\n",
    "plot(x, p.numpy())"
   ]
  },
  {
   "cell_type": "code",
   "execution_count": null,
   "metadata": {},
   "outputs": [],
   "source": []
  }
 ],
 "metadata": {
  "file_extension": ".py",
  "language_info": {
   "codemirror_mode": {
    "name": "ipython",
    "version": 3
   },
   "name": "python",
   "version": "3.7.5"
  },
  "mimetype": "text/x-python",
  "name": "python",
  "npconvert_exporter": "python",
  "pygments_lexer": "ipython3",
  "version": 3
 },
 "nbformat": 4,
 "nbformat_minor": 2
}
