{
 "cells": [
  {
   "cell_type": "markdown",
   "id": "8073fffa",
   "metadata": {},
   "source": [
    "# Example: Run System\n",
    "Showcases the API Usage of the run system\n",
    "proFit v0.5.dev"
   ]
  },
  {
   "cell_type": "code",
   "execution_count": null,
   "id": "55f1cc72",
   "metadata": {},
   "outputs": [],
   "source": [
    "import numpy as np\n",
    "import matplotlib.pyplot as plt"
   ]
  },
  {
   "cell_type": "markdown",
   "id": "65290488",
   "metadata": {},
   "source": [
    "## Setup\n",
    "### The Worker\n",
    "The simulation we want to run is wrapped in a *Worker*. We need to name the output variables, the input variables can be inferred from the simulations's argument list.\n",
    "\n",
    "As an alternative, the *CommandWorker* can be configured to run any command/executable. It will prepare a directory for each simulation, filling the input values according to a template and read the output files to transmit them back.\n",
    "\n",
    "**Note:** for the *LocalRunner* and *SlurmRunner* it is only possible to use a custom *Worker* which is *importable* (e.g. defined in a separate file which is specified in the configuration). Custom *Workers* defined in a script or notebook can only be used with the *ForkRunner* for now."
   ]
  },
  {
   "cell_type": "code",
   "execution_count": null,
   "id": "f387f577",
   "metadata": {},
   "outputs": [],
   "source": [
    "from profit.run import Worker\n",
    "\n",
    "\n",
    "@Worker.wrap(\"simulation\")\n",
    "def simulation(u, v) -> \"f\":\n",
    "    return u * np.cos(v)"
   ]
  },
  {
   "cell_type": "markdown",
   "id": "1c6dd136",
   "metadata": {},
   "source": [
    "### The Interface\n",
    "To manage the flow of data between the *Workers* and the *Runner*, we choose and configure an *Interface*.\n",
    "\n",
    "| Memorymap Interface (`memmap`) | ZeroMQ Interface (`zeromq`) |\n",
    "| :-: | :-: |\n",
    "| single memory mapped file | messages via a protocol (tcp) |\n",
    "| only local, but fast | local and distributed (HPC) |"
   ]
  },
  {
   "cell_type": "code",
   "execution_count": null,
   "id": "13e85865",
   "metadata": {},
   "outputs": [],
   "source": [
    "from profit.run import RunnerInterface\n",
    "\n",
    "interface = RunnerInterface[\"memmap\"](\n",
    "    size=10,\n",
    "    input_config={\"u\": {\"dtype\": float}, \"v\": {\"dtype\": float}},\n",
    "    output_config={\"f\": {\"dtype\": float, \"size\": (1, 1)}},\n",
    ")"
   ]
  },
  {
   "cell_type": "markdown",
   "id": "6148f2c2",
   "metadata": {},
   "source": [
    "### The Runner\n",
    "The *Runner* is the central components of the run system which brings everything together. The *Runner* is also responsible for starting and distributing the individual *Workers*.\n",
    "\n",
    "| Fork Runner (`fork`) | Local Runner (`local`) | Slurm Runner (`slurm`) |\n",
    "| :-: | :-: | :-: |\n",
    "| forking / `Process` | via the shell / `subprocess` | via the *Slurm* scheduler | \n",
    "| fastest, supports temporary *Workers* | | submits *Slurm* jobs (HPC) |"
   ]
  },
  {
   "cell_type": "code",
   "execution_count": null,
   "id": "5e548498",
   "metadata": {},
   "outputs": [],
   "source": [
    "from profit.run import Runner\n",
    "\n",
    "runner = Runner[\"fork\"](\n",
    "    interface=interface,\n",
    "    worker=\"simulation\",  # don't require the Worker, just it's label or config dictionary\n",
    ")"
   ]
  },
  {
   "cell_type": "markdown",
   "id": "632f6f1c",
   "metadata": {},
   "source": [
    "## Running"
   ]
  },
  {
   "cell_type": "code",
   "execution_count": null,
   "id": "a9b90ace",
   "metadata": {},
   "outputs": [],
   "source": [
    "runner.next_run_id = 0  # reset Runner\n",
    "runner.spawn({\"u\": 1.2, \"v\": 2})\n",
    "\n",
    "U = np.random.random(9)\n",
    "V = np.linspace(0, 2, 9)\n",
    "parameters = [{\"u\": u, \"v\": v} for u, v in zip(U, V)]\n",
    "runner.spawn_array(parameters, progress=True, wait=True)"
   ]
  },
  {
   "cell_type": "markdown",
   "id": "cffd705a",
   "metadata": {},
   "source": [
    "## Results"
   ]
  },
  {
   "cell_type": "code",
   "execution_count": null,
   "id": "959f1ef3",
   "metadata": {},
   "outputs": [],
   "source": [
    "import pandas as pd\n",
    "\n",
    "pd.DataFrame(runner.input_data).join(pd.DataFrame(runner.output_data))"
   ]
  },
  {
   "cell_type": "code",
   "execution_count": null,
   "id": "12f2d976",
   "metadata": {},
   "outputs": [],
   "source": [
    "fig, ax = plt.subplots(tight_layout=True)\n",
    "sc = ax.scatter(\n",
    "    runner.input_data[\"u\"], runner.input_data[\"v\"], c=runner.output_data[\"f\"]\n",
    ")\n",
    "plt.colorbar(sc, ax=ax, label=\"f\")\n",
    "ax.set(\n",
    "    xlabel=\"u\",\n",
    "    ylabel=\"v\",\n",
    ")\n",
    "None"
   ]
  },
  {
   "cell_type": "markdown",
   "id": "9564b565",
   "metadata": {},
   "source": [
    "## Clean Runner & Interface"
   ]
  },
  {
   "cell_type": "code",
   "execution_count": null,
   "id": "02055975",
   "metadata": {},
   "outputs": [],
   "source": [
    "runner.clean()"
   ]
  }
 ],
 "metadata": {
  "kernelspec": {
   "display_name": "Python 3 (ipykernel)",
   "language": "python",
   "name": "python3"
  },
  "language_info": {
   "codemirror_mode": {
    "name": "ipython",
    "version": 3
   },
   "file_extension": ".py",
   "mimetype": "text/x-python",
   "name": "python",
   "nbconvert_exporter": "python",
   "pygments_lexer": "ipython3",
   "version": "3.10.6"
  }
 },
 "nbformat": 4,
 "nbformat_minor": 5
}
