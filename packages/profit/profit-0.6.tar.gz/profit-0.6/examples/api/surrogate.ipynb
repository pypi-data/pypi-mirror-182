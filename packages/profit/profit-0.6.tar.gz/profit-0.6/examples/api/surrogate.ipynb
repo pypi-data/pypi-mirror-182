{
 "cells": [
  {
   "cell_type": "markdown",
   "id": "ecb0298b",
   "metadata": {},
   "source": [
    "# Example: Surrogates\n",
    "Showcases the API usage of GP and LinReg Surrogates in 1D and 2D\n",
    "\n",
    "*Note:* these examples use mostly the default values. Better results can be achieved if hyperparameters are set manually to known values (e.g. if the uncertainty is known)."
   ]
  },
  {
   "cell_type": "code",
   "execution_count": null,
   "id": "cc626127",
   "metadata": {},
   "outputs": [],
   "source": [
    "# import libraries\n",
    "import numpy as np\n",
    "import matplotlib.pyplot as plt\n",
    "\n",
    "rng = np.random.default_rng()"
   ]
  },
  {
   "cell_type": "code",
   "execution_count": null,
   "id": "2c7064f7",
   "metadata": {},
   "outputs": [],
   "source": [
    "# import the Surrogate\n",
    "from profit.sur import Surrogate\n",
    "\n",
    "# ensure GP and LinReg Surrogates are available\n",
    "import profit.sur.gp\n",
    "import profit.sur.linreg"
   ]
  },
  {
   "cell_type": "code",
   "execution_count": null,
   "id": "7f0b330d",
   "metadata": {},
   "outputs": [],
   "source": [
    "# available surrogates:\n",
    "Surrogate.labels"
   ]
  },
  {
   "cell_type": "markdown",
   "id": "ed9ddcc9",
   "metadata": {},
   "source": [
    "## 1D"
   ]
  },
  {
   "cell_type": "code",
   "execution_count": null,
   "id": "af56c448",
   "metadata": {},
   "outputs": [],
   "source": [
    "# generate mockup data\n",
    "n = 10\n",
    "f = lambda x: 10 * (x - 0.2) * (x - 0.9) * (x - 0.5)\n",
    "\n",
    "x = np.maximum(np.minimum(rng.normal(0.5, 0.3, n), 1), 0)\n",
    "y = f(x) + rng.normal(0, 0.05, n)\n",
    "\n",
    "xx = np.linspace(0, 1, 100)\n",
    "yy = f(xx)\n",
    "\n",
    "ax = plt.subplot()\n",
    "ax.plot(x, y, \"o\", label=\"data\")\n",
    "ax.plot(xx, yy, label=\"truth\")\n",
    "ax.legend()\n",
    "None"
   ]
  },
  {
   "cell_type": "code",
   "execution_count": null,
   "id": "71895511",
   "metadata": {},
   "outputs": [],
   "source": [
    "# fit two GPs (different implementations)\n",
    "fig, axs = plt.subplots(1, 2, figsize=(12, 4))\n",
    "for ax, label in zip(axs, [\"GPy\", \"Sklearn\"]):\n",
    "\n",
    "    sur = Surrogate[label]()\n",
    "    sur.train(x, y)\n",
    "    mean, var = sur.predict(xx)\n",
    "\n",
    "    mean = mean.flatten()\n",
    "    std = np.sqrt(var.flatten())\n",
    "\n",
    "    ax.plot(x, y, \"o\", label=\"data\")\n",
    "    ax.plot(xx, yy, label=\"truth\")\n",
    "    ax.fill_between(xx, mean + 2 * std, mean - 2 * std, alpha=0.2)\n",
    "    ax.plot(xx, mean, label=\"model ($2 \\\\sigma$)\")\n",
    "    ax.legend()\n",
    "    ax.set(title=f\"Gaussian Process ({label})\")"
   ]
  },
  {
   "cell_type": "code",
   "execution_count": null,
   "id": "078dea7d",
   "metadata": {},
   "outputs": [],
   "source": [
    "# fit with Linear Regression\n",
    "sur = Surrogate[\"ChaospyLinReg\"](sigma_n=0.1, sigma_p=10, model=\"monomial\", order=5)\n",
    "sur.train(x, y)\n",
    "mean, var = sur.predict(xx)\n",
    "\n",
    "mean = mean.flatten()\n",
    "std = np.sqrt(var.flatten())\n",
    "\n",
    "ax = plt.subplot()\n",
    "ax.plot(x, y, \"o\", label=\"data\")\n",
    "ax.plot(xx, yy, label=\"truth\")\n",
    "ax.fill_between(xx, mean + 2 * std, mean - 2 * std, alpha=0.2)\n",
    "ax.plot(xx, mean, label=\"model ($2 \\\\sigma$)\")\n",
    "ax.legend()\n",
    "ax.set(title=f\"Linear Regression (ChaosPy)\")\n",
    "None"
   ]
  },
  {
   "cell_type": "markdown",
   "id": "af92c416",
   "metadata": {},
   "source": [
    "## 2D"
   ]
  },
  {
   "cell_type": "code",
   "execution_count": null,
   "id": "3da6d84a",
   "metadata": {},
   "outputs": [],
   "source": [
    "# generate mockup data\n",
    "n = 10\n",
    "f = lambda x, y: 10 * (x - 0.2) * (y - 0.9) * (x - 0.5) * (y - 0.3)\n",
    "\n",
    "x = np.maximum(np.minimum(rng.normal(0.5, 0.25, (n, 2)), 1), 0)\n",
    "y = f(x[:, 0], x[:, 1]) + rng.normal(0, 0.05, n)\n",
    "\n",
    "xx1 = np.linspace(0, 1, 10)\n",
    "xx2 = np.linspace(0, 1, 10)\n",
    "xx1, xx2 = np.meshgrid(xx1, xx2)\n",
    "xx = np.vstack([xx1.flatten(), xx2.flatten()]).T\n",
    "yy = f(xx1, xx2)\n",
    "\n",
    "fig, ax = plt.subplots()\n",
    "ax.plot(x[:, 0], x[:, 1], \"rx\")\n",
    "c = ax.pcolormesh(xx1, xx2, yy, shading=\"auto\")\n",
    "fig.colorbar(c, label=\"y\")\n",
    "ax.set(xlabel=\"$x_1$\", ylabel=\"$x_2$\", title=\"truth & data\")\n",
    "None"
   ]
  },
  {
   "cell_type": "code",
   "execution_count": null,
   "id": "ada068ef",
   "metadata": {},
   "outputs": [],
   "source": [
    "# fit with Linear Regression\n",
    "sur = Surrogate[\"ChaospyLinReg\"](sigma_n=0.1, sigma_p=10, model=\"hermite\", order=4)\n",
    "sur.train(x, y)\n",
    "mean, var = sur.predict(xx)\n",
    "\n",
    "mean = mean.flatten().reshape(xx1.shape)\n",
    "std = np.sqrt(var.flatten())\n",
    "\n",
    "fig, axs = plt.subplots(1, 3, figsize=(14, 4), constrained_layout=True)\n",
    "c = axs[0].pcolormesh(xx1, xx2, mean, shading=\"auto\")\n",
    "fig.colorbar(c, ax=axs[0])\n",
    "c = axs[1].pcolormesh(xx1, xx2, np.abs(yy - mean), shading=\"auto\")\n",
    "fig.colorbar(c, ax=axs[1])\n",
    "c = axs[2].pcolormesh(xx1, xx2, yy, shading=\"auto\")\n",
    "fig.colorbar(c, ax=axs[2])\n",
    "axs[0].set(title=f\"model\")\n",
    "axs[1].set(title=f\"absolute difference\")\n",
    "axs[2].set(title=f\"truth\")\n",
    "for i in range(3):\n",
    "    axs[i].plot(x[:, 0], x[:, 1], \"rx\")\n",
    "fig.suptitle(f\"Linear Regression (ChaosPy)\")\n",
    "None"
   ]
  }
 ],
 "metadata": {
  "kernelspec": {
   "display_name": "Python 3 (ipykernel)",
   "language": "python",
   "name": "python3"
  },
  "language_info": {
   "codemirror_mode": {
    "name": "ipython",
    "version": 3
   },
   "file_extension": ".py",
   "mimetype": "text/x-python",
   "name": "python",
   "nbconvert_exporter": "python",
   "pygments_lexer": "ipython3",
   "version": "3.10.6"
  }
 },
 "nbformat": 4,
 "nbformat_minor": 5
}
