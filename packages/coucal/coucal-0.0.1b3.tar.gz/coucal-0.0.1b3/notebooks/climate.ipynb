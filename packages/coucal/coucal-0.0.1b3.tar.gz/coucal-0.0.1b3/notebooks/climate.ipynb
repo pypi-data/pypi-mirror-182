{
 "cells": [
  {
   "cell_type": "markdown",
   "metadata": {},
   "source": [
    "# Notebook to demonstrate the climate tools available\n",
    "#  Based on data retreived via the cdsapi, you will need a cdsapi key to download the data"
   ]
  },
  {
   "cell_type": "code",
   "execution_count": null,
   "metadata": {},
   "outputs": [],
   "source": [
    "# Imports\n",
    "import os\n",
    "\n",
    "import xarray as xr\n",
    "\n",
    "import cdsapi\n",
    "import coucal"
   ]
  },
  {
   "cell_type": "code",
   "execution_count": null,
   "metadata": {},
   "outputs": [],
   "source": [
    "# Create directories \n",
    "if not os.path.isdir('test_data'): os.mkdir('test_data')\n",
    "\n",
    " \n",
    "# set constants\n",
    "YEARS = [yr for yr in range(2015,2018)]"
   ]
  },
  {
   "cell_type": "code",
   "execution_count": null,
   "metadata": {},
   "outputs": [],
   "source": [
    "# Download 5 years of hourly ERA5 data for europe\n",
    "c = cdsapi.Client()\n",
    "out_fnames = []\n",
    "for year in YEARS:\n",
    "    out_fnames += [f\"test_data/era5_temperature_europe_{year}.grib\"]\n",
    "    if not os.path.isfile(out_fnames[-1]):\n",
    "        c.retrieve(\n",
    "            'reanalysis-era5-single-levels',\n",
    "            {\n",
    "                'product_type': 'reanalysis',\n",
    "                'variable': '2m_temperature',\n",
    "                'year': year,\n",
    "                'month': [\n",
    "                    '01', '02', '03',\n",
    "                    '04', '05', '06',\n",
    "                    '07', '08', '09',\n",
    "                    '10', '11', '12',\n",
    "                ],\n",
    "                'day': [\n",
    "                    '01', '02', '03',\n",
    "                    '04', '05', '06',\n",
    "                    '07', '08', '09',\n",
    "                    '10', '11', '12',\n",
    "                    '13', '14', '15',\n",
    "                    '16', '17', '18',\n",
    "                    '19', '20', '21',\n",
    "                    '22', '23', '24',\n",
    "                    '25', '26', '27',\n",
    "                    '28', '29', '30',\n",
    "                    '31',\n",
    "                ],\n",
    "                'time': [\n",
    "                    '00:00', '06:00', '12:00', '18:00',\n",
    "                ],\n",
    "                'area': [\n",
    "                    80, -10, 30, 60,\n",
    "                ],\n",
    "                'format': 'grib',\n",
    "            },\n",
    "        ).download(target=out_fnames[-1])\n",
    "\n"
   ]
  },
  {
   "cell_type": "code",
   "execution_count": null,
   "metadata": {},
   "outputs": [],
   "source": [
    "# Open data in xarray\n",
    "t2m_data = xr.open_mfdataset(out_fnames)\n",
    "# t2m_data"
   ]
  },
  {
   "cell_type": "code",
   "execution_count": null,
   "metadata": {},
   "outputs": [],
   "source": [
    "climatology = coucal.climate.climatology_mean(t2m_data, frequency='month')\n",
    "climatology"
   ]
  },
  {
   "cell_type": "code",
   "execution_count": null,
   "metadata": {},
   "outputs": [],
   "source": [
    "clim_max = coucal.climate.climatology_max(t2m_data, frequency='month')\n",
    "clim_max"
   ]
  },
  {
   "cell_type": "code",
   "execution_count": null,
   "metadata": {},
   "outputs": [],
   "source": [
    "clim_min = coucal.climate.climatology_min(t2m_data, frequency='month')\n",
    "clim_min"
   ]
  },
  {
   "cell_type": "code",
   "execution_count": null,
   "metadata": {},
   "outputs": [],
   "source": [
    "clim_std = coucal.climate.climatology_std(t2m_data, frequency='month')\n",
    "clim_std"
   ]
  },
  {
   "cell_type": "code",
   "execution_count": null,
   "metadata": {},
   "outputs": [],
   "source": [
    "grouped = coucal.aggregate._groupby_time(t2m_data.chunk({'time':-1}) , 'month', None)\n",
    "grouped"
   ]
  },
  {
   "cell_type": "code",
   "execution_count": null,
   "metadata": {},
   "outputs": [],
   "source": [
    "coucal.aggregate.reduce(grouped, how='quantile', q=0.5, dim='time')"
   ]
  },
  {
   "cell_type": "code",
   "execution_count": null,
   "metadata": {},
   "outputs": [],
   "source": [
    "coucal.climate.climatology_quantiles(t2m_data, [0.5], frequency='month')"
   ]
  },
  {
   "cell_type": "code",
   "execution_count": null,
   "metadata": {},
   "outputs": [],
   "source": []
  }
 ],
 "metadata": {
  "kernelspec": {
   "display_name": "Python 3.10.6 ('coucal')",
   "language": "python",
   "name": "python3"
  },
  "language_info": {
   "codemirror_mode": {
    "name": "ipython",
    "version": 3
   },
   "file_extension": ".py",
   "mimetype": "text/x-python",
   "name": "python",
   "nbconvert_exporter": "python",
   "pygments_lexer": "ipython3",
   "version": "3.10.6"
  },
  "orig_nbformat": 4,
  "vscode": {
   "interpreter": {
    "hash": "58c973d167e6390f895c0b1f5bfc390aa59fea9f5b6b442df4c096a67487aa21"
   }
  }
 },
 "nbformat": 4,
 "nbformat_minor": 2
}
