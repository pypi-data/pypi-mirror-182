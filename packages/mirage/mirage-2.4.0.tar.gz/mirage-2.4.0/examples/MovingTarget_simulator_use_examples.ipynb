{
 "cells": [
  {
   "cell_type": "markdown",
   "metadata": {},
   "source": [
    "# Example: Using MIRAGE to Generate Moving Target Exposures\n",
    "### (i.e. Solar System target observations)"
   ]
  },
  {
   "cell_type": "markdown",
   "metadata": {},
   "source": [
    "This notebook shows an example of how to simulate observations of a non-sidereal target. In this case, JWST tracks the non-sidereal target during the exposure, causing sidereal targets to move over the course of the exposure."
   ]
  },
  {
   "cell_type": "markdown",
   "metadata": {},
   "source": [
    "The `mirage` simulator is broken up into four basic stages:\n",
    "\n",
    "1. **Creation of yaml-formatted input files**.<br>\n",
    "   Calls to Mirage generally require one [yaml input](https://mirage-data-simulator.readthedocs.io/en/latest/example_yaml.html) file. This file specifies\n",
    "   details about the instrument set-up, and source catalogs and reference files\n",
    "   to use. Each yaml file specifies exposure details for a single exposure\n",
    "   in a single detector.<br><br>\n",
    "\n",
    "2. **Creation of a \"seed image\".**<br>\n",
    "   This is generally a noiseless countrate image that contains signal\n",
    "   only from the astronomical sources to be simulated. Currently, the \n",
    "   mirage package contains code to produce a seed image starting\n",
    "   from object catalogs.<br>\n",
    "   Note that the much larger amount of data in a\n",
    "   seed image containing moving targets means that this step will be significantly\n",
    "   slower than when generating a simple seed image for a sidereal observation.<br><br>\n",
    "   \n",
    "3. **Dark current preparation.**<br>\n",
    "   The simulated data will be created by adding the simulated sources\n",
    "   in the seed image to a real dark current exposure. This step\n",
    "   converts the dark current exposure to the requested readout pattern\n",
    "   and subarray size requested by the user.<br><br>\n",
    "   \n",
    "4. **Observation generation.**<br>\n",
    "   This step converts the seed image into an exposure of the requested\n",
    "   readout pattern and subarray size. It also adds cosmic rays and \n",
    "   Poisson noise, as well as other detector effects (IPC, crosstalk, etc).\n",
    "   This exposure is then added to the dark current exposure from step 2.<br><br>"
   ]
  },
  {
   "cell_type": "markdown",
   "metadata": {},
   "source": [
    "---\n",
    "## Getting Started\n",
    "\n",
    "<div class=\"alert alert-block alert-warning\">\n",
    "**Important:** \n",
    "Before proceeding, ensure you have set the MIRAGE_DATA environment variable to point to the directory that contains the reference files associated with MIRAGE.\n",
    "<br/><br/>\n",
    "If you want JWST pipeline calibration reference files to be downloaded in a specific directory, you should also set the CRDS_DATA environment variable to point to that directory. This directory will also be used by the JWST calibration pipeline during data reduction.\n",
    "<br/><br/>\n",
    "You may also want to set the CRDS_SERVER_URL environment variable set to https://jwst-crds.stsci.edu. This is not strictly necessary, and Mirage will do it for you if you do not set it, but if you import the crds package, or any package that imports the crds package, you should set this environment variable first, in order to avoid an error.\n",
    "</div>"
   ]
  },
  {
   "cell_type": "markdown",
   "metadata": {},
   "source": [
    "*Table of Contents:*\n",
    "* [Imports](#imports)\n",
    "* [Create Source Catalogs](#make_catalogs)\n",
    "* [Generating `yaml` files](#make_yaml)\n",
    "* [Create Simulated Data](#run_steps_together)\n",
    "* [Running Simulation Steps Independently](#run_steps_independently)\n",
    "* [Simulating Multiple Exposures](#mult_sims)"
   ]
  },
  {
   "cell_type": "markdown",
   "metadata": {},
   "source": [
    "---\n",
    "<a id='imports'></a>\n",
    "# Imports"
   ]
  },
  {
   "cell_type": "code",
   "execution_count": null,
   "metadata": {},
   "outputs": [],
   "source": [
    "# Set the MIRAGE_DATA environment variable if it is not\n",
    "# set already. This is for users at STScI.\n",
    "import os"
   ]
  },
  {
   "cell_type": "code",
   "execution_count": null,
   "metadata": {},
   "outputs": [],
   "source": [
    "#os.environ[\"MIRAGE_DATA\"] = \"/my/mirage_data/\"\n",
    "#os.environ[\"CRDS_DATA\"] = \"/user/myself/crds_cache\"\n",
    "#os.environ[\"CRDS_SERVER_URL\"] = \"https://jwst-crds.stsci.edu\""
   ]
  },
  {
   "cell_type": "code",
   "execution_count": null,
   "metadata": {},
   "outputs": [],
   "source": [
    "from astropy.io import fits\n",
    "from glob import glob\n",
    "import matplotlib.pyplot as plt\n",
    "import numpy as np\n",
    "import pkg_resources\n",
    "from scipy.stats import sigmaclip\n",
    "%matplotlib inline"
   ]
  },
  {
   "cell_type": "code",
   "execution_count": null,
   "metadata": {},
   "outputs": [],
   "source": [
    "# mirage imports\n",
    "from mirage import imaging_simulator\n",
    "from mirage.catalogs import catalog_generator\n",
    "from mirage.seed_image import catalog_seed_image\n",
    "from mirage.dark import dark_prep\n",
    "from mirage.ramp_generator import obs_generator\n",
    "from mirage.yaml.yaml_generator import SimInput"
   ]
  },
  {
   "cell_type": "code",
   "execution_count": null,
   "metadata": {},
   "outputs": [],
   "source": [
    "TEST_DATA_DIRECTORY = os.path.normpath(os.path.join(pkg_resources.resource_filename('mirage', ''),\n",
    "                                                    '../examples/movingtarget_example_data'))"
   ]
  },
  {
   "cell_type": "code",
   "execution_count": null,
   "metadata": {},
   "outputs": [],
   "source": [
    "if not os.path.isdir(TEST_DATA_DIRECTORY):\n",
    "    print(\"WARNING: test data directory does not exist!\")"
   ]
  },
  {
   "cell_type": "code",
   "execution_count": null,
   "metadata": {},
   "outputs": [],
   "source": [
    "output_dir = './'"
   ]
  },
  {
   "cell_type": "code",
   "execution_count": null,
   "metadata": {},
   "outputs": [],
   "source": [
    "if not os.path.isdir(output_dir):\n",
    "    print(\"WARNING: output directory does not exist!\")"
   ]
  },
  {
   "cell_type": "markdown",
   "metadata": {},
   "source": [
    "---\n",
    "<a id='make_catalogs'></a>\n",
    "# Create Source Catalogs"
   ]
  },
  {
   "cell_type": "markdown",
   "metadata": {},
   "source": [
    "The first task to prepare for the creation of simulated data is to create source catalogs. Mirage supports several different types of catalogs, with a different catalog for each type of source (e.g. point sources, galaxies, etc. See the [catalog documentation](https://mirage-data-simulator.readthedocs.io/en/stable/catalogs.html) for details.)\n",
    "\n",
    "For this example, for our target we use the ephemeris for Mars (in order to maximize velocity and make the motion easy to see in a short exposure). However, for simplicity we will use a point source in place of Mars' disk. We will also include background stars in order to show the motion of background sources."
   ]
  },
  {
   "cell_type": "markdown",
   "metadata": {},
   "source": [
    "### Create non-sidereal catalog"
   ]
  },
  {
   "cell_type": "markdown",
   "metadata": {},
   "source": [
    "First, create the source catalog containing our target. For this we will use Mirage's non-sidereal catalog type. By using the non-sidereal catalog, we will be telling Mirage that we wish to have JWST track this source during the exposure. The motion of the non-sidereal source can be captured via either manually entered velocites, or by providing a [JPL Horizons](https://ssd.jpl.nasa.gov/horizons.cgi) formatted ephemeris file. In this example, we will use an ephemeris file."
   ]
  },
  {
   "cell_type": "code",
   "execution_count": null,
   "metadata": {},
   "outputs": [],
   "source": [
    "ephemeris_file = os.path.join(TEST_DATA_DIRECTORY, 'mars_ephemeris.txt')"
   ]
  },
  {
   "cell_type": "code",
   "execution_count": null,
   "metadata": {},
   "outputs": [],
   "source": [
    "non_sidereal_catalog = os.path.join(output_dir, 'mars_nonsidereal.cat')"
   ]
  },
  {
   "cell_type": "code",
   "execution_count": null,
   "metadata": {},
   "outputs": [],
   "source": [
    "# Create the catalog. Since we are using an ephemeris, there is no need to\n",
    "# specify the RA, Dec, nor velocity of the source. All will be retrieved from\n",
    "# the ephemeris file.\n",
    "ns = catalog_generator.NonSiderealCatalog(object_type=['pointSource'], ephemeris_file=[ephemeris_file])"
   ]
  },
  {
   "cell_type": "markdown",
   "metadata": {},
   "source": [
    "Add the source magnitudes to the catalog. Note that the magnitude values required by Mirage are magnitudes in the NIRCam/NIRISS filters of interest, so we cannot get these from the ephemeris file. Also, Mirage does not yet support source magnitudes that change with time. "
   ]
  },
  {
   "cell_type": "code",
   "execution_count": null,
   "metadata": {},
   "outputs": [],
   "source": [
    "mag = 14."
   ]
  },
  {
   "cell_type": "code",
   "execution_count": null,
   "metadata": {},
   "outputs": [],
   "source": [
    "# Be sure to add magnitude columns for all filters you wish to simulate. In this case\n",
    "# the APT file uses filters F150W and F356W\n",
    "ns.add_magnitude_column([mag], magnitude_system='abmag', instrument='nircam', filter_name='f150w')\n",
    "ns.add_magnitude_column([mag], magnitude_system='abmag', instrument='nircam', filter_name='f356w')\n",
    "ns.save(non_sidereal_catalog)"
   ]
  },
  {
   "cell_type": "code",
   "execution_count": null,
   "metadata": {},
   "outputs": [],
   "source": [
    "ns.table"
   ]
  },
  {
   "cell_type": "markdown",
   "metadata": {},
   "source": [
    "### Create catalog of background stars"
   ]
  },
  {
   "cell_type": "markdown",
   "metadata": {},
   "source": [
    "See the [Catalog Generation Tools](https://github.com/spacetelescope/mirage/blob/master/examples/Catalog_Generation_Tools.ipynb) example notebook for more details on creating source catalogs, including the use of 2MASS/GAIA/WISE/Besancon queries."
   ]
  },
  {
   "cell_type": "code",
   "execution_count": null,
   "metadata": {},
   "outputs": [],
   "source": [
    "point_source_catalog = os.path.join(output_dir, 'background_point_sources.cat')"
   ]
  },
  {
   "cell_type": "code",
   "execution_count": null,
   "metadata": {},
   "outputs": [],
   "source": [
    "base_ra = 25.7442083  # degrees\n",
    "base_dec = 6.4404722  # degrees\n",
    "cat_width = 93.  # arcseconds\n",
    "cat_width /= 3600."
   ]
  },
  {
   "cell_type": "code",
   "execution_count": null,
   "metadata": {},
   "outputs": [],
   "source": [
    "# Let's just randomly scatter some stars in the area\n",
    "ra_val = np.random.uniform(base_ra - cat_width, base_ra + cat_width, 50)\n",
    "dec_val = np.random.uniform(base_dec - cat_width, base_dec + cat_width, 50)\n",
    "mags = np.random.uniform(17, 20, 50)"
   ]
  },
  {
   "cell_type": "code",
   "execution_count": null,
   "metadata": {},
   "outputs": [],
   "source": [
    "# Set the first background source to be ~140 pixels from our non-sidereal target\n",
    "# This will make it easier to see the difference between the two in the \n",
    "# resulting simulated data\n",
    "ra_val[0] = 25.74248611078\n",
    "dec_val[0] = 6.438749978"
   ]
  },
  {
   "cell_type": "markdown",
   "metadata": {},
   "source": [
    "Note that all Mirage source catalogs must have an \"index\" column that assigns a number to each source. You cannot have multiple sources with the same index number, even across catalogs (because these index numbers will be used to populate the segmentation map). Since the non-sidereal catalog contains one source (with an index number of 1), we start the index numbers in this catalog at 2."
   ]
  },
  {
   "cell_type": "code",
   "execution_count": null,
   "metadata": {},
   "outputs": [],
   "source": [
    "ptsrc = catalog_generator.PointSourceCatalog(ra=ra_val, dec=dec_val, starting_index=2)\n",
    "ptsrc.add_magnitude_column(mags, magnitude_system='abmag', instrument='nircam', filter_name='f150w')\n",
    "ptsrc.add_magnitude_column(mags, magnitude_system='abmag', instrument='nircam', filter_name='f356w')\n",
    "ptsrc.save(point_source_catalog)"
   ]
  },
  {
   "cell_type": "code",
   "execution_count": null,
   "metadata": {},
   "outputs": [],
   "source": [
    "ptsrc.table"
   ]
  },
  {
   "cell_type": "markdown",
   "metadata": {},
   "source": [
    "---\n",
    "<a id='make_yaml'></a>\n",
    "# Generating input yaml files"
   ]
  },
  {
   "cell_type": "markdown",
   "metadata": {},
   "source": [
    "The easiest way to construct input yaml files is to begin with a proposal in [APT](https://jwst-docs.stsci.edu/jwst-astronomers-proposal-tool-overview). In this example, we use an APT file in the examples/movingtarget_example_data directory. Mirage does not use the apt file dirctly, but instead the exported xml and pointing files."
   ]
  },
  {
   "cell_type": "code",
   "execution_count": null,
   "metadata": {},
   "outputs": [],
   "source": [
    "xml_file = os.path.join(TEST_DATA_DIRECTORY, 'mars_example.xml')\n",
    "pointing_file = xml_file.replace('.xml', '.pointing')"
   ]
  },
  {
   "cell_type": "markdown",
   "metadata": {},
   "source": [
    "Due to the large number of ancillary files output by Mirage, it is often helpful to store the yaml files in their own directory, separate from the outputs of the simulator itself."
   ]
  },
  {
   "cell_type": "code",
   "execution_count": null,
   "metadata": {},
   "outputs": [],
   "source": [
    "yaml_output_dir = './'\n",
    "simdata_output_dir = './'"
   ]
  },
  {
   "cell_type": "markdown",
   "metadata": {},
   "source": [
    "Inputs into the yaml generator function include the source catalogs, as well as a number of other options detailed on the [yaml_generator documentation page](https://mirage-data-simulator.readthedocs.io/en/stable/yaml_generator.html). See that page for more information."
   ]
  },
  {
   "cell_type": "code",
   "execution_count": null,
   "metadata": {},
   "outputs": [],
   "source": [
    "# Catalogs must be put in a nested dictionary with target names (from the APT file) as\n",
    "# the top level keys, and catalog types as the second level keys. \n",
    "cats = {'MARS': {'moving_target_to_track': non_sidereal_catalog,\n",
    "                    'point_source': point_source_catalog},\n",
    "        'ONE': {'point_source': point_source_catalog}}"
   ]
  },
  {
   "cell_type": "code",
   "execution_count": null,
   "metadata": {},
   "outputs": [],
   "source": [
    "# Dates can be specified using a date-only or a datetime string for each observation in\n",
    "# the proposal. In this case, with a fast-moving target, we will use datetime strings. Keys\n",
    "# for this dictionary are the observation numbers from the proposal.\n",
    "dates = {'001': '2020-09-25T00:00:00.0'}"
   ]
  },
  {
   "cell_type": "code",
   "execution_count": null,
   "metadata": {
    "scrolled": true
   },
   "outputs": [],
   "source": [
    "# Now run the yaml_generator and create the yaml files\n",
    "y = SimInput(input_xml=xml_file, pointing_file=pointing_file, catalogs=cats,\n",
    "             dates=dates, dateobs_for_background=False, datatype='raw',\n",
    "             output_dir=yaml_output_dir, simdata_output_dir=simdata_output_dir)\n",
    "y.create_inputs()"
   ]
  },
  {
   "cell_type": "code",
   "execution_count": null,
   "metadata": {},
   "outputs": [],
   "source": [
    "# List the newly-created yaml files\n",
    "y.yaml_files"
   ]
  },
  {
   "cell_type": "markdown",
   "metadata": {},
   "source": [
    "---\n",
    "<a id='run_steps_together'></a>\n",
    "# Create Simulated Data"
   ]
  },
  {
   "cell_type": "markdown",
   "metadata": {},
   "source": [
    "### The imaging simulator class"
   ]
  },
  {
   "cell_type": "markdown",
   "metadata": {},
   "source": [
    "The imaging_simulator.ImgSim class is a wrapper around the three main steps of the simulator (detailed in the [Running simulator steps independently](#run_steps_independently) section below). This convenience function is useful when creating simulated imaging mode data."
   ]
  },
  {
   "cell_type": "markdown",
   "metadata": {},
   "source": [
    "For this example we'll simulate the first exposure in the NRCB5 detector. This should have our target relatively close to the center of the detector."
   ]
  },
  {
   "cell_type": "code",
   "execution_count": null,
   "metadata": {},
   "outputs": [],
   "source": [
    "# Specify the yaml input file to use\n",
    "yamlfile = os.path.join(yaml_output_dir, 'jw00042001001_01101_00001_nrcb5.yaml')"
   ]
  },
  {
   "cell_type": "code",
   "execution_count": null,
   "metadata": {
    "scrolled": true
   },
   "outputs": [],
   "source": [
    "# Run all steps of the imaging simulator for the yaml file\n",
    "m = imaging_simulator.ImgSim()\n",
    "m.paramfile = yamlfile\n",
    "m.create()"
   ]
  },
  {
   "cell_type": "markdown",
   "metadata": {},
   "source": [
    "### Examine the Output"
   ]
  },
  {
   "cell_type": "code",
   "execution_count": null,
   "metadata": {},
   "outputs": [],
   "source": [
    "def show(array, title, min=0, max=1000):\n",
    "    plt.figure(figsize=(12, 12))\n",
    "    plt.imshow(array, clim=(min, max), origin='lower')\n",
    "    plt.title(title)\n",
    "    plt.colorbar().set_label('DN$^{-}$/s')"
   ]
  },
  {
   "cell_type": "code",
   "execution_count": null,
   "metadata": {},
   "outputs": [],
   "source": [
    "def show_mult(array1, array2, array3, title, min=0, max=1000):\n",
    "    fig = plt.figure(figsize=(18, 18))\n",
    "    a = fig.add_subplot(131)\n",
    "    aplt = plt.imshow(array1, clim=(min, max), origin='lower')\n",
    "    b = fig.add_subplot(132)\n",
    "    bplt = plt.imshow(array2, clim=(min, max), origin='lower')\n",
    "    plt.title(title)\n",
    "    c = fig.add_subplot(133)\n",
    "    cplt = plt.imshow(array3, clim=(min, max), origin='lower')"
   ]
  },
  {
   "cell_type": "markdown",
   "metadata": {},
   "source": [
    "#### Noiseless Seed Image"
   ]
  },
  {
   "cell_type": "markdown",
   "metadata": {},
   "source": [
    "This image is an intermediate product. It contains only the signal from the astronomical sources and background. There are no detector effects, nor cosmic rays added to this count rate image."
   ]
  },
  {
   "cell_type": "markdown",
   "metadata": {},
   "source": [
    "In this case, the seed image has 4 dimensions rather than the 2 dimensions that it is for sidereal targets. This is because the moving sources lead to a seed image that is different in each group of each integration. So let's look at just the final frame of one integration of the seed image.\n",
    "\n",
    "We'll also zoom in, to make the motion of the background targets more visible. The non-sidereal target is in the upper left corner and appears as a normal PSF. The background star whose coordinates we specified manually when creating the point source catalog is smeared, since the telescope was not tracking at the sidereal rate."
   ]
  },
  {
   "cell_type": "code",
   "execution_count": null,
   "metadata": {},
   "outputs": [],
   "source": [
    "# First, look at the noiseless seed image. Zoom in to make the smeared\n",
    "# background sources obvious. \n",
    "show(m.seedimage[0,-1,850:1100,750:1000], 'Seed Image', max=25000)"
   ]
  },
  {
   "cell_type": "markdown",
   "metadata": {},
   "source": [
    "#### Final Output Product"
   ]
  },
  {
   "cell_type": "markdown",
   "metadata": {},
   "source": [
    "Examine the raw output. First a single group, which contains noise and detector artifacts. By zooming in we can minimize the appearance of these effects."
   ]
  },
  {
   "cell_type": "code",
   "execution_count": null,
   "metadata": {},
   "outputs": [],
   "source": [
    "y_base = os.path.basename(yamlfile)\n",
    "raw_base = y_base.replace('.yaml', '_uncal.fits')\n",
    "raw_file = os.path.join(simdata_output_dir, raw_base)\n",
    "with fits.open(raw_file) as hdulist:\n",
    "    raw_data = hdulist['SCI'].data\n",
    "print(raw_data.shape)"
   ]
  },
  {
   "cell_type": "code",
   "execution_count": null,
   "metadata": {},
   "outputs": [],
   "source": [
    "show(raw_data[0, -1, 850:1100,750:1000], \"Final Group\", max=15000)"
   ]
  },
  {
   "cell_type": "markdown",
   "metadata": {},
   "source": [
    "Many of the instrumental artifacts can be removed by looking at the difference between two groups. Raw data values are integers, so first make the data floats before doing the subtraction."
   ]
  },
  {
   "cell_type": "code",
   "execution_count": null,
   "metadata": {},
   "outputs": [],
   "source": [
    "show(1. * raw_data[0, -1, 850:1100,750:1000] - 1. * raw_data[0, 0, 850:1100,750:1000],\n",
    "     \"Last Minus First Group\", max=20000)"
   ]
  },
  {
   "cell_type": "markdown",
   "metadata": {},
   "source": [
    "This raw data file is now ready to be run through the [JWST calibration pipeline](https://jwst-pipeline.readthedocs.io/en/stable/) from the beginning."
   ]
  },
  {
   "cell_type": "markdown",
   "metadata": {},
   "source": [
    "---\n",
    "<a id='run_steps_independently'></a>\n",
    "# Running simulation steps independently"
   ]
  },
  {
   "cell_type": "markdown",
   "metadata": {},
   "source": [
    "## First generate the \"seed image\" \n",
    "This is generally a 2D noiseless countrate image that contains only simulated astronomical sources. However, when creating data using non-sidereal tracking or for sidereal tracking where a moving target (e.g. asteroid, KBO) are in the field of view, the seed image will in fact be a 3D seed ramp.\n",
    "\n",
    "A seed image is generated based on a `.yaml` file that contains all the necessary parameters for simulating data. An example `.yaml` file is show at the [bottom of this notebook](#yaml_example)."
   ]
  },
  {
   "cell_type": "code",
   "execution_count": null,
   "metadata": {},
   "outputs": [],
   "source": [
    "# yaml file that contains the parameters of the\n",
    "# data to be simulated\n",
    "yamlfile = os.path.join(yaml_output_dir, 'jw00042001001_01101_00001_nrcb5.yaml')"
   ]
  },
  {
   "cell_type": "code",
   "execution_count": null,
   "metadata": {
    "scrolled": true
   },
   "outputs": [],
   "source": [
    "cat = catalog_seed_image.Catalog_seed()\n",
    "cat.paramfile = yamlfile\n",
    "cat.make_seed()"
   ]
  },
  {
   "cell_type": "markdown",
   "metadata": {},
   "source": [
    "### Look at the seed image"
   ]
  },
  {
   "cell_type": "code",
   "execution_count": null,
   "metadata": {},
   "outputs": [],
   "source": [
    "# In this case, the seed image is 4D rather than the\n",
    "# 2D that it is for sidereal targets.\n",
    "# So let's look at just the final frame of the seed image\n",
    "\n",
    "# The non-sidereal target is in the center of the frame and appears\n",
    "# as a normal PSF (although hard to see in this view). All of the \n",
    "# background stars and galaxies are\n",
    "# smeared, since the telescope was not tracking at the sidereal rate.\n",
    "show(cat.seedimage[0, -1, 850:1100, 750:1000],'Seed Image',max=25000)"
   ]
  },
  {
   "cell_type": "code",
   "execution_count": null,
   "metadata": {},
   "outputs": [],
   "source": [
    "# Look at the first, middle, and last frames of the seed image\n",
    "# so we can see the background sources moving relative to the target,\n",
    "# and the stationary non-sidereal source getting brighter as exposure\n",
    "# time increases.\n",
    "show_mult(cat.seedimage[0, 0, 850:1100, 750:1000],\n",
    "          cat.seedimage[0, 3,850:1100, 750:1000],\n",
    "          cat.seedimage[0, -1, 850:1100, 750:1000], 'Seed Images',max=25000)"
   ]
  },
  {
   "cell_type": "markdown",
   "metadata": {},
   "source": [
    "## Prepare the dark current exposure\n",
    "This will serve as the base of the simulated data.\n",
    "This step will linearize the dark current (if it \n",
    "is not already), and reorganize it into the \n",
    "requested readout pattern and number of groups."
   ]
  },
  {
   "cell_type": "code",
   "execution_count": null,
   "metadata": {
    "scrolled": true
   },
   "outputs": [],
   "source": [
    "d = dark_prep.DarkPrep()\n",
    "d.paramfile = yamlfile\n",
    "d.prepare()"
   ]
  },
  {
   "cell_type": "markdown",
   "metadata": {},
   "source": [
    "### Look at the dark current \n",
    "For this, we will look at an image of the final group\n",
    "minus the first group"
   ]
  },
  {
   "cell_type": "code",
   "execution_count": null,
   "metadata": {},
   "outputs": [],
   "source": [
    "exptime = d.linDark.header['NGROUPS'] * cat.frametime\n",
    "diff = (d.linDark.data[0, -1, 850:1100, 750:1000] - d.linDark.data[0, 0, 850:1100,750:1000]) / exptime\n",
    "show(diff,'Dark Current Countrate',max=0.1)"
   ]
  },
  {
   "cell_type": "markdown",
   "metadata": {},
   "source": [
    "## Create the final exposure\n",
    "Turn the seed image into a exposure of the \n",
    "proper readout pattern, and combine it with the\n",
    "dark current exposure. Cosmic rays and other detector\n",
    "effects are added. \n",
    "\n",
    "The output can be either this linearized exposure, or\n",
    "a 'raw' exposure where the linearized exposure is \n",
    "\"unlinearized\" and the superbias and \n",
    "reference pixel signals are added, or the user can \n",
    "request both outputs. This is controlled from\n",
    "within the yaml parameter file."
   ]
  },
  {
   "cell_type": "code",
   "execution_count": null,
   "metadata": {
    "scrolled": true
   },
   "outputs": [],
   "source": [
    "obs = obs_generator.Observation()\n",
    "obs.linDark = d.prepDark\n",
    "obs.seed = cat.seedimage\n",
    "obs.segmap = cat.seed_segmap\n",
    "obs.seedheader = cat.seedinfo\n",
    "obs.paramfile = yamlfile\n",
    "obs.create()"
   ]
  },
  {
   "cell_type": "markdown",
   "metadata": {},
   "source": [
    "### Examine the final output image\n",
    "Look at the last group minus the first group"
   ]
  },
  {
   "cell_type": "code",
   "execution_count": null,
   "metadata": {},
   "outputs": [],
   "source": [
    "with fits.open(obs.raw_output) as h:\n",
    "    lindata = h[1].data\n",
    "    header = h[0].header"
   ]
  },
  {
   "cell_type": "code",
   "execution_count": null,
   "metadata": {},
   "outputs": [],
   "source": [
    "# The central target is difficult to see in this full field view\n",
    "exptime = header['EFFINTTM']\n",
    "diffdata = (lindata[0, -1, 850:1100, 750:1000] - lindata[0, 0, 850:1100, 750:1000]) / exptime\n",
    "show(diffdata, 'Simulated Data', min=0, max=200)"
   ]
  },
  {
   "cell_type": "code",
   "execution_count": null,
   "metadata": {},
   "outputs": [],
   "source": [
    "# Show on a log scale, to bring out the presence of the dark current\n",
    "# Noise in the CDS image makes for a lot of pixels with values < 0,\n",
    "# which makes this kind of an ugly image. Add an offset so that\n",
    "# everything is positive and the noise is visible\n",
    "offset = 2.\n",
    "plt.figure(figsize=(12,12))\n",
    "plt.imshow(np.log10(diffdata + offset), clim=(0.001,np.log10(80)), origin='lower')\n",
    "plt.title('Simulated Data')\n",
    "plt.colorbar().set_label('DN/s')"
   ]
  },
  {
   "cell_type": "markdown",
   "metadata": {},
   "source": [
    "---\n",
    "<a id='mult_sims'></a>\n",
    "## Running Multiple Simulations"
   ]
  },
  {
   "cell_type": "markdown",
   "metadata": {},
   "source": [
    "### Each yaml file, will simulate an exposure for a single pointing using a single detector."
   ]
  },
  {
   "cell_type": "markdown",
   "metadata": {},
   "source": [
    "To simulate an exposure using multiple detectors, you must have multiple yaml files. Consider this cumbersome example:\n",
    "```python\n",
    "yaml_a1 = 'sim_param_A1.yaml'\n",
    "yaml_a2 = 'sim_param_A2.yaml'\n",
    "yaml_a3 = 'sim_param_A3.yaml'\n",
    "yaml_a4 = 'sim_param_A4.yaml'\n",
    "yaml_a5 = 'sim_param_A5.yaml'\n",
    "\n",
    "make_sim(yaml_a1)\n",
    "make_sim(yaml_a2)\n",
    "make_sim(yaml_a3)\n",
    "make_sim(yaml_a4)\n",
    "make_sim(yaml_a5)\n",
    "```\n",
    "\n",
    "This can be performed more efficiently, either in series or in parallel:\n",
    "\n",
    "### In Series\n",
    "```python\n",
    "paramlist = [yaml_a1,yaml_a2,yaml_a3,yaml_a4,yaml_a5]\n",
    "\n",
    "def many_sim(paramlist):\n",
    "    '''Function to run many simulations in series\n",
    "    '''\n",
    "    for file in paramlist:\n",
    "        m = imaging_simulator.ImgSim()\n",
    "        m.paramfile = file\n",
    "        m.create()\n",
    "```\n",
    "\n",
    "### In Parallel\n",
    "\n",
    "Since each `yaml` simulations does not depend on the others, we can parallelize the process to speed things up:\n",
    "```python\n",
    "# Need to test this. May need a wrapper since the \n",
    "# imaging simulator is a class\n",
    "\n",
    "from multiprocessing import Pool\n",
    "\n",
    "n_procs = 5 # number of cores available\n",
    "\n",
    "with Pool(n_procs) as pool:\n",
    "    pool.map(make_sim, paramlist)\n",
    "```"
   ]
  }
 ],
 "metadata": {
  "kernelspec": {
   "display_name": "Python 3",
   "language": "python",
   "name": "python3"
  },
  "language_info": {
   "codemirror_mode": {
    "name": "ipython",
    "version": 3
   },
   "file_extension": ".py",
   "mimetype": "text/x-python",
   "name": "python",
   "nbconvert_exporter": "python",
   "pygments_lexer": "ipython3",
   "version": "3.6.7"
  }
 },
 "nbformat": 4,
 "nbformat_minor": 2
}
