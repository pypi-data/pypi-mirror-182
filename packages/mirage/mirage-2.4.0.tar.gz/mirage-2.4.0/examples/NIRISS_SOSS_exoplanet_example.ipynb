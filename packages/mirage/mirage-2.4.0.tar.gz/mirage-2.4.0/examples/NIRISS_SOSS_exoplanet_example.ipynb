{
 "cells": [
  {
   "cell_type": "markdown",
   "metadata": {},
   "source": [
    "# NIRISS SOSS simulation of transiting exoplanet WASP-43b\n",
    "\n",
    "This notebook demonstrates the core functionalities of the `mirage.soss_simulator` module by generating a simulation of the transiting exoplanet WASP-43b.\n",
    "\n",
    "First, some imports..."
   ]
  },
  {
   "cell_type": "code",
   "execution_count": null,
   "metadata": {},
   "outputs": [],
   "source": [
    "import numpy as np\n",
    "import matplotlib.pyplot as plt\n",
    "import batman\n",
    "from astropy.io import fits\n",
    "import astropy.units as q\n",
    "from mirage.soss_simulator import SossSim"
   ]
  },
  {
   "cell_type": "markdown",
   "metadata": {},
   "source": [
    "## 1. Stellar Data\n",
    "---------------\n",
    "\n",
    "Let's load a theoretical spectrum of WASP-43 from file and plot it."
   ]
  },
  {
   "cell_type": "code",
   "execution_count": null,
   "metadata": {},
   "outputs": [],
   "source": [
    "# Load the spectrum\n",
    "teff = 4250\n",
    "logg = 4.6\n",
    "feh = -0.01\n",
    "jmag = 8\n",
    "star_wavelength, star_flux = np.load('niriss_soss_example_data/WASP-43_Jmag_8.npy')\n",
    "star_spectrum = [star_wavelength * q.um, star_flux * q.erg / q.s / q.cm**2 / q.AA]\n",
    "\n",
    "# Make the plot\n",
    "plt.plot(star_wavelength, star_flux)\n",
    "plt.xlim(0.4,3.)\n",
    "plt.xlabel('Wavelength (microns)')\n",
    "plt.ylabel('Flux (erg/s/cm$^2$/angstrom)')\n",
    "plt.title('Stellar spectrum of WASP-43')"
   ]
  },
  {
   "cell_type": "markdown",
   "metadata": {},
   "source": [
    "## 2. Planet Data\n",
    "---------------\n",
    "\n",
    "Let's define a flat transit spectrum for WASP-43b."
   ]
  },
  {
   "cell_type": "code",
   "execution_count": null,
   "metadata": {},
   "outputs": [],
   "source": [
    "# Transmission spectrum\n",
    "planet_tspectrum = [star_wavelength * q.um, np.ones_like(star_wavelength) * 0.0136059394]"
   ]
  },
  {
   "cell_type": "markdown",
   "metadata": {},
   "source": [
    "And now let's generate a transit model `tmodel` and its parameters `params` using `batman` so `mirage` can inject those into the PSFs themselves. \n",
    "\n",
    "We first get the properties of WASP-43b from Kreidberg et al. (2014), and inject those in the `params` object. Let's assume we will be observing the transit of WASP-43b which occurrs on `2459819.131474` (August 27, 2022 --- at about 15:09 UT; note the `yaml` file is set to observe around this time indeed): "
   ]
  },
  {
   "cell_type": "code",
   "execution_count": null,
   "metadata": {},
   "outputs": [],
   "source": [
    "# Transit model with batman\n",
    "params = batman.TransitParams()\n",
    "params.t0 = 2459819.131474\n",
    "params.per = 0.81347436\n",
    "params.a = 4.87\n",
    "params.inc = 82.10\n",
    "params.ecc = 0.\n",
    "params.w = 90.\n",
    "params.limb_dark = 'quadratic'\n",
    "params.u = [0.5,0.5]   # These are placeholders; they are changed internally\n",
    "params.rp = 0.1166445  # These are placeholders; they are changed internally"
   ]
  },
  {
   "cell_type": "markdown",
   "metadata": {},
   "source": [
    "Now create the `TransitModel` object; inject stellar info as well here. This is useful for calculating limb-darkening:"
   ]
  },
  {
   "cell_type": "code",
   "execution_count": null,
   "metadata": {},
   "outputs": [],
   "source": [
    "tmodel = batman.TransitModel(params, np.array([0.])) # Time array is placeholder, will be changed internally by MIRAGE\n",
    "tmodel.teff, tmodel.logg, tmodel.feh = teff, logg, feh"
   ]
  },
  {
   "cell_type": "markdown",
   "metadata": {},
   "source": [
    "## 3. Run `mirage` with `SossSim`\n",
    "\n",
    "All right, now we ingest all this to `mirage` --- if you don't have `exoctk`, this will set limb-darkening to zero (which is what we want for now I believe!):"
   ]
  },
  {
   "cell_type": "code",
   "execution_count": null,
   "metadata": {},
   "outputs": [],
   "source": [
    "sim = SossSim(paramfile='niriss_soss_example_data/niriss_soss_substrip256_clear.yaml', \\\n",
    "              star=star_spectrum, planet=planet_tspectrum, tmodel=tmodel)"
   ]
  },
  {
   "cell_type": "code",
   "execution_count": null,
   "metadata": {},
   "outputs": [],
   "source": [
    "sim.info"
   ]
  },
  {
   "cell_type": "markdown",
   "metadata": {},
   "source": [
    "And, let's create the exposure! This should take a while:"
   ]
  },
  {
   "cell_type": "code",
   "execution_count": null,
   "metadata": {
    "scrolled": true
   },
   "outputs": [],
   "source": [
    "sim.create()"
   ]
  },
  {
   "cell_type": "markdown",
   "metadata": {},
   "source": [
    "Let's read in the simulated data and plot one integration:"
   ]
  },
  {
   "cell_type": "code",
   "execution_count": null,
   "metadata": {},
   "outputs": [],
   "source": [
    "# Get data from SCI extension\n",
    "w43 = fits.getdata('WASP43_NIS_SOSS_CLEAR_uncal.fits')\n",
    "\n",
    "# Plot a frame\n",
    "plt.figure(figsize=(15,5))\n",
    "im = plt.imshow(w43[0,2,:,:])\n",
    "im.set_clim(10000,20000)"
   ]
  },
  {
   "cell_type": "code",
   "execution_count": null,
   "metadata": {},
   "outputs": [],
   "source": []
  }
 ],
 "metadata": {
  "kernelspec": {
   "display_name": "mirage",
   "language": "python",
   "name": "mirage"
  },
  "language_info": {
   "codemirror_mode": {
    "name": "ipython",
    "version": 3
   },
   "file_extension": ".py",
   "mimetype": "text/x-python",
   "name": "python",
   "nbconvert_exporter": "python",
   "pygments_lexer": "ipython3",
   "version": "3.6.12"
  }
 },
 "nbformat": 4,
 "nbformat_minor": 4
}
