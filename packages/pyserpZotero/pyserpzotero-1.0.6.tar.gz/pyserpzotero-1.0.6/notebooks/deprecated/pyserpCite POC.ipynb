{
 "cells": [
  {
   "cell_type": "code",
   "execution_count": 1,
   "id": "19eed423-4903-4808-a6c7-9e7ce5418627",
   "metadata": {},
   "outputs": [
    {
     "data": {
      "text/plain": [
       "<module 'pyserpCite' from '/usr/local/lib/python3.9/site-packages/pyserpCite.py'>"
      ]
     },
     "execution_count": 1,
     "metadata": {},
     "output_type": "execute_result"
    }
   ],
   "source": [
    "# Load libraries\n",
    "import importlib\n",
    "import pyserpCite\n",
    "import yaml\n",
    "\n",
    "from box import Box\n",
    "\n",
    "importlib.reload(pyserpCite)"
   ]
  },
  {
   "cell_type": "code",
   "execution_count": 127,
   "id": "1a446452-69d4-4fd1-9ad3-d49b8b3f8dd9",
   "metadata": {},
   "outputs": [],
   "source": [
    "with open(\"config.yaml\", \"r\") as ymlfile:\n",
    "    cfg = Box(yaml.safe_load(ymlfile), default_box=True, default_box_attr=None)\n",
    "    \n",
    "API_KEY = cfg.API_KEY\n",
    "ZOT_ID  = cfg.ZOT_ID\n",
    "ZOT_KEY = cfg.ZOT_KEY"
   ]
  },
  {
   "cell_type": "code",
   "execution_count": 128,
   "id": "d21329ec-8cac-4403-8ef3-26b177cbb5e5",
   "metadata": {},
   "outputs": [
    {
     "name": "stdout",
     "output_type": "stream",
     "text": [
      "Reminder: Make sure your Zotero key has write permissions.\n"
     ]
    }
   ],
   "source": [
    "# Instantiate a serpZot object for API management\n",
    "citeObj = pyserpCite.serpZot(API_KEY  = API_KEY, \n",
    "                             ZOT_ID   = ZOT_ID, \n",
    "                             ZOT_KEY  = ZOT_KEY)"
   ]
  },
  {
   "cell_type": "code",
   "execution_count": 129,
   "id": "5a18b524-a9c6-4cff-b44f-286bba985847",
   "metadata": {},
   "outputs": [
    {
     "name": "stdout",
     "output_type": "stream",
     "text": [
      "https://serpapi.com/search\n",
      "0\n",
      "This should've returned 0 (sucess)\n"
     ]
    }
   ],
   "source": [
    "# Call the search method\n",
    "print(citeObj.searchScholar(TERM = \"quantum vs classical algorithm accuracy\", MIN_YEAR = \"1990\"))\n",
    "print(\"This should've returned 0 (sucess)\")"
   ]
  },
  {
   "cell_type": "code",
   "execution_count": null,
   "id": "ba92f02e-707e-425c-82bf-e01fecd9b8d6",
   "metadata": {},
   "outputs": [
    {
     "name": "stdout",
     "output_type": "stream",
     "text": [
      "Now processing: mkWXIfjuEL8J\n",
      "https://serpapi.com/search\n",
      "Montanaro, A. (2016). Quantum algorithms: an overview. npj Quantum Information, 2(1), 1-8.\n"
     ]
    },
    {
     "name": "stderr",
     "output_type": "stream",
     "text": [
      "  % Total    % Received % Xferd  Average Speed   Time    Time     Time  Current\n",
      "                                 Dload  Upload   Total   Spent    Left  Speed\n",
      "  0     0    0     0    0     0      0      0 --:--:-- --:--:-- --:--:--     0\n",
      "100   219  100   219    0     0    999      0 --:--:-- --:--:-- --:--:--     0\n",
      "100   337    0   337    0     0    839      0 --:--:-- --:--:-- --:--:--   839\n"
     ]
    },
    {
     "name": "stdout",
     "output_type": "stream",
     "text": [
      "{'itemType': 'journalArticle', 'title': 'Quantum algorithms: an overview', 'creators': [{'creatorType': 'author', 'firstName': 'Ashley', 'lastName': 'Montanaro'}], 'abstractNote': '', 'publicationTitle': 'npj Quantum Information', 'volume': '2', 'issue': '1', 'pages': '', 'date': '2016-01-01', 'series': '', 'seriesTitle': '', 'seriesText': '', 'journalAbbreviation': '', 'language': '', 'DOI': '10.1038/npjqi.2015.23', 'ISSN': '', 'shortTitle': '', 'url': 'https://doi.org/10.1038%2Fnpjqi.2015.23', 'accessDate': '2022-12-15', 'archive': '', 'archiveLocation': '', 'libraryCatalog': '', 'callNumber': '', 'rights': '', 'extra': '[]', 'tags': [], 'collections': [], 'relations': {}}\n",
      "Now processing: IT9PfXBqPtYJ\n",
      "https://serpapi.com/search\n",
      "Cerezo, M., Arrasmith, A., Babbush, R., Benjamin, S. C., Endo, S., Fujii, K., ... & Coles, P. J. (2021). Variational quantum algorithms. Nature Reviews Physics, 3(9), 625-644.\n"
     ]
    },
    {
     "name": "stderr",
     "output_type": "stream",
     "text": [
      "  % Total    % Received % Xferd  Average Speed   Time    Time     Time  Current\n",
      "                                 Dload  Upload   Total   Spent    Left  Speed\n",
      "  0     0    0     0    0     0      0      0 --:--:-- --:--:-- --:--:--     0\n",
      "100   229  100   229    0     0    941      0 --:--:-- --:--:-- --:--:--   941\n",
      "100   544    0   544    0     0   1273      0 --:--:-- --:--:-- --:--:--  1273\n"
     ]
    },
    {
     "name": "stdout",
     "output_type": "stream",
     "text": [
      "{'itemType': 'journalArticle', 'title': 'Variational quantum algorithms', 'creators': [{'creatorType': 'author', 'firstName': 'M.', 'lastName': 'Cerezo'}, {'creatorType': 'author', 'firstName': 'Andrew', 'lastName': 'Arrasmith'}, {'creatorType': 'author', 'firstName': 'Ryan', 'lastName': 'Babbush'}, {'creatorType': 'author', 'firstName': 'Simon', 'lastName': 'Benjamin'}, {'creatorType': 'author', 'firstName': 'Suguru', 'lastName': 'Endo'}, {'creatorType': 'author', 'firstName': 'Keisuke', 'lastName': 'Fujii'}, {'creatorType': 'author', 'firstName': 'Jarrod', 'lastName': 'McClean'}, {'creatorType': 'author', 'firstName': 'Kosuke', 'lastName': 'Mitarai'}, {'creatorType': 'author', 'firstName': 'Xiao', 'lastName': 'Yuan'}, {'creatorType': 'author', 'firstName': 'Lukasz', 'lastName': 'Cincio'}, {'creatorType': 'author', 'firstName': 'Patrick', 'lastName': 'Coles'}], 'abstractNote': '', 'publicationTitle': 'Nature Reviews Physics', 'volume': '3', 'issue': '9', 'pages': '', 'date': '2021-08-01', 'series': '', 'seriesTitle': '', 'seriesText': '', 'journalAbbreviation': '', 'language': '', 'DOI': '10.1038/s42254-021-00348-9', 'ISSN': '', 'shortTitle': '', 'url': 'https://doi.org/10.1038%2Fs42254-021-00348-9', 'accessDate': '2022-12-15', 'archive': '', 'archiveLocation': '', 'libraryCatalog': '', 'callNumber': '', 'rights': '', 'extra': '[]', 'tags': [], 'collections': [], 'relations': {}}\n",
      "Now processing: bvg3OSOigZEJ\n",
      "https://serpapi.com/search\n",
      "Abrams, D. S., & Lloyd, S. (1999). Quantum algorithm providing exponential speed increase for finding eigenvalues and eigenvectors. Physical Review Letters, 83(24), 5162.\n"
     ]
    },
    {
     "name": "stderr",
     "output_type": "stream",
     "text": [
      "  % Total    % Received % Xferd  Average Speed   Time    Time     Time  Current\n",
      "                                 Dload  Upload   Total   Spent    Left  Speed\n",
      "  0     0    0     0    0     0      0      0 --:--:-- --:--:-- --:--:--     0\n",
      "100   231  100   231    0     0    962      0 --:--:-- --:--:-- --:--:--   962\n",
      "100   442    0   442    0     0   1039      0 --:--:-- --:--:-- --:--:--  1039\n"
     ]
    },
    {
     "name": "stdout",
     "output_type": "stream",
     "text": [
      "{'itemType': 'journalArticle', 'title': 'Quantum Algorithm Providing Exponential Speed Increase for Finding Eigenvalues and Eigenvectors', 'creators': [{'creatorType': 'author', 'firstName': 'Daniel', 'lastName': 'Abrams'}, {'creatorType': 'author', 'firstName': 'Seth', 'lastName': 'Lloyd'}], 'abstractNote': '', 'publicationTitle': 'Physical Review Letters', 'volume': '83', 'issue': '24', 'pages': '', 'date': '1999-12-01', 'series': '', 'seriesTitle': '', 'seriesText': '', 'journalAbbreviation': '', 'language': '', 'DOI': '10.1103/physrevlett.83.5162', 'ISSN': '', 'shortTitle': '', 'url': 'https://doi.org/10.1103%2Fphysrevlett.83.5162', 'accessDate': '2022-12-15', 'archive': '', 'archiveLocation': '', 'libraryCatalog': '', 'callNumber': '', 'rights': '', 'extra': '[]', 'tags': [], 'collections': [], 'relations': {}}\n",
      "Now processing: iPwqi7Xkbb0J\n",
      "https://serpapi.com/search\n",
      "Bauer, B., Wecker, D., Millis, A. J., Hastings, M. B., & Troyer, M. (2016). Hybrid quantum-classical approach to correlated materials. Physical Review X, 6(3), 031045.\n"
     ]
    },
    {
     "name": "stderr",
     "output_type": "stream",
     "text": [
      "  % Total    % Received % Xferd  Average Speed   Time    Time     Time  Current\n",
      "                                 Dload  Upload   Total   Spent    Left  Speed\n",
      "  0     0    0     0    0     0      0      0 --:--:-- --:--:-- --:--:--     0\n",
      "100   227  100   227    0     0   1176      0 --:--:-- --:--:-- --:--:--  1176\n",
      "100   428    0   428    0     0   1147      0 --:--:-- --:--:-- --:--:--  1147\n"
     ]
    },
    {
     "name": "stdout",
     "output_type": "stream",
     "text": [
      "{'itemType': 'journalArticle', 'title': 'Hybrid Quantum-Classical Approach to Correlated Materials', 'creators': [{'creatorType': 'author', 'firstName': 'Bela', 'lastName': 'Bauer'}, {'creatorType': 'author', 'firstName': 'Dave', 'lastName': 'Wecker'}, {'creatorType': 'author', 'firstName': 'Andrew', 'lastName': 'Millis'}, {'creatorType': 'author', 'firstName': 'Matthew', 'lastName': 'Hastings'}, {'creatorType': 'author', 'firstName': 'Matthias', 'lastName': 'Troyer'}], 'abstractNote': '', 'publicationTitle': 'Physical Review X', 'volume': '6', 'issue': '3', 'pages': '', 'date': '2016-09-01', 'series': '', 'seriesTitle': '', 'seriesText': '', 'journalAbbreviation': '', 'language': '', 'DOI': '10.1103/physrevx.6.031045', 'ISSN': '', 'shortTitle': '', 'url': 'https://doi.org/10.1103%2Fphysrevx.6.031045', 'accessDate': '2022-12-15', 'archive': '', 'archiveLocation': '', 'libraryCatalog': '', 'callNumber': '', 'rights': '', 'extra': '[]', 'tags': [], 'collections': [], 'relations': {}}\n",
      "Now processing: 4UcEhWy7HfcJ\n",
      "https://serpapi.com/search\n",
      "Bauer, B., Bravyi, S., Motta, M., & Chan, G. K. L. (2020). Quantum algorithms for quantum chemistry and quantum materials science. Chemical Reviews, 120(22), 12685-12717.\n"
     ]
    },
    {
     "name": "stderr",
     "output_type": "stream",
     "text": [
      "  % Total    % Received % Xferd  Average Speed   Time    Time     Time  Current\n",
      "                                 Dload  Upload   Total   Spent    Left  Speed\n",
      "  0     0    0     0    0     0      0      0 --:--:-- --:--:-- --:--:--     0\n",
      "100   231  100   231    0     0   1122      0 --:--:-- --:--:-- --:--:--  1122\n",
      "100   449    0   449    0     0   1144      0 --:--:-- --:--:-- --:--:--  1144\n"
     ]
    },
    {
     "name": "stdout",
     "output_type": "stream",
     "text": [
      "{'itemType': 'journalArticle', 'title': 'Quantum Algorithms for Quantum Chemistry and Quantum Materials Science', 'creators': [{'creatorType': 'author', 'firstName': 'Bela', 'lastName': 'Bauer'}, {'creatorType': 'author', 'firstName': 'Sergey', 'lastName': 'Bravyi'}, {'creatorType': 'author', 'firstName': 'Mario', 'lastName': 'Motta'}, {'creatorType': 'author', 'firstName': 'Garnet', 'lastName': 'Chan'}], 'abstractNote': '', 'publicationTitle': 'Chemical Reviews', 'volume': '120', 'issue': '22', 'pages': '', 'date': '2020-10-01', 'series': '', 'seriesTitle': '', 'seriesText': '', 'journalAbbreviation': '', 'language': '', 'DOI': '10.1021/acs.chemrev.9b00829', 'ISSN': '', 'shortTitle': '', 'url': 'https://doi.org/10.1021%2Facs.chemrev.9b00829', 'accessDate': '2022-12-15', 'archive': '', 'archiveLocation': '', 'libraryCatalog': '', 'callNumber': '', 'rights': '', 'extra': '[]', 'tags': [], 'collections': [], 'relations': {}}\n",
      "Now processing: Wex6CvNm7PIJ\n",
      "https://serpapi.com/search\n",
      "Jordan, S. P., Lee, K. S., & Preskill, J. (2012). Quantum algorithms for quantum field theories. Science, 336(6085), 1130-1133.\n"
     ]
    },
    {
     "name": "stderr",
     "output_type": "stream",
     "text": [
      "  % Total    % Received % Xferd  Average Speed   Time    Time     Time  Current\n",
      "                                 Dload  Upload   Total   Spent    Left  Speed\n",
      "  0     0    0     0    0     0      0      0 --:--:-- --:--:-- --:--:--     0\n",
      "100   223  100   223    0     0   1122      0 --:--:-- --:--:-- --:--:--  1122\n",
      "100   422    0   422    0     0   1086      0 --:--:-- --:--:-- --:--:--  1086\n"
     ]
    },
    {
     "name": "stdout",
     "output_type": "stream",
     "text": [
      "{'itemType': 'journalArticle', 'title': 'Quantum Algorithms for Quantum Field Theories', 'creators': [{'creatorType': 'author', 'firstName': 'Stephen', 'lastName': 'Jordan'}, {'creatorType': 'author', 'firstName': 'Keith', 'lastName': 'Lee'}, {'creatorType': 'author', 'firstName': 'John', 'lastName': 'Preskill'}], 'abstractNote': '', 'publicationTitle': 'Science', 'volume': '336', 'issue': '6085', 'pages': '', 'date': '2012-06-01', 'series': '', 'seriesTitle': '', 'seriesText': '', 'journalAbbreviation': '', 'language': '', 'DOI': '10.1126/science.1217069', 'ISSN': '', 'shortTitle': '', 'url': 'https://doi.org/10.1126%2Fscience.1217069', 'accessDate': '2022-12-15', 'archive': '', 'archiveLocation': '', 'libraryCatalog': '', 'callNumber': '', 'rights': '', 'extra': '[]', 'tags': [], 'collections': [], 'relations': {}}\n",
      "Now processing: OLQ3_itsHh0J\n",
      "https://serpapi.com/search\n",
      "Lloyd, S., Mohseni, M., & Rebentrost, P. (2013). Quantum algorithms for supervised and unsupervised machine learning. arXiv preprint arXiv:1307.0411.\n"
     ]
    },
    {
     "name": "stderr",
     "output_type": "stream",
     "text": [
      "  % Total    % Received % Xferd  Average Speed   Time    Time     Time  Current\n",
      "                                 Dload  Upload   Total   Spent    Left  Speed\n",
      "  0     0    0     0    0     0      0      0 --:--:-- --:--:-- --:--:--     0\n",
      "100   215  100   215    0     0    785      0 --:--:-- --:--:-- --:--:--   785\n",
      "100   243    0   243    0     0    527      0 --:--:-- --:--:-- --:--:--   527\n"
     ]
    },
    {
     "name": "stdout",
     "output_type": "stream",
     "text": [
      "Now processing: 4ExkbnAAfOgJ\n",
      "https://serpapi.com/search\n",
      "Wang, D., Higgott, O., & Brierley, S. (2019). Accelerated variational quantum eigensolver. Physical review letters, 122(14), 140504.\n"
     ]
    },
    {
     "name": "stderr",
     "output_type": "stream",
     "text": [
      "  % Total    % Received % Xferd  Average Speed   Time    Time     Time  Current\n",
      "                                 Dload  Upload   Total   Spent    Left  Speed\n",
      "  0     0    0     0    0     0      0      0 --:--:-- --:--:-- --:--:--     0\n",
      "100   237  100   237    0     0   1016      0 --:--:-- --:--:-- --:--:--  1016\n",
      "100   392    0   392    0     0    898      0 --:--:-- --:--:-- --:--:--   898\n"
     ]
    },
    {
     "name": "stdout",
     "output_type": "stream",
     "text": [
      "{'itemType': 'journalArticle', 'title': 'Accelerated Variational Quantum Eigensolver', 'creators': [{'creatorType': 'author', 'firstName': 'Daochen', 'lastName': 'Wang'}, {'creatorType': 'author', 'firstName': 'Oscar', 'lastName': 'Higgott'}, {'creatorType': 'author', 'firstName': 'Stephen', 'lastName': 'Brierley'}], 'abstractNote': '', 'publicationTitle': 'Physical Review Letters', 'volume': '122', 'issue': '14', 'pages': '', 'date': '2019-04-01', 'series': '', 'seriesTitle': '', 'seriesText': '', 'journalAbbreviation': '', 'language': '', 'DOI': '10.1103/physrevlett.122.140504', 'ISSN': '', 'shortTitle': '', 'url': 'https://doi.org/10.1103%2Fphysrevlett.122.140504', 'accessDate': '2022-12-15', 'archive': '', 'archiveLocation': '', 'libraryCatalog': '', 'callNumber': '', 'rights': '', 'extra': '[]', 'tags': [], 'collections': [], 'relations': {}}\n",
      "Now processing: Tt3HtGKxckMJ\n",
      "https://serpapi.com/search\n",
      "Montanaro, A. (2015). Quantum speedup of Monte Carlo methods. Proceedings of the Royal Society A: Mathematical, Physical and Engineering Sciences, 471(2181), 20150301.\n"
     ]
    },
    {
     "name": "stderr",
     "output_type": "stream",
     "text": [
      "  % Total    % Received % Xferd  Average Speed   Time    Time     Time  Current\n",
      "                                 Dload  Upload   Total   Spent    Left  Speed\n",
      "  0     0    0     0    0     0      0      0 --:--:-- --:--:-- --:--:--     0\n",
      "100   221  100   221    0     0   1075      0 --:--:-- --:--:-- --:--:--  1075\n",
      "100   408    0   408    0     0   1050      0 --:--:-- --:--:-- --:--:--  1050\n"
     ]
    },
    {
     "name": "stdout",
     "output_type": "stream",
     "text": [
      "{'itemType': 'journalArticle', 'title': 'Quantum speedup of Monte Carlo methods', 'creators': [{'creatorType': 'author', 'firstName': 'Ashley', 'lastName': 'Montanaro'}], 'abstractNote': '', 'publicationTitle': 'Proceedings of the Royal Society A: Mathematical, Physical and Engineering Sciences', 'volume': '471', 'issue': '2181', 'pages': '', 'date': '2015-09-01', 'series': '', 'seriesTitle': '', 'seriesText': '', 'journalAbbreviation': '', 'language': '', 'DOI': '10.1098/rspa.2015.0301', 'ISSN': '', 'shortTitle': '', 'url': 'https://doi.org/10.1098%2Frspa.2015.0301', 'accessDate': '2022-12-15', 'archive': '', 'archiveLocation': '', 'libraryCatalog': '', 'callNumber': '', 'rights': '', 'extra': '[]', 'tags': [], 'collections': [], 'relations': {}}\n",
      "Now processing: 31PVGGMjlJIJ\n",
      "https://serpapi.com/search\n",
      "Kassal, I., Jordan, S. P., Love, P. J., Mohseni, M., & Aspuru-Guzik, A. (2008). Polynomial-time quantum algorithm for the simulation of chemical dynamics. Proceedings of the National Academy of Sciences, 105(48), 18681-18686.\n"
     ]
    },
    {
     "name": "stderr",
     "output_type": "stream",
     "text": [
      "  % Total    % Received % Xferd  Average Speed   Time    Time     Time  Current\n",
      "                                 Dload  Upload   Total   Spent    Left  Speed\n",
      "  0     0    0     0    0     0      0      0 --:--:-- --:--:-- --:--:--     0\n",
      "100   223  100   223    0     0    945      0 --:--:-- --:--:-- --:--:--   945\n",
      "100   520    0   520    0     0   1222      0 --:--:-- --:--:-- --:--:--  1222\n"
     ]
    },
    {
     "name": "stdout",
     "output_type": "stream",
     "text": [
      "{'itemType': 'journalArticle', 'title': 'Polynomial-time quantum algorithm for the simulation of chemical dynamics', 'creators': [{'creatorType': 'author', 'firstName': 'Ivan', 'lastName': 'Kassal'}, {'creatorType': 'author', 'firstName': 'Stephen', 'lastName': 'Jordan'}, {'creatorType': 'author', 'firstName': 'Peter', 'lastName': 'Love'}, {'creatorType': 'author', 'firstName': 'Masoud', 'lastName': 'Mohseni'}, {'creatorType': 'author', 'firstName': \"Al{\\\\'{a}}n\", 'lastName': 'Aspuru-Guzik'}], 'abstractNote': '', 'publicationTitle': 'Proceedings of the National Academy of Sciences', 'volume': '105', 'issue': '48', 'pages': '', 'date': '2008-12-01', 'series': '', 'seriesTitle': '', 'seriesText': '', 'journalAbbreviation': '', 'language': '', 'DOI': '10.1073/pnas.0808245105', 'ISSN': '', 'shortTitle': '', 'url': 'https://doi.org/10.1073%2Fpnas.0808245105', 'accessDate': '2022-12-15', 'archive': '', 'archiveLocation': '', 'libraryCatalog': '', 'callNumber': '', 'rights': '', 'extra': '[]', 'tags': [], 'collections': [], 'relations': {}}\n",
      "Now processing: jYcD5RLqOWQJ\n",
      "https://serpapi.com/search\n",
      "Grimsley, H. R., Economou, S. E., Barnes, E., & Mayhall, N. J. (2019). An adaptive variational algorithm for exact molecular simulations on a quantum computer. Nature communications, 10(1), 1-9.\n"
     ]
    },
    {
     "name": "stderr",
     "output_type": "stream",
     "text": [
      "  % Total    % Received % Xferd  Average Speed   Time    Time     Time  Current\n",
      "                                 Dload  Upload   Total   Spent    Left  Speed\n",
      "  0     0    0     0    0     0      0      0 --:--:-- --:--:-- --:--:--     0\n",
      "100   229  100   229    0     0   1134      0 --:--:-- --:--:-- --:--:--  1134\n",
      "100   467    0   467    0     0   1178      0 --:--:-- --:--:-- --:--:--  3384\n"
     ]
    },
    {
     "name": "stdout",
     "output_type": "stream",
     "text": [
      "{'itemType': 'journalArticle', 'title': 'An adaptive variational algorithm for exact molecular simulations on a quantum computer', 'creators': [{'creatorType': 'author', 'firstName': 'Harper', 'lastName': 'Grimsley'}, {'creatorType': 'author', 'firstName': 'Sophia', 'lastName': 'Economou'}, {'creatorType': 'author', 'firstName': 'Edwin', 'lastName': 'Barnes'}, {'creatorType': 'author', 'firstName': 'Nicholas', 'lastName': 'Mayhall'}], 'abstractNote': '', 'publicationTitle': 'Nature Communications', 'volume': '10', 'issue': '1', 'pages': '', 'date': '2019-07-01', 'series': '', 'seriesTitle': '', 'seriesText': '', 'journalAbbreviation': '', 'language': '', 'DOI': '10.1038/s41467-019-10988-2', 'ISSN': '', 'shortTitle': '', 'url': 'https://doi.org/10.1038%2Fs41467-019-10988-2', 'accessDate': '2022-12-15', 'archive': '', 'archiveLocation': '', 'libraryCatalog': '', 'callNumber': '', 'rights': '', 'extra': '[]', 'tags': [], 'collections': [], 'relations': {}}\n",
      "Now processing: APwIcp2ggikJ\n",
      "https://serpapi.com/search\n",
      "Qi, F., Smith, K. N., LeCompte, T., Tzeng, N., Yuan, X., Chong, F. T., & Peng, L. (2022). Quantum Vulnerability Analysis to Accurate Estimate the Quantum Algorithm Success Rate. arXiv preprint arXiv:2207.14446.\n"
     ]
    },
    {
     "name": "stderr",
     "output_type": "stream",
     "text": [
      "  % Total    % Received % Xferd  Average Speed   Time    Time     Time  Current\n",
      "                                 Dload  Upload   Total   Spent    Left  Speed\n",
      "  0     0    0     0    0     0      0      0 --:--:-- --:--:-- --:--:--     0\n",
      "100   233  100   233    0     0   1072      0 --:--:-- --:--:-- --:--:--  1072\n",
      "100   374    0   374    0     0    914      0 --:--:-- --:--:-- --:--:--   914\n"
     ]
    },
    {
     "name": "stdout",
     "output_type": "stream",
     "text": [
      "{'itemType': 'journalArticle', 'title': 'Robust Cache-Aware Quantum Processor Layout', 'creators': [{'creatorType': 'author', 'firstName': 'Travis', 'lastName': 'LeCompte'}, {'creatorType': 'author', 'firstName': 'Fang', 'lastName': 'Qi'}, {'creatorType': 'author', 'firstName': 'Lu', 'lastName': 'Peng'}], 'abstractNote': '', 'publicationTitle': '', 'volume': '', 'issue': '', 'pages': '', 'date': '2020-09-01', 'series': '', 'seriesTitle': '', 'seriesText': '', 'journalAbbreviation': '', 'language': '', 'DOI': '10.1109/srds51746.2020.00035', 'ISSN': '', 'shortTitle': '', 'url': 'https://doi.org/10.1109%2Fsrds51746.2020.00035', 'accessDate': '2022-12-15', 'archive': '', 'archiveLocation': '', 'libraryCatalog': '', 'callNumber': '', 'rights': '', 'extra': '[]', 'tags': [], 'collections': [], 'relations': {}}\n",
      "Now processing: UM4vbxdTLaMJ\n",
      "https://serpapi.com/search\n",
      "Clader, B. D., Jacobs, B. C., & Sprouse, C. R. (2013). Preconditioned quantum linear system algorithm. Physical review letters, 110(25), 250504.\n"
     ]
    },
    {
     "name": "stderr",
     "output_type": "stream",
     "text": [
      "  % Total    % Received % Xferd  Average Speed   Time    Time     Time  Current\n",
      "                                 Dload  Upload   Total   Spent    Left  Speed\n",
      "  0     0    0     0    0     0      0      0 --:--:-- --:--:-- --:--:--     0\n",
      "100   237  100   237    0     0    982      0 --:--:-- --:--:-- --:--:--   982\n",
      "100   484    0   484    0     0   1117      0 --:--:-- --:--:-- --:--:--  1117\n"
     ]
    },
    {
     "name": "stdout",
     "output_type": "stream",
     "text": [
      "{'itemType': 'journalArticle', 'title': \"Publisher's Note: Preconditioned Quantum Linear System Algorithm [Phys. Rev. Lett.$\\\\less$b$\\\\greater$110$\\\\less$/b$\\\\greater$, 250504 (2013)]\", 'creators': [{'creatorType': 'author', 'firstName': 'B.', 'lastName': 'Clader'}, {'creatorType': 'author', 'firstName': 'B.', 'lastName': 'Jacobs'}, {'creatorType': 'author', 'firstName': 'C.', 'lastName': 'Sprouse'}], 'abstractNote': '', 'publicationTitle': 'Physical Review Letters', 'volume': '111', 'issue': '4', 'pages': '', 'date': '2013-07-01', 'series': '', 'seriesTitle': '', 'seriesText': '', 'journalAbbreviation': '', 'language': '', 'DOI': '10.1103/physrevlett.111.049903', 'ISSN': '', 'shortTitle': '', 'url': 'https://doi.org/10.1103%2Fphysrevlett.111.049903', 'accessDate': '2022-12-15', 'archive': '', 'archiveLocation': '', 'libraryCatalog': '', 'callNumber': '', 'rights': '', 'extra': '[]', 'tags': [], 'collections': [], 'relations': {}}\n",
      "Now processing: -_ZnDqIOjLQJ\n",
      "https://serpapi.com/search\n",
      "Linden, N., Montanaro, A., & Shao, C. (2022). Quantum vs. classical algorithms for solving the heat equation. Communications in Mathematical Physics, 395(2), 601-641.\n"
     ]
    },
    {
     "name": "stderr",
     "output_type": "stream",
     "text": [
      "  % Total    % Received % Xferd  Average Speed   Time    Time     Time  Current\n",
      "                                 Dload  Upload   Total   Spent    Left  Speed\n",
      "  0     0    0     0    0     0      0      0 --:--:-- --:--:-- --:--:--     0\n",
      "100   229  100   229    0     0   1038      0 --:--:-- --:--:-- --:--:--  1038\n",
      "100   448    0   448    0     0   1088      0 --:--:-- --:--:-- --:--:--  1088\n"
     ]
    },
    {
     "name": "stdout",
     "output_type": "stream",
     "text": [
      "{'itemType': 'journalArticle', 'title': 'Quantum vs. Classical Algorithms for Solving the Heat Equation', 'creators': [{'creatorType': 'author', 'firstName': 'Noah', 'lastName': 'Linden'}, {'creatorType': 'author', 'firstName': 'Ashley', 'lastName': 'Montanaro'}, {'creatorType': 'author', 'firstName': 'Changpeng', 'lastName': 'Shao'}], 'abstractNote': '', 'publicationTitle': 'Communications in Mathematical Physics', 'volume': '395', 'issue': '2', 'pages': '', 'date': '2022-08-01', 'series': '', 'seriesTitle': '', 'seriesText': '', 'journalAbbreviation': '', 'language': '', 'DOI': '10.1007/s00220-022-04442-6', 'ISSN': '', 'shortTitle': '', 'url': 'https://doi.org/10.1007%2Fs00220-022-04442-6', 'accessDate': '2022-12-15', 'archive': '', 'archiveLocation': '', 'libraryCatalog': '', 'callNumber': '', 'rights': '', 'extra': '[]', 'tags': [], 'collections': [], 'relations': {}}\n",
      "Now processing: JvyPFl2nb9MJ\n",
      "https://serpapi.com/search\n",
      "Paesani, F., Zhang, W., Case, D. A., Cheatham III, T. E., & Voth, G. A. (2006). An accurate and simple quantum model for liquid water. The Journal of chemical physics, 125(18), 184507.\n"
     ]
    },
    {
     "name": "stderr",
     "output_type": "stream",
     "text": [
      "  % Total    % Received % Xferd  Average Speed   Time    Time     Time  Current\n",
      "                                 Dload  Upload   Total   Spent    Left  Speed\n",
      "  0     0    0     0    0     0      0      0 --:--:-- --:--:-- --:--:--     0\n",
      "100   211  100   211    0     0    883      0 --:--:-- --:--:-- --:--:--     0\n",
      "100   430    0   430    0     0   1022      0 --:--:-- --:--:-- --:--:--  1022\n"
     ]
    },
    {
     "name": "stdout",
     "output_type": "stream",
     "text": [
      "{'itemType': 'journalArticle', 'title': 'An accurate and simple quantum model for liquid water', 'creators': [{'creatorType': 'author', 'firstName': 'Francesco', 'lastName': 'Paesani'}, {'creatorType': 'author', 'firstName': 'Wei', 'lastName': 'Zhang'}, {'creatorType': 'author', 'firstName': 'David', 'lastName': 'Case'}, {'creatorType': 'author', 'firstName': 'Thomas', 'lastName': 'Cheatham'}, {'creatorType': 'author', 'firstName': 'Gregory', 'lastName': 'Voth'}], 'abstractNote': '', 'publicationTitle': 'The Journal of Chemical Physics', 'volume': '125', 'issue': '18', 'pages': '', 'date': '2006-11-01', 'series': '', 'seriesTitle': '', 'seriesText': '', 'journalAbbreviation': '', 'language': '', 'DOI': '10.1063/1.2386157', 'ISSN': '', 'shortTitle': '', 'url': 'https://doi.org/10.1063%2F1.2386157', 'accessDate': '2022-12-15', 'archive': '', 'archiveLocation': '', 'libraryCatalog': '', 'callNumber': '', 'rights': '', 'extra': '[]', 'tags': [], 'collections': [], 'relations': {}}\n",
      "Now processing: N0Per_GRxBIJ\n",
      "https://serpapi.com/search\n",
      "Jasper, A. W., Stechmann, S. N., & Truhlar, D. G. (2002). Fewest-switches with time uncertainty: A modified trajectory surface-hopping algorithm with better accuracy for classically forbidden electronic transitions. The Journal of chemical physics, 116(13), 5424-5431.\n"
     ]
    },
    {
     "name": "stderr",
     "output_type": "stream",
     "text": [
      "  % Total    % Received % Xferd  Average Speed   Time    Time     Time  Current\n",
      "                                 Dload  Upload   Total   Spent    Left  Speed\n",
      "  0     0    0     0    0     0      0      0 --:--:-- --:--:-- --:--:--     0\n",
      "100   211  100   211    0     0   1234      0 --:--:-- --:--:-- --:--:--  1234\n",
      "100   505    0   505    0     0   1379      0 --:--:-- --:--:-- --:--:--     0\n"
     ]
    },
    {
     "name": "stdout",
     "output_type": "stream",
     "text": [
      "{'itemType': 'journalArticle', 'title': 'Fewest-switches with time uncertainty: A modified trajectory surface-hopping algorithm with better accuracy for classically forbidden electronic transitions', 'creators': [{'creatorType': 'author', 'firstName': 'Ahren', 'lastName': 'Jasper'}, {'creatorType': 'author', 'firstName': 'Samuel', 'lastName': 'Stechmann'}, {'creatorType': 'author', 'firstName': 'Donald', 'lastName': 'Truhlar'}], 'abstractNote': '', 'publicationTitle': 'The Journal of Chemical Physics', 'volume': '116', 'issue': '13', 'pages': '', 'date': '2002-04-01', 'series': '', 'seriesTitle': '', 'seriesText': '', 'journalAbbreviation': '', 'language': '', 'DOI': '10.1063/1.1453404', 'ISSN': '', 'shortTitle': '', 'url': 'https://doi.org/10.1063%2F1.1453404', 'accessDate': '2022-12-15', 'archive': '', 'archiveLocation': '', 'libraryCatalog': '', 'callNumber': '', 'rights': '', 'extra': '[]', 'tags': [], 'collections': [], 'relations': {}}\n",
      "Now processing: oRBUbopRUaUJ\n",
      "https://serpapi.com/search\n",
      "Cleve, R., Ekert, A., Macchiavello, C., & Mosca, M. (1998). Quantum algorithms revisited. Proceedings of the Royal Society of London. Series A: Mathematical, Physical and Engineering Sciences, 454(1969), 339-354.\n"
     ]
    },
    {
     "name": "stderr",
     "output_type": "stream",
     "text": [
      "  % Total    % Received % Xferd  Average Speed   Time    Time     Time  Current\n",
      "                                 Dload  Upload   Total   Spent    Left  Speed\n",
      "  0     0    0     0    0     0      0      0 --:--:-- --:--:-- --:--:--     0\n",
      "100   221  100   221    0     0    819      0 --:--:-- --:--:-- --:--:--     0\n",
      "100   450    0   450    0     0    988      0 --:--:-- --:--:-- --:--:--   988\n"
     ]
    },
    {
     "name": "stdout",
     "output_type": "stream",
     "text": [
      "{'itemType': 'journalArticle', 'title': 'Quantum algorithms revisited', 'creators': [{'creatorType': 'author', 'firstName': 'R.', 'lastName': 'Cleve'}, {'creatorType': 'author', 'firstName': 'A.', 'lastName': 'Ekert'}, {'creatorType': 'author', 'firstName': 'C.', 'lastName': 'Macchiavello'}, {'creatorType': 'author', 'firstName': 'M.', 'lastName': 'Mosca'}], 'abstractNote': '', 'publicationTitle': 'Proceedings of the Royal Society of London. Series A: Mathematical, Physical and Engineering Sciences', 'volume': '454', 'issue': '1969', 'pages': '', 'date': '1998-01-01', 'series': '', 'seriesTitle': '', 'seriesText': '', 'journalAbbreviation': '', 'language': '', 'DOI': '10.1098/rspa.1998.0164', 'ISSN': '', 'shortTitle': '', 'url': 'https://doi.org/10.1098%2Frspa.1998.0164', 'accessDate': '2022-12-15', 'archive': '', 'archiveLocation': '', 'libraryCatalog': '', 'callNumber': '', 'rights': '', 'extra': '[]', 'tags': [], 'collections': [], 'relations': {}}\n",
      "Now processing: BnLzcR04A8EJ\n",
      "https://serpapi.com/search\n",
      "Bedard-Hearn, M. J., Larsen, R. E., & Schwartz, B. J. (2005). Mean-field dynamics with stochastic decoherence (MF-SD): A new algorithm for nonadiabatic mixed quantum/classical molecular-dynamics simulations with nuclear-induced decoherence. The Journal of chemical physics, 123(23), 234106.\n"
     ]
    },
    {
     "name": "stderr",
     "output_type": "stream",
     "text": [
      "  % Total    % Received % Xferd  Average Speed   Time    Time     Time  Current\n",
      "                                 Dload  Upload   Total   Spent    Left  Speed\n",
      "  0     0    0     0    0     0      0      0 --:--:-- --:--:-- --:--:--     0\n",
      "100   211  100   211    0     0    748      0 --:--:-- --:--:-- --:--:--   748\n",
      "100   538    0   538    0     0   1157      0 --:--:-- --:--:-- --:--:--  1157\n"
     ]
    },
    {
     "name": "stdout",
     "output_type": "stream",
     "text": [
      "{'itemType': 'journalArticle', 'title': 'Mean-field dynamics with stochastic decoherence ({MF}-{SD}): A new algorithm for nonadiabatic mixed quantum/classical molecular-dynamics simulations with nuclear-induced decoherence', 'creators': [{'creatorType': 'author', 'firstName': 'Michael', 'lastName': 'Bedard-Hearn'}, {'creatorType': 'author', 'firstName': 'Ross', 'lastName': 'Larsen'}, {'creatorType': 'author', 'firstName': 'Benjamin', 'lastName': 'Schwartz'}], 'abstractNote': '', 'publicationTitle': 'The Journal of Chemical Physics', 'volume': '123', 'issue': '23', 'pages': '', 'date': '2005-12-01', 'series': '', 'seriesTitle': '', 'seriesText': '', 'journalAbbreviation': '', 'language': '', 'DOI': '10.1063/1.2131056', 'ISSN': '', 'shortTitle': '', 'url': 'https://doi.org/10.1063%2F1.2131056', 'accessDate': '2022-12-15', 'archive': '', 'archiveLocation': '', 'libraryCatalog': '', 'callNumber': '', 'rights': '', 'extra': '[]', 'tags': [], 'collections': [], 'relations': {}}\n",
      "Now processing: RErGZbBZ_fMJ\n",
      "https://serpapi.com/search\n",
      "Childs, A. M., Kothari, R., & Somma, R. D. (2017). Quantum algorithm for systems of linear equations with exponentially improved dependence on precision. SIAM Journal on Computing, 46(6), 1920-1950.\n"
     ]
    },
    {
     "name": "stderr",
     "output_type": "stream",
     "text": [
      "  % Total    % Received % Xferd  Average Speed   Time    Time     Time  Current\n",
      "                                 Dload  Upload   Total   Spent    Left  Speed\n",
      "  0     0    0     0    0     0      0      0 --:--:-- --:--:-- --:--:--     0\n",
      "100   213  100   213    0     0    738      0 --:--:-- --:--:-- --:--:--   738\n",
      "100   480    0   480    0     0   1003      0 --:--:-- --:--:-- --:--:--  1003\n"
     ]
    },
    {
     "name": "stdout",
     "output_type": "stream",
     "text": [
      "{'itemType': 'journalArticle', 'title': 'Quantum Algorithm for Systems of Linear Equations with Exponentially Improved Dependence on Precision', 'creators': [{'creatorType': 'author', 'firstName': 'Andrew', 'lastName': 'Childs'}, {'creatorType': 'author', 'firstName': 'Robin', 'lastName': 'Kothari'}, {'creatorType': 'author', 'firstName': 'Rolando', 'lastName': 'Somma'}], 'abstractNote': '', 'publicationTitle': '{SIAM} Journal on Computing', 'volume': '46', 'issue': '6', 'pages': '', 'date': '2017-01-01', 'series': '', 'seriesTitle': '', 'seriesText': '', 'journalAbbreviation': '', 'language': '', 'DOI': '10.1137/16m1087072', 'ISSN': '', 'shortTitle': '', 'url': 'https://doi.org/10.1137%2F16m1087072', 'accessDate': '2022-12-15', 'archive': '', 'archiveLocation': '', 'libraryCatalog': '', 'callNumber': '', 'rights': '', 'extra': '[]', 'tags': [], 'collections': [], 'relations': {}}\n",
      "Now processing: R6b_ok-R7YoJ\n",
      "https://serpapi.com/search\n",
      "Sim, S., Johnson, P. D., & Aspuru‐Guzik, A. (2019). Expressibility and entangling capability of parameterized quantum circuits for hybrid quantum‐classical algorithms. Advanced Quantum Technologies, 2(12), 1900070.\n"
     ]
    },
    {
     "name": "stderr",
     "output_type": "stream",
     "text": [
      "  % Total    % Received % Xferd  Average Speed   Time    Time     Time  Current\n",
      "                                 Dload  Upload   Total   Spent    Left  Speed\n",
      "  0     0    0     0    0     0      0      0 --:--:-- --:--:-- --:--:--     0\n",
      "100   221  100   221    0     0    968      0 --:--:-- --:--:-- --:--:--   968\n",
      "100   449    0   449    0     0   1084      0 --:--:-- --:--:-- --:--:--  1084\n"
     ]
    },
    {
     "name": "stdout",
     "output_type": "stream",
     "text": [
      "{'itemType': 'journalArticle', 'title': 'Expressibility and Entangling Capability of Parameterized Quantum Circuits for Hybrid Quantum-Classical Algorithms', 'creators': [{'creatorType': 'author', 'firstName': 'Sukin', 'lastName': 'Sim'}, {'creatorType': 'author', 'firstName': 'Peter', 'lastName': 'Johnson'}, {'creatorType': 'author', 'firstName': \"Al{\\\\'{a}}n\", 'lastName': 'Aspuru-Guzik'}], 'abstractNote': '', 'publicationTitle': 'Advanced Quantum Technologies', 'volume': '2', 'issue': '12', 'pages': '', 'date': '2019-10-01', 'series': '', 'seriesTitle': '', 'seriesText': '', 'journalAbbreviation': '', 'language': '', 'DOI': '10.1002/qute.201900070', 'ISSN': '', 'shortTitle': '', 'url': 'https://doi.org/10.1002%2Fqute.201900070', 'accessDate': '2022-12-15', 'archive': '', 'archiveLocation': '', 'libraryCatalog': '', 'callNumber': '', 'rights': '', 'extra': '[]', 'tags': [], 'collections': [], 'relations': {}}\n",
      "0\n"
     ]
    }
   ],
   "source": [
    "# Upload the parsed results\n",
    "print(citeObj.search2Zotero())"
   ]
  },
  {
   "cell_type": "code",
   "execution_count": null,
   "id": "419ae705-54bb-4a0e-8c78-73cafe354813",
   "metadata": {},
   "outputs": [],
   "source": [
    "# I've added more since writing the notebook. I will update this soon."
   ]
  }
 ],
 "metadata": {
  "kernelspec": {
   "display_name": "Python 3 (ipykernel)",
   "language": "python",
   "name": "python3"
  },
  "language_info": {
   "codemirror_mode": {
    "name": "ipython",
    "version": 3
   },
   "file_extension": ".py",
   "mimetype": "text/x-python",
   "name": "python",
   "nbconvert_exporter": "python",
   "pygments_lexer": "ipython3",
   "version": "3.9.13"
  }
 },
 "nbformat": 4,
 "nbformat_minor": 5
}
