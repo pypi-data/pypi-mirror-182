{
 "cells": [
  {
   "cell_type": "code",
   "execution_count": 180,
   "id": "bf767364-db0c-40e9-9309-bb4b1d9744f3",
   "metadata": {},
   "outputs": [
    {
     "data": {
      "text/plain": [
       "<module 'cleanZot' from '/Users/jason.miller/Documents/data-science-scripts/jason/litBot/litbot/cleanZot.py'>"
      ]
     },
     "execution_count": 180,
     "metadata": {},
     "output_type": "execute_result"
    }
   ],
   "source": [
    "# Load libraries\n",
    "import importlib\n",
    "import cleanZot\n",
    "import yaml\n",
    "\n",
    "from box import Box\n",
    "\n",
    "importlib.reload(cleanZot)"
   ]
  },
  {
   "cell_type": "code",
   "execution_count": 181,
   "id": "679a702f-44d1-457e-be85-8557a910900c",
   "metadata": {},
   "outputs": [],
   "source": [
    "with open(\"config.yaml\", \"r\") as ymlfile:\n",
    "    cfg = Box(yaml.safe_load(ymlfile), default_box=True, default_box_attr=None)\n",
    "    \n",
    "API_KEY = cfg.API_KEY\n",
    "ZOT_ID  = cfg.ZOT_ID\n",
    "ZOT_KEY = cfg.ZOT_KEY"
   ]
  },
  {
   "cell_type": "code",
   "execution_count": 183,
   "id": "2455b706-b494-44a7-a96d-b65ded30925b",
   "metadata": {},
   "outputs": [
    {
     "name": "stdout",
     "output_type": "stream",
     "text": [
      "Number of items retreived from your library:3753\n",
      "Updating your cloud library...\n",
      "Done! I hope this made things more readable.\n"
     ]
    },
    {
     "data": {
      "text/plain": [
       "0"
      ]
     },
     "execution_count": 183,
     "metadata": {},
     "output_type": "execute_result"
    }
   ],
   "source": [
    "# Clean Ugly Raw LaText (as Much as Possible)\n",
    "cleanZot.cleanZot(ZOT_ID      = ZOT_ID, \n",
    "                  ZOT_KEY     = ZOT_KEY,\n",
    "                  SEARCH_TERM = \"\")"
   ]
  },
  {
   "cell_type": "code",
   "execution_count": null,
   "id": "90177746-2615-496f-b206-2f821b34d129",
   "metadata": {},
   "outputs": [],
   "source": []
  }
 ],
 "metadata": {
  "kernelspec": {
   "display_name": "Python 3 (ipykernel)",
   "language": "python",
   "name": "python3"
  },
  "language_info": {
   "codemirror_mode": {
    "name": "ipython",
    "version": 3
   },
   "file_extension": ".py",
   "mimetype": "text/x-python",
   "name": "python",
   "nbconvert_exporter": "python",
   "pygments_lexer": "ipython3",
   "version": "3.9.13"
  }
 },
 "nbformat": 4,
 "nbformat_minor": 5
}
