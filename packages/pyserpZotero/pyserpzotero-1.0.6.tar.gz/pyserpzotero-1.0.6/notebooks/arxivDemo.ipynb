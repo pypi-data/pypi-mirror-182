{
 "cells": [
  {
   "cell_type": "code",
   "execution_count": 275,
   "id": "c41c7080-ab26-47fe-8550-21e04a9ca96f",
   "metadata": {},
   "outputs": [
    {
     "data": {
      "text/plain": [
       "<module 'pyserpZotero' from '/Users/jason.miller/Documents/data-science-scripts/jason/litBot/generic_python/src/pyserpZotero/notebooks/../pyserpZotero.py'>"
      ]
     },
     "execution_count": 275,
     "metadata": {},
     "output_type": "execute_result"
    }
   ],
   "source": [
    "# Load libraries\n",
    "import importlib\n",
    "import os\n",
    "import pyserpZotero\n",
    "import yaml\n",
    "\n",
    "from box import Box\n",
    "\n",
    "importlib.reload(pyserpZotero)"
   ]
  },
  {
   "cell_type": "code",
   "execution_count": 270,
   "id": "496ca363-d621-4761-8507-8827082658b1",
   "metadata": {},
   "outputs": [],
   "source": [
    "with open(\"../config.yaml\", \"r\") as ymlfile:\n",
    "    cfg = Box(yaml.safe_load(ymlfile), default_box=True, default_box_attr=None)\n",
    "    \n",
    "API_KEY = cfg.API_KEY\n",
    "ZOT_ID  = cfg.ZOT_ID\n",
    "ZOT_KEY = cfg.ZOT_KEY"
   ]
  },
  {
   "cell_type": "code",
   "execution_count": 271,
   "id": "e575a000-808c-441a-a890-678f34d240b7",
   "metadata": {},
   "outputs": [
    {
     "name": "stdout",
     "output_type": "stream",
     "text": [
      "Reminder: Make sure your Zotero key has write permissions.\n"
     ]
    }
   ],
   "source": [
    "# Instantiate a serpZot object for API management\n",
    "citeObj = pyserpZotero.serpZot(API_KEY       = API_KEY, \n",
    "                               ZOT_ID        = ZOT_ID, \n",
    "                               ZOT_KEY       = ZOT_KEY,\n",
    "                               DOWNLOAD_DEST = \".\" # Optional (for destinations other than the current directory)\n",
    "                              )"
   ]
  },
  {
   "cell_type": "code",
   "execution_count": 272,
   "id": "0a4068b5-bd72-4753-a1d7-eb8aeb46b0ea",
   "metadata": {},
   "outputs": [
    {
     "name": "stdout",
     "output_type": "stream",
     "text": [
      "Number of items retreived from your library:34\n",
      "Processing number: 1\n",
      "Processing number: 2\n",
      "Match found!: \n",
      "Cap or No Cap? What Can Governments Do to Promote EV Sales?\n",
      "http://arxiv.org/abs/2212.08137v1\n",
      "Processing number: 3\n",
      "Processing number: 4\n",
      "Processing number: 5\n",
      "Processing number: 6\n",
      "Processing number: 7\n",
      "Processing number: 8\n",
      "Processing number: 9\n",
      "Processing number: 10\n",
      "Processing number: 11\n",
      "Processing number: 12\n",
      "Processing number: 13\n",
      "Processing number: 14\n",
      "Processing number: 15\n",
      "Match found!: \n",
      "Advanced capabilities for materials modelling with Quantum ESPRESSO\n",
      "http://arxiv.org/abs/1709.10010v1\n",
      "Processing number: 16\n",
      "Processing number: 17\n",
      "Processing number: 18\n",
      "Processing number: 19\n",
      "Processing number: 20\n",
      "Processing number: 21\n",
      "Processing number: 22\n",
      "Processing number: 23\n",
      "Processing number: 24\n",
      "Processing number: 25\n",
      "Processing number: 26\n",
      "Processing number: 27\n",
      "Processing number: 28\n",
      "Processing number: 29\n",
      "Processing number: 30\n",
      "Processing number: 31\n",
      "Processing number: 32\n",
      "Processing number: 33\n",
      "Processing number: 34\n"
     ]
    }
   ],
   "source": [
    "citeObj.arxivDownload(SEARCH_TERM = \"Cap No Cap\")"
   ]
  }
 ],
 "metadata": {
  "kernelspec": {
   "display_name": "Python 3 (ipykernel)",
   "language": "python",
   "name": "python3"
  },
  "language_info": {
   "codemirror_mode": {
    "name": "ipython",
    "version": 3
   },
   "file_extension": ".py",
   "mimetype": "text/x-python",
   "name": "python",
   "nbconvert_exporter": "python",
   "pygments_lexer": "ipython3",
   "version": "3.9.13"
  }
 },
 "nbformat": 4,
 "nbformat_minor": 5
}
