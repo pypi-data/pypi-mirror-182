{
 "cells": [
  {
   "cell_type": "code",
   "execution_count": null,
   "id": "bb14cfad",
   "metadata": {},
   "outputs": [],
   "source": [
    "# this is include zeno_etl_libs in the python search path on the run time\n",
    "import sys\n",
    "sys.path.append('./../..')"
   ]
  },
  {
   "cell_type": "code",
   "execution_count": null,
   "id": "9f53cc5d",
   "metadata": {},
   "outputs": [],
   "source": [
    "import pandas as pd\n",
    "import numpy as np\n",
    "import json\n",
    "from datetime import datetime, timedelta\n",
    "import boto3\n",
    "import base64\n",
    "from botocore.exceptions import ClientError\n",
    "import time"
   ]
  },
  {
   "cell_type": "code",
   "execution_count": null,
   "id": "4c8aead0",
   "metadata": {},
   "outputs": [],
   "source": [
    "from zeno_etl_libs.db.db import DB\n",
    "from zeno_etl_libs.config import set_env_config, EnvNames\n",
    "from zeno_etl_libs.helper import helper\n",
    "from zeno_etl_libs.helper.aws.s3 import S3"
   ]
  },
  {
   "cell_type": "code",
   "execution_count": null,
   "id": "de8969bc",
   "metadata": {},
   "outputs": [],
   "source": [
    "# !pip install redshift_connector"
   ]
  },
  {
   "cell_type": "markdown",
   "id": "5673273f",
   "metadata": {},
   "source": [
    "### Basic Setup"
   ]
  },
  {
   "cell_type": "code",
   "execution_count": null,
   "id": "2db30e89",
   "metadata": {},
   "outputs": [],
   "source": [
    "\"\"\"\n",
    "Environment: Activate the env as per the requirement\n",
    "\"\"\"\n",
    "# env = EnvNames.production\n",
    "# env = EnvNames.staging\n",
    "env = EnvNames.development"
   ]
  },
  {
   "cell_type": "code",
   "execution_count": null,
   "id": "7f15b6d0",
   "metadata": {},
   "outputs": [],
   "source": [
    "config = set_env_config(env=env)"
   ]
  },
  {
   "cell_type": "code",
   "execution_count": null,
   "id": "c0f1d2fc",
   "metadata": {},
   "outputs": [],
   "source": [
    "config.secrets"
   ]
  },
  {
   "cell_type": "code",
   "execution_count": null,
   "id": "db2344d9",
   "metadata": {},
   "outputs": [],
   "source": [
    "db = DB(secrets=config.secrets)"
   ]
  },
  {
   "cell_type": "code",
   "execution_count": null,
   "id": "b2230d6b",
   "metadata": {},
   "outputs": [],
   "source": [
    "cursor = db.open_connection()"
   ]
  },
  {
   "cell_type": "code",
   "execution_count": null,
   "id": "68f1aa5f",
   "metadata": {},
   "outputs": [],
   "source": [
    "cursor"
   ]
  },
  {
   "cell_type": "code",
   "execution_count": null,
   "id": "183f117b",
   "metadata": {},
   "outputs": [],
   "source": [
    "s3 = S3(aws_access_key_id=config.secrets['AWS_ACCESS_KEY_ID'],\n",
    "            aws_secret_access_key=config.secrets['AWS_SECRET_ACCESS_KEY_ID'])"
   ]
  },
  {
   "cell_type": "markdown",
   "id": "76c7bae0",
   "metadata": {},
   "source": [
    "## Take the new records from bills and insert them into bills-metadata table"
   ]
  },
  {
   "cell_type": "code",
   "execution_count": null,
   "id": "25c705c4",
   "metadata": {},
   "outputs": [],
   "source": [
    "bill_metadata_table = \"bills-1-metadata-dummay\""
   ]
  },
  {
   "cell_type": "code",
   "execution_count": null,
   "id": "401201e8",
   "metadata": {},
   "outputs": [],
   "source": [
    "query = f'''\n",
    "     insert\n",
    "        into\n",
    "        \"prod2-generico\".\"{bill_metadata_table}\" (id,\n",
    "        \"patient-id\",\n",
    "        \"zippin-serial\",\n",
    "        \"store-id\",\n",
    "        \"doctor-id\",\n",
    "        \"promo-code-id\",\n",
    "        \"promo-flag\",\n",
    "        \"promo-discount\",\n",
    "        \"payment-method\",\n",
    "        \"redeemed-points\",\n",
    "        \"created-by\",\n",
    "        \"created-at\",\n",
    "        \"updated-at\",\n",
    "        \"bill-date\",\n",
    "        \"bill-year\",\n",
    "        \"bill-month\",\n",
    "        \"bill-day\",\n",
    "        \"etl-status\"\n",
    "        )\n",
    "    select\n",
    "        b.id,\n",
    "        b.\"patient-id\",\n",
    "        b.\"zippin-serial\",\n",
    "        b.\"store-id\",\n",
    "        b.\"doctor-id\",\n",
    "        b.\"promo-code-id\",\n",
    "        case when b.\"promo-code-id\" is null then false else true end ,\n",
    "        b.\"promo-discount\",\n",
    "        b.\"payment-method\",\n",
    "        b.\"redeemed-points\",\n",
    "        b.\"created-by\",\n",
    "        b.\"created-at\",\n",
    "        getdate(),\n",
    "        trunc(b.\"created-at\"),\n",
    "        extract(year from b.\"created-at\"),\n",
    "        extract(month from b.\"created-at\"),\n",
    "        extract(day from b.\"created-at\"),\n",
    "        'updating'\n",
    "    from\n",
    "        \"prod2-generico\".\"bills-1\" b\n",
    "    left join \"prod2-generico\".\"{bill_metadata_table}\" bm on\n",
    "        bm.id = b.id\n",
    "    where\n",
    "        bm.id is null\n",
    "        and date(b.\"created-at\") between '2021-12-01' and '2021-12-31'\n",
    "        and (bm.\"etl-status\" != 'updated'\n",
    "        or bm.\"etl-status\" is null)\n",
    "'''"
   ]
  },
  {
   "cell_type": "code",
   "execution_count": null,
   "id": "341606a1",
   "metadata": {},
   "outputs": [],
   "source": [
    "db.execute(query, params=None)"
   ]
  },
  {
   "cell_type": "markdown",
   "id": "aa923693",
   "metadata": {},
   "source": [
    "# Take the effect of below tables\n",
    "- \"bills-1\"\n",
    "- \"patients-store-orders\"\n",
    "- \"bills-items-1\"\n",
    "- \"inventory-1\"\n",
    "- \"drugs\"\n"
   ]
  },
  {
   "cell_type": "code",
   "execution_count": null,
   "id": "17d4312e",
   "metadata": {},
   "outputs": [],
   "source": [
    "query = f\"\"\"\n",
    "    update\n",
    "        \"prod2-generico\".\"{bill_metadata_table}\" bm2\n",
    "    set\n",
    "        \"etl-status\" = 'updating',\n",
    "        \"updated-at\" = current_timestamp\n",
    "    from\n",
    "        (\n",
    "        select\n",
    "            f.id\n",
    "        from\n",
    "            \"prod2-generico\".\"{bill_metadata_table}\" bm\n",
    "        inner join\n",
    "            \"prod2-generico\".\"bills-1\" f on\n",
    "            bm.id = f.id\n",
    "        inner join \"prod2-generico\".\"bill-items-1\" a on\n",
    "            bm.\"id\" = a.\"bill-id\"\n",
    "        inner join \"prod2-generico\".\"inventory-1\" b on\n",
    "            a.\"inventory-id\" = b.\"id\"\n",
    "        inner join \"prod2-generico\".drugs d on\n",
    "            b.\"drug-id\" = d.id\n",
    "        left join \"prod2-generico\".\"patients-store-orders\" pso on\n",
    "            bm.id = NVL(pso.\"bill-id\" , 0)\n",
    "        where\n",
    "            ((bm.\"updated-at\" < f.\"updated-at\")\n",
    "                or\n",
    "        (bm.\"updated-at\" < a.\"updated-at\")\n",
    "                    or\n",
    "        (bm.\"updated-at\" < b.\"updated-at\")\n",
    "                        or\n",
    "        (bm.\"updated-at\" < d.\"updated-at\")\n",
    "                            or\n",
    "        (bm.\"updated-at\" < pso.\"updated-at\"))) ab\n",
    "    where \n",
    "        bm2.id = ab.id;\n",
    "\"\"\""
   ]
  },
  {
   "cell_type": "code",
   "execution_count": null,
   "id": "d34794b3",
   "metadata": {},
   "outputs": [],
   "source": [
    "db.execute(query, params=None)"
   ]
  },
  {
   "cell_type": "markdown",
   "id": "656911eb",
   "metadata": {},
   "source": [
    "## Considering only updated bills"
   ]
  },
  {
   "cell_type": "code",
   "execution_count": null,
   "id": "04656e9a",
   "metadata": {},
   "outputs": [],
   "source": [
    "query = f'''\n",
    " select\n",
    "    id,\n",
    "    \"patient-id\",\n",
    "    \"zippin-serial\",\n",
    "    \"store-id\",\n",
    "    \"doctor-id\",\n",
    "    \"promo-code-id\",\n",
    "    \"promo-discount\",\n",
    "    \"payment-method\",\n",
    "    \"redeemed-points\",\n",
    "    \"created-by\",\n",
    "    \"created-at\",\n",
    "    \"updated-at\",\n",
    "    \"bill-date\",\n",
    "    \"bill-year\",\n",
    "    \"bill-month\",\n",
    "    \"bill-day\",\n",
    "    \"promo-flag\",\n",
    "    \"digital-payment-flag\",\n",
    "    \"etl-status\"\n",
    "from\n",
    "    \"prod2-generico\".\"{bill_metadata_table}\" bm3\n",
    "where\n",
    "    \"etl-status\" = 'updating'\n",
    "'''"
   ]
  },
  {
   "cell_type": "code",
   "execution_count": null,
   "id": "03572bed",
   "metadata": {},
   "outputs": [],
   "source": [
    "db.execute(query, params=None)"
   ]
  },
  {
   "cell_type": "code",
   "execution_count": null,
   "id": "12120b63",
   "metadata": {},
   "outputs": [],
   "source": [
    "changed_bills: pd.DataFrame = cursor.fetch_dataframe()"
   ]
  },
  {
   "cell_type": "code",
   "execution_count": null,
   "id": "4959507b",
   "metadata": {},
   "outputs": [],
   "source": [
    "len(changed_bills)"
   ]
  },
  {
   "cell_type": "code",
   "execution_count": null,
   "id": "52ef726c",
   "metadata": {},
   "outputs": [],
   "source": [
    "changed_bills['digital-payment-flag'] = np.where(\n",
    "    changed_bills['payment-method'].isin(['', ' ', 'cash', 'cheque']), False, True)"
   ]
  },
  {
   "cell_type": "code",
   "execution_count": null,
   "id": "2f478d2a",
   "metadata": {},
   "outputs": [],
   "source": [
    "# changed_bills['promo-flag'] = np.where(\n",
    "#     changed_bills['promo-code-id'].isin([None, '', 0, 'NA']), False, True)"
   ]
  },
  {
   "cell_type": "code",
   "execution_count": null,
   "id": "e75c4124",
   "metadata": {},
   "outputs": [],
   "source": [
    "changed_bills.head(1).transpose()"
   ]
  },
  {
   "cell_type": "markdown",
   "id": "148ff80b",
   "metadata": {},
   "source": [
    "## Min bill date logic to get month difference and month rank"
   ]
  },
  {
   "cell_type": "code",
   "execution_count": null,
   "id": "395eb9f1",
   "metadata": {},
   "outputs": [],
   "source": [
    "query = f'''    \n",
    "    select\n",
    "        bm.id,\n",
    "        bm.\"patient-id\",\n",
    "        bm.\"created-at\" ,\n",
    "        row_number () over (partition by bm.\"patient-id\"\n",
    "    order by\n",
    "        \"created-at\" asc) as row_num,\n",
    "        bm.\"bill-year\", \n",
    "        bm.\"bill-month\", \n",
    "        bm.\"bill-date\",\n",
    "        bm.\"store-id\"\n",
    "    from\n",
    "        \"prod2-generico\".\"{bill_metadata_table}\" bm\n",
    "    inner join \n",
    "     (\n",
    "        select\n",
    "            \"patient-id\"\n",
    "        from\n",
    "            \"prod2-generico\".\"{bill_metadata_table}\" \n",
    "        where\n",
    "            \"etl-status\" = 'updating'\n",
    "        group by\n",
    "            \"patient-id\") p on\n",
    "        bm.\"patient-id\" = p.\"patient-id\"\n",
    "'''"
   ]
  },
  {
   "cell_type": "code",
   "execution_count": null,
   "id": "c8fb8321",
   "metadata": {},
   "outputs": [],
   "source": [
    "db.execute(query, params=None)"
   ]
  },
  {
   "cell_type": "code",
   "execution_count": null,
   "id": "a6882137",
   "metadata": {},
   "outputs": [],
   "source": [
    "numbered_bills: pd.DataFrame = cursor.fetch_dataframe()"
   ]
  },
  {
   "cell_type": "code",
   "execution_count": null,
   "id": "c60bf0e1",
   "metadata": {},
   "outputs": [],
   "source": [
    "first_bill = numbered_bills[numbered_bills['row_num'] == 1].rename(\n",
    "    columns={\"created-at\":\"min-created-at\"})[['patient-id', 'min-created-at']]"
   ]
  },
  {
   "cell_type": "code",
   "execution_count": null,
   "id": "ecb257d6",
   "metadata": {},
   "outputs": [],
   "source": [
    "first_bill.head(2)"
   ]
  },
  {
   "cell_type": "markdown",
   "id": "feb631bf",
   "metadata": {},
   "source": [
    "## Month bill rank"
   ]
  },
  {
   "cell_type": "code",
   "execution_count": null,
   "id": "4191f165",
   "metadata": {},
   "outputs": [],
   "source": [
    "# bill_rank_month = numbered_bills.copy()"
   ]
  },
  {
   "cell_type": "code",
   "execution_count": null,
   "id": "c1a7ec45",
   "metadata": {},
   "outputs": [],
   "source": [
    "bill_rank_month = numbered_bills.sort_values(by=['patient-id', 'bill-year', 'bill-month', 'bill-date']).copy()"
   ]
  },
  {
   "cell_type": "code",
   "execution_count": null,
   "id": "42b95430",
   "metadata": {},
   "outputs": [],
   "source": [
    "bill_rank_month['month-bill-rank'] = bill_rank_month.groupby(['patient-id', 'bill-year', 'bill-month']).cumcount() + 1"
   ]
  },
  {
   "cell_type": "code",
   "execution_count": null,
   "id": "e59d40ed",
   "metadata": {},
   "outputs": [],
   "source": [
    "bill_rank_month.head(2)"
   ]
  },
  {
   "cell_type": "code",
   "execution_count": null,
   "id": "18fcb6da",
   "metadata": {},
   "outputs": [],
   "source": [
    "bill_rank_month_min = bill_rank_month[bill_rank_month['month-bill-rank'] == 1][\n",
    "    ['patient-id', 'bill-year', 'bill-month', 'bill-date', 'store-id']].rename(\n",
    "    columns={'bill-date': 'min-bill-date-in-month', 'store-id': 'store-id-month'})"
   ]
  },
  {
   "cell_type": "code",
   "execution_count": null,
   "id": "18edc618",
   "metadata": {},
   "outputs": [],
   "source": [
    "bill_rank_month_min.head(2)"
   ]
  },
  {
   "cell_type": "markdown",
   "id": "f51d0fef",
   "metadata": {},
   "source": [
    "## PR, HD, Ecomm flags"
   ]
  },
  {
   "cell_type": "code",
   "execution_count": null,
   "id": "fd55541f",
   "metadata": {},
   "outputs": [],
   "source": [
    "query = f\"\"\"\n",
    "    select\n",
    "        bm.id,\n",
    "        bool_or(case when pso.\"patient-request-id\" is null then false else true end) as \"pr-flag\",\n",
    "        bool_or(case when pso.\"order-type\" = 'delivery' then true else false end) as \"hd-flag\",\n",
    "        bool_or(case when pso.\"order-source\" = 'zeno' then true else false end) as \"ecom-flag\"\n",
    "    from\n",
    "        \"prod2-generico\".\"{bill_metadata_table}\" bm\n",
    "    left join \"prod2-generico\".\"patients-store-orders\" pso on\n",
    "        pso.\"bill-id\" = bm.id\n",
    "    where\n",
    "        bm.\"etl-status\" = 'updating'\n",
    "    group by\n",
    "        bm.id\n",
    "\"\"\""
   ]
  },
  {
   "cell_type": "code",
   "execution_count": null,
   "id": "26ff1b00",
   "metadata": {},
   "outputs": [],
   "source": [
    "db.execute(query, params=None)"
   ]
  },
  {
   "cell_type": "code",
   "execution_count": null,
   "id": "7baee9a8",
   "metadata": {},
   "outputs": [],
   "source": [
    "pr_hd_ecom_bills: pd.DataFrame = cursor.fetch_dataframe()"
   ]
  },
  {
   "cell_type": "code",
   "execution_count": null,
   "id": "91f6014a",
   "metadata": {},
   "outputs": [],
   "source": [
    "pr_hd_ecom_bills.head(1)"
   ]
  },
  {
   "cell_type": "markdown",
   "id": "572a8d21",
   "metadata": {},
   "source": [
    "## Doctor Data"
   ]
  },
  {
   "cell_type": "code",
   "execution_count": null,
   "id": "28f26e7b",
   "metadata": {},
   "outputs": [],
   "source": [
    "query = f\"\"\"\n",
    "    select\n",
    "        bm.id ,\n",
    "        d.\"name\" as \"doctor-name\"\n",
    "    from\n",
    "        \"prod2-generico\".\"{bill_metadata_table}\" bm\n",
    "    left join \"prod2-generico\".doctors d on\n",
    "        bm.\"doctor-id\" = d.id\n",
    "    where\n",
    "        bm.\"etl-status\" = 'updating'\n",
    "\"\"\""
   ]
  },
  {
   "cell_type": "code",
   "execution_count": null,
   "id": "52f9d37b",
   "metadata": {},
   "outputs": [],
   "source": [
    "db.execute(query, params=None)"
   ]
  },
  {
   "cell_type": "code",
   "execution_count": null,
   "id": "c1638178",
   "metadata": {},
   "outputs": [],
   "source": [
    "doctors: pd.DataFrame = cursor.fetch_dataframe()"
   ]
  },
  {
   "cell_type": "code",
   "execution_count": null,
   "id": "fc04dba5",
   "metadata": {},
   "outputs": [],
   "source": [
    "# doctors"
   ]
  },
  {
   "cell_type": "markdown",
   "id": "61d1e0a0",
   "metadata": {},
   "source": [
    "## bill item, drug, inventory data"
   ]
  },
  {
   "cell_type": "code",
   "execution_count": null,
   "id": "2c857475",
   "metadata": {},
   "outputs": [],
   "source": [
    "query = f\"\"\"\n",
    "    select\n",
    "        bm.id ,\n",
    "        bi.\"inventory-id\",\n",
    "        bi.\"quantity\",\n",
    "        bi.\"rate\",\n",
    "        i.\"drug-id\" ,\n",
    "        i.\"purchase-rate\" ,\n",
    "        i.mrp ,\n",
    "        i.ptr ,\n",
    "        i.expiry ,\n",
    "        d.\"drug-name\" ,\n",
    "        d.\"type\" ,\n",
    "        d.\"drug-name\",\n",
    "        d.\"type\" as \"drug-type\",\n",
    "        d.category as \"drug-category\",\n",
    "        d.\"repeatability-index\" ,\n",
    "        d.composition ,\n",
    "        d.schedule ,\n",
    "        d.\"company-id\" ,\n",
    "        d.company ,\n",
    "        d.pack\n",
    "    from\n",
    "        \"prod2-generico\".\"{bill_metadata_table}\" bm\n",
    "    inner join \"prod2-generico\".\"bill-items-1\" bi on\n",
    "        bm.id = bi.\"bill-id\"\n",
    "    inner join \"prod2-generico\".\"inventory-1\" i on\n",
    "        bi.\"inventory-id\" = i.id\n",
    "    inner join \"prod2-generico\".drugs d on\n",
    "        i.\"drug-id\" = d.id\n",
    "    where\n",
    "        bm.\"etl-status\" = 'updating';\n",
    "\"\"\""
   ]
  },
  {
   "cell_type": "code",
   "execution_count": null,
   "id": "ca884ade",
   "metadata": {},
   "outputs": [],
   "source": [
    "db.execute(query=query)"
   ]
  },
  {
   "cell_type": "code",
   "execution_count": null,
   "id": "efc84f95",
   "metadata": {},
   "outputs": [],
   "source": [
    "item_drug_inv: pd.DataFrame = cursor.fetch_dataframe()"
   ]
  },
  {
   "cell_type": "code",
   "execution_count": null,
   "id": "23ce2a97",
   "metadata": {},
   "outputs": [],
   "source": [
    "item_drug_inv.head()"
   ]
  },
  {
   "cell_type": "code",
   "execution_count": null,
   "id": "07a2378e",
   "metadata": {},
   "outputs": [],
   "source": [
    "# Measured fields\n",
    "item_drug_inv['total-spend'] = item_drug_inv['rate'].astype('float') * item_drug_inv['quantity'].astype('float')\n",
    "item_drug_inv['total-mrp-value'] = item_drug_inv['mrp'].astype('float') * item_drug_inv['quantity'].astype('float')\n",
    "item_drug_inv['total-purchase-rate-value'] = item_drug_inv['purchase-rate'].astype('float') * item_drug_inv['quantity'].astype('float')\n",
    "item_drug_inv['total-ptr-value'] = item_drug_inv['ptr'].astype('float') * item_drug_inv['quantity'].astype('float')"
   ]
  },
  {
   "cell_type": "code",
   "execution_count": null,
   "id": "5ee9c90c",
   "metadata": {},
   "outputs": [],
   "source": [
    "# Quantity fields\n",
    "item_drug_inv['quantity-generic'] = np.where(item_drug_inv['drug-type'] == 'generic', item_drug_inv['quantity'], 0)\n",
    "item_drug_inv['quantity-goodaid'] = np.where(item_drug_inv['company'] == 'GOODAID', item_drug_inv['quantity'], 0)\n",
    "item_drug_inv['quantity-ethical'] = np.where(item_drug_inv['drug-type'] == 'ethical', item_drug_inv['quantity'], 0)\n",
    "item_drug_inv['quantity-others-type'] = np.where(~item_drug_inv['drug-type'].isin(['generic', 'ethical']), \n",
    "                                                 item_drug_inv['quantity'], 0)\n",
    "item_drug_inv['quantity-chronic'] = np.where(item_drug_inv['drug-category'] == 'chronic',\n",
    "                                             item_drug_inv['quantity'], 0)\n",
    "\n",
    "item_drug_inv['quantity-repeatable'] = np.where(((item_drug_inv['repeatability-index'] >= 80) | (\n",
    "            (item_drug_inv['drug-category'] == 'chronic') & (item_drug_inv['repeatability-index'] >= 40))),\n",
    "                                           item_drug_inv['quantity'], 0)"
   ]
  },
  {
   "cell_type": "code",
   "execution_count": null,
   "id": "6fb5bfc6",
   "metadata": {},
   "outputs": [],
   "source": [
    "# Spend columns\n",
    "item_drug_inv['spend-generic'] = np.where(item_drug_inv['drug-type'] == 'generic',\n",
    "                                     item_drug_inv['total-spend'], 0)\n",
    "\n",
    "item_drug_inv['spend-goodaid'] = np.where(item_drug_inv['company'] == 'GOODAID',\n",
    "                                 item_drug_inv['total-spend'], 0)\n",
    "\n",
    "item_drug_inv['spend-ethical'] = np.where(item_drug_inv['drug-type'] == 'ethical',\n",
    "                                 item_drug_inv['total-spend'], 0)\n",
    "\n",
    "item_drug_inv['spend-others-type'] = np.where(~item_drug_inv['drug-type'].isin(['generic', 'ethical']),\n",
    "                                         item_drug_inv['total-spend'], 0)"
   ]
  },
  {
   "cell_type": "code",
   "execution_count": null,
   "id": "dd417738",
   "metadata": {},
   "outputs": [],
   "source": [
    "item_drug_inv.head()"
   ]
  },
  {
   "cell_type": "code",
   "execution_count": null,
   "id": "59f53177",
   "metadata": {},
   "outputs": [],
   "source": [
    "# aggregation at bill level\n",
    "bills_level_data = item_drug_inv.groupby(['id']).agg({'total-spend': 'sum',\n",
    "                                              'total-mrp-value': 'sum',\n",
    "                                              'total-purchase-rate-value': 'sum',\n",
    "                                              'total-ptr-value': 'sum',\n",
    "                                              'spend-generic': 'sum',\n",
    "                                              'spend-goodaid': 'sum',\n",
    "                                              'spend-ethical': 'sum',\n",
    "                                              'spend-others-type': 'sum',\n",
    "                                              'drug-id': 'nunique',\n",
    "                                              'quantity': 'sum',\n",
    "                                              'quantity-generic': 'sum',\n",
    "                                              'quantity-goodaid': 'sum',\n",
    "                                              'quantity-ethical': 'sum',\n",
    "                                              'quantity-others-type': 'sum',\n",
    "                                              'quantity-chronic': 'sum',\n",
    "                                              'quantity-repeatable': 'sum'}).reset_index()"
   ]
  },
  {
   "cell_type": "code",
   "execution_count": null,
   "id": "f3411f64",
   "metadata": {},
   "outputs": [],
   "source": [
    "bills_level_data = bills_level_data.rename(columns={'drug-id': 'num-drugs',\n",
    "                                        'quantity': 'total-quantity'})"
   ]
  },
  {
   "cell_type": "code",
   "execution_count": null,
   "id": "56a07a73",
   "metadata": {},
   "outputs": [],
   "source": [
    "# Patient is generic or not\n",
    "bills_level_data['is-generic'] = np.where(bills_level_data['quantity-generic'] > 0, 1, 0)"
   ]
  },
  {
   "cell_type": "code",
   "execution_count": null,
   "id": "84c32a59",
   "metadata": {},
   "outputs": [],
   "source": [
    "# Patient is GOODAID or not\n",
    "bills_level_data['is-goodaid'] = np.where(bills_level_data['quantity-goodaid'] > 0, 1, 0)\n",
    "\n",
    "# Patient is ethical or not\n",
    "bills_level_data['is-ethical'] = np.where(bills_level_data['quantity-ethical'] > 0, 1, 0)\n",
    "\n",
    "# Patient is Others type or not\n",
    "bills_level_data['is-others-type'] = np.where(bills_level_data['quantity-others-type'] > 0, 1, 0)"
   ]
  },
  {
   "cell_type": "code",
   "execution_count": null,
   "id": "c67fbda8",
   "metadata": {},
   "outputs": [],
   "source": [
    "# Patient is RX or not\n",
    "bills_level_data['is-rx'] = np.where((bills_level_data['quantity-generic'] + \n",
    "                                      bills_level_data['quantity-ethical']) > 0, 1, 0)"
   ]
  },
  {
   "cell_type": "code",
   "execution_count": null,
   "id": "219c55f1",
   "metadata": {},
   "outputs": [],
   "source": [
    "# Patient is chronic or not\n",
    "bills_level_data['is-chronic'] = np.where(bills_level_data['quantity-chronic'] > 0, 1, 0)\n",
    "\n",
    "# Patient is repeatable or not\n",
    "bills_level_data['is-repeatable'] = np.where(bills_level_data['quantity-repeatable'] > 0, 1, 0)"
   ]
  },
  {
   "cell_type": "markdown",
   "id": "01a075b7",
   "metadata": {},
   "source": [
    "## Merging data\n",
    "\n",
    "### month difference data"
   ]
  },
  {
   "cell_type": "code",
   "execution_count": null,
   "id": "6e1f32a4",
   "metadata": {},
   "outputs": [],
   "source": [
    "transformed_bills = pd.DataFrame()\n",
    "transformed_bills = changed_bills.merge(first_bill, how='inner', on=['patient-id'])"
   ]
  },
  {
   "cell_type": "code",
   "execution_count": null,
   "id": "12ca6abc",
   "metadata": {},
   "outputs": [],
   "source": [
    "transformed_bills.head(1).transpose()"
   ]
  },
  {
   "cell_type": "code",
   "execution_count": null,
   "id": "e880e53b",
   "metadata": {},
   "outputs": [],
   "source": [
    "transformed_bills['month-diff'] = helper.month_diff(\n",
    "    transformed_bills['created-at'], transformed_bills['min-created-at'])"
   ]
  },
  {
   "cell_type": "code",
   "execution_count": null,
   "id": "c1f6d56b",
   "metadata": {},
   "outputs": [],
   "source": [
    "transformed_bills = transformed_bills.drop(columns=['min-created-at'])"
   ]
  },
  {
   "cell_type": "markdown",
   "id": "ef2371b7",
   "metadata": {},
   "source": [
    "### PR, HD flags Data"
   ]
  },
  {
   "cell_type": "code",
   "execution_count": null,
   "id": "0a681c96",
   "metadata": {},
   "outputs": [],
   "source": [
    "transformed_bills = transformed_bills.merge(pr_hd_ecom_bills, how=\"left\", left_on='id', right_on='id')"
   ]
  },
  {
   "cell_type": "code",
   "execution_count": null,
   "id": "ba8b3e5d",
   "metadata": {},
   "outputs": [],
   "source": [
    "transformed_bills.head(2)"
   ]
  },
  {
   "cell_type": "markdown",
   "id": "bdb035ec",
   "metadata": {},
   "source": [
    "### Doctor Data"
   ]
  },
  {
   "cell_type": "code",
   "execution_count": null,
   "id": "014b9076",
   "metadata": {},
   "outputs": [],
   "source": [
    "transformed_bills = transformed_bills.merge(doctors, how=\"left\", left_on='id', right_on='id')"
   ]
  },
  {
   "cell_type": "code",
   "execution_count": null,
   "id": "c3b16f9e",
   "metadata": {},
   "outputs": [],
   "source": [
    "transformed_bills.head(2)"
   ]
  },
  {
   "cell_type": "markdown",
   "id": "4b0586cb",
   "metadata": {},
   "source": [
    "### Drug and inventory  data"
   ]
  },
  {
   "cell_type": "code",
   "execution_count": null,
   "id": "cd7ef453",
   "metadata": {},
   "outputs": [],
   "source": [
    "transformed_bills = transformed_bills.merge(bills_level_data, how=\"left\", left_on='id', right_on='id')"
   ]
  },
  {
   "cell_type": "code",
   "execution_count": null,
   "id": "bf2e5bd7",
   "metadata": {},
   "outputs": [],
   "source": [
    "# transformed_bills.columns"
   ]
  },
  {
   "cell_type": "markdown",
   "id": "f88e23fc",
   "metadata": {},
   "source": [
    "### Month bill rank"
   ]
  },
  {
   "cell_type": "code",
   "execution_count": null,
   "id": "838d82f5",
   "metadata": {},
   "outputs": [],
   "source": [
    "transformed_bills = transformed_bills.merge(bill_rank_month[['id', 'month-bill-rank']], how='left', on=['id'])"
   ]
  },
  {
   "cell_type": "markdown",
   "id": "c1b9f5c3",
   "metadata": {},
   "source": [
    "### Month bill rank min date"
   ]
  },
  {
   "cell_type": "code",
   "execution_count": null,
   "id": "e8c0a5ee",
   "metadata": {},
   "outputs": [],
   "source": [
    "transformed_bills = transformed_bills.merge(\n",
    "    bill_rank_month_min[['patient-id', 'bill-year',  'bill-month', 'min-bill-date-in-month', 'store-id-month']], \n",
    "    how='left', on=['patient-id', 'bill-year',  'bill-month']\n",
    ")"
   ]
  },
  {
   "cell_type": "markdown",
   "id": "881c4bc9",
   "metadata": {},
   "source": [
    "### Normalise date"
   ]
  },
  {
   "cell_type": "code",
   "execution_count": null,
   "id": "ecf986e7",
   "metadata": {},
   "outputs": [],
   "source": [
    "transformed_bills['normalized-date'] = transformed_bills['created-at'].dt.date.values.astype(\n",
    "    'datetime64[M]').astype('datetime64[D]')"
   ]
  },
  {
   "cell_type": "code",
   "execution_count": null,
   "id": "791b76b5",
   "metadata": {},
   "outputs": [],
   "source": [
    "transformed_bills['normalized-date'] = transformed_bills['normalized-date'].dt.date"
   ]
  },
  {
   "cell_type": "markdown",
   "id": "cb242826",
   "metadata": {},
   "source": [
    "### Final column selection"
   ]
  },
  {
   "cell_type": "code",
   "execution_count": null,
   "id": "c7005b98",
   "metadata": {},
   "outputs": [],
   "source": [
    "table_info = helper.get_table_info(db=db, table_name=bill_metadata_table, schema='prod2-generico')"
   ]
  },
  {
   "cell_type": "code",
   "execution_count": null,
   "id": "3ef8c842",
   "metadata": {},
   "outputs": [],
   "source": [
    "\"\"\"correcting the column order\"\"\"\n",
    "transformed_bills = transformed_bills[table_info['column_name']]"
   ]
  },
  {
   "cell_type": "markdown",
   "id": "30f32afa",
   "metadata": {},
   "source": [
    "## Updating the data in the target table using temp table"
   ]
  },
  {
   "cell_type": "code",
   "execution_count": null,
   "id": "1a34c28f",
   "metadata": {},
   "outputs": [],
   "source": [
    "helper.drop_table(db=db, table_name=bill_metadata_table.replace('-', '_')+\"_temp\")"
   ]
  },
  {
   "cell_type": "code",
   "execution_count": null,
   "id": "92586529",
   "metadata": {},
   "outputs": [],
   "source": [
    "\"\"\" Creating temp table \"\"\"\n",
    "bills1_temp = helper.create_temp_table(db=db, table=bill_metadata_table)"
   ]
  },
  {
   "cell_type": "code",
   "execution_count": null,
   "id": "762ff70d",
   "metadata": {},
   "outputs": [],
   "source": [
    "bills1_temp"
   ]
  },
  {
   "cell_type": "code",
   "execution_count": null,
   "id": "3a3dd7ca",
   "metadata": {},
   "outputs": [],
   "source": [
    "# \"\"\"Fill NaN with None (inside table it will be NULL) \"\"\"\n",
    "# transformed_bills['pr-flag'] = transformed_bills['pr-flag'].replace({np.nan: None}) \n",
    "# transformed_bills['hd-flag'] = transformed_bills['hd-flag'].replace({np.nan: None}) \n",
    "# transformed_bills['ecom-flag'] = transformed_bills['ecom-flag'].replace({np.nan: None})"
   ]
  },
  {
   "cell_type": "code",
   "execution_count": null,
   "id": "c294ba51",
   "metadata": {},
   "outputs": [],
   "source": [
    "# fillna(-1)\n",
    "transformed_bills['promo-code-id'] = transformed_bills['promo-code-id'].fillna(-1).astype('int64')\n",
    "transformed_bills['total-quantity'] = transformed_bills['total-quantity'].fillna(-1).astype('int64')\n",
    "transformed_bills['quantity-generic'] = transformed_bills['quantity-generic'].fillna(-1).astype('int64')\n",
    "transformed_bills['quantity-goodaid'] = transformed_bills['quantity-goodaid'].fillna(-1).astype('int64')\n",
    "transformed_bills[\"quantity-ethical\"] = transformed_bills[\"quantity-ethical\"].fillna(-1).astype('int64')\n",
    "transformed_bills[\"quantity-chronic\"] = transformed_bills[\"quantity-chronic\"].fillna(-1).astype('int64')\n",
    "transformed_bills[\"quantity-repeatable\"] = transformed_bills[\"quantity-repeatable\"].fillna(-1).astype('int64')\n",
    "transformed_bills[\"quantity-others-type\"] = transformed_bills[\"quantity-others-type\"].fillna(-1).astype('int64')\n",
    "\n",
    "\n",
    "# transformed_bills['promo-code-id'] = transformed_bills['promo-code-id'].fillna(-1).astype('int64')\n",
    "# transformed_bills['promo-min-purchase'] = transformed_bills['promo-min-purchase'].fillna(-1).astype('int64')\n",
    "# transformed_bills['campaign-id'] = transformed_bills['campaign-id'].fillna(-1).astype('int64')\n",
    "# transformed_bills['promo-code'] = 'NA'\n",
    "# transformed_bills['promo-code-type'] = 'NA'\n",
    "# transformed_bills['promo-eligibility'] = 'NA'\n",
    "# transformed_bills['campaign-name'] = 'NA'\n",
    "# transformed_bills['promo-discount-type'] = 'NA'"
   ]
  },
  {
   "cell_type": "code",
   "execution_count": null,
   "id": "eabd277e",
   "metadata": {},
   "outputs": [],
   "source": [
    "# transformed_bills.isnull().sum()\n",
    "# transformed_bills.info()"
   ]
  },
  {
   "cell_type": "code",
   "execution_count": null,
   "id": "37a58248",
   "metadata": {},
   "outputs": [],
   "source": [
    "ts = time.time()\n",
    "s3.write_df_to_db(df=transformed_bills, table_name=bills1_temp, db=db)\n",
    "print(f\"total time: {time.time()-ts}\")"
   ]
  },
  {
   "cell_type": "code",
   "execution_count": null,
   "id": "b1d148d8",
   "metadata": {},
   "outputs": [],
   "source": [
    "transformed_bills"
   ]
  },
  {
   "cell_type": "code",
   "execution_count": null,
   "id": "71440059",
   "metadata": {},
   "outputs": [],
   "source": [
    "# Updating the Destination table using temp table\n",
    "target = bill_metadata_table\n",
    "source = bills1_temp\n",
    "query = \"\"\"\n",
    "    update \"prod2-generico\".\"%s\" t\n",
    "        set \"month-diff\" = s.\"month-diff\",\n",
    "            \"pr-flag\" = s.\"pr-flag\",\n",
    "            \"hd-flag\" = s.\"hd-flag\",\n",
    "            \"ecom-flag\" = s.\"ecom-flag\",\n",
    "            \"doctor-name\" = s.\"doctor-name\",\n",
    "            \"total-spend\" = s.\"total-spend\", \n",
    "            \"spend-generic\" = s.\"spend-generic\", \n",
    "            \"spend-goodaid\" = s.\"spend-goodaid\", \n",
    "            \"spend-ethical\" = s.\"spend-ethical\", \n",
    "            \"spend-others-type\" = s.\"spend-others-type\", \n",
    "            \"num-drugs\" = s.\"num-drugs\",\n",
    "            \"quantity-generic\" = s.\"quantity-generic\", \n",
    "            \"quantity-goodaid\" = s.\"quantity-goodaid\", \n",
    "            \"quantity-ethical\" = s.\"quantity-ethical\", \n",
    "            \"quantity-chronic\" = s.\"quantity-chronic\", \n",
    "            \"quantity-repeatable\" = s.\"quantity-repeatable\", \n",
    "            \"quantity-others-type\" = s.\"quantity-others-type\", \n",
    "            \"is-generic\" = s.\"is-generic\",\n",
    "            \"is-goodaid\" = s.\"is-goodaid\", \n",
    "            \"is-ethical\" = s.\"is-ethical\", \n",
    "            \"is-chronic\" = s.\"is-chronic\", \n",
    "            \"is-repeatable\" = s.\"is-repeatable\", \n",
    "            \"is-others-type\" = s.\"is-others-type\",\n",
    "            \"is-rx\" = s.\"is-rx\",\n",
    "            \"total-quantity\" = s.\"total-quantity\",\n",
    "            \"total-mrp-value\" = s.\"total-mrp-value\", \n",
    "            \"total-purchase-rate-value\" = s.\"total-purchase-rate-value\", \n",
    "            \"total-ptr-value\" = s.\"total-ptr-value\", \n",
    "            -- \"promo-flag\" = s.\"promo-flag\",\n",
    "            \"digital-payment-flag\" = s.\"digital-payment-flag\",\n",
    "            \"zippin-serial\" = s.\"zippin-serial\",\n",
    "            \"month-bill-rank\" = s.\"month-bill-rank\",\n",
    "            \"min-bill-date-in-month\" = s.\"min-bill-date-in-month\",\n",
    "            \"store-id-month\" = s.\"store-id-month\",\n",
    "            \"normalized-date\" = s.\"normalized-date\",\n",
    "            \"etl-status\" = 'updated'\n",
    "    from \"%s\" s\n",
    "    where t.id = s.id;\n",
    "\"\"\" %(target, source)"
   ]
  },
  {
   "cell_type": "code",
   "execution_count": null,
   "id": "6a39a14d",
   "metadata": {},
   "outputs": [],
   "source": [
    "db.execute(query=query)"
   ]
  },
  {
   "cell_type": "markdown",
   "id": "5fd11c09",
   "metadata": {},
   "source": [
    "## Update the patients-metadata etl-status"
   ]
  },
  {
   "cell_type": "code",
   "execution_count": null,
   "id": "838028c3",
   "metadata": {},
   "outputs": [],
   "source": [
    "query = f\"\"\"\n",
    "    update\n",
    "        \"prod2-generico\".\"patients-metadata-2\" t\n",
    "    set\n",
    "        \"etl-status\" = 'updating'\n",
    "    from\n",
    "        {bills1_temp} s\n",
    "    where\n",
    "        t.id = s.\"patient-id\"\n",
    "        and s.\"etl-status\" = 'updating';\n",
    "\"\"\""
   ]
  },
  {
   "cell_type": "code",
   "execution_count": null,
   "id": "1cb3b804",
   "metadata": {},
   "outputs": [],
   "source": [
    "db.execute(query=query)"
   ]
  },
  {
   "cell_type": "markdown",
   "id": "2d246e3d",
   "metadata": {},
   "source": [
    "# Closing the DB conneciton"
   ]
  },
  {
   "cell_type": "code",
   "execution_count": null,
   "id": "48290e8f",
   "metadata": {},
   "outputs": [],
   "source": [
    "db.close_connection()"
   ]
  },
  {
   "cell_type": "code",
   "execution_count": null,
   "id": "6d0a6fe7",
   "metadata": {},
   "outputs": [],
   "source": []
  }
 ],
 "metadata": {
  "kernelspec": {
   "display_name": "Python 3 (ipykernel)",
   "language": "python",
   "name": "python3"
  },
  "language_info": {
   "codemirror_mode": {
    "name": "ipython",
    "version": 3
   },
   "file_extension": ".py",
   "mimetype": "text/x-python",
   "name": "python",
   "nbconvert_exporter": "python",
   "pygments_lexer": "ipython3",
   "version": "3.9.7"
  }
 },
 "nbformat": 4,
 "nbformat_minor": 5
}
