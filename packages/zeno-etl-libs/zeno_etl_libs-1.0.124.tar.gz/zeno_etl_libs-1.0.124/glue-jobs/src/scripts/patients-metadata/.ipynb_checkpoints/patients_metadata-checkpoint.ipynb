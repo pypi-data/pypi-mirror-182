{
 "cells": [
  {
   "cell_type": "code",
   "execution_count": null,
   "id": "9286563b",
   "metadata": {},
   "outputs": [],
   "source": [
    "import sys\n",
    "sys.path.append('./../..')"
   ]
  },
  {
   "cell_type": "code",
   "execution_count": null,
   "id": "4c8aead0",
   "metadata": {},
   "outputs": [],
   "source": [
    "from zeno_etl_libs.db.db import DB\n",
    "from zeno_etl_libs.config import set_env_config, EnvNames\n",
    "from zeno_etl_libs.helper import helper\n",
    "from zeno_etl_libs.helper.aws.s3 import S3"
   ]
  },
  {
   "cell_type": "code",
   "execution_count": null,
   "id": "62c54949",
   "metadata": {},
   "outputs": [],
   "source": [
    "import numpy as np\n",
    "import pandas as pd\n",
    "import boto3\n",
    "import base64\n",
    "from botocore.exceptions import ClientError\n",
    "import time\n",
    "import json\n",
    "from datetime import datetime, timedelta"
   ]
  },
  {
   "cell_type": "markdown",
   "id": "c38c5801",
   "metadata": {},
   "source": [
    "# Set the Environment "
   ]
  },
  {
   "cell_type": "code",
   "execution_count": null,
   "id": "a78ac461",
   "metadata": {},
   "outputs": [],
   "source": [
    "\"\"\"\n",
    "Environment: Activate the env as per the requirement\n",
    "\"\"\"\n",
    "# env = EnvNames.production\n",
    "# env = EnvNames.staging\n",
    "env = EnvNames.development"
   ]
  },
  {
   "cell_type": "markdown",
   "id": "5673273f",
   "metadata": {},
   "source": [
    "### Logic starts here"
   ]
  },
  {
   "cell_type": "code",
   "execution_count": null,
   "id": "7f15b6d0",
   "metadata": {},
   "outputs": [],
   "source": [
    "config = set_env_config(env=env)"
   ]
  },
  {
   "cell_type": "code",
   "execution_count": null,
   "id": "db2344d9",
   "metadata": {},
   "outputs": [],
   "source": [
    "db = DB(secrets=config.secrets)"
   ]
  },
  {
   "cell_type": "code",
   "execution_count": null,
   "id": "b2230d6b",
   "metadata": {},
   "outputs": [],
   "source": [
    "cursor = db.open_connection()"
   ]
  },
  {
   "cell_type": "code",
   "execution_count": null,
   "id": "68f1aa5f",
   "metadata": {},
   "outputs": [],
   "source": [
    "cursor"
   ]
  },
  {
   "cell_type": "code",
   "execution_count": null,
   "id": "183f117b",
   "metadata": {},
   "outputs": [],
   "source": [
    "s3 = S3(aws_access_key_id=config.secrets['AWS_ACCESS_KEY_ID'],\n",
    "            aws_secret_access_key=config.secrets['AWS_SECRET_ACCESS_KEY_ID'])"
   ]
  },
  {
   "cell_type": "markdown",
   "id": "76c7bae0",
   "metadata": {},
   "source": [
    "## Take the new records from patients and insert them into Patient-metadata table"
   ]
  },
  {
   "cell_type": "code",
   "execution_count": null,
   "id": "401201e8",
   "metadata": {},
   "outputs": [],
   "source": [
    "query = '''\n",
    "    insert\n",
    "        into\n",
    "        \"prod2-generico\".\"patients-metadata-2\" (id,\n",
    "        \"created-at\",\n",
    "        \"updated-at\",\n",
    "        \"created-by\",\n",
    "        \"etl-status\"\n",
    "        )\n",
    "    select\n",
    "        p.id,\n",
    "        p.\"created-at\",\n",
    "        getdate(),\n",
    "        'etl-job',\n",
    "        'updating'\n",
    "    from\n",
    "        \"prod2-generico\".\"patients\" p\n",
    "    inner join (\n",
    "        select\n",
    "            \"patient-id\"\n",
    "        from\n",
    "            \"prod2-generico\".\"bills-1-metadata\" bm\n",
    "        group by\n",
    "            \"patient-id\"\n",
    "        -- limit 20\n",
    "        ) bm1 on\n",
    "        bm1.\"patient-id\" = p.id\n",
    "    left join \"prod2-generico\".\"patients-metadata-2\" pm on\n",
    "        pm.id = p.id\n",
    "    where\n",
    "        pm.id is null\n",
    "        -- and date(p.\"updated-at\") between '2021-06-01' and '2021-11-30'\n",
    "        and (pm.\"etl-status\" != 'updated'\n",
    "        or pm.\"etl-status\" is null)\n",
    "--    limit 5;\n",
    "'''\n",
    "# last pushed max id filter to be applied"
   ]
  },
  {
   "cell_type": "code",
   "execution_count": null,
   "id": "341606a1",
   "metadata": {},
   "outputs": [],
   "source": [
    "db.execute(query, params=None)"
   ]
  },
  {
   "cell_type": "markdown",
   "id": "7e65b58c",
   "metadata": {},
   "source": [
    "## Update the etl-status using bills-1-metadata update date (TODO)"
   ]
  },
  {
   "cell_type": "code",
   "execution_count": null,
   "id": "7aa92d49",
   "metadata": {},
   "outputs": [],
   "source": [
    "# Take the new bills and get the patients id and update the etl-status to updating"
   ]
  },
  {
   "cell_type": "markdown",
   "id": "656911eb",
   "metadata": {},
   "source": [
    "## Considering only changed patients"
   ]
  },
  {
   "cell_type": "code",
   "execution_count": null,
   "id": "04656e9a",
   "metadata": {},
   "outputs": [],
   "source": [
    "query = '''\n",
    " select\n",
    "    id,\n",
    "    \"created-at\",\n",
    "    \"updated-at\",\n",
    "    \"created-by\",\n",
    "    \"etl-status\"\n",
    "from\n",
    "    \"prod2-generico\".\"patients-metadata-2\" pm\n",
    "where\n",
    "    \"etl-status\" = 'updating'\n",
    "'''"
   ]
  },
  {
   "cell_type": "code",
   "execution_count": null,
   "id": "03572bed",
   "metadata": {},
   "outputs": [],
   "source": [
    "db.execute(query, params=None)"
   ]
  },
  {
   "cell_type": "code",
   "execution_count": null,
   "id": "12120b63",
   "metadata": {},
   "outputs": [],
   "source": [
    "changed_patients: pd.DataFrame = cursor.fetch_dataframe()"
   ]
  },
  {
   "cell_type": "code",
   "execution_count": null,
   "id": "4959507b",
   "metadata": {},
   "outputs": [],
   "source": [
    "if changed_patients is None:\n",
    "    print(\"No changes in patients.\")\n",
    "else:\n",
    "    print(f\"Total changes: {len(changed_patients)}\")"
   ]
  },
  {
   "cell_type": "code",
   "execution_count": null,
   "id": "0d2aeb98",
   "metadata": {},
   "outputs": [],
   "source": [
    "changed_patients.head(2)"
   ]
  },
  {
   "cell_type": "markdown",
   "id": "148ff80b",
   "metadata": {},
   "source": [
    "## Fill data from bill-1-metadata table"
   ]
  },
  {
   "cell_type": "code",
   "execution_count": null,
   "id": "395eb9f1",
   "metadata": {},
   "outputs": [],
   "source": [
    "query = \"\"\"\n",
    "    update\n",
    "        \"prod2-generico\".\"patients-metadata-2\" t\n",
    "    set\n",
    "        \"first-bill-date\" = s.\"first-bill-date\",\n",
    "        \"last-bill-date\" = s.\"last-bill-date\",\n",
    "        \"first-bill-id\" = s.\"first-bill-id\",\n",
    "        \"last-bill-id\" = s.\"last-bill-id\",\n",
    "        \"average-bill-value\" = s.\"average-bill-value\",\n",
    "        \"total-quantity\" = s.\"total-quantity\",\n",
    "        \"quantity-generic\" = s.\"quantity-generic\",\n",
    "        \"quantity-chronic\" = s.\"quantity-chronic\",\n",
    "        \"quantity-ethical\" = s.\"quantity-ethical\",\n",
    "        \"quantity-rx\" = s.\"quantity-rx\",\n",
    "        \"quantity-repeatable\" = s.\"quantity-repeatable\",\n",
    "        \"quantity-goodaid\" = s.\"quantity-goodaid\",\n",
    "        \"quantity-others-type\" = s.\"quantity-others-type\",\n",
    "        \"number-of-bills\" = s.\"number-of-bills\",\n",
    "        \"hd-bills\" = s.\"hd-bills\",\n",
    "        \"is-repeatable\" = s.\"is-repeatable\",\n",
    "        \"is-generic\" = s.\"is-generic\",\n",
    "        \"is-chronic\" = s.\"is-chronic\",\n",
    "        \"is-goodaid\" = s.\"is-goodaid\",\n",
    "        \"is-ethical\" = s.\"is-ethical\",\n",
    "        \"is-rx\" = s.\"is-rx\",\n",
    "        \"is-others-type\" = s.\"is-others-type\",\n",
    "        \"hd-flag\" = s.\"hd-flag\",\n",
    "        \"ecom-flag\" = s.\"ecom-flag\",\n",
    "        \"pr-flag\" = s.\"pr-flag\",\n",
    "        \"total-spend\" = s.\"total-spend\",\n",
    "        \"spend-generic\" = s.\"spend-generic\",\n",
    "        \"promo-min-bill-date\" = s.\"promo-min-bill-date\",\n",
    "        \"hd-min-bill-date\" = s.\"hd-min-bill-date\",\n",
    "        \"ecom-min-bill-date\" = s.\"ecom-min-bill-date\",\n",
    "        \"pr-min-bill-date\" = s.\"pr-min-bill-date\",\n",
    "        \"generic-min-bill-date\" = s.\"generic-min-bill-date\",\n",
    "        \"goodaid-min-bill-date\" = s.\"goodaid-min-bill-date\",\n",
    "        \"ethical-min-bill-date\" = s.\"ethical-min-bill-date\",\n",
    "        \"chronic-min-bill-date\" = s.\"chronic-min-bill-date\",\n",
    "        \"repeatable-min-bill-date\" = s.\"repeatable-min-bill-date\",\n",
    "        \"others-type-min-bill-date\" = s.\"others-type-min-bill-date\",\n",
    "        \"digital-payment-min-bill-date\" = s.\"digital-payment-min-bill-date\",\n",
    "        \"rx-min-bill-date\" = s.\"rx-min-bill-date\",\n",
    "        \"digital-payment-flag\" = s.\"digital-payment-flag\",\n",
    "        \"total-mrp-value\" = s.\"total-mrp-value\",\n",
    "        \"recency-customer-days\" = s.\"recency-customer-days\",\n",
    "        \"system-age-days\" = s.\"system-age-days\",\n",
    "        \"quantity-generic-pc\" = s.\"quantity-generic-pc\",\n",
    "        \"quantity-chronic-pc\" = s.\"quantity-chronic-pc\",\n",
    "        \"quantity-ethical-pc\" = s.\"quantity-ethical-pc\",\n",
    "        \"quantity-repeatable-pc\" = s.\"quantity-repeatable-pc\",\n",
    "        \"quantity-goodaid-pc\" = s.\"quantity-goodaid-pc\",\n",
    "        \"quantity-others-type-pc\" = s.\"quantity-others-type-pc\",\n",
    "        \"spend-generic-pc\" = s.\"spend-generic-pc\"\n",
    "    from\n",
    "        (\n",
    "        select\n",
    "            pm.id ,\n",
    "            min(bm.\"created-at\") as \"first-bill-date\",\n",
    "            max(bm.\"created-at\") as \"last-bill-date\",\n",
    "            min(bm.id) as \"first-bill-id\",\n",
    "            max(bm.id) as \"last-bill-id\",\n",
    "            round(sum(bm.\"total-spend\")/ count(distinct bm.id), 4) as \"average-bill-value\",\n",
    "            sum(bm.\"total-quantity\") as \"total-quantity\",\n",
    "            sum(bm.\"quantity-generic\") as \"quantity-generic\",\n",
    "            case when sum(bm.\"total-quantity\") in (0, null) then -1 else round(100.0 * sum(bm.\"quantity-generic\")/ sum(bm.\"total-quantity\"), 4) end as \"quantity-generic-pc\",\n",
    "            sum(bm.\"quantity-chronic\") as \"quantity-chronic\",\n",
    "            case when sum(bm.\"total-quantity\") in (0, null) then -1 else round(100.0 * sum(bm.\"quantity-chronic\")/ sum(bm.\"total-quantity\"), 4) end as \"quantity-chronic-pc\",\n",
    "            sum(bm.\"quantity-ethical\") as \"quantity-ethical\",\n",
    "            case when sum(bm.\"total-quantity\") in (0, null) then -1 else round(100.0 * sum(bm.\"quantity-ethical\")/ sum(bm.\"total-quantity\"), 4) end as \"quantity-ethical-pc\",\n",
    "            sum(bm.\"quantity-repeatable\") as \"quantity-repeatable\",\n",
    "            case when sum(bm.\"total-quantity\") in (0, null) then -1 else round(100.0 * sum(bm.\"quantity-repeatable\")/ sum(bm.\"total-quantity\"), 4) end as \"quantity-repeatable-pc\",\n",
    "            sum(bm.\"quantity-goodaid\") as \"quantity-goodaid\",\n",
    "            case when sum(bm.\"total-quantity\") in (0, null) then -1 else round(100.0 * sum(bm.\"quantity-goodaid\")/ sum(bm.\"total-quantity\"), 4) end as \"quantity-goodaid-pc\",\n",
    "            sum(bm.\"quantity-others-type\") as \"quantity-others-type\",\n",
    "            case when sum(bm.\"total-quantity\") in (0, null) then -1 else round(100.0 * sum(bm.\"quantity-others-type\")/ sum(bm.\"total-quantity\"), 4) end as \"quantity-others-type-pc\",\n",
    "            sum(bm.\"quantity-generic\" + bm.\"quantity-ethical\") as \"quantity-rx\",\n",
    "            case when sum(bm.\"total-quantity\") in (0, null) then -1 else round(100.0 * sum(bm.\"quantity-generic\" + bm.\"quantity-ethical\")/ sum(bm.\"total-quantity\"), 4) end as \"quantity-rx-pc\",\n",
    "            count(distinct bm.id) as \"number-of-bills\",\n",
    "            count(distinct (case when bm.\"hd-flag\" is true then bm.id else null end)) as \"hd-bills\",\n",
    "            case when count(distinct bm.id) in (0, null) then -1 else round(100.0 * count(distinct (case when bm.\"hd-flag\" is true then bm.id else null end))/ count(distinct bm.id), 4) end  as \"hd-bills-pc\",\n",
    "            bool_or(bm.\"is-repeatable\") as \"is-repeatable\",\n",
    "            bool_or(bm.\"is-generic\") as \"is-generic\",\n",
    "            bool_or(bm.\"is-chronic\") as \"is-chronic\",\n",
    "            bool_or(bm.\"is-goodaid\") as \"is-goodaid\",\n",
    "            bool_or(bm.\"is-ethical\") as \"is-ethical\",\n",
    "            bool_or(bm.\"is-rx\") as \"is-rx\",\n",
    "            bool_or(bm.\"is-others-type\") as \"is-others-type\",\n",
    "            bool_or(bm.\"hd-flag\") as \"hd-flag\",\n",
    "            bool_or(bm.\"ecom-flag\") as \"ecom-flag\",\n",
    "            bool_or(bm.\"pr-flag\") as \"pr-flag\",\n",
    "            bool_or(bm.\"digital-payment-flag\") as \"digital-payment-flag\",\n",
    "            sum(bm.\"total-spend\") as \"total-spend\",\n",
    "            sum(bm.\"spend-generic\") as \"spend-generic\",\n",
    "            case when sum(bm.\"total-spend\") in (0, null) then -1 else round(100.0 * sum(bm.\"spend-generic\")/ sum(bm.\"total-spend\")) end as \"spend-generic-pc\",\n",
    "            min(case when bm.\"promo-code-id\" is not null then bm.\"created-at\" else null end) as \"promo-min-bill-date\",\n",
    "            min(case when bm.\"hd-flag\" is true then bm.\"created-at\" else null end) as \"hd-min-bill-date\",\n",
    "            min(case when bm.\"ecom-flag\" is true then bm.\"created-at\" else null end) as \"ecom-min-bill-date\",\n",
    "            min(case when bm.\"pr-flag\" is true then bm.\"created-at\" else null end) as \"pr-min-bill-date\",\n",
    "            min(case when bm.\"is-generic\" is true then bm.\"created-at\" else null end) as \"generic-min-bill-date\",\n",
    "            min(case when bm.\"is-goodaid\" is true then bm.\"created-at\" else null end) as \"goodaid-min-bill-date\",\n",
    "            min(case when bm.\"is-ethical\" is true then bm.\"created-at\" else null end) as \"ethical-min-bill-date\",\n",
    "            min(case when bm.\"is-chronic\" is true then bm.\"created-at\" else null end) as \"chronic-min-bill-date\",\n",
    "            min(case when bm.\"is-repeatable\" is true then bm.\"created-at\" else null end) as \"repeatable-min-bill-date\",\n",
    "            min(case when bm.\"is-others-type\" is true then bm.\"created-at\" else null end) as \"others-type-min-bill-date\",\n",
    "            min(case when bm.\"digital-payment-flag\" is true then bm.\"created-at\" else null end) as \"digital-payment-min-bill-date\",\n",
    "            min(case when bm.\"is-rx\" is true then bm.\"created-at\" else null end) as \"rx-min-bill-date\",\n",
    "            sum(bm.\"total-mrp-value\") as \"total-mrp-value\",\n",
    "            case\n",
    "                when max(bm.\"created-at\") = '0101-01-01' then null\n",
    "                else datediff(day,\n",
    "                max(bm.\"created-at\"),\n",
    "                current_date)\n",
    "            end as \"recency-customer-days\",\n",
    "            case\n",
    "                when min(bm.\"created-at\") = '0101-01-01' then null\n",
    "                else datediff(day,\n",
    "                min(bm.\"created-at\"),\n",
    "                current_date)\n",
    "            end as \"system-age-days\"\n",
    "        from\n",
    "            \"prod2-generico\".\"prod2-generico\".\"patients-metadata-2\" pm\n",
    "        inner join \"prod2-generico\".\"bills-1-metadata\" bm on\n",
    "            pm.id = bm.\"patient-id\"\n",
    "        where\n",
    "            pm.\"etl-status\" = 'updating'\n",
    "        group by\n",
    "            pm.id\n",
    "    ) s\n",
    "    where\n",
    "        t.id = s.id;\n",
    "\"\"\""
   ]
  },
  {
   "cell_type": "code",
   "execution_count": null,
   "id": "c8fb8321",
   "metadata": {},
   "outputs": [],
   "source": [
    "db.execute(query, params=None)"
   ]
  },
  {
   "cell_type": "markdown",
   "id": "58bca296",
   "metadata": {},
   "source": [
    "## Adding customer feedback data (nps)"
   ]
  },
  {
   "cell_type": "code",
   "execution_count": null,
   "id": "f9768e4e",
   "metadata": {},
   "outputs": [],
   "source": [
    "query = \"\"\"\n",
    "    select\n",
    "        p.id,\n",
    "        f.rating,\n",
    "        f.suggestion,\n",
    "        f.\"store-id\",\n",
    "        s.\"name\" as \"store-name\",\n",
    "        f.\"created-at\"\n",
    "    from\n",
    "        \"prod2-generico\".\"patients-metadata-2\" pm\n",
    "    inner join \"prod2-generico\".patients p on\n",
    "         p.id = pm.id\n",
    "    inner join \"prod2-generico\".feedback f on\n",
    "        f.phone = p.phone\n",
    "    inner join \"prod2-generico\".stores s on\n",
    "        f.\"store-id\" = s.\"id\"\n",
    "    where pm.\"etl-status\" = 'updating'\n",
    "\"\"\""
   ]
  },
  {
   "cell_type": "code",
   "execution_count": null,
   "id": "504c5fd3",
   "metadata": {},
   "outputs": [],
   "source": [
    "db.execute(query, params=None)"
   ]
  },
  {
   "cell_type": "code",
   "execution_count": null,
   "id": "297aa255",
   "metadata": {},
   "outputs": [],
   "source": [
    "nps: pd.DataFrame = cursor.fetch_dataframe()"
   ]
  },
  {
   "cell_type": "code",
   "execution_count": null,
   "id": "2a931835",
   "metadata": {},
   "outputs": [],
   "source": [
    "nps"
   ]
  },
  {
   "cell_type": "code",
   "execution_count": null,
   "id": "3aa21f7f",
   "metadata": {},
   "outputs": [],
   "source": [
    "if len(nps):\n",
    "    nps.head(2)\n",
    "    nps['created-at'] = pd.to_datetime(nps['created-at'])\n",
    "    nps['nps-rating-date'] = nps['created-at'].dt.strftime(\"%Y-%m-%d\")\n",
    "    nps['is-nps'] = True\n",
    "    nps = nps.sort_values(by=['id', 'created-at'], ascending=[True, False])\n",
    "\n",
    "    # Keep only latest entry\n",
    "    nps['rank'] = nps.groupby(['id']).cumcount() + 1\n",
    "    nps = nps[nps['rank'] == 1]\n",
    "    nps.drop('rank', axis='columns', inplace=True)\n",
    "    nps = nps.rename(\n",
    "        columns={\n",
    "            'rating': 'latest-nps-rating',\n",
    "            'suggestion': 'latest-nps-rating-comment',\n",
    "            'nps-rating-date': 'latest-nps-rating-date',\n",
    "            'store-id': 'latest-nps-rating-store-id',\n",
    "            'store-name': 'latest-nps-rating-store-name'\n",
    "        }\n",
    "    )\n",
    "else:\n",
    "    nps = pd.DataFrame(columns = ['id', 'created-at', 'nps-rating-date', 'is-nps', 'latest-nps-rating',\n",
    "                                 'latest-nps-rating-comment', 'latest-nps-rating-date', 'latest-nps-rating-store-id',\n",
    "                                 'latest-nps-rating-store-name'])"
   ]
  },
  {
   "cell_type": "markdown",
   "id": "df344e90",
   "metadata": {},
   "source": [
    "## Referral count "
   ]
  },
  {
   "cell_type": "code",
   "execution_count": null,
   "id": "3e9f9748",
   "metadata": {},
   "outputs": [],
   "source": [
    "query = \"\"\"\n",
    "    select\n",
    "        a.\"patient-id\" as id,\n",
    "        SUM(b.\"total-used\") as \"referred-count\"\n",
    "    from\n",
    "        \"prod2-generico\".\"patients-metadata-2\" pm\n",
    "    left join \n",
    "        \"prod2-generico\".\"patients-promo-codes\" a on\n",
    "        pm.id = a.\"patient-id\"\n",
    "    left join \"prod2-generico\".\"promo-codes\" b on\n",
    "        a.\"promo-code-id\" = b.\"id\"\n",
    "    where\n",
    "        b.\"code-type\" = 'referral'\n",
    "        and pm.\"etl-status\" = 'updating'\n",
    "    group by\n",
    "        a.\"patient-id\"\n",
    "\"\"\""
   ]
  },
  {
   "cell_type": "code",
   "execution_count": null,
   "id": "9119213e",
   "metadata": {},
   "outputs": [],
   "source": [
    "db.execute(query=query)"
   ]
  },
  {
   "cell_type": "code",
   "execution_count": null,
   "id": "494b1228",
   "metadata": {},
   "outputs": [],
   "source": [
    "referral: pd.DataFrame = cursor.fetch_dataframe()"
   ]
  },
  {
   "cell_type": "code",
   "execution_count": null,
   "id": "2d816393",
   "metadata": {},
   "outputs": [],
   "source": [
    "referral.head(1)"
   ]
  },
  {
   "cell_type": "markdown",
   "id": "55b9c834",
   "metadata": {},
   "source": [
    "## Primary Store, System Age Days and Recency Customer Days "
   ]
  },
  {
   "cell_type": "code",
   "execution_count": null,
   "id": "4b80b23d",
   "metadata": {},
   "outputs": [],
   "source": [
    "query = \"\"\"\n",
    "    select\n",
    "        pm.id,\n",
    "        bm.\"store-id\",\n",
    "        bm.id as \"bill-id\",\n",
    "        bm.\"total-spend\",\n",
    "        bm.\"bill-date\",\n",
    "        bm.\"created-at\"\n",
    "    from\n",
    "        \"prod2-generico\".\"patients-metadata-2\" pm\n",
    "    inner join \n",
    "        \"prod2-generico\".\"bills-1-metadata\" bm on\n",
    "        pm.id = bm.\"patient-id\"\n",
    "    where\n",
    "        pm.\"etl-status\" = 'updating'\n",
    "\"\"\""
   ]
  },
  {
   "cell_type": "code",
   "execution_count": null,
   "id": "b2d2cfe2",
   "metadata": {},
   "outputs": [],
   "source": [
    "db.execute(query=query)"
   ]
  },
  {
   "cell_type": "code",
   "execution_count": null,
   "id": "01854475",
   "metadata": {},
   "outputs": [],
   "source": [
    "patient_bills: pd.DataFrame = cursor.fetch_dataframe()"
   ]
  },
  {
   "cell_type": "code",
   "execution_count": null,
   "id": "a869b64a",
   "metadata": {},
   "outputs": [],
   "source": [
    "# purchase interval \n",
    "patient_bills_2 = patient_bills.sort_values(by=[\"id\", \"bill-date\"])"
   ]
  },
  {
   "cell_type": "code",
   "execution_count": null,
   "id": "4b55b697",
   "metadata": {},
   "outputs": [],
   "source": [
    "# Fetch previous bill date, against every bill\n",
    "patient_bills_2['prev-bill-date'] = patient_bills_2.groupby(\"id\")['bill-date'].shift(1)"
   ]
  },
  {
   "cell_type": "code",
   "execution_count": null,
   "id": "81a20a28",
   "metadata": {},
   "outputs": [],
   "source": [
    "patient_bills_2['purchase-interval'] = (patient_bills_2['bill-date'] - patient_bills_2['prev-bill-date']).dt.days"
   ]
  },
  {
   "cell_type": "code",
   "execution_count": null,
   "id": "d8cf8b8f",
   "metadata": {},
   "outputs": [],
   "source": [
    "patient_bills_avg_std = patient_bills_2.groupby(['id']).agg({'purchase-interval': ['mean', 'std']})"
   ]
  },
  {
   "cell_type": "code",
   "execution_count": null,
   "id": "3fcf679f",
   "metadata": {},
   "outputs": [],
   "source": [
    "patient_bills_avg_std = patient_bills_avg_std.reset_index(col_level=1)\n",
    "patient_bills_avg_std.columns = patient_bills_avg_std.columns.droplevel(0)\n",
    "patient_bills_avg_std.columns = ['id', 'avg-purchase-interval', 'std-purchase-interval']"
   ]
  },
  {
   "cell_type": "code",
   "execution_count": null,
   "id": "9bf35359",
   "metadata": {},
   "outputs": [],
   "source": [
    "patient_bills_avg_std.head(2)"
   ]
  },
  {
   "cell_type": "code",
   "execution_count": null,
   "id": "62acc181",
   "metadata": {},
   "outputs": [],
   "source": [
    "# Patient store wise, NOB and Total spend\n",
    "patient_store_agg = patient_bills.groupby(\n",
    "    ['id','store-id']).agg({'bill-id': 'nunique','total-spend': 'sum'}).reset_index()"
   ]
  },
  {
   "cell_type": "code",
   "execution_count": null,
   "id": "7bbb7928",
   "metadata": {},
   "outputs": [],
   "source": [
    "patient_store_agg = patient_store_agg.rename(columns={'bill-id': 'store-bills', 'total-spend': 'store-spend'})"
   ]
  },
  {
   "cell_type": "code",
   "execution_count": null,
   "id": "76e13693",
   "metadata": {},
   "outputs": [],
   "source": [
    "patient_store_agg['rank'] = patient_store_agg.sort_values(\n",
    "    ['store-bills', 'store-spend'], ascending=[False, False]).groupby(['id']).cumcount() + 1"
   ]
  },
  {
   "cell_type": "code",
   "execution_count": null,
   "id": "05fd3d4b",
   "metadata": {},
   "outputs": [],
   "source": [
    "# Shortlist 1 store per patient\n",
    "patient_primary_store = patient_store_agg[patient_store_agg['rank'] == 1]\n",
    "patient_primary_store = patient_primary_store.rename(columns={'store-id': 'primary-store-id'})"
   ]
  },
  {
   "cell_type": "code",
   "execution_count": null,
   "id": "bcdcb4cb",
   "metadata": {},
   "outputs": [],
   "source": [
    "patient_primary_store.head(1)"
   ]
  },
  {
   "cell_type": "markdown",
   "id": "e0ef43d1",
   "metadata": {},
   "source": [
    "### Previous abv and total spend"
   ]
  },
  {
   "cell_type": "code",
   "execution_count": null,
   "id": "6e5921e8",
   "metadata": {},
   "outputs": [],
   "source": [
    "# patient_bills_3 = patient_bills.sort_values(by=[\"id\", \"created-at\"])"
   ]
  },
  {
   "cell_type": "code",
   "execution_count": null,
   "id": "8f5e38dd",
   "metadata": {},
   "outputs": [],
   "source": [
    "# patient_bills_3['temp-nob'] = 1"
   ]
  },
  {
   "cell_type": "code",
   "execution_count": null,
   "id": "77511e28",
   "metadata": {},
   "outputs": [],
   "source": [
    "# patient_bills_3['total-bills'] = patient_bills_3.groupby(['id'], as_index=False)['temp-nob'].cumsum()"
   ]
  },
  {
   "cell_type": "code",
   "execution_count": null,
   "id": "969870e1",
   "metadata": {},
   "outputs": [],
   "source": [
    "# patient_bills_3['previous-total-bills'] = data_bill.groupby(['id'], as_index=False)['temp_nob'].shift(1)"
   ]
  },
  {
   "cell_type": "code",
   "execution_count": null,
   "id": "11cc4889",
   "metadata": {},
   "outputs": [],
   "source": [
    "# patient_bills_3['cum-total-spend'] = data_bill.groupby(['id'], as_index=False)['total-spend'].shift(1)"
   ]
  },
  {
   "cell_type": "code",
   "execution_count": null,
   "id": "62e3357c",
   "metadata": {},
   "outputs": [],
   "source": [
    "# patient_bills_3.head(2)"
   ]
  },
  {
   "cell_type": "code",
   "execution_count": null,
   "id": "27b971ad",
   "metadata": {},
   "outputs": [],
   "source": [
    "# data_bill['previous_total_bills'] = data_bill.groupby(['patient_id'],\n",
    "#                                                           as_index=False)['temp_nob'].shift(1)\n",
    "#     merge_data['cum_sum_spend'] = merge_data.groupby(['patient_id'],\n",
    "#                                                      as_index=False)['total_spend'].cumsum()\n",
    "#     merge_data['current_abv'] = merge_data['cum_sum_spend'] / merge_data['temp_nob']\n",
    "#     merge_data['previous_abv'] = merge_data.groupby(['patient_id'],\n",
    "#                                                     as_index=False)['current_abv'].shift(1)"
   ]
  },
  {
   "cell_type": "markdown",
   "id": "daef2f31",
   "metadata": {},
   "source": [
    "## Number of drug and primary disease "
   ]
  },
  {
   "cell_type": "code",
   "execution_count": null,
   "id": "f8b9eb30",
   "metadata": {},
   "outputs": [],
   "source": [
    "query = \"\"\"\n",
    "    select\n",
    "        b.\"patient-id\" ,\n",
    "        b.id as \"bill-id\",\n",
    "        bi.\"inventory-id\",\n",
    "        i.\"drug-id\"\n",
    "    from\n",
    "        \"prod2-generico\".\"patients-metadata-2\" pm\n",
    "    inner join \"prod2-generico\".\"bills-1\" b on\n",
    "        pm.id = b.\"patient-id\"\n",
    "    inner join \"prod2-generico\".\"bill-items-1\" bi on\n",
    "        b.id = bi.\"bill-id\"\n",
    "    inner join \"prod2-generico\".\"inventory-1\" i on\n",
    "        bi.\"inventory-id\" = i.id\n",
    "    inner join \"prod2-generico\".drugs d on\n",
    "        i.\"drug-id\" = d.id\n",
    "    where\n",
    "        pm.\"etl-status\" = 'updating';\n",
    "\"\"\""
   ]
  },
  {
   "cell_type": "code",
   "execution_count": null,
   "id": "4f1f3b4f",
   "metadata": {},
   "outputs": [],
   "source": [
    "db.execute(query=query)"
   ]
  },
  {
   "cell_type": "code",
   "execution_count": null,
   "id": "dd8ea130",
   "metadata": {},
   "outputs": [],
   "source": [
    "patient_drugs: pd.DataFrame = cursor.fetch_dataframe()"
   ]
  },
  {
   "cell_type": "code",
   "execution_count": null,
   "id": "9340c4a2",
   "metadata": {},
   "outputs": [],
   "source": [
    "# Number of drug calculation\n",
    "patient_drug_agg = patient_drugs.groupby(['patient-id']).agg({'drug-id': \"nunique\"}).reset_index().rename(\n",
    "    columns={'drug-id': 'num-drugs', 'patient-id': 'id'})"
   ]
  },
  {
   "cell_type": "code",
   "execution_count": null,
   "id": "47c8445b",
   "metadata": {},
   "outputs": [],
   "source": [
    "patient_drug_agg.head(2)"
   ]
  },
  {
   "cell_type": "code",
   "execution_count": null,
   "id": "418d4850",
   "metadata": {},
   "outputs": [],
   "source": [
    "# primary disease calculation\n",
    "query = \"\"\"\n",
    "    select\n",
    "        b.\"drug-id\",\n",
    "        a.subgroup\n",
    "    from\n",
    "        \"prod2-generico\".molecules a\n",
    "    inner join \"prod2-generico\".composition b on\n",
    "        a.name = b.molecule\n",
    "    group by\n",
    "        b.\"drug-id\",\n",
    "        a.subgroup;\n",
    "\"\"\""
   ]
  },
  {
   "cell_type": "code",
   "execution_count": null,
   "id": "e9f7492d",
   "metadata": {},
   "outputs": [],
   "source": [
    "db.execute(query=query)"
   ]
  },
  {
   "cell_type": "code",
   "execution_count": null,
   "id": "1a86a666",
   "metadata": {},
   "outputs": [],
   "source": [
    "drug_subgroup: pd.DataFrame = cursor.fetch_dataframe()"
   ]
  },
  {
   "cell_type": "code",
   "execution_count": null,
   "id": "f15322f5",
   "metadata": {},
   "outputs": [],
   "source": [
    "# Merge subgroups, take only relevant columns\n",
    "patient_drugs_count = patient_drugs.groupby(\n",
    "    ['patient-id', 'drug-id'])['inventory-id'].count().reset_index().rename(columns={'inventory-id': 'count'})"
   ]
  },
  {
   "cell_type": "code",
   "execution_count": null,
   "id": "b2832a72",
   "metadata": {},
   "outputs": [],
   "source": [
    "patient_drugs_subgroup_count = patient_drugs_count.merge(drug_subgroup, how='left', on=['drug-id'])"
   ]
  },
  {
   "cell_type": "code",
   "execution_count": null,
   "id": "4047c832",
   "metadata": {},
   "outputs": [],
   "source": [
    "patient_drugs_subgroup_count.head(2)"
   ]
  },
  {
   "cell_type": "code",
   "execution_count": null,
   "id": "730bebcd",
   "metadata": {},
   "outputs": [],
   "source": [
    "# Sub subgroup instances in each patient\n",
    "patient_subgroup = patient_drugs_subgroup_count.groupby(\n",
    "    ['patient-id', 'subgroup'])['count'].sum().reset_index().rename(columns={'count': 'drug-count'})"
   ]
  },
  {
   "cell_type": "code",
   "execution_count": null,
   "id": "97ced6b4",
   "metadata": {},
   "outputs": [],
   "source": [
    "# Rank on use\n",
    "patient_subgroup = patient_subgroup.sort_values(by=['patient-id', 'drug-count'], ascending=[True, False])\n",
    "patient_subgroup['rank'] = patient_subgroup.groupby(['patient-id']).cumcount() + 1"
   ]
  },
  {
   "cell_type": "code",
   "execution_count": null,
   "id": "3cb605d6",
   "metadata": {},
   "outputs": [],
   "source": [
    "# keep top2 subgroups\n",
    "patient_subgroup_top_2 = patient_subgroup[patient_subgroup['rank'] <= 2]"
   ]
  },
  {
   "cell_type": "code",
   "execution_count": null,
   "id": "15bc82e0",
   "metadata": {},
   "outputs": [],
   "source": [
    "# Make 2 columns, first for rank1, other for rank2\n",
    "patient_subgroup_top_2_pivot = patient_subgroup_top_2.pivot(index='patient-id', columns='rank', values='subgroup').reset_index()\n",
    "patient_subgroup_top_2_pivot.columns = ['patient-id', 'disease-rank1', 'disease-rank2']"
   ]
  },
  {
   "cell_type": "code",
   "execution_count": null,
   "id": "c075c981",
   "metadata": {},
   "outputs": [],
   "source": [
    "# Assignment of primary disease\n",
    "# If rank1 is not others, then rank1 as it is\n",
    "# If rank1 is others, and rank2 is null, then rank1 as it is\n",
    "# If rank1 is others, and rank2 is something, then rank2\n",
    "patient_subgroup_top_2_pivot['primary-disease'] = np.where(\n",
    "    (\n",
    "        (patient_subgroup_top_2_pivot['disease-rank1'] == 'others') & \n",
    "        (patient_subgroup_top_2_pivot['disease-rank2'].isnull() == False)\n",
    "    ),\n",
    "    patient_subgroup_top_2_pivot['disease-rank2'],\n",
    "    patient_subgroup_top_2_pivot['disease-rank1']\n",
    ")"
   ]
  },
  {
   "cell_type": "code",
   "execution_count": null,
   "id": "8c803406",
   "metadata": {},
   "outputs": [],
   "source": [
    "patient_subgroup_top_2_pivot.head(2)"
   ]
  },
  {
   "cell_type": "code",
   "execution_count": null,
   "id": "b8896b66",
   "metadata": {},
   "outputs": [],
   "source": [
    "patient_primary_disease = patient_subgroup_top_2_pivot[['patient-id', 'primary-disease']].rename(\n",
    "    columns={'patient-id': 'id'})"
   ]
  },
  {
   "cell_type": "markdown",
   "id": "76b6ac5b",
   "metadata": {},
   "source": [
    "## Value segment calculation"
   ]
  },
  {
   "cell_type": "code",
   "execution_count": null,
   "id": "53d64bd4",
   "metadata": {},
   "outputs": [],
   "source": [
    "query = \"\"\"\n",
    "    select\n",
    "        pm.id,\n",
    "        COUNT(distinct bm.\"id\") as \"total-bills\",\n",
    "        SUM(bm.\"total-spend\") as \"total-spend\",\n",
    "        current_date as \"value-segment-calculation-date\"\n",
    "    from\n",
    "        \"prod2-generico\".\"prod2-generico\".\"patients-metadata-2\" pm\n",
    "    inner join \"prod2-generico\".\"bills-1-metadata\" bm on\n",
    "        pm.id = bm.\"patient-id\"\n",
    "    where\n",
    "        pm.\"etl-status\" = 'updating'\n",
    "--        and datediff(day, current_date, bm.\"created-at\") between -2 and -1\n",
    "    group by\n",
    "        pm.id;\n",
    "\"\"\""
   ]
  },
  {
   "cell_type": "code",
   "execution_count": null,
   "id": "74ee7f00",
   "metadata": {},
   "outputs": [],
   "source": [
    "db.execute(query=query)"
   ]
  },
  {
   "cell_type": "code",
   "execution_count": null,
   "id": "b4799338",
   "metadata": {},
   "outputs": [],
   "source": [
    "patient_agg_bill: pd.DataFrame = cursor.fetch_dataframe()"
   ]
  },
  {
   "cell_type": "code",
   "execution_count": null,
   "id": "a96500e1",
   "metadata": {},
   "outputs": [],
   "source": [
    "patient_agg_bill['abv'] = np.round(\n",
    "    patient_agg_bill['total-spend'].astype('float') / patient_agg_bill['total-bills'].astype('float'), 2)"
   ]
  },
  {
   "cell_type": "code",
   "execution_count": null,
   "id": "4325842a",
   "metadata": {},
   "outputs": [],
   "source": [
    "patient_value_segment = patient_agg_bill.sort_values(['total-spend'], ascending=False)"
   ]
  },
  {
   "cell_type": "code",
   "execution_count": null,
   "id": "ec9caa61",
   "metadata": {},
   "outputs": [],
   "source": [
    "patient_value_segment['rank'] = patient_value_segment['total-spend'].rank(method='dense', ascending=False)"
   ]
  },
  {
   "cell_type": "code",
   "execution_count": null,
   "id": "a3105a6d",
   "metadata": {},
   "outputs": [],
   "source": [
    "patient_value_segment['cumm-sales'] = patient_value_segment.sort_values(\n",
    "    ['total-spend'], ascending=False)['total-spend'].cumsum()"
   ]
  },
  {
   "cell_type": "code",
   "execution_count": null,
   "id": "dd25e466",
   "metadata": {},
   "outputs": [],
   "source": [
    "len_data = len(patient_value_segment)"
   ]
  },
  {
   "cell_type": "code",
   "execution_count": null,
   "id": "96a3388d",
   "metadata": {},
   "outputs": [],
   "source": [
    "def assign_value_segment(row):\n",
    "    if(row['rank'] <= 0.05*len_data):\n",
    "        return 'platinum'\n",
    "    elif ((row['rank'] > 0.05*len_data) & (row['rank'] <= 0.1*len_data)):\n",
    "        return 'gold'\n",
    "    elif ((row['rank'] > 0.1*len_data) & (row['rank'] <= 0.2*len_data)):\n",
    "        return 'silver'\n",
    "    else:\n",
    "        return 'others'"
   ]
  },
  {
   "cell_type": "code",
   "execution_count": null,
   "id": "656a9609",
   "metadata": {},
   "outputs": [],
   "source": [
    "patient_value_segment['value-segment'] = patient_value_segment.apply(lambda row: assign_value_segment(row),axis=1)"
   ]
  },
  {
   "cell_type": "code",
   "execution_count": null,
   "id": "309aba74",
   "metadata": {},
   "outputs": [],
   "source": [
    "patient_value_segment"
   ]
  },
  {
   "cell_type": "markdown",
   "id": "a4ed8b17",
   "metadata": {},
   "source": [
    "## Merging all data points"
   ]
  },
  {
   "cell_type": "code",
   "execution_count": null,
   "id": "50ab3bec",
   "metadata": {},
   "outputs": [],
   "source": [
    "patient_data = changed_patients[['id']]"
   ]
  },
  {
   "cell_type": "markdown",
   "id": "df2cf09a",
   "metadata": {},
   "source": [
    "### Feedback (nps)"
   ]
  },
  {
   "cell_type": "code",
   "execution_count": null,
   "id": "b6775c15",
   "metadata": {},
   "outputs": [],
   "source": [
    "patient_data = patient_data.merge(nps, how='left', on=['id'])"
   ]
  },
  {
   "cell_type": "markdown",
   "id": "789caf8c",
   "metadata": {},
   "source": [
    "### Referral"
   ]
  },
  {
   "cell_type": "code",
   "execution_count": null,
   "id": "14f83cdb",
   "metadata": {},
   "outputs": [],
   "source": [
    "patient_data = patient_data.merge(referral, how='left', on=['id'])"
   ]
  },
  {
   "cell_type": "code",
   "execution_count": null,
   "id": "6a4a594c",
   "metadata": {},
   "outputs": [],
   "source": [
    "patient_data"
   ]
  },
  {
   "cell_type": "markdown",
   "id": "cc2aebae",
   "metadata": {},
   "source": [
    "### Referral Primary Store"
   ]
  },
  {
   "cell_type": "code",
   "execution_count": null,
   "id": "7f4ab6d0",
   "metadata": {},
   "outputs": [],
   "source": [
    "patient_data = patient_data.merge(patient_primary_store[['id','primary-store-id']], how='left', on='id')"
   ]
  },
  {
   "cell_type": "markdown",
   "id": "b9316210",
   "metadata": {},
   "source": [
    "### Primary Disease"
   ]
  },
  {
   "cell_type": "code",
   "execution_count": null,
   "id": "05e80afb",
   "metadata": {},
   "outputs": [],
   "source": [
    "patient_data = patient_data.merge(patient_primary_disease, how='left', on='id')"
   ]
  },
  {
   "cell_type": "markdown",
   "id": "3abe89d4",
   "metadata": {},
   "source": [
    "### Drug count"
   ]
  },
  {
   "cell_type": "code",
   "execution_count": null,
   "id": "47ef7c05",
   "metadata": {},
   "outputs": [],
   "source": [
    "patient_data = patient_data.merge(patient_drug_agg, how='left', on='id')"
   ]
  },
  {
   "cell_type": "code",
   "execution_count": null,
   "id": "57001e57",
   "metadata": {},
   "outputs": [],
   "source": [
    "patient_data"
   ]
  },
  {
   "cell_type": "markdown",
   "id": "b6982c02",
   "metadata": {},
   "source": [
    "### Average and Standard Purchase Interval "
   ]
  },
  {
   "cell_type": "code",
   "execution_count": null,
   "id": "6522dcbf",
   "metadata": {},
   "outputs": [],
   "source": [
    "patient_data = patient_data.merge(patient_bills_avg_std, how='left', on='id')"
   ]
  },
  {
   "cell_type": "code",
   "execution_count": null,
   "id": "fc31bf17",
   "metadata": {},
   "outputs": [],
   "source": [
    "patient_data.head(2)"
   ]
  },
  {
   "cell_type": "markdown",
   "id": "7bc7bf6f",
   "metadata": {},
   "source": [
    "### Value Segment"
   ]
  },
  {
   "cell_type": "code",
   "execution_count": null,
   "id": "8025ecf4",
   "metadata": {},
   "outputs": [],
   "source": [
    "patient_data = patient_data.merge(\n",
    "    patient_value_segment[['id', 'value-segment-calculation-date', 'value-segment']], how='left', on='id')"
   ]
  },
  {
   "cell_type": "code",
   "execution_count": null,
   "id": "655810e8",
   "metadata": {},
   "outputs": [],
   "source": [
    "patient_data"
   ]
  },
  {
   "cell_type": "markdown",
   "id": "161fba2a",
   "metadata": {},
   "source": [
    "## Create temp table and update (nps and other) from that"
   ]
  },
  {
   "cell_type": "code",
   "execution_count": null,
   "id": "e604a53b",
   "metadata": {},
   "outputs": [],
   "source": [
    "patient_temp_table = \"patients_data_temp\""
   ]
  },
  {
   "cell_type": "code",
   "execution_count": null,
   "id": "40e6de4c",
   "metadata": {},
   "outputs": [],
   "source": [
    "db.execute(query=f\"DROP table IF EXISTS {patient_temp_table};\")"
   ]
  },
  {
   "cell_type": "code",
   "execution_count": null,
   "id": "db47d936",
   "metadata": {},
   "outputs": [],
   "source": [
    "query = f\"\"\"\n",
    "    CREATE TEMP TABLE {patient_temp_table}\n",
    "    (\n",
    "        id INTEGER ENCODE az64\n",
    "        ,\"is-nps\" bool\n",
    "        ,\"latest-nps-rating\" INTEGER  ENCODE az64\n",
    "        ,\"latest-nps-rating-comment\" VARCHAR(1500)   ENCODE lzo\n",
    "        ,\"latest-nps-rating-store-id\" INTEGER ENCODE az64\n",
    "        ,\"latest-nps-rating-store-name\" VARCHAR(765)   ENCODE lzo\n",
    "        ,\"latest-nps-rating-date\" date  ENCODE az64\n",
    "        ,\"referred-count\" int  ENCODE az64\n",
    "        ,\"primary-store-id\" INTEGER ENCODE az64\n",
    "        ,\"num-drugs\" INTEGER ENCODE az64\n",
    "        ,\"primary-disease\" VARCHAR(100)   ENCODE lzo\n",
    "        ,\"avg-purchase-interval\" numeric\n",
    "        ,\"std-purchase-interval\" numeric\n",
    "        ,\"value-segment-calculation-date\" date\n",
    "        ,\"value-segment\" VARCHAR(50)\n",
    "        ,PRIMARY KEY (id)\n",
    "    );\n",
    "\"\"\""
   ]
  },
  {
   "cell_type": "code",
   "execution_count": null,
   "id": "4981d6d2",
   "metadata": {},
   "outputs": [],
   "source": [
    "db.execute(query=query)"
   ]
  },
  {
   "cell_type": "code",
   "execution_count": null,
   "id": "ad1fce11",
   "metadata": {},
   "outputs": [],
   "source": [
    "patient_temp_table_info = helper.get_table_info(db=db, table_name=patient_temp_table, schema=None)"
   ]
  },
  {
   "cell_type": "code",
   "execution_count": null,
   "id": "c60ab054",
   "metadata": {},
   "outputs": [],
   "source": [
    "# patient_temp_table_info\n",
    "patient_data.info()"
   ]
  },
  {
   "cell_type": "markdown",
   "id": "6a521496",
   "metadata": {},
   "source": [
    "### Fixing the data types"
   ]
  },
  {
   "cell_type": "code",
   "execution_count": null,
   "id": "95246cf5",
   "metadata": {},
   "outputs": [],
   "source": [
    "patient_data['latest-nps-rating'] = patient_data['latest-nps-rating'].fillna(-1).astype('int64')\n",
    "patient_data['latest-nps-rating-store-id'] = patient_data['latest-nps-rating-store-id'].fillna(-1).astype('int64')\n",
    "patient_data['referred-count'] = patient_data['referred-count'].fillna(-1).astype('int64')\n",
    "patient_data['num-drugs'] = patient_data['num-drugs'].fillna(-1).astype('int64')"
   ]
  },
  {
   "cell_type": "code",
   "execution_count": null,
   "id": "322275e1",
   "metadata": {},
   "outputs": [],
   "source": [
    "s3.write_df_to_db(\n",
    "    df=patient_data[list(dict.fromkeys(patient_temp_table_info['column_name']))], \n",
    "    db=db, table_name=patient_temp_table, schema=None\n",
    ")"
   ]
  },
  {
   "cell_type": "markdown",
   "id": "38280c47",
   "metadata": {},
   "source": [
    "## Updating the data in patient-metadata-2 table"
   ]
  },
  {
   "cell_type": "code",
   "execution_count": null,
   "id": "5df8da3e",
   "metadata": {},
   "outputs": [],
   "source": [
    "query = f\"\"\"\n",
    "    update\n",
    "        \"prod2-generico\".\"patients-metadata-2\" t\n",
    "    set\n",
    "        \"is-nps\" = s.\"is-nps\",\n",
    "        \"latest-nps-rating\" = s.\"latest-nps-rating\",\n",
    "        \"latest-nps-rating-comment\" = s.\"latest-nps-rating-comment\",\n",
    "        \"latest-nps-rating-store-id\" = s.\"latest-nps-rating-store-id\",\n",
    "        \"latest-nps-rating-store-name\" = s.\"latest-nps-rating-store-name\",\n",
    "        \"latest-nps-rating-date\" = s.\"latest-nps-rating-date\",\n",
    "        \"referred-count\" = s.\"referred-count\",\n",
    "        \"primary-store-id\" = s.\"primary-store-id\",\n",
    "        \"num-drugs\" = s.\"num-drugs\",\n",
    "        \"primary-disease\" = s.\"primary-disease\",\n",
    "        \"avg-purchase-interval\" = s.\"avg-purchase-interval\",\n",
    "        \"std-purchase-interval\" = s.\"std-purchase-interval\",\n",
    "        \"value-segment-calculation-date\" = s.\"value-segment-calculation-date\",\n",
    "        \"value-segment\" = s.\"value-segment\",\n",
    "        \"etl-status\" = 'updated'\n",
    "    from\n",
    "         {patient_temp_table} s\n",
    "    where\n",
    "        t.id = s.id;\n",
    "\"\"\""
   ]
  },
  {
   "cell_type": "code",
   "execution_count": null,
   "id": "befd1cfb",
   "metadata": {},
   "outputs": [],
   "source": [
    "db.execute(query=query)"
   ]
  },
  {
   "cell_type": "markdown",
   "id": "17bbf211",
   "metadata": {},
   "source": [
    "# Closing the DB Connection"
   ]
  },
  {
   "cell_type": "code",
   "execution_count": null,
   "id": "12834b83",
   "metadata": {},
   "outputs": [],
   "source": [
    "db.close_connection()"
   ]
  },
  {
   "cell_type": "code",
   "execution_count": null,
   "id": "b4234e28",
   "metadata": {},
   "outputs": [],
   "source": []
  }
 ],
 "metadata": {
  "kernelspec": {
   "display_name": "Python 3 (ipykernel)",
   "language": "python",
   "name": "python3"
  },
  "language_info": {
   "codemirror_mode": {
    "name": "ipython",
    "version": 3
   },
   "file_extension": ".py",
   "mimetype": "text/x-python",
   "name": "python",
   "nbconvert_exporter": "python",
   "pygments_lexer": "ipython3",
   "version": "3.9.7"
  }
 },
 "nbformat": 4,
 "nbformat_minor": 5
}
