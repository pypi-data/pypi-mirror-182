{
 "cells": [
  {
   "cell_type": "raw",
   "execution_count": null,
   "id": "f5066c69-d3c6-49ea-a87b-4da847b5b01e",
   "metadata": {
    "tags": [],
    "transformer": "requirements"
   },
   "outputs": [],
   "source": []
  },
  {
   "cell_type": "code",
   "execution_count": null,
   "id": "7e091d9f-d18a-496e-8205-8298049e783d",
   "metadata": {
    "tags": [],
    "transformer": "predict"
   },
   "outputs": [],
   "source": [
    "from typing import Dict\n",
    "import flask",
    "def predict(request: flask.Request, model_predict_url: str, states_holder: Dict) -> Dict:\n",
    "    return flask.redirect(model_predict_url)"
   ]
  }
 ],
 "metadata": {
 },
 "nbformat": 4,
 "nbformat_minor": 5
}
